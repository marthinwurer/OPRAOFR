{
 "cells": [
  {
   "cell_type": "code",
   "execution_count": 47,
   "id": "4ed20535",
   "metadata": {},
   "outputs": [],
   "source": [
    "from opr_structs import *\n",
    "from opr_logic import *\n",
    "from pprint import pprint\n",
    "import copy\n",
    "import itertools"
   ]
  },
  {
   "cell_type": "code",
   "execution_count": 48,
   "id": "67ae0216",
   "metadata": {},
   "outputs": [
    {
     "name": "stderr",
     "output_type": "stream",
     "text": [
      "DEBUG:root:test\n",
      "DEBUG:root:debug1\n"
     ]
    }
   ],
   "source": [
    "import logging\n",
    "logger = logging.getLogger()\n",
    "logger.setLevel(logging.DEBUG)\n",
    "logging.debug(\"test\")\n",
    "logger.setLevel(logging.WARNING)\n",
    "\n",
    "from contextlib import contextmanager\n",
    "\n",
    "@contextmanager\n",
    "def loggingcm(level=logging.DEBUG):\n",
    "    # Code to acquire resource, e.g.:\n",
    "    logger.setLevel(level)\n",
    "    try:\n",
    "        yield\n",
    "    finally:\n",
    "        # Code to release resource, e.g.:\n",
    "        logger.setLevel(logging.WARNING)\n",
    "\n",
    "with loggingcm():\n",
    "    logger.debug(\"debug1\")\n",
    "logger.debug(\"debug2\")"
   ]
  },
  {
   "cell_type": "code",
   "execution_count": 49,
   "id": "84b9eee3",
   "metadata": {},
   "outputs": [],
   "source": [
    "from units import *\n",
    "from opr_ai import *"
   ]
  },
  {
   "cell_type": "code",
   "execution_count": 50,
   "id": "4ea5c302",
   "metadata": {},
   "outputs": [],
   "source": [
    "import matplotlib.pyplot as plt\n",
    "\n",
    "def plot_items(ax, items, name_func):\n",
    "    y = []\n",
    "    x = []\n",
    "    names = []\n",
    "    for i in items:\n",
    "        x.append(i.x)\n",
    "        y.append(i.y)\n",
    "        name = name_func(i) #f\"{u.name} ({len(u.models)}/{u.starting_models})\"\n",
    "        names.append(name)\n",
    "    \n",
    "    ax.scatter(x, y)\n",
    "    for i, n in enumerate(names):\n",
    "        ax.annotate(n, (x[i], y[i]))\n",
    "\n",
    "def plot_battle(battle, cursor_x=0, cursor_y=0):\n",
    "    fig = plt.figure(figsize=(10,8))\n",
    "    ax = fig.subplots()\n",
    "    for p in battle.players:\n",
    "        plot_items(ax, [u for u in p.units if u.alive], lambda u: f\"{u.name} ({len(u.models)}/{u.starting_models})\")\n",
    "    \n",
    "    plot_items(ax, battle.objectives, lambda o: f\"{o.controller}\")\n",
    "    \n",
    "    ax.scatter(cursor_x, cursor_y, c=\"red\")\n",
    "    ax.set_xlim([0, 72])\n",
    "    ax.set_ylim([0, 48])\n",
    "    \n",
    "    \n",
    "    plt.gca().set_aspect('equal')\n",
    "    \n",
    "\n",
    "    plt.show()"
   ]
  },
  {
   "cell_type": "code",
   "execution_count": 51,
   "id": "9e3a7dcf",
   "metadata": {},
   "outputs": [
    {
     "data": {
      "image/png": "[encoded data removed]",
      "text/plain": [
       "<Figure size 720x576 with 1 Axes>"
      ]
     },
     "metadata": {
      "needs_background": "light"
     },
     "output_type": "display_data"
    }
   ],
   "source": [
    "plot_battle(Battle([]))"
   ]
  },
  {
   "cell_type": "code",
   "execution_count": 70,
   "id": "bfcbd9da",
   "metadata": {},
   "outputs": [],
   "source": [
    "import tqdm\n",
    "def mc(func, times=10000):\n",
    "    results = []\n",
    "    for i in tqdm.tqdm(range(times)):\n",
    "        results.append(func())\n",
    "        \n",
    "    print([(k, len(list(g))) for k, g in itertools.groupby(sorted(results))])\n",
    "    \n",
    "    return sum(results) / len(results)"
   ]
  },
  {
   "cell_type": "code",
   "execution_count": 71,
   "id": "a549149c",
   "metadata": {},
   "outputs": [],
   "source": [
    "def eval_options(options, eval_func, *args):\n",
    "    best = options[0]\n",
    "    best_val = eval_func(options[0], *args)\n",
    "    for option in options[1:]:\n",
    "        val = eval_func(option, *args)\n",
    "        if val > best_val:\n",
    "            best = option\n",
    "            best_val = val\n",
    "    return best"
   ]
  },
  {
   "cell_type": "code",
   "execution_count": 198,
   "id": "65a77f50",
   "metadata": {},
   "outputs": [],
   "source": [
    "def activate_score(unit, battle):\n",
    "    total = 0\n",
    "#     if \"Wavering\" in unit.rules:\n",
    "#         total += 1\n",
    "    if \"Fatigued\" not in unit.rules and \"Impact\" in unit.models[-1].rules:\n",
    "        total += 1\n",
    "#     if len(unit.models) > 10:\n",
    "#         total += 2\n",
    "    return total"
   ]
  },
  {
   "cell_type": "code",
   "execution_count": 199,
   "id": "3613fa73",
   "metadata": {},
   "outputs": [],
   "source": [
    "def a_choose_unit_to_activate(battle, player):\n",
    "    available_units = [u for u in player.units if \"Activated\" not in u.rules and u.alive]\n",
    "    if not available_units:\n",
    "        return None\n",
    "    \n",
    "    return eval_options(available_units, activate_score, battle)\n",
    "    \n",
    "    # pick a non-fatigued impact unit first\n",
    "#     nfi = [u for u in available_units if \"Fatigued\" not in u.rules and \"Impact\" in u.models[-1].rules]\n",
    "#     if nfi:\n",
    "#         return random.sample(nfi, 1)[0]\n",
    "    \n",
    "    # TODO sample from a zone, with priority baseed on rules\n",
    "    # for now, just sample a random unit\n",
    "    return random.sample(available_units, 1)[0]"
   ]
  },
  {
   "cell_type": "code",
   "execution_count": 200,
   "id": "c6d4b563",
   "metadata": {},
   "outputs": [],
   "source": [
    "def enemies_in_way(battle, unit, target):\n",
    "    # hybrid method: get the enemy units that are within the square that has corners that are the unit and the objective,\n",
    "    # plus the units that are close to the objective\n",
    "    units = battle.all_units\n",
    "    in_way = []\n",
    "    dist_to_target = calc_distance(*unpack_points(unit, target))\n",
    "    for u in units:\n",
    "        to_target = calc_distance(*unpack_points(u, target))\n",
    "        to_unit = calc_distance(*unpack_points(u, unit))\n",
    "        from_line = line_point_distance(unit, target, u)\n",
    "        \n",
    "        # if it's close enough to the target add it even if it's not on the line\n",
    "        if to_target > 3.5:\n",
    "            if to_unit > dist_to_target or to_target > dist_to_target:\n",
    "                continue\n",
    "            if from_line > 6:\n",
    "                continue\n",
    "        if u.controller == unit.controller:\n",
    "            continue\n",
    "        in_way.append(u)\n",
    "        \n",
    "    return in_way"
   ]
  },
  {
   "cell_type": "code",
   "execution_count": 201,
   "id": "25579bc9",
   "metadata": {},
   "outputs": [],
   "source": [
    "def a_choose_action_for_unit(battle, player, unit):\n",
    "    # if unit is wavering/shaken, they can only hold\n",
    "    if \"Wavering\" in unit.rules:\n",
    "        return (\"Hold\",)\n",
    "    speed = unit.speed\n",
    "    \n",
    "    # TODO decision tree for unit types, for now move towards nearest enemy unit\n",
    "    enemy_units = [u for u in battle.all_units if u.controller != player.name and u.alive]\n",
    "    \n",
    "    if not enemy_units:\n",
    "        not_controlled = [o for o in battle.objectives if o.controller != player.name]\n",
    "        \n",
    "        if not not_controlled:\n",
    "            return \"Hold\", None\n",
    "        \n",
    "        closest_obj = get_closest(unit.x, unit.y, not_controlled)\n",
    "        distance_to = calc_distance(unit.x, unit.y, closest_obj.x, closest_obj.y)\n",
    "        return \"Rush\", min(speed * 2, distance_to + 2.5), get_angle_to(unit.x, unit.y, closest_obj)\n",
    "    \n",
    "    closest = get_closest(unit.x, unit.y, enemy_units)\n",
    "    distance_to_closest = calc_distance(unit.x, unit.y, closest.x, closest.y)\n",
    "    \n",
    "    # now that we have the closest, figure out the angle to them. \n",
    "    angle = get_angle_to(unit.x, unit.y, closest)\n",
    "    \n",
    "    not_controlled = [o for o in battle.objectives if o.controller != player.name]\n",
    "    \n",
    "    # melee decision tree\n",
    "    if unit.is_melee:\n",
    "        # step 1\n",
    "        if not_controlled:\n",
    "            closest_obj = get_closest(unit.x, unit.y, not_controlled)\n",
    "            distance_to = calc_distance(unit.x, unit.y, closest_obj.x, closest_obj.y)\n",
    "#             in_way = [u for u in units_in_way(battle, unit, closest_obj) if u.controller != player.name and u.alive and calc_distance(u.x, u.y, closest_obj.x, closest_obj.y) < (distance_to + 3.5)]\n",
    "            # step 2\n",
    "            in_way = enemies_in_way(battle, unit, closest_obj)\n",
    "            if in_way:\n",
    "                closest_in_way = get_closest(unit.x, unit.y, in_way)\n",
    "                if calc_distance(*unpack_points(unit, closest_in_way)) <= speed * 2:\n",
    "                    return \"Charge\", closest_in_way\n",
    "            return \"Rush\", min(speed * 2, distance_to + 2.5), get_angle_to(unit.x, unit.y, closest_obj)\n",
    "        else: # 3\n",
    "            # 3 yes\n",
    "            if distance_to_closest <= speed * 2:\n",
    "                return \"Charge\", closest\n",
    "            # 3 no\n",
    "            return \"Rush\", speed * 2, angle\n",
    "    \n",
    "    elif unit.is_ranged:\n",
    "#         u_range = unit.range\n",
    "#         if unit.range > distance_to_closest:\n",
    "#             return \"Advance\", 0, 0, closest\n",
    "        shootable_distance = speed + unit.range\n",
    "        in_range = [u for u in enemy_units if calc_distance(unit.x, unit.y, u.x, u.y) <= shootable_distance]\n",
    "        log.debug(f\"{in_range}\")\n",
    "        if in_range:\n",
    "            target = random.choice(in_range)\n",
    "            for u in in_range:\n",
    "                if \"Wavering\" in unit.rules:\n",
    "                    continue\n",
    "                \n",
    "                dist_to_morale = len(u.models) - u.starting_models / 2\n",
    "                target_to_morale = len(target.models) - target.starting_models / 2\n",
    "                if dist_to_morale < target_to_morale:\n",
    "                    log.debug(f\"switching target to {u}, {dist_to_morale} {target_to_morale}\")\n",
    "                    target = u\n",
    "        else:\n",
    "            target = closest\n",
    "        \n",
    "        angle = get_angle_to(unit.x, unit.y, target)\n",
    "        distance_to_target = calc_distance(unit.x, unit.y, target.x, target.y)\n",
    "        \n",
    "        dist_to_move = max(0, min(distance_to_target - 3, speed))\n",
    "        \n",
    "        log.debug(f\"unit {unit}, angle {angle}, distance {dist_to_move} {distance_to_target}, target {target}\")\n",
    "        \n",
    "        return \"Advance\", dist_to_move, angle, target\n",
    "    \n",
    "    if not unit.is_melee:\n",
    "        # hybrid decision tree\n",
    "        \n",
    "        if distance_to_closest <= speed * 2:\n",
    "            return \"Charge\", closest\n",
    "        \n",
    "        dist_to_move = max(0, min(distance_to_closest - 2, speed))\n",
    "        \n",
    "        return \"Advance\", dist_to_move, angle, closest\n",
    "    \n",
    "    if distance_to_closest <= speed * 2:\n",
    "        return \"Charge\", closest\n",
    "    \n",
    "    return \"Rush\", speed * 2, angle\n",
    "\n",
    "\n"
   ]
  },
  {
   "cell_type": "code",
   "execution_count": 202,
   "id": "baf19c7f",
   "metadata": {},
   "outputs": [],
   "source": [
    "def a_choose_action_for_unit(battle, player, unit):\n",
    "    \"\"\" old activation\"\"\"\n",
    "    # if unit is wavering/shaken, they can only hold\n",
    "    if \"Wavering\" in unit.rules:\n",
    "        return (\"Hold\",)\n",
    "    speed = unit.speed\n",
    "    \n",
    "    # TODO decision tree for unit types, for now move towards nearest enemy unit\n",
    "    enemy_units = [u for u in battle.all_units if u.controller != player.name and u.alive]\n",
    "    \n",
    "    if not enemy_units:\n",
    "        not_controlled = [o for o in battle.objectives if o.controller != player.name]\n",
    "        \n",
    "        if not not_controlled:\n",
    "            return \"Hold\", None\n",
    "        \n",
    "        closest_obj = get_closest(unit.x, unit.y, not_controlled)\n",
    "        distance_to = calc_distance(unit.x, unit.y, closest_obj.x, closest_obj.y)\n",
    "        return \"Rush\", min(speed * 2, distance_to + 2.5), get_angle_to(unit.x, unit.y, closest_obj)\n",
    "    \n",
    "    closest = get_closest(unit.x, unit.y, enemy_units)\n",
    "    distance_to_closest = calc_distance(unit.x, unit.y, closest.x, closest.y)\n",
    "    \n",
    "    # now that we have the closest, figure out the angle to them. \n",
    "    angle = get_angle_to(unit.x, unit.y, closest)\n",
    "    \n",
    "    \n",
    "    # melee decision tree\n",
    "    if unit.is_melee:\n",
    "        not_controlled = [o for o in battle.objectives if o.controller != player.name]\n",
    "        if not_controlled:\n",
    "            closest_obj = get_closest(unit.x, unit.y, not_controlled)\n",
    "            distance_to = calc_distance(unit.x, unit.y, closest_obj.x, closest_obj.y)\n",
    "            in_way = [u for u in units_in_way(battle, unit, closest_obj) if u.controller != player.name and u.alive and calc_distance(u.x, u.y, closest_obj.x, closest_obj.y) < (distance_to + 3.5)]\n",
    "#             in_way = enemies_in_way(battle, unit, closest_obj)\n",
    "            if in_way:\n",
    "                closest_in_way = get_closest(unit.x, unit.y, in_way)\n",
    "                if calc_distance(*unpack_points(unit, closest_in_way)) <= speed * 2:\n",
    "                    return \"Charge\", closest_in_way\n",
    "            return \"Rush\", min(speed * 2, distance_to + 2.5), get_angle_to(unit.x, unit.y, closest_obj)\n",
    "        else: # 3\n",
    "            if distance_to_closest <= speed * 2:\n",
    "                return \"Charge\", closest\n",
    "            return \"Rush\", speed * 2, angle\n",
    "\n",
    "    elif unit.is_ranged:\n",
    "#         u_range = unit.range\n",
    "#         if unit.range > distance_to_closest:\n",
    "#             return \"Advance\", 0, 0, closest\n",
    "        shootable_distance = speed + unit.range\n",
    "        in_range = [u for u in enemy_units if calc_distance(unit.x, unit.y, u.x, u.y) <= shootable_distance]\n",
    "        if in_range:\n",
    "            target = random.choice(in_range)\n",
    "            \n",
    "            # target prio\n",
    "#             for u in in_range:\n",
    "#                 if \"Wavering\" in unit.rules:\n",
    "#                     continue\n",
    "                \n",
    "#                 dist_to_morale = len(u.models) - u.starting_models / 2\n",
    "#                 target_to_morale = len(target.models) - target.starting_models / 2\n",
    "#                 if dist_to_morale < target_to_morale:\n",
    "#                     log.debug(f\"switching target to {u}, {dist_to_morale} {target_to_morale}\")\n",
    "#                     target = u\n",
    "            \n",
    "        else:\n",
    "            target = closest\n",
    "        \n",
    "        angle = get_angle_to(unit.x, unit.y, target)\n",
    "        distance_to_target = calc_distance(unit.x, unit.y, target.x, target.y)\n",
    "        \n",
    "        dist_to_move = max(0, min(distance_to_target - 3, speed))\n",
    "        \n",
    "        return \"Advance\", dist_to_move, angle, closest\n",
    "    \n",
    "    if not unit.is_melee:\n",
    "        \n",
    "        dist_to_move = max(0, min(distance_to_closest - 2, speed))\n",
    "        \n",
    "        return \"Advance\", dist_to_move, angle, closest\n",
    "    \n",
    "    if distance_to_closest <= speed * 2:\n",
    "        return \"Charge\", closest\n",
    "    \n",
    "    return \"Rush\", speed * 2, angle"
   ]
  },
  {
   "cell_type": "code",
   "execution_count": 203,
   "id": "13954f31",
   "metadata": {},
   "outputs": [],
   "source": [
    "def advanced_activation(battle, player):\n",
    "    unit = a_choose_unit_to_activate(battle, player)\n",
    "    log.debug(f\"aa {unit}\")\n",
    "    if unit is None:\n",
    "        log.debug(f\"skipping {player}\")\n",
    "        return (None, None)\n",
    "\n",
    "    action = a_choose_action_for_unit(battle, player, unit)\n",
    "    return (unit, action)"
   ]
  },
  {
   "cell_type": "code",
   "execution_count": 233,
   "id": "afdc7071",
   "metadata": {},
   "outputs": [],
   "source": [
    "import random\n",
    "def nvn_full(a, b, draw_value=0.5):\n",
    "    random.shuffle(a)\n",
    "    random.shuffle(b)\n",
    "    # start units at 12x12 and increment by 6 for each\n",
    "    # spread units along the front\n",
    "    center = 36\n",
    "    edge = 6\n",
    "#     spacing = (2 * center) / (len(a))\n",
    "#     for i, u in enumerate(a):\n",
    "#         u.y = 11.5\n",
    "#         u.x = random.randint(6, 6*12-1)\n",
    "    \n",
    "#     spacing = (2 * center) / (len(b))\n",
    "#     for i, u in enumerate(b):\n",
    "#         u.y = 36.5\n",
    "#         u.x = 6 + i * spacing\n",
    "\n",
    "    \n",
    "        \n",
    "    p1 = Player(\"p1\", a, (0, 12, 0, 72))\n",
    "    p2 = Player(\"p2\", b, (36, 48, 0, 72))\n",
    "    \n",
    "#     p1.activation = advanced_activation\n",
    "    p1.activation = basic_activation\n",
    "    p2.activation = basic_activation\n",
    "    \n",
    "    battle = Battle([p1, p2])\n",
    "#     obj_x = 6 + (len(a) - 1) * 3\n",
    "#     battle.objectives = [Objective(36, 24),]\n",
    "#     check_objectives(battle)\n",
    "\n",
    "    deploy(battle)\n",
    "    \n",
    "    def on_line(units, y):\n",
    "        for i, u in enumerate(units):\n",
    "            u.y = y\n",
    "            u.x = random.randint(6, 6*12-1)\n",
    "            \n",
    "    on_line(p1.units, 11.5 - 6)\n",
    "    on_line(p2.units, 36.5 + 6)\n",
    "    \n",
    "#     spacing = (2 * center) / (len(p2.units))\n",
    "#     for i, u in enumerate(p2.units):\n",
    "#         u.y = 36.5 + 10\n",
    "#         u.x = random.randint(6, 6*12-1)\n",
    "    \n",
    "#     run_battle(battle)\n",
    "    if logger.getEffectiveLevel() <= 10:\n",
    "        plot_battle(battle)\n",
    "    next_player = 0\n",
    "    for i in range(4):\n",
    "        next_player = do_round(battle, next_player)\n",
    "        if logger.getEffectiveLevel() <= 10:\n",
    "            plot_battle(battle)\n",
    "            print(\"Units:\")\n",
    "            pprint(battle.all_units)\n",
    "            pprint(battle.objectives)\n",
    "    \n",
    "    p1_score = sum([1 for o in battle.objectives if o.controller == p1.name])\n",
    "    p2_score = sum([1 for o in battle.objectives if o.controller == p2.name])\n",
    "    \n",
    "        \n",
    "    if p1_score == p2_score:\n",
    "        return 0.5\n",
    "    elif p1_score > p2_score:\n",
    "        return 1\n",
    "    else:\n",
    "        return 0"
   ]
  },
  {
   "cell_type": "code",
   "execution_count": 234,
   "id": "a7b73a1c",
   "metadata": {},
   "outputs": [
    {
     "data": {
      "image/png": "[encoded data removed]",
      "text/plain": [
       "<Figure size 720x576 with 1 Axes>"
      ]
     },
     "metadata": {
      "needs_background": "light"
     },
     "output_type": "display_data"
    },
    {
     "name": "stderr",
     "output_type": "stream",
     "text": [
      "DEBUG:opr_logic:Starting Round 1\n",
      "DEBUG:opr_logic:executing p1 Unit(Grail Knights (10/10)(37.0,5.5), ('Rush', 16, 3.087591153213825)\n",
      "DEBUG:opr_logic:executing p2 Unit(Grail Knights (10/10)(61.0,42.5), ('Rush', 16, 0.05400150037596829)\n",
      "DEBUG:opr_logic:executing p1 Unit(Men-At-Arms (20/20)(15.0,5.5), ('Rush', 12, 2.9808299129639586)\n",
      "DEBUG:opr_logic:executing p2 Unit(Peasants (20/20)(31.0,42.5), ('Advance', 6, -0.23962466521863265, Unit(Grail Knights a(10/10)(36.1,21.5))\n",
      "DEBUG:opr_logic:Unit(Peasants a(20/20)(32.4,36.7) shooting at Unit(Grail Knights a(10/10)(36.1,21.5)\n",
      "DEBUG:opr_logic:Out of range\n",
      "DEBUG:opr_logic:executing p1 Unit(Foot Knights (10/10)(58.0,5.5), ('Rush', 12, -3.0339027827569724)\n",
      "DEBUG:opr_logic:executing p2 Unit(Longbowmen (10/10)(41.0,42.5), ('Advance', 6, -0.6302923890262576, Unit(Grail Knights a(10/10)(36.1,21.5))\n",
      "DEBUG:opr_logic:Unit(Longbowmen a(10/10)(44.5,37.7) shooting at Unit(Grail Knights a(10/10)(36.1,21.5)\n",
      "DEBUG:opr_logic:10 attacks\n",
      "DEBUG:opr_logic:5 hits\n",
      "DEBUG:opr_logic:3 wounds\n",
      "DEBUG:opr_logic:executing p1 Unit(Peasants (20/20)(27.0,5.5), ('Advance', 6, -2.969311267767459, Unit(Peasants a(20/20)(32.4,36.7))\n",
      "DEBUG:opr_logic:Unit(Peasants a(20/20)(28.0,11.4) shooting at Unit(Peasants a(20/20)(32.4,36.7)\n",
      "DEBUG:opr_logic:Out of range\n",
      "DEBUG:opr_logic:executing p2 Unit(Men-At-Arms (20/20)(62.0,42.5), ('Rush', 12, 0.10768987083282068)\n",
      "DEBUG:opr_logic:executing p1 Unit(Longbowmen (10/10)(51.0,5.5), ('Advance', 6, 2.94320622235119, Unit(Grail Knights a(10/10)(60.1,26.5))\n",
      "DEBUG:opr_logic:Unit(Longbowmen a(10/10)(49.8,11.4) shooting at Unit(Grail Knights a(10/10)(60.1,26.5)\n",
      "DEBUG:opr_logic:10 attacks\n",
      "DEBUG:opr_logic:2 hits\n",
      "DEBUG:opr_logic:1 wounds\n",
      "DEBUG:opr_logic:executing p2 Unit(Foot Knights (10/10)(61.0,42.5), ('Rush', 12, 0.05400150037596829)\n"
     ]
    },
    {
     "data": {
      "image/png": "[encoded data removed]",
      "text/plain": [
       "<Figure size 720x576 with 1 Axes>"
      ]
     },
     "metadata": {
      "needs_background": "light"
     },
     "output_type": "display_data"
    },
    {
     "name": "stderr",
     "output_type": "stream",
     "text": [
      "DEBUG:opr_logic:Starting Round 2\n",
      "DEBUG:opr_logic:executing p1 Unit(Grail Knights (7/10)(36.1,21.5), ('Rush', 16, -1.6761442836010267)\n",
      "DEBUG:opr_logic:executing p2 Unit(Grail Knights (9/10)(60.1,26.5), ('Charge', Unit(Grail Knights a(7/10)(52.0,23.2))\n",
      "DEBUG:opr_logic:Unit(Grail Knights a(9/10)(53.9,23.9) strikes Unit(Grail Knights a(7/10)(52.0,23.2)\n",
      "DEBUG:opr_logic:num impact: 9\n",
      "DEBUG:opr_logic:18 attacks\n",
      "DEBUG:opr_logic:9 hits\n",
      "DEBUG:opr_logic:5 wounds\n",
      "DEBUG:opr_logic:Unit(Grail Knights a(2/10)(52.0,23.2) strikes Unit(Grail Knights fa(9/10)(53.9,23.9)\n",
      "DEBUG:opr_logic:2 attacks\n",
      "DEBUG:opr_logic:1 hits\n",
      "DEBUG:opr_logic:1 wounds\n",
      "DEBUG:opr_logic:scores: a: 6, d: 1\n",
      "DEBUG:opr_structs:Grail Knights doing morale test\n",
      "DEBUG:opr_structs:rolling fearless test\n",
      "DEBUG:opr_structs:Grail Knights is fearless!\n",
      "DEBUG:opr_logic:executing p1 Unit(Men-At-Arms (20/20)(13.1,17.3), ('Rush', 9.241664813991312, 2.980829912963958)\n",
      "DEBUG:opr_logic:executing p2 Unit(Men-At-Arms (20/20)(60.7,30.6), ('Charge', Unit(Grail Knights fa(2/10)(52.0,23.2))\n",
      "DEBUG:opr_logic:Unit(Men-At-Arms a(20/20)(53.6,24.5) strikes Unit(Grail Knights fa(2/10)(52.0,23.2)\n",
      "DEBUG:opr_logic:10 attacks\n",
      "DEBUG:opr_logic:4 hits\n",
      "DEBUG:opr_logic:2 wounds\n",
      "DEBUG:opr_logic:Unit(Grail Knights fa(0/10)(52.0,23.2) has been slain!\n",
      "DEBUG:opr_logic:executing p1 Unit(Peasants (20/20)(28.0,11.4), ('Advance', 6, -2.969311267767459, Unit(Peasants (20/20)(32.4,36.7))\n",
      "DEBUG:opr_logic:Unit(Peasants a(20/20)(29.1,17.3) shooting at Unit(Peasants (20/20)(32.4,36.7)\n",
      "DEBUG:opr_logic:Out of range\n",
      "DEBUG:opr_logic:executing p2 Unit(Foot Knights (10/10)(60.4,30.5), ('Rush', 12, 1.309291420404019)\n",
      "DEBUG:opr_logic:executing p1 Unit(Foot Knights (10/10)(59.3,17.4), ('Charge', Unit(Grail Knights fa(8/10)(54.8,24.3))\n",
      "DEBUG:opr_logic:Unit(Foot Knights a(10/10)(55.9,22.6) strikes Unit(Grail Knights fa(8/10)(54.8,24.3)\n",
      "DEBUG:opr_logic:10 attacks\n",
      "DEBUG:opr_logic:2 hits\n",
      "DEBUG:opr_logic:2 wounds\n",
      "DEBUG:opr_logic:Unit(Grail Knights fa(6/10)(54.8,24.3) strikes Unit(Foot Knights fa(10/10)(55.9,22.6)\n",
      "DEBUG:opr_logic:6 attacks\n",
      "DEBUG:opr_logic:1 hits\n",
      "DEBUG:opr_logic:1 wounds\n",
      "DEBUG:opr_logic:scores: a: 3, d: 2\n",
      "DEBUG:opr_structs:Grail Knights doing morale test\n",
      "DEBUG:opr_structs:rolling fearless test\n",
      "DEBUG:opr_structs:Grail Knights failed morale test\n",
      "DEBUG:opr_logic:executing p2 Unit(Longbowmen (10/10)(44.5,37.7), ('Advance', 6, 1.2434196301285063, Unit(Foot Knights fa(9/10)(56.5,21.8))\n",
      "DEBUG:opr_logic:Unit(Longbowmen a(10/10)(38.9,35.7) shooting at Unit(Foot Knights fa(9/10)(56.5,21.8)\n",
      "DEBUG:opr_logic:10 attacks\n",
      "DEBUG:opr_logic:2 hits\n",
      "DEBUG:opr_logic:1 wounds\n",
      "DEBUG:opr_logic:executing p1 Unit(Longbowmen (10/10)(49.8,11.4), ('Advance', 6, 2.539112691439236, Unit(Grail Knights fsa(6/10)(54.8,24.3))\n",
      "DEBUG:opr_logic:Unit(Longbowmen a(10/10)(46.4,16.3) shooting at Unit(Grail Knights fsa(6/10)(54.8,24.3)\n",
      "DEBUG:opr_logic:10 attacks\n",
      "DEBUG:opr_logic:1 hits\n",
      "DEBUG:opr_logic:1 wounds\n",
      "DEBUG:opr_structs:Grail Knights doing ranged morale test\n",
      "DEBUG:opr_structs:Grail Knights failed ranged morale test\n",
      "DEBUG:opr_logic:executing p2 Unit(Peasants (20/20)(32.4,36.7), ('Advance', 6, 0.17228138582233393, Unit(Peasants a(20/20)(29.1,17.3))\n",
      "DEBUG:opr_logic:Unit(Peasants a(20/20)(31.4,30.8) shooting at Unit(Peasants a(20/20)(29.1,17.3)\n",
      "DEBUG:opr_logic:Out of range\n"
     ]
    },
    {
     "name": "stdout",
     "output_type": "stream",
     "text": [
      "Units:\n",
      "[Unit(Longbowmen a(10/10)(49.8,11.4),\n",
      " Unit(Men-At-Arms a(20/20)(13.1,17.3),\n",
      " Unit(Foot Knights a(10/10)(59.3,17.4),\n",
      " Unit(Grail Knights a(7/10)(36.1,21.5),\n",
      " Unit(Peasants a(20/20)(28.0,11.4),\n",
      " Unit(Grail Knights a(9/10)(60.1,26.5),\n",
      " Unit(Peasants a(20/20)(32.4,36.7),\n",
      " Unit(Foot Knights a(10/10)(60.4,30.5),\n",
      " Unit(Longbowmen a(10/10)(44.5,37.7),\n",
      " Unit(Men-At-Arms a(20/20)(60.7,30.6)]\n",
      "[Objective(12, 24, None), Objective(36, 24, p1), Objective(60, 24, p2)]\n"
     ]
    },
    {
     "data": {
      "image/png": "[encoded data removed]",
      "text/plain": [
       "<Figure size 720x576 with 1 Axes>"
      ]
     },
     "metadata": {
      "needs_background": "light"
     },
     "output_type": "display_data"
    },
    {
     "name": "stderr",
     "output_type": "stream",
     "text": [
      "DEBUG:opr_logic:Starting Round 3\n",
      "DEBUG:opr_logic:executing p1 Unit(Peasants (20/20)(29.1,17.3), ('Advance', 6, -2.969311267767459, Unit(Peasants (20/20)(31.4,30.8))\n",
      "DEBUG:opr_logic:Unit(Peasants a(20/20)(30.1,23.2) shooting at Unit(Peasants (20/20)(31.4,30.8)\n",
      "DEBUG:opr_logic:20 attacks\n",
      "DEBUG:opr_logic:1 hits\n",
      "DEBUG:opr_logic:1 wounds\n",
      "DEBUG:opr_logic:executing p2 Unit(Grail Knights s(5/10)(54.8,24.3), ('Hold',)\n",
      "DEBUG:opr_logic:executing p1 Unit(Men-At-Arms (20/20)(11.6,26.5), ('Rush', 12, -1.5198537745488419)\n",
      "DEBUG:opr_logic:executing p2 Unit(Men-At-Arms (20/20)(54.3,25.1), ('Charge', Unit(Foot Knights (8/10)(56.5,21.8))\n",
      "DEBUG:opr_logic:Unit(Men-At-Arms a(20/20)(55.4,23.5) strikes Unit(Foot Knights (8/10)(56.5,21.8)\n",
      "DEBUG:opr_logic:10 attacks\n",
      "DEBUG:opr_logic:3 hits\n",
      "DEBUG:opr_logic:2 wounds\n",
      "DEBUG:opr_logic:Unit(Foot Knights (6/10)(56.5,21.8) strikes Unit(Men-At-Arms fa(20/20)(55.4,23.5)\n",
      "DEBUG:opr_logic:6 attacks\n",
      "DEBUG:opr_logic:3 hits\n",
      "DEBUG:opr_logic:3 wounds\n",
      "DEBUG:opr_logic:scores: a: 5, d: 4\n",
      "DEBUG:opr_structs:Foot Knights doing morale test\n",
      "DEBUG:opr_logic:executing p1 Unit(Foot Knights f(6/10)(56.5,21.8), ('Charge', Unit(Men-At-Arms fa(17/20)(54.8,24.3))\n",
      "DEBUG:opr_logic:Unit(Foot Knights fa(6/10)(55.9,22.6) strikes Unit(Men-At-Arms fa(17/20)(54.8,24.3)\n",
      "DEBUG:opr_logic:6 attacks\n",
      "DEBUG:opr_logic:2 hits\n",
      "DEBUG:opr_logic:2 wounds\n",
      "DEBUG:opr_logic:Unit(Men-At-Arms fa(15/20)(54.8,24.3) strikes Unit(Foot Knights fa(6/10)(55.9,22.6)\n",
      "DEBUG:opr_logic:10 attacks\n",
      "DEBUG:opr_logic:2 hits\n",
      "DEBUG:opr_logic:1 wounds\n",
      "DEBUG:opr_logic:scores: a: 3, d: 4\n",
      "DEBUG:opr_structs:Foot Knights doing morale test\n",
      "DEBUG:opr_structs:rolling fearless test\n",
      "DEBUG:opr_structs:Foot Knights failed morale test\n",
      "DEBUG:opr_structs:Foot Knights routed!\n",
      "DEBUG:opr_logic:executing p2 Unit(Longbowmen (10/10)(38.9,35.7), ('Advance', 6, -0.37173683423379017, Unit(Peasants a(20/20)(30.1,23.2))\n",
      "DEBUG:opr_logic:Unit(Longbowmen a(10/10)(41.0,30.1) shooting at Unit(Peasants a(20/20)(30.1,23.2)\n",
      "DEBUG:opr_logic:10 attacks\n",
      "DEBUG:opr_logic:4 hits\n",
      "DEBUG:opr_logic:4 wounds\n",
      "DEBUG:opr_logic:executing p1 Unit(Longbowmen (10/10)(46.4,16.3), ('Advance', 6, -2.3305803413966832, Unit(Foot Knights (10/10)(48.8,27.4))\n",
      "DEBUG:opr_logic:Unit(Longbowmen a(10/10)(50.8,20.5) shooting at Unit(Foot Knights (10/10)(48.8,27.4)\n",
      "DEBUG:opr_logic:10 attacks\n",
      "DEBUG:opr_logic:2 hits\n",
      "DEBUG:opr_logic:0 wounds\n",
      "DEBUG:opr_logic:executing p2 Unit(Foot Knights (10/10)(48.8,27.4), ('Rush', 12, 1.309291420404019)\n",
      "DEBUG:opr_ai:skipping <opr_structs.Player object at 0x7f8bb96fa190>\n",
      "DEBUG:opr_logic:skipping <opr_structs.Player object at 0x7f8bb96fa190>\n",
      "DEBUG:opr_logic:executing p2 Unit(Peasants (19/20)(31.4,30.8), ('Advance', 5.639825889176521, 0.17228138582233368, Unit(Peasants a(16/20)(30.1,23.2))\n",
      "DEBUG:opr_logic:Unit(Peasants a(19/20)(30.4,25.2) shooting at Unit(Peasants a(16/20)(30.1,23.2)\n",
      "DEBUG:opr_logic:19 attacks\n",
      "DEBUG:opr_logic:3 hits\n",
      "DEBUG:opr_logic:3 wounds\n"
     ]
    },
    {
     "name": "stdout",
     "output_type": "stream",
     "text": [
      "Units:\n",
      "[Unit(Longbowmen a(10/10)(46.4,16.3),\n",
      " Unit(Men-At-Arms a(20/20)(11.6,26.5),\n",
      " Unit(Foot Knights fa(8/10)(56.5,21.8),\n",
      " Unit(Grail Knights fa(0/10)(52.0,23.2),\n",
      " Unit(Peasants a(20/20)(29.1,17.3),\n",
      " Unit(Grail Knights fsa(5/10)(54.8,24.3),\n",
      " Unit(Peasants a(20/20)(31.4,30.8),\n",
      " Unit(Foot Knights a(10/10)(48.8,27.4),\n",
      " Unit(Longbowmen a(10/10)(38.9,35.7),\n",
      " Unit(Men-At-Arms fa(20/20)(54.3,25.1)]\n",
      "[Objective(12, 24, p1), Objective(36, 24, p1), Objective(60, 24, p2)]\n"
     ]
    },
    {
     "data": {
      "image/png": "[encoded data removed]",
      "text/plain": [
       "<Figure size 720x576 with 1 Axes>"
      ]
     },
     "metadata": {
      "needs_background": "light"
     },
     "output_type": "display_data"
    },
    {
     "name": "stderr",
     "output_type": "stream",
     "text": [
      "DEBUG:opr_logic:Starting Round 4\n",
      "DEBUG:opr_logic:executing p1 Unit(Longbowmen (10/10)(50.8,20.5), ('Advance', 6, 1.8469688349603754, Unit(Grail Knights (5/10)(54.8,24.3))\n",
      "DEBUG:opr_logic:Unit(Longbowmen a(10/10)(45.0,22.1) shooting at Unit(Grail Knights (5/10)(54.8,24.3)\n",
      "DEBUG:opr_logic:10 attacks\n",
      "DEBUG:opr_logic:2 hits\n",
      "DEBUG:opr_logic:1 wounds\n",
      "DEBUG:opr_structs:Grail Knights doing ranged morale test\n",
      "DEBUG:opr_logic:executing p2 Unit(Grail Knights (4/10)(54.8,24.3), ('Charge', Unit(Longbowmen a(10/10)(45.0,22.1))\n",
      "DEBUG:opr_logic:Unit(Grail Knights a(4/10)(46.9,22.5) strikes Unit(Longbowmen a(10/10)(45.0,22.1)\n",
      "DEBUG:opr_logic:num impact: 4\n",
      "DEBUG:opr_logic:8 attacks\n",
      "DEBUG:opr_logic:5 hits\n",
      "DEBUG:opr_logic:4 wounds\n",
      "DEBUG:opr_logic:Unit(Longbowmen a(6/10)(45.0,22.1) strikes Unit(Grail Knights fa(4/10)(46.9,22.5)\n",
      "DEBUG:opr_logic:6 attacks\n",
      "DEBUG:opr_logic:1 hits\n",
      "DEBUG:opr_logic:0 wounds\n",
      "DEBUG:opr_logic:scores: a: 4, d: 1\n",
      "DEBUG:opr_structs:Longbowmen doing morale test\n",
      "DEBUG:opr_structs:Longbowmen failed morale test\n",
      "DEBUG:opr_logic:executing p1 Unit(Men-At-Arms (20/20)(23.6,25.9), ('Charge', Unit(Peasants (19/20)(30.4,25.2))\n",
      "DEBUG:opr_logic:Unit(Men-At-Arms a(20/20)(28.4,25.4) strikes Unit(Peasants (19/20)(30.4,25.2)\n",
      "DEBUG:opr_logic:10 attacks\n",
      "DEBUG:opr_logic:3 hits\n",
      "DEBUG:opr_logic:3 wounds\n",
      "DEBUG:opr_logic:Unit(Peasants (16/20)(30.4,25.2) strikes Unit(Men-At-Arms fa(20/20)(28.4,25.4)\n",
      "DEBUG:opr_logic:10 attacks\n",
      "DEBUG:opr_logic:1 hits\n",
      "DEBUG:opr_logic:1 wounds\n",
      "DEBUG:opr_logic:scores: a: 6, d: 4\n",
      "DEBUG:opr_structs:Peasants doing morale test\n",
      "DEBUG:opr_structs:Peasants failed morale test\n",
      "DEBUG:opr_logic:executing p2 Unit(Longbowmen (10/10)(41.0,30.1), ('Advance', 6, 1.2415278603984712, Unit(Longbowmen fsa(6/10)(45.0,22.1))\n",
      "DEBUG:opr_logic:Unit(Longbowmen a(10/10)(35.4,28.2) shooting at Unit(Longbowmen fsa(6/10)(45.0,22.1)\n",
      "DEBUG:opr_logic:10 attacks\n",
      "DEBUG:opr_logic:6 hits\n",
      "DEBUG:opr_logic:4 wounds\n",
      "DEBUG:opr_structs:Longbowmen doing ranged morale test\n",
      "DEBUG:opr_structs:Longbowmen failed ranged morale test\n",
      "DEBUG:opr_logic:executing p1 Unit(Peasants (13/20)(30.1,23.2), ('Advance', 1.7763568394002505e-15, -2.9693112677674596, Unit(Peasants fs(16/20)(30.4,25.2))\n",
      "DEBUG:opr_logic:Unit(Peasants a(13/20)(30.1,23.2) shooting at Unit(Peasants fs(16/20)(30.4,25.2)\n",
      "DEBUG:opr_logic:13 attacks\n",
      "DEBUG:opr_logic:3 hits\n",
      "DEBUG:opr_logic:3 wounds\n",
      "DEBUG:opr_logic:executing p2 Unit(Foot Knights (10/10)(37.2,24.3), ('Charge', Unit(Peasants a(13/20)(30.1,23.2))\n",
      "DEBUG:opr_logic:Unit(Foot Knights a(10/10)(32.1,23.5) strikes Unit(Peasants a(13/20)(30.1,23.2)\n",
      "DEBUG:opr_logic:10 attacks\n",
      "DEBUG:opr_logic:9 hits\n",
      "DEBUG:opr_logic:6 wounds\n",
      "DEBUG:opr_logic:Unit(Peasants a(7/20)(30.1,23.2) strikes Unit(Foot Knights fa(10/10)(32.1,23.5)\n",
      "DEBUG:opr_logic:7 attacks\n",
      "DEBUG:opr_logic:3 hits\n",
      "DEBUG:opr_logic:1 wounds\n",
      "DEBUG:opr_logic:scores: a: 7, d: 2\n",
      "DEBUG:opr_structs:Peasants doing morale test\n",
      "DEBUG:opr_ai:skipping <opr_structs.Player object at 0x7f8bb96fa190>\n",
      "DEBUG:opr_logic:skipping <opr_structs.Player object at 0x7f8bb96fa190>\n",
      "DEBUG:opr_logic:executing p2 Unit(Peasants fs(13/20)(30.4,25.2), ('Hold',)\n",
      "DEBUG:opr_ai:skipping <opr_structs.Player object at 0x7f8bb96fa190>\n",
      "DEBUG:opr_logic:skipping <opr_structs.Player object at 0x7f8bb96fa190>\n",
      "DEBUG:opr_logic:executing p2 Unit(Men-At-Arms (15/20)(54.8,24.3), ('Charge', Unit(Longbowmen fsa(2/10)(45.0,22.1))\n",
      "DEBUG:opr_logic:Unit(Men-At-Arms a(15/20)(46.9,22.5) strikes Unit(Longbowmen fsa(2/10)(45.0,22.1)\n",
      "DEBUG:opr_logic:10 attacks\n",
      "DEBUG:opr_logic:5 hits\n",
      "DEBUG:opr_logic:2 wounds\n",
      "DEBUG:opr_logic:Unit(Longbowmen fsa(0/10)(45.0,22.1) has been slain!\n"
     ]
    },
    {
     "name": "stdout",
     "output_type": "stream",
     "text": [
      "Units:\n",
      "[Unit(Longbowmen a(10/10)(50.8,20.5),\n",
      " Unit(Men-At-Arms a(20/20)(23.6,25.9),\n",
      " Unit(Foot Knights fa(0/10)(56.5,21.8),\n",
      " Unit(Grail Knights (0/10)(52.0,23.2),\n",
      " Unit(Peasants a(13/20)(30.1,23.2),\n",
      " Unit(Grail Knights a(5/10)(54.8,24.3),\n",
      " Unit(Peasants a(19/20)(30.4,25.2),\n",
      " Unit(Foot Knights a(10/10)(37.2,24.3),\n",
      " Unit(Longbowmen a(10/10)(41.0,30.1),\n",
      " Unit(Men-At-Arms fa(15/20)(54.8,24.3)]\n",
      "[Objective(12, 24, p1), Objective(36, 24, p2), Objective(60, 24, p2)]\n"
     ]
    },
    {
     "data": {
      "image/png": "[encoded data removed]",
      "text/plain": [
       "<Figure size 720x576 with 1 Axes>"
      ]
     },
     "metadata": {
      "needs_background": "light"
     },
     "output_type": "display_data"
    },
    {
     "name": "stdout",
     "output_type": "stream",
     "text": [
      "Units:\n",
      "[Unit(Longbowmen fsa(0/10)(45.0,22.1),\n",
      " Unit(Men-At-Arms fa(19/20)(27.4,25.5),\n",
      " Unit(Foot Knights (0/10)(56.5,21.8),\n",
      " Unit(Grail Knights (0/10)(52.0,23.2),\n",
      " Unit(Peasants fa(7/20)(30.1,23.2),\n",
      " Unit(Grail Knights fa(4/10)(47.9,22.8),\n",
      " Unit(Peasants fa(13/20)(30.4,25.2),\n",
      " Unit(Foot Knights fa(9/10)(33.1,23.7),\n",
      " Unit(Longbowmen a(10/10)(35.4,28.2),\n",
      " Unit(Men-At-Arms fa(15/20)(47.9,22.8)]\n",
      "[Objective(12, 24, p1), Objective(36, 24, p2), Objective(60, 24, p2)]\n",
      "0\n"
     ]
    }
   ],
   "source": [
    "a = [men_at_arms,longbowmen_10,peasants,grail_knights_c,foot_knights,]\n",
    "# a = [men_at_arms,]\n",
    "b = [men_at_arms,longbowmen_10,peasants,grail_knights_c,foot_knights,]\n",
    "with loggingcm(): print(nvn_full(copify(a), copify(b)))"
   ]
  },
  {
   "cell_type": "code",
   "execution_count": 235,
   "id": "de30b907",
   "metadata": {},
   "outputs": [
    {
     "name": "stderr",
     "output_type": "stream",
     "text": [
      "100%|████████████████████████████████████| 10000/10000 [00:46<00:00, 216.21it/s]\n"
     ]
    },
    {
     "name": "stdout",
     "output_type": "stream",
     "text": [
      "[(0, 3345), (0.5, 2376), (1, 4279)]\n"
     ]
    },
    {
     "name": "stderr",
     "output_type": "stream",
     "text": [
      "100%|████████████████████████████████████| 10000/10000 [00:46<00:00, 215.69it/s]"
     ]
    },
    {
     "name": "stdout",
     "output_type": "stream",
     "text": [
      "[(0, 3331), (0.5, 2315), (1, 4354)]\n"
     ]
    },
    {
     "name": "stderr",
     "output_type": "stream",
     "text": [
      "\n"
     ]
    },
    {
     "data": {
      "text/plain": [
       "(0.49777499999999997, 0.5467, 0.44884999999999997)"
      ]
     },
     "execution_count": 235,
     "metadata": {},
     "output_type": "execute_result"
    }
   ],
   "source": [
    "a_first = mc(lambda: nvn_full(copify(a), copify(b)), times=10000)\n",
    "b_first = 1 - mc(lambda: nvn_full(copify(b), copify(a)), times=10000)\n",
    "(a_first + b_first) / 2, a_first, b_first"
   ]
  },
  {
   "cell_type": "code",
   "execution_count": 229,
   "id": "fa6f1532",
   "metadata": {},
   "outputs": [
    {
     "data": {
      "text/plain": [
       "0.0098"
      ]
     },
     "execution_count": 229,
     "metadata": {},
     "output_type": "execute_result"
    }
   ],
   "source": [
    "p = 0.5\n",
    "n = 10000\n",
    "1.96 * math.sqrt((p * (1-p)) / n)"
   ]
  },
  {
   "cell_type": "markdown",
   "id": "935aa848",
   "metadata": {},
   "source": [
    "base: (0.49695, 0.2868, 0.7071000000000001)\n",
    "ranged targeting smaller units: (0.50455, 0.20405, 0.80505)\n",
    "ranged skipping already wavering units: (0.49735, 0.19645, 0.79825)\n",
    "\n",
    "new base: (0.5025, 0.5324, 0.4726) | (0, 3545), (0.5, 2262), (1, 4193) | (0, 3595), (0.5, 2262), (1, 4143) - very balanced for both starting\n",
    "current: (0.49665, 0.36085, 0.63245) | (0, 5307), (0.5, 2169), (1, 2524) | (0, 5212), (0.5, 2225), (1, 2563) - new logic seems to hurt when starting?\n",
    "\n",
    "reset to old: (0.500075, 0.5289, 0.47125) | (0, 3557), (0.5, 2308), (1, 4135) | (0, 3554), (0.5, 2317), (1, 4129) - matches base\n",
    "No impact priority: (0.496875, 0.4933, 0.50045) | (0, 3920), (0.5, 2294), (1, 3786) | (0, 3879), (0.5, 2251), (1, 3870) - hurts a bit. \n",
    "eval_options: (0.503675, 0.49825, 0.5091) | (0, 3854), (0.5, 2327), (1, 3819) | (0, 3937), (0.5, 2308), (1, 3755) - slightly worse when striking first, but better than when striking last. \n",
    "eval no mass bonus: (0.5028, 0.52335, 0.48225) | (0, 3636), (0.5, 2261), (1, 4103) | (0, 3672), (0.5, 2301), (1, 4027) - that might have been the issue\n",
    "ranged/melee changes: (0.497375, 0.3713, 0.62345) - way worse when starting first\n",
    "melee in_way: (0.50565, 0.39625, 0.61505) | this in_way does way worse when starting first\n",
    "ranged prio: (0.4968, 0.5082, 0.48540000000000005) - still worse, which is interesting\n",
    "random_selection: (0.505125, 0.49845, 0.5118) - moving first is somehow worse\n",
    "wavering_first: (0.5017, 0.49235, 0.51105) - somehow a little bit worse\n",
    "impact_first: (0.5004, 0.52855, 0.47224999999999995)\n",
    "\n",
    "base: (0.497825, 0.52705, 0.4686) - going first has slight advantage\n",
    "random placement vs random on line placement: (0.501325, 0.40285, 0.5998) - on line wins if going second\n",
    "random placement vs random 6\"back placement: (0.502775, 0.56685, 0.4387) - back wins if going first\n",
    "random placement vs random 10\"back placement: (0.4989, 0.6289, 0.3689) - back wins if going first\n",
    "\n",
    "on_line vs on_line: (0.50385, 0.42125, 0.58645) - on line wins if going second\n",
    "on_line vs 6\": (0.4991, 0.6696, 0.3286) - back wins when going second\n",
    "6\" vs 6\": (0.49777499999999997, 0.5467, 0.44884999999999997) - going first wins"
   ]
  },
  {
   "cell_type": "code",
   "execution_count": 146,
   "id": "d2a44030",
   "metadata": {},
   "outputs": [
    {
     "data": {
      "text/plain": [
       "0.03065000000000001"
      ]
     },
     "execution_count": 146,
     "metadata": {},
     "output_type": "execute_result"
    }
   ],
   "source": [
    "0.5289 - 0.49825"
   ]
  },
  {
   "cell_type": "code",
   "execution_count": null,
   "id": "2de9c974",
   "metadata": {},
   "outputs": [],
   "source": []
  }
 ],
 "metadata": {
  "kernelspec": {
   "display_name": "Python 3 (ipykernel)",
   "language": "python",
   "name": "python3"
  },
  "language_info": {
   "codemirror_mode": {
    "name": "ipython",
    "version": 3
   },
   "file_extension": ".py",
   "mimetype": "text/x-python",
   "name": "python",
   "nbconvert_exporter": "python",
   "pygments_lexer": "ipython3",
   "version": "3.9.6"
  }
 },
 "nbformat": 4,
 "nbformat_minor": 5
}
