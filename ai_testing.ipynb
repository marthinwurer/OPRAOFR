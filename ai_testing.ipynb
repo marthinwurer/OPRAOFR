{
 "cells": [
  {
   "cell_type": "code",
   "execution_count": 1,
   "id": "4cdc7458",
   "metadata": {},
   "outputs": [],
   "source": [
    "from opr_structs import *\n",
    "from opr_logic import *\n",
    "from pprint import pprint\n",
    "import copy"
   ]
  },
  {
   "cell_type": "code",
   "execution_count": 2,
   "id": "a8cf73d6",
   "metadata": {},
   "outputs": [
    {
     "name": "stderr",
     "output_type": "stream",
     "text": [
      "DEBUG:root:test\n",
      "DEBUG:root:debug1\n"
     ]
    }
   ],
   "source": [
    "import logging\n",
    "logger = logging.getLogger()\n",
    "logger.setLevel(logging.DEBUG)\n",
    "logging.debug(\"test\")\n",
    "logger.setLevel(logging.WARNING)\n",
    "\n",
    "from contextlib import contextmanager\n",
    "\n",
    "@contextmanager\n",
    "def loggingcm(level=logging.DEBUG):\n",
    "    # Code to acquire resource, e.g.:\n",
    "    logger.setLevel(level)\n",
    "    try:\n",
    "        yield\n",
    "    finally:\n",
    "        # Code to release resource, e.g.:\n",
    "        logger.setLevel(logging.WARNING)\n",
    "\n",
    "with loggingcm():\n",
    "    logger.debug(\"debug1\")\n",
    "logger.debug(\"debug2\")"
   ]
  },
  {
   "cell_type": "code",
   "execution_count": 3,
   "id": "1901b456",
   "metadata": {},
   "outputs": [],
   "source": [
    "from units import *\n",
    "from opr_ai import *"
   ]
  },
  {
   "cell_type": "code",
   "execution_count": 4,
   "id": "38223c8b",
   "metadata": {},
   "outputs": [],
   "source": [
    "import matplotlib.pyplot as plt\n",
    "\n",
    "def plot_items(ax, items, name_func):\n",
    "    y = []\n",
    "    x = []\n",
    "    names = []\n",
    "    for i in items:\n",
    "        x.append(i.x)\n",
    "        y.append(i.y)\n",
    "        name = name_func(i) #f\"{u.name} ({len(u.models)}/{u.starting_models})\"\n",
    "        names.append(name)\n",
    "    \n",
    "    ax.scatter(x, y)\n",
    "    for i, n in enumerate(names):\n",
    "        ax.annotate(n, (x[i], y[i]))\n",
    "\n",
    "def plot_battle(battle, cursor_x=0, cursor_y=0):\n",
    "    fig = plt.figure(figsize=(10,8))\n",
    "    ax = fig.subplots()\n",
    "    for p in battle.players:\n",
    "        plot_items(ax, [u for u in p.units if u.alive], lambda u: f\"{u.name} ({len(u.models)}/{u.starting_models})\")\n",
    "    \n",
    "    plot_items(ax, battle.objectives, lambda o: f\"{o.controller}\")\n",
    "    \n",
    "    ax.scatter(cursor_x, cursor_y, c=\"red\")\n",
    "    ax.set_xlim([0, 72])\n",
    "    ax.set_ylim([0, 48])\n",
    "    \n",
    "    \n",
    "    plt.gca().set_aspect('equal')\n",
    "    \n",
    "\n",
    "    plt.show()"
   ]
  },
  {
   "cell_type": "code",
   "execution_count": 5,
   "id": "99fad7be",
   "metadata": {},
   "outputs": [
    {
     "data": {
      "image/png": "[encoded data removed]",
      "text/plain": [
       "<Figure size 720x576 with 1 Axes>"
      ]
     },
     "metadata": {
      "needs_background": "light"
     },
     "output_type": "display_data"
    }
   ],
   "source": [
    "plot_battle(Battle([]))"
   ]
  },
  {
   "cell_type": "code",
   "execution_count": 10,
   "id": "1e6ce49b",
   "metadata": {},
   "outputs": [],
   "source": [
    "import tqdm\n",
    "def mc(func, times=10000):\n",
    "    results = []\n",
    "    for i in tqdm.tqdm(range(times)):\n",
    "        results.append(func())\n",
    "    return sum(results) / len(results)"
   ]
  },
  {
   "cell_type": "code",
   "execution_count": 33,
   "id": "fff216ac",
   "metadata": {},
   "outputs": [],
   "source": [
    "def eval_options(options, eval_func):\n",
    "    best = options[0]\n",
    "    best_val = eval_func(options[0])\n",
    "    for option in options[1:]:\n",
    "        val = eval_func(option)\n",
    "        if val > best_val:\n",
    "            best = option\n",
    "            best_val = val\n",
    "    return best"
   ]
  },
  {
   "cell_type": "code",
   "execution_count": 14,
   "id": "76a372ec",
   "metadata": {},
   "outputs": [],
   "source": [
    "def a_choose_unit_to_activate(battle, player):\n",
    "    available_units = [u for u in player.units if \"Activated\" not in u.rules and u.alive]\n",
    "    if not available_units:\n",
    "        return None\n",
    "    \n",
    "    # pick a non-fatigued impact unit first\n",
    "    nfi = [u for u in available_units if \"Fatigued\" not in u.rules and \"Impact\" in u.models[-1].rules]\n",
    "    if nfi:\n",
    "        return random.sample(nfi, 1)[0]\n",
    "    \n",
    "    # TODO sample from a zone, with priority baseed on rules\n",
    "    # for now, just sample a random unit\n",
    "    return random.sample(available_units, 1)[0]"
   ]
  },
  {
   "cell_type": "code",
   "execution_count": 29,
   "id": "a77a1f70",
   "metadata": {},
   "outputs": [],
   "source": [
    "def a_choose_action_for_unit(battle, player, unit):\n",
    "    # if unit is wavering/shaken, they can only hold\n",
    "    if \"Wavering\" in unit.rules:\n",
    "        return (\"Hold\",)\n",
    "    speed = unit.speed\n",
    "    \n",
    "    # TODO decision tree for unit types, for now move towards nearest enemy unit\n",
    "    enemy_units = [u for u in battle.all_units if u.controller != player.name and u.alive]\n",
    "    \n",
    "    if not enemy_units:\n",
    "        not_controlled = [o for o in battle.objectives if o.controller != player.name]\n",
    "        \n",
    "        if not not_controlled:\n",
    "            return \"Hold\", None\n",
    "        \n",
    "        closest_obj = get_closest(unit.x, unit.y, not_controlled)\n",
    "        distance_to = calc_distance(unit.x, unit.y, closest_obj.x, closest_obj.y)\n",
    "        return \"Rush\", min(speed * 2, distance_to + 2.5), get_angle_to(unit.x, unit.y, closest_obj)\n",
    "    \n",
    "    closest = get_closest(unit.x, unit.y, enemy_units)\n",
    "    distance_to_closest = calc_distance(unit.x, unit.y, closest.x, closest.y)\n",
    "    \n",
    "    # now that we have the closest, figure out the angle to them. \n",
    "    angle = get_angle_to(unit.x, unit.y, closest)\n",
    "    \n",
    "    \n",
    "    # melee decision tree\n",
    "    if unit.is_melee:\n",
    "        not_controlled = [o for o in battle.objectives if o.controller != player.name]\n",
    "        if not_controlled:\n",
    "            closest_obj = get_closest(unit.x, unit.y, not_controlled)\n",
    "            distance_to = calc_distance(unit.x, unit.y, closest_obj.x, closest_obj.y)\n",
    "            enemies_in_way = [u for u in units_in_way(battle, unit, closest_obj) if u.controller != player.name and u.alive and calc_distance(u.x, u.y, closest_obj.x, closest_obj.y) < (distance_to + 3.5)]\n",
    "            if enemies_in_way:\n",
    "                closest_in_way = get_closest(unit.x, unit.y, enemies_in_way)\n",
    "                if calc_distance(*unpack_points(unit, closest_in_way)) <= speed * 2:\n",
    "                    return \"Charge\", closest_in_way\n",
    "            return \"Rush\", min(speed * 2, distance_to + 2.5), get_angle_to(unit.x, unit.y, closest_obj)\n",
    "        else: # 3\n",
    "            if distance_to_closest <= speed * 2:\n",
    "                return \"Charge\", closest\n",
    "            return \"Rush\", speed * 2, angle\n",
    "    \n",
    "    elif unit.is_ranged:\n",
    "#         u_range = unit.range\n",
    "#         if unit.range > distance_to_closest:\n",
    "#             return \"Advance\", 0, 0, closest\n",
    "        shootable_distance = speed + unit.range\n",
    "        in_range = [u for u in enemy_units if calc_distance(unit.x, unit.y, u.x, u.y) <= shootable_distance]\n",
    "        if in_range:\n",
    "            target = random.choice(in_range)\n",
    "            for unit in in_range:\n",
    "                if \"Wavering\" in unit.rules:\n",
    "                    continue\n",
    "                \n",
    "                dist_to_morale = len(unit.models) - unit.starting_models / 2\n",
    "                target_to_morale = len(target.models) - target.starting_models / 2\n",
    "                if dist_to_morale < target_to_morale:\n",
    "                    log.debug(f\"switching target to {unit}, {dist_to_morale} {target_to_morale}\")\n",
    "                    target = unit\n",
    "        else:\n",
    "            target = closest\n",
    "        \n",
    "        angle = get_angle_to(unit.x, unit.y, target)\n",
    "        distance_to_target = calc_distance(unit.x, unit.y, target.x, target.y)\n",
    "        \n",
    "        dist_to_move = max(0, min(distance_to_target - 3, speed))\n",
    "        \n",
    "        return \"Advance\", dist_to_move, angle, target\n",
    "                                 \n",
    "    \n",
    "    if not unit.is_melee:\n",
    "        \n",
    "        dist_to_move = max(0, min(distance_to_closest - 2, speed))\n",
    "        \n",
    "        return \"Advance\", dist_to_move, angle, closest\n",
    "    \n",
    "    if distance_to_closest <= speed * 2:\n",
    "        return \"Charge\", closest\n",
    "    \n",
    "    return \"Rush\", speed * 2, angle\n",
    "\n",
    "\n",
    "\n",
    "\n",
    "def advanced_activation(battle, player):\n",
    "    unit = a_choose_unit_to_activate(battle, player)\n",
    "    if unit is None:\n",
    "        log.debug(f\"skipping {player}\")\n",
    "        return (None, None)\n",
    "\n",
    "    action = a_choose_action_for_unit(battle, player, unit)\n",
    "    return (unit, action)"
   ]
  },
  {
   "cell_type": "code",
   "execution_count": 30,
   "id": "819caec9",
   "metadata": {},
   "outputs": [],
   "source": [
    "import random\n",
    "def nvn_full(a, b, draw_value=0.5):\n",
    "    random.shuffle(a)\n",
    "    random.shuffle(b)\n",
    "    # start units at 12x12 and increment by 6 for each\n",
    "    for i, u in enumerate(a):\n",
    "        u.y = 11.5\n",
    "        u.x = 6 + i * 6\n",
    "    \n",
    "    for i, u in enumerate(b):\n",
    "        u.y = 36.5\n",
    "        u.x = 6 + i * 6\n",
    "        \n",
    "    p1 = Player(\"p1\", a, (0, 12, 0, 72))\n",
    "    p2 = Player(\"p2\", b, (36, 48, 0, 72))\n",
    "    \n",
    "    p1.activation = advanced_activation\n",
    "    p2.activation = basic_activation\n",
    "    \n",
    "    battle = Battle([p1, p2])\n",
    "    obj_x = 6 + (len(a) - 1) * 3\n",
    "    battle.objectives = [Objective(obj_x, 24),]\n",
    "#     check_objectives(battle)\n",
    "    \n",
    "#     run_battle(battle)\n",
    "    if logger.getEffectiveLevel() <= 10:\n",
    "        plot_battle(battle)\n",
    "    next_player = 0\n",
    "    for i in range(4):\n",
    "        next_player = do_round(battle, next_player)\n",
    "        if logger.getEffectiveLevel() <= 10:\n",
    "            plot_battle(battle)\n",
    "            print(\"Units:\")\n",
    "            pprint(battle.all_units)\n",
    "            pprint(battle.objectives)\n",
    "        \n",
    "    if battle.objectives[0].controller is None:\n",
    "        return 0.5\n",
    "    elif battle.objectives[0].controller == p1.name:\n",
    "        return 1\n",
    "    else:\n",
    "        return 0"
   ]
  },
  {
   "cell_type": "code",
   "execution_count": 31,
   "id": "2787f639",
   "metadata": {},
   "outputs": [
    {
     "data": {
      "image/png": "[encoded data removed]",
      "text/plain": [
       "<Figure size 720x576 with 1 Axes>"
      ]
     },
     "metadata": {
      "needs_background": "light"
     },
     "output_type": "display_data"
    },
    {
     "name": "stderr",
     "output_type": "stream",
     "text": [
      "DEBUG:opr_logic:Starting Round 1\n",
      "DEBUG:opr_logic:executing Unit(Grail Knights (10/10)(30.0,11.5), ('Rush', 16, 2.376599820878883)\n",
      "DEBUG:opr_logic:executing Unit(Grail Knights (10/10)(18.0,36.5), ('Charge', Unit(Grail Knights a(10/10)(18.9,23.0))\n",
      "DEBUG:opr_logic:Unit(Grail Knights a(10/10)(18.8,25.0) strikes Unit(Grail Knights a(10/10)(18.9,23.0)\n",
      "DEBUG:opr_logic:num impact: 10\n",
      "DEBUG:opr_logic:20 attacks\n",
      "DEBUG:opr_logic:10 hits\n",
      "DEBUG:opr_logic:6 wounds\n",
      "DEBUG:opr_logic:Unit(Grail Knights a(4/10)(18.9,23.0) strikes Unit(Grail Knights fa(10/10)(18.8,25.0)\n",
      "DEBUG:opr_logic:4 attacks\n",
      "DEBUG:opr_logic:4 hits\n",
      "DEBUG:opr_logic:1 wounds\n",
      "DEBUG:opr_logic:scores: a: 7, d: 1\n",
      "DEBUG:opr_structs:Grail Knights doing morale test\n",
      "DEBUG:opr_ai:switching target to Unit(Grail Knights fa(9/10)(18.7,26.0), 4.0 5.0\n",
      "DEBUG:opr_logic:executing Unit(Longbowmen (10/10)(6.0,11.5), ('Advance', 6, 0.82309211098452, Unit(Grail Knights fa(9/10)(18.7,26.0))\n",
      "DEBUG:opr_logic:Unit(Longbowmen a(10/10)(1.6,7.4) shooting at Unit(Grail Knights fa(9/10)(18.7,26.0)\n",
      "DEBUG:opr_logic:10 attacks\n",
      "DEBUG:opr_logic:6 hits\n",
      "DEBUG:opr_logic:4 wounds\n",
      "DEBUG:opr_structs:Grail Knights doing ranged morale test\n",
      "DEBUG:opr_structs:rolling fearless test\n",
      "DEBUG:opr_structs:Grail Knights is fearless!\n",
      "DEBUG:opr_logic:executing Unit(Foot Knights (10/10)(24.0,36.5), ('Rush', 12, 0.4475199751571699)\n",
      "DEBUG:opr_logic:executing Unit(Foot Knights (10/10)(18.0,11.5), ('Rush', 12, 3.141592653589793)\n",
      "DEBUG:opr_logic:executing Unit(Peasants (20/20)(12.0,36.5), ('Advance', 6, -0.43240777557053783, Unit(Foot Knights a(10/10)(18.0,23.5))\n",
      "DEBUG:opr_logic:Unit(Peasants a(20/20)(14.5,31.1) shooting at Unit(Foot Knights a(10/10)(18.0,23.5)\n",
      "DEBUG:opr_logic:20 attacks\n",
      "DEBUG:opr_logic:1 hits\n",
      "DEBUG:opr_logic:1 wounds\n",
      "DEBUG:opr_logic:executing Unit(Peasants (20/20)(12.0,11.5), ('Advance', 6, -2.6940726784326237, Unit(Foot Knights a(10/10)(18.8,25.7))\n",
      "DEBUG:opr_logic:Unit(Peasants a(20/20)(14.6,16.9) shooting at Unit(Foot Knights a(10/10)(18.8,25.7)\n",
      "DEBUG:opr_logic:20 attacks\n",
      "DEBUG:opr_logic:3 hits\n",
      "DEBUG:opr_logic:2 wounds\n",
      "DEBUG:opr_logic:executing Unit(Men-At-Arms (20/20)(30.0,36.5), ('Rush', 12, 0.7649928327109102)\n",
      "DEBUG:opr_logic:executing Unit(Men-At-Arms (20/20)(24.0,11.5), ('Rush', 12, 2.694072678432623)\n",
      "DEBUG:opr_logic:executing Unit(Longbowmen (10/10)(6.0,36.5), ('Advance', 6, -0.41349748595096614, Unit(Foot Knights a(9/10)(18.0,23.5))\n",
      "DEBUG:opr_logic:Unit(Longbowmen a(10/10)(8.4,31.0) shooting at Unit(Foot Knights a(9/10)(18.0,23.5)\n",
      "DEBUG:opr_logic:10 attacks\n",
      "DEBUG:opr_logic:4 hits\n",
      "DEBUG:opr_logic:2 wounds\n"
     ]
    },
    {
     "data": {
      "image/png": "[encoded data removed]",
      "text/plain": [
       "<Figure size 720x576 with 1 Axes>"
      ]
     },
     "metadata": {
      "needs_background": "light"
     },
     "output_type": "display_data"
    },
    {
     "name": "stderr",
     "output_type": "stream",
     "text": [
      "DEBUG:opr_logic:Starting Round 2\n",
      "DEBUG:opr_logic:executing Unit(Grail Knights (4/10)(18.9,23.0), ('Charge', Unit(Foot Knights (8/10)(18.8,25.7))\n",
      "DEBUG:opr_logic:Unit(Grail Knights a(4/10)(18.9,23.7) strikes Unit(Foot Knights (8/10)(18.8,25.7)\n",
      "DEBUG:opr_logic:num impact: 4\n",
      "DEBUG:opr_logic:8 attacks\n",
      "DEBUG:opr_logic:6 hits\n",
      "DEBUG:opr_logic:4 wounds\n",
      "DEBUG:opr_logic:Unit(Foot Knights (4/10)(18.8,25.7) strikes Unit(Grail Knights fa(4/10)(18.9,23.7)\n",
      "DEBUG:opr_logic:4 attacks\n",
      "DEBUG:opr_logic:0 hits\n",
      "DEBUG:opr_logic:0 wounds\n",
      "DEBUG:opr_logic:scores: a: 4, d: 0\n",
      "DEBUG:opr_structs:Foot Knights doing morale test\n",
      "DEBUG:opr_logic:executing Unit(Grail Knights (5/10)(18.7,26.0), ('Charge', Unit(Foot Knights (7/10)(18.0,23.5))\n",
      "DEBUG:opr_logic:Unit(Grail Knights a(5/10)(18.5,25.4) strikes Unit(Foot Knights (7/10)(18.0,23.5)\n",
      "DEBUG:opr_logic:num impact: 5\n",
      "DEBUG:opr_logic:10 attacks\n",
      "DEBUG:opr_logic:9 hits\n",
      "DEBUG:opr_logic:6 wounds\n",
      "DEBUG:opr_logic:Unit(Foot Knights (1/10)(18.0,23.5) strikes Unit(Grail Knights fa(5/10)(18.5,25.4)\n",
      "DEBUG:opr_logic:1 attacks\n",
      "DEBUG:opr_logic:1 hits\n",
      "DEBUG:opr_logic:1 wounds\n",
      "DEBUG:opr_logic:scores: a: 6, d: 1\n",
      "DEBUG:opr_structs:Foot Knights doing morale test\n",
      "DEBUG:opr_structs:rolling fearless test\n",
      "DEBUG:opr_structs:Foot Knights failed morale test\n",
      "DEBUG:opr_structs:Foot Knights routed!\n",
      "DEBUG:opr_logic:executing Unit(Longbowmen (10/10)(1.6,7.4), ('Advance', 0.6028900029393616, 0.9273317036689651, Unit(Foot Knights f(4/10)(18.8,25.7))\n",
      "DEBUG:opr_logic:Unit(Longbowmen a(10/10)(1.1,7.1) shooting at Unit(Foot Knights f(4/10)(18.8,25.7)\n",
      "DEBUG:opr_logic:10 attacks\n",
      "DEBUG:opr_logic:4 hits\n",
      "DEBUG:opr_logic:3 wounds\n",
      "DEBUG:opr_structs:Foot Knights doing ranged morale test\n",
      "DEBUG:opr_structs:rolling fearless test\n",
      "DEBUG:opr_structs:Foot Knights failed ranged morale test\n",
      "DEBUG:opr_logic:executing Unit(Peasants (20/20)(14.5,31.1), ('Advance', 6, -0.4859971593268285, Unit(Grail Knights fa(4/10)(18.9,22.7))\n",
      "DEBUG:opr_logic:Unit(Peasants a(20/20)(17.3,25.7) shooting at Unit(Grail Knights fa(4/10)(18.9,22.7)\n",
      "DEBUG:opr_logic:20 attacks\n",
      "DEBUG:opr_logic:4 hits\n",
      "DEBUG:opr_logic:1 wounds\n",
      "DEBUG:opr_structs:Grail Knights doing ranged morale test\n",
      "DEBUG:opr_structs:rolling fearless test\n",
      "DEBUG:opr_structs:Grail Knights failed ranged morale test\n",
      "DEBUG:opr_logic:executing Unit(Peasants (20/20)(14.6,16.9), ('Advance', 6, -2.8429731346449065, Unit(Peasants a(20/20)(17.3,25.7))\n",
      "DEBUG:opr_logic:Unit(Peasants a(20/20)(16.4,22.6) shooting at Unit(Peasants a(20/20)(17.3,25.7)\n",
      "DEBUG:opr_logic:20 attacks\n",
      "DEBUG:opr_logic:4 hits\n",
      "DEBUG:opr_logic:4 wounds\n",
      "DEBUG:opr_logic:executing Unit(Foot Knights fs(1/10)(18.8,25.7), ('Hold',)\n",
      "DEBUG:opr_logic:executing Unit(Men-At-Arms (20/20)(18.8,22.3), ('Charge', Unit(Foot Knights fa(1/10)(18.8,25.7))\n",
      "DEBUG:opr_logic:Unit(Men-At-Arms a(20/20)(18.8,23.7) strikes Unit(Foot Knights fa(1/10)(18.8,25.7)\n",
      "DEBUG:opr_logic:10 attacks\n",
      "DEBUG:opr_logic:5 hits\n",
      "DEBUG:opr_logic:1 wounds\n",
      "DEBUG:opr_logic:Unit(Foot Knights fa(0/10)(18.8,25.7) has been slain!\n",
      "DEBUG:opr_logic:executing Unit(Men-At-Arms (20/20)(21.7,27.8), ('Charge', Unit(Grail Knights fsa(3/10)(18.9,22.7))\n",
      "DEBUG:opr_logic:Unit(Men-At-Arms a(20/20)(19.9,24.4) strikes Unit(Grail Knights fsa(3/10)(18.9,22.7)\n",
      "DEBUG:opr_logic:10 attacks\n",
      "DEBUG:opr_logic:2 hits\n",
      "DEBUG:opr_logic:0 wounds\n",
      "DEBUG:opr_logic:Unit(Grail Knights fsa(3/10)(18.9,22.7) strikes Unit(Men-At-Arms fa(20/20)(19.9,24.4)\n",
      "DEBUG:opr_logic:3 attacks\n",
      "DEBUG:opr_logic:0 hits\n",
      "DEBUG:opr_logic:0 wounds\n",
      "DEBUG:opr_logic:scores: a: 4, d: 0\n",
      "DEBUG:opr_structs:Grail Knights doing morale test\n",
      "DEBUG:opr_structs:Grail Knights failed morale test\n",
      "DEBUG:opr_structs:Grail Knights routed!\n",
      "DEBUG:opr_ai:skipping <opr_structs.Player object at 0x7f74f1992580>\n",
      "DEBUG:opr_logic:skipping <opr_structs.Player object at 0x7f74f1992580>\n",
      "DEBUG:opr_logic:executing Unit(Longbowmen (10/10)(8.4,31.0), ('Advance', 6, -0.8956521113710602, Unit(Peasants a(20/20)(16.4,22.6))\n",
      "DEBUG:opr_logic:Unit(Longbowmen a(10/10)(13.1,27.3) shooting at Unit(Peasants a(20/20)(16.4,22.6)\n",
      "DEBUG:opr_logic:10 attacks\n",
      "DEBUG:opr_logic:3 hits\n",
      "DEBUG:opr_logic:3 wounds\n"
     ]
    },
    {
     "name": "stdout",
     "output_type": "stream",
     "text": [
      "Units:\n",
      "[Unit(Longbowmen a(10/10)(1.6,7.4),\n",
      " Unit(Peasants a(20/20)(14.6,16.9),\n",
      " Unit(Foot Knights a(7/10)(18.0,23.5),\n",
      " Unit(Men-At-Arms a(20/20)(18.8,22.3),\n",
      " Unit(Grail Knights fa(4/10)(18.9,23.0),\n",
      " Unit(Longbowmen a(10/10)(8.4,31.0),\n",
      " Unit(Peasants a(20/20)(14.5,31.1),\n",
      " Unit(Grail Knights fa(5/10)(18.7,26.0),\n",
      " Unit(Foot Knights a(8/10)(18.8,25.7),\n",
      " Unit(Men-At-Arms a(20/20)(21.7,27.8)]\n",
      "[Objective(18, 24, None)]\n"
     ]
    },
    {
     "data": {
      "image/png": "[encoded data removed]",
      "text/plain": [
       "<Figure size 720x576 with 1 Axes>"
      ]
     },
     "metadata": {
      "needs_background": "light"
     },
     "output_type": "display_data"
    },
    {
     "name": "stderr",
     "output_type": "stream",
     "text": [
      "DEBUG:opr_logic:Starting Round 3\n",
      "DEBUG:opr_logic:executing Unit(Peasants (17/20)(16.4,22.6), ('Advance', 1.2470911263525122, -2.8429731346449065, Unit(Peasants (16/20)(17.3,25.7))\n",
      "DEBUG:opr_logic:Unit(Peasants a(17/20)(16.7,23.8) shooting at Unit(Peasants (16/20)(17.3,25.7)\n",
      "DEBUG:opr_logic:17 attacks\n",
      "DEBUG:opr_logic:4 hits\n",
      "DEBUG:opr_logic:3 wounds\n",
      "DEBUG:opr_logic:executing Unit(Grail Knights (4/10)(18.8,26.4), ('Charge', Unit(Peasants a(17/20)(16.7,23.8))\n",
      "DEBUG:opr_logic:Unit(Grail Knights a(4/10)(18.0,25.4) strikes Unit(Peasants a(17/20)(16.7,23.8)\n",
      "DEBUG:opr_logic:num impact: 4\n",
      "DEBUG:opr_logic:8 attacks\n",
      "DEBUG:opr_logic:6 hits\n",
      "DEBUG:opr_logic:6 wounds\n",
      "DEBUG:opr_logic:Unit(Peasants a(11/20)(16.7,23.8) strikes Unit(Grail Knights fa(4/10)(18.0,25.4)\n",
      "DEBUG:opr_logic:10 attacks\n",
      "DEBUG:opr_logic:2 hits\n",
      "DEBUG:opr_logic:1 wounds\n",
      "DEBUG:opr_logic:scores: a: 6, d: 3\n",
      "DEBUG:opr_structs:Peasants doing morale test\n",
      "DEBUG:opr_structs:Peasants failed morale test\n",
      "DEBUG:opr_logic:executing Unit(Longbowmen (10/10)(1.1,7.1), ('Advance', 0, 2.019055541780989, Unit(Grail Knights fa(3/10)(18.6,26.2))\n",
      "DEBUG:opr_logic:Unit(Longbowmen a(10/10)(1.1,7.1) shooting at Unit(Grail Knights fa(3/10)(18.6,26.2)\n",
      "DEBUG:opr_logic:10 attacks\n",
      "DEBUG:opr_logic:2 hits\n",
      "DEBUG:opr_logic:2 wounds\n",
      "DEBUG:opr_structs:Grail Knights doing ranged morale test\n",
      "DEBUG:opr_logic:executing Unit(Longbowmen (10/10)(13.1,27.3), ('Advance', 4.318109315921026, -0.8956521113710602, Unit(Peasants fsa(11/20)(16.7,23.8))\n",
      "DEBUG:opr_logic:Unit(Longbowmen a(10/10)(16.5,24.6) shooting at Unit(Peasants fsa(11/20)(16.7,23.8)\n",
      "DEBUG:opr_logic:10 attacks\n",
      "DEBUG:opr_logic:3 hits\n",
      "DEBUG:opr_logic:3 wounds\n",
      "DEBUG:opr_structs:Peasants doing ranged morale test\n",
      "DEBUG:opr_structs:Peasants failed ranged morale test\n",
      "DEBUG:opr_logic:executing Unit(Men-At-Arms (20/20)(18.8,22.7), ('Charge', Unit(Longbowmen a(10/10)(16.5,24.6))\n",
      "DEBUG:opr_logic:Unit(Men-At-Arms a(20/20)(18.0,23.3) strikes Unit(Longbowmen a(10/10)(16.5,24.6)\n",
      "DEBUG:opr_logic:10 attacks\n",
      "DEBUG:opr_logic:4 hits\n",
      "DEBUG:opr_logic:3 wounds\n",
      "DEBUG:opr_logic:Unit(Longbowmen a(7/10)(16.5,24.6) strikes Unit(Men-At-Arms fa(20/20)(18.0,23.3)\n",
      "DEBUG:opr_logic:7 attacks\n",
      "DEBUG:opr_logic:2 hits\n",
      "DEBUG:opr_logic:2 wounds\n",
      "DEBUG:opr_logic:scores: a: 6, d: 3\n"
     ]
    },
    {
     "name": "stdout",
     "output_type": "stream",
     "text": [
      "Units:\n",
      "[Unit(Longbowmen a(10/10)(1.1,7.1),\n",
      " Unit(Peasants a(17/20)(16.4,22.6),\n",
      " Unit(Foot Knights f(0/10)(18.0,23.5),\n",
      " Unit(Men-At-Arms fa(20/20)(18.8,22.7),\n",
      " Unit(Grail Knights fsa(0/10)(18.9,22.7),\n",
      " Unit(Longbowmen a(10/10)(13.1,27.3),\n",
      " Unit(Peasants a(16/20)(17.3,25.7),\n",
      " Unit(Grail Knights fa(4/10)(18.8,26.4),\n",
      " Unit(Foot Knights fa(0/10)(18.8,25.7),\n",
      " Unit(Men-At-Arms fa(20/20)(20.3,25.3)]\n",
      "[Objective(18, 24, None)]\n"
     ]
    },
    {
     "name": "stderr",
     "output_type": "stream",
     "text": [
      "DEBUG:opr_structs:Longbowmen doing morale test\n",
      "DEBUG:opr_structs:Longbowmen failed morale test\n",
      "DEBUG:opr_logic:executing Unit(Peasants (13/20)(17.3,25.7), ('Advance', 0, 0.2986195189448862, Unit(Peasants fsa(8/20)(16.7,23.8))\n",
      "DEBUG:opr_logic:Unit(Peasants a(13/20)(17.3,25.7) shooting at Unit(Peasants fsa(8/20)(16.7,23.8)\n",
      "DEBUG:opr_logic:13 attacks\n",
      "DEBUG:opr_logic:2 hits\n",
      "DEBUG:opr_logic:2 wounds\n",
      "DEBUG:opr_structs:Peasants doing ranged morale test\n",
      "DEBUG:opr_structs:Peasants failed ranged morale test\n",
      "DEBUG:opr_ai:skipping <opr_structs.Player object at 0x7f74f1992580>\n",
      "DEBUG:opr_logic:skipping <opr_structs.Player object at 0x7f74f1992580>\n",
      "DEBUG:opr_logic:executing Unit(Men-At-Arms (20/20)(20.3,25.3), ('Charge', Unit(Men-At-Arms fa(18/20)(18.8,22.7))\n",
      "DEBUG:opr_logic:Unit(Men-At-Arms a(20/20)(19.8,24.4) strikes Unit(Men-At-Arms fa(18/20)(18.8,22.7)\n",
      "DEBUG:opr_logic:10 attacks\n",
      "DEBUG:opr_logic:1 hits\n",
      "DEBUG:opr_logic:0 wounds\n",
      "DEBUG:opr_logic:Unit(Men-At-Arms fa(18/20)(18.8,22.7) strikes Unit(Men-At-Arms fa(20/20)(19.8,24.4)\n",
      "DEBUG:opr_logic:10 attacks\n",
      "DEBUG:opr_logic:2 hits\n",
      "DEBUG:opr_logic:1 wounds\n",
      "DEBUG:opr_logic:scores: a: 3, d: 4\n",
      "DEBUG:opr_structs:Men-At-Arms doing morale test\n",
      "DEBUG:opr_structs:Men-At-Arms failed morale test\n"
     ]
    },
    {
     "data": {
      "image/png": "[encoded data removed]",
      "text/plain": [
       "<Figure size 720x576 with 1 Axes>"
      ]
     },
     "metadata": {
      "needs_background": "light"
     },
     "output_type": "display_data"
    },
    {
     "name": "stderr",
     "output_type": "stream",
     "text": [
      "DEBUG:opr_logic:Starting Round 4\n",
      "DEBUG:opr_logic:executing Unit(Men-At-Arms (18/20)(18.8,22.7), ('Charge', Unit(Longbowmen s(7/10)(16.5,24.6))\n",
      "DEBUG:opr_logic:Unit(Men-At-Arms a(18/20)(18.0,23.3) strikes Unit(Longbowmen s(7/10)(16.5,24.6)\n",
      "DEBUG:opr_logic:10 attacks\n",
      "DEBUG:opr_logic:4 hits\n",
      "DEBUG:opr_logic:1 wounds\n",
      "DEBUG:opr_logic:Unit(Longbowmen s(6/10)(16.5,24.6) strikes Unit(Men-At-Arms fa(18/20)(18.0,23.3)\n",
      "DEBUG:opr_logic:6 attacks\n",
      "DEBUG:opr_logic:1 hits\n",
      "DEBUG:opr_logic:1 wounds\n",
      "DEBUG:opr_logic:scores: a: 4, d: 2\n",
      "DEBUG:opr_structs:Longbowmen doing morale test\n",
      "DEBUG:opr_structs:Longbowmen failed morale test\n",
      "DEBUG:opr_logic:executing Unit(Grail Knights (1/10)(18.6,26.2), ('Charge', Unit(Peasants s(6/20)(16.7,23.8))\n",
      "DEBUG:opr_logic:Unit(Grail Knights a(1/10)(18.0,25.4) strikes Unit(Peasants s(6/20)(16.7,23.8)\n",
      "DEBUG:opr_logic:num impact: 1\n",
      "DEBUG:opr_logic:2 attacks\n",
      "DEBUG:opr_logic:1 hits\n",
      "DEBUG:opr_logic:1 wounds\n",
      "DEBUG:opr_logic:Unit(Peasants s(5/20)(16.7,23.8) strikes Unit(Grail Knights fa(1/10)(18.0,25.4)\n",
      "DEBUG:opr_logic:5 attacks\n",
      "DEBUG:opr_logic:0 hits\n",
      "DEBUG:opr_logic:0 wounds\n",
      "DEBUG:opr_logic:scores: a: 1, d: 1\n",
      "DEBUG:opr_logic:executing Unit(Peasants fs(5/20)(16.7,23.8), ('Hold',)\n",
      "DEBUG:opr_logic:executing Unit(Men-At-Arms s(19/20)(20.3,25.3), ('Hold',)\n",
      "DEBUG:opr_ai:switching target to Unit(Grail Knights fa(1/10)(18.6,26.2), -4.0 3.0\n",
      "DEBUG:opr_logic:executing Unit(Longbowmen (10/10)(1.1,7.1), ('Advance', 0, 2.0527852706819303, Unit(Grail Knights fa(1/10)(18.6,26.2))\n",
      "DEBUG:opr_logic:Unit(Longbowmen a(10/10)(1.1,7.1) shooting at Unit(Grail Knights fa(1/10)(18.6,26.2)\n",
      "DEBUG:opr_logic:10 attacks\n",
      "DEBUG:opr_logic:5 hits\n",
      "DEBUG:opr_logic:1 wounds\n",
      "DEBUG:opr_logic:executing Unit(Longbowmen fs(6/10)(16.5,24.6), ('Hold',)\n",
      "DEBUG:opr_ai:skipping <opr_structs.Player object at 0x7f74f1992580>\n",
      "DEBUG:opr_logic:skipping <opr_structs.Player object at 0x7f74f1992580>\n",
      "DEBUG:opr_logic:executing Unit(Peasants (13/20)(17.3,25.7), ('Advance', 0, 0.2986195189448862, Unit(Peasants fa(5/20)(16.7,23.8))\n",
      "DEBUG:opr_logic:Unit(Peasants a(13/20)(17.3,25.7) shooting at Unit(Peasants fa(5/20)(16.7,23.8)\n",
      "DEBUG:opr_logic:13 attacks\n",
      "DEBUG:opr_logic:2 hits\n",
      "DEBUG:opr_logic:0 wounds\n"
     ]
    },
    {
     "name": "stdout",
     "output_type": "stream",
     "text": [
      "Units:\n",
      "[Unit(Longbowmen a(10/10)(1.1,7.1),\n",
      " Unit(Peasants fsa(6/20)(16.7,23.8),\n",
      " Unit(Foot Knights (0/10)(18.0,23.5),\n",
      " Unit(Men-At-Arms fa(18/20)(18.8,22.7),\n",
      " Unit(Grail Knights s(0/10)(18.9,22.7),\n",
      " Unit(Longbowmen fsa(7/10)(16.5,24.6),\n",
      " Unit(Peasants a(13/20)(17.3,25.7),\n",
      " Unit(Grail Knights fa(1/10)(18.6,26.2),\n",
      " Unit(Foot Knights (0/10)(18.8,25.7),\n",
      " Unit(Men-At-Arms fsa(19/20)(20.3,25.3)]\n",
      "[Objective(18, 24, None)]\n"
     ]
    },
    {
     "data": {
      "image/png": "[encoded data removed]",
      "text/plain": [
       "<Figure size 720x576 with 1 Axes>"
      ]
     },
     "metadata": {
      "needs_background": "light"
     },
     "output_type": "display_data"
    },
    {
     "name": "stdout",
     "output_type": "stream",
     "text": [
      "Units:\n",
      "[Unit(Longbowmen a(10/10)(1.1,7.1),\n",
      " Unit(Peasants fa(5/20)(16.7,23.8),\n",
      " Unit(Foot Knights (0/10)(18.0,23.5),\n",
      " Unit(Men-At-Arms fa(17/20)(18.8,22.7),\n",
      " Unit(Grail Knights s(0/10)(18.9,22.7),\n",
      " Unit(Longbowmen fa(6/10)(16.5,24.6),\n",
      " Unit(Peasants a(13/20)(17.3,25.7),\n",
      " Unit(Grail Knights fa(0/10)(18.6,26.2),\n",
      " Unit(Foot Knights (0/10)(18.8,25.7),\n",
      " Unit(Men-At-Arms a(19/20)(20.3,25.3)]\n",
      "[Objective(18, 24, None)]\n",
      "0.5\n"
     ]
    }
   ],
   "source": [
    "a = [men_at_arms,longbowmen_10,peasants,grail_knights_c,foot_knights,]\n",
    "b = [men_at_arms,longbowmen_10,peasants,grail_knights_c,foot_knights,]\n",
    "with loggingcm(): print(nvn_full(copify(a), copify(b)))"
   ]
  },
  {
   "cell_type": "code",
   "execution_count": 32,
   "id": "871a59d3",
   "metadata": {},
   "outputs": [
    {
     "name": "stderr",
     "output_type": "stream",
     "text": [
      "100%|████████████████████████████████████| 10000/10000 [00:49<00:00, 203.35it/s]\n",
      "100%|████████████████████████████████████| 10000/10000 [00:49<00:00, 203.28it/s]\n"
     ]
    },
    {
     "data": {
      "text/plain": [
       "(0.49735, 0.19645, 0.79825)"
      ]
     },
     "execution_count": 32,
     "metadata": {},
     "output_type": "execute_result"
    }
   ],
   "source": [
    "a_first = mc(lambda: nvn_full(copify(a), copify(b)), times=10000)\n",
    "b_first = 1 - mc(lambda: nvn_full(copify(b), copify(a)), times=10000)\n",
    "(a_first + b_first) / 2, a_first, b_first"
   ]
  },
  {
   "cell_type": "markdown",
   "id": "fa9710de",
   "metadata": {},
   "source": [
    "base: (0.49695, 0.2868, 0.7071000000000001)\n",
    "ranged targeting smaller units: (0.50455, 0.20405, 0.80505)\n",
    "ranged skipping already wavering units: (0.49735, 0.19645, 0.79825)"
   ]
  }
 ],
 "metadata": {
  "kernelspec": {
   "display_name": "Python 3 (ipykernel)",
   "language": "python",
   "name": "python3"
  },
  "language_info": {
   "codemirror_mode": {
    "name": "ipython",
    "version": 3
   },
   "file_extension": ".py",
   "mimetype": "text/x-python",
   "name": "python",
   "nbconvert_exporter": "python",
   "pygments_lexer": "ipython3",
   "version": "3.9.6"
  }
 },
 "nbformat": 4,
 "nbformat_minor": 5
}
