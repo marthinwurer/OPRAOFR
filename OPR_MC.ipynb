{
 "cells": [
  {
   "cell_type": "code",
   "execution_count": 1,
   "id": "ff0f87db",
   "metadata": {},
   "outputs": [],
   "source": [
    "from opr_structs import *\n",
    "from opr_logic import *\n",
    "from pprint import pprint\n",
    "import copy"
   ]
  },
  {
   "cell_type": "code",
   "execution_count": 2,
   "id": "9cbc56c8",
   "metadata": {},
   "outputs": [
    {
     "name": "stderr",
     "output_type": "stream",
     "text": [
      "DEBUG:root:test\n"
     ]
    }
   ],
   "source": [
    "import logging\n",
    "logger = logging.getLogger()\n",
    "logger.setLevel(logging.DEBUG)\n",
    "logging.debug(\"test\")\n",
    "logger.setLevel(logging.WARNING)"
   ]
  },
  {
   "cell_type": "code",
   "execution_count": 3,
   "id": "afcc0b2a",
   "metadata": {},
   "outputs": [
    {
     "name": "stderr",
     "output_type": "stream",
     "text": [
      "DEBUG:root:debug1\n"
     ]
    }
   ],
   "source": [
    "from contextlib import contextmanager\n",
    "\n",
    "@contextmanager\n",
    "def loggingcm(level=logging.DEBUG):\n",
    "    # Code to acquire resource, e.g.:\n",
    "    logger.setLevel(level)\n",
    "    try:\n",
    "        yield\n",
    "    finally:\n",
    "        # Code to release resource, e.g.:\n",
    "        logger.setLevel(logging.WARNING)\n",
    "\n",
    "with loggingcm():\n",
    "    logger.debug(\"debug1\")\n",
    "logger.debug(\"debug2\")"
   ]
  },
  {
   "cell_type": "code",
   "execution_count": 4,
   "id": "0795a10d",
   "metadata": {},
   "outputs": [
    {
     "data": {
      "text/plain": [
       "[Unit(Hero (1/1)(0.0,0.0),\n",
       " Unit(Warriors (10/10)(0.0,0.0),\n",
       " Unit(Veterans (10/10)(0.0,0.0),\n",
       " Unit(Hammerers (5/5)(0.0,0.0),\n",
       " Unit(Marksmen (5/5)(0.0,0.0),\n",
       " Unit(Drakes (5/5)(0.0,0.0),\n",
       " Unit(Arty (1/1)(0.0,0.0)]"
      ]
     },
     "execution_count": 4,
     "metadata": {},
     "output_type": "execute_result"
    }
   ],
   "source": [
    "def build_dwarven_army(playername):\n",
    "    units = []\n",
    "    \n",
    "    # equipment\n",
    "    hand_weapon = Weapon(1)\n",
    "    rifle = Weapon(1, {\"Range\": 18, \"AP\": 1})\n",
    "    champion_hand_weapon = Weapon(3, {\"AP\": 1})\n",
    "    \n",
    "    # Dwarf Champion\n",
    "    units.append(Unit(\n",
    "        [Model(3, 4, [champion_hand_weapon], rules={\"Fearless\":0, \"Hero\":0, \"Slow\":0, \"Tough\":3, \"Fear\":3})], 1, name=\"Hero\"))\n",
    "    \n",
    "    dwarf_warrior = Model(4, 5, [hand_weapon], rules={\"Shield Wall\":0, \"Slow\":0})\n",
    "    units.append(Unit(models_for(dwarf_warrior, 10), 5, name=\"Warriors\"))\n",
    "    \n",
    "    heavy_hand_weapon = Weapon(1, {\"AP\": 1})\n",
    "    veteran = Model(3, 4, [heavy_hand_weapon], rules={\"Fearless\":0, \"Slow\":0})\n",
    "    units.append(Unit(models_for(veteran, 10), 5, name=\"Veterans\"))\n",
    "    \n",
    "    great_weapon = Weapon(2, {\"AP\": 2})\n",
    "    hammerer = Model(3, 4, [great_weapon], rules={\"Slow\":0})\n",
    "    units.append(Unit(models_for(hammerer, 5), 5, name=\"Hammerers\"))\n",
    "    \n",
    "    rifle_dwarf = Model(4, 5, [rifle, hand_weapon], rules={\"Slow\":0})\n",
    "    units.append(Unit(models_for(rifle_dwarf, 5), 5, name=\"Marksmen\"))\n",
    "    \n",
    "    fire_rifle = Weapon(2, {\"Range\": 18, \"Rending\": 0})\n",
    "    drake_marksman = Model(3, 3, [fire_rifle, hand_weapon], rules={\"Slow\":0})\n",
    "    units.append(Unit(models_for(drake_marksman, 5), 5, name=\"Drakes\"))\n",
    "    \n",
    "    crew = Weapon(3)\n",
    "    bolt_thrower = Weapon(1, {\"Range\": 36, \"AP\": 3, \"Deadly\":6})\n",
    "    units.append(Unit([Model(4, 5, [crew, bolt_thrower], rules={\"Immobile\":0, \"Entrenched\":0, \"Tough\":3})], 1, name=\"Arty\"))\n",
    "    \n",
    "    return units\n",
    "build_dwarven_army(\"dwarves\")"
   ]
  },
  {
   "cell_type": "code",
   "execution_count": 5,
   "id": "b3e26ff9",
   "metadata": {},
   "outputs": [],
   "source": [
    "hand_weapon = Weapon(1)\n",
    "\n",
    "champion_hand_weapon = Weapon(3, {\"AP\": 1})\n",
    "dual_hand_weapon = Weapon(2)\n",
    "fire_rifle = Weapon(2, {\"Range\": 18, \"Rending\": 0})\n",
    "rifle = Weapon(1, {\"Range\": 18, \"AP\": 1})\n",
    "crossbow = Weapon(1, {\"Range\": 24, \"Rending\": 0})"
   ]
  },
  {
   "cell_type": "code",
   "execution_count": null,
   "id": "ec32191d",
   "metadata": {},
   "outputs": [],
   "source": []
  },
  {
   "cell_type": "code",
   "execution_count": 6,
   "id": "9dbf9613",
   "metadata": {},
   "outputs": [],
   "source": [
    "claw = Weapon(10)\n",
    "stomp = Weapon(4, {\"AP\": 1})\n",
    "giant_beast = Model(4, 3, [claw, stomp], rules={\"Fear\":2, \"Regeneration\":True, \"Tough\":12})\n",
    "giant_beast_u = Unit([giant_beast], 1, name=\"Giant Beast\")"
   ]
  },
  {
   "cell_type": "code",
   "execution_count": 7,
   "id": "28372708",
   "metadata": {},
   "outputs": [],
   "source": [
    "import tqdm\n",
    "def mc(func, times=10000):\n",
    "    results = []\n",
    "    for i in tqdm.tqdm(range(times)):\n",
    "        results.append(func())\n",
    "    return sum(results) / len(results)"
   ]
  },
  {
   "cell_type": "code",
   "execution_count": 8,
   "id": "94b23355",
   "metadata": {},
   "outputs": [],
   "source": [
    "def to_the_death(a, b):\n",
    "    #pick a starter\n",
    "    # A attacks b, b attacks a\n",
    "    # until all dead\n",
    "    \n",
    "    first = a\n",
    "    second = b\n",
    "    \n",
    "    # TODO add a shooting phase, start them 24\" away from each other\n",
    "    \n",
    "    while True:\n",
    "        # reset fatigued\n",
    "        if \"Fatigued\" in a.rules:\n",
    "            del a.rules[\"Fatigued\"]\n",
    "        if \"Fatigued\" in b.rules:\n",
    "            del b.rules[\"Fatigued\"]\n",
    "        \n",
    "        logger.debug(\"First melee\")\n",
    "        if \"Wavering\" not in first.rules:\n",
    "            do_melee(first, second)\n",
    "        else:\n",
    "            del first.rules[\"Wavering\"]\n",
    "        if not a.alive:\n",
    "            return 0\n",
    "        if not b.alive:\n",
    "            return 1\n",
    "        \n",
    "        logger.debug(\"Second melee\")\n",
    "        if \"Wavering\" not in second.rules:\n",
    "            do_melee(second, first)\n",
    "        else:\n",
    "            del second.rules[\"Wavering\"]\n",
    "        if not a.alive:\n",
    "            return 0\n",
    "        if not b.alive:\n",
    "            return 1"
   ]
  },
  {
   "cell_type": "code",
   "execution_count": 22,
   "id": "5e6ed278",
   "metadata": {},
   "outputs": [],
   "source": [
    "hand_weapon = Weapon(1)\n",
    "halberd = Weapon(1, {\"Rending\": 0})\n",
    "spear = Weapon(1, {\"Counter\": True})\n",
    "dwarf_warrior = Model(4, 5, [hand_weapon], rules={\"Shield Wall\":0, \"Slow\":0})\n",
    "warriors = Unit(models_for(dwarf_warrior, 20), 5, name=\"Warriors\")\n",
    "dwarf_halb = Model(4, 5, [halberd], rules={\"Shield Wall\":0, \"Slow\":0})\n",
    "halb_warrs = Unit(models_for(dwarf_halb, 20), 5, name=\"Warriors\")\n",
    "dwarf_spear = Model(4, 5, [spear], rules={\"Shield Wall\":0, \"Slow\":0})\n",
    "spear_warrs = Unit(models_for(dwarf_spear, 20), 5, name=\"Warriors\")"
   ]
  },
  {
   "cell_type": "code",
   "execution_count": 32,
   "id": "cb0d0d8b",
   "metadata": {},
   "outputs": [],
   "source": [
    "heavy_hand_weapon = Weapon(1, {\"AP\": 1})\n",
    "veteran = Model(3, 4, [heavy_hand_weapon], rules={\"Fearless\":0, \"Slow\":0})\n",
    "veterans = Unit(models_for(veteran, 10), 10, name=\"Veterans\")\n",
    "heavy_spear = Weapon(1, {\"AP\": 1, \"Counter\": True})\n",
    "spear_vet = Model(3, 4, [heavy_spear], rules={\"Fearless\":0, \"Slow\":0})\n",
    "spear_vets = Unit(models_for(spear_vet, 10), 10, name=\"Spear Veterans\")\n",
    "veterans_3 = Unit(models_for(veteran, 15), 10, name=\"Veterans\")\n"
   ]
  },
  {
   "cell_type": "code",
   "execution_count": 11,
   "id": "b372b762",
   "metadata": {},
   "outputs": [],
   "source": [
    "berserker = Model(4, 5, [dual_hand_weapon], rules={\"Fearless\":True, \"Furious\":True, \"Slayer\":True, \"Slow\":True})\n",
    "berserkers = Unit(models_for(berserker, 10), 5, name=\"Berserkers\")"
   ]
  },
  {
   "cell_type": "code",
   "execution_count": 12,
   "id": "99ae2e05",
   "metadata": {},
   "outputs": [],
   "source": [
    "rune_weapon = Weapon(1, {\"Rending\": 0})\n",
    "iron_warrior = Model(3, 3, [rune_weapon], rules={\"Shield Wall\":True, \"Slow\":True})\n",
    "iron_warriors = Unit(models_for(iron_warrior, 10), 5, name=\"Iron Warriors\")"
   ]
  },
  {
   "cell_type": "code",
   "execution_count": 13,
   "id": "36f48c1d",
   "metadata": {},
   "outputs": [],
   "source": [
    "great_weapon = Weapon(2, {\"AP\": 2})\n",
    "hammerer = Model(3, 4, [great_weapon], rules={\"Slow\":0})\n",
    "hammerers = Unit(models_for(hammerer, 10), 5, name=\"Hammerers\")"
   ]
  },
  {
   "cell_type": "code",
   "execution_count": 14,
   "id": "4a03d9fb",
   "metadata": {},
   "outputs": [],
   "source": [
    "great_weapons = Weapon(6, {\"AP\": 2})\n",
    "stomp = Weapon(4, {\"AP\": 1})\n",
    "giant_construct = Model(3, 2, [great_weapons, stomp], rules={\"Fear\":2, \"Slow\":True, \"Tough\":12})\n",
    "giant_construct_u = Unit([giant_construct], 1, name=\"Giant Construct\")"
   ]
  },
  {
   "cell_type": "code",
   "execution_count": 15,
   "id": "87ff9978",
   "metadata": {},
   "outputs": [],
   "source": [
    "stone_fists = Weapon(3, {\"AP\": 1})\n",
    "golem = Model(4, 5, [stone_fists], rules={\"Tough\":3, \"Slow\":0})\n",
    "golems = Unit(models_for(golem, 3), 3, name=\"Golems\")\n",
    "golems_c = Unit(models_for(golem, 6), 3, name=\"Golems\")"
   ]
  },
  {
   "cell_type": "code",
   "execution_count": 16,
   "id": "1f00830b",
   "metadata": {},
   "outputs": [],
   "source": [
    "# chivalrous kingdoms\n",
    "throw_stones = Weapon(1, {\"Range\": 12})\n",
    "peasant = Model(6, 6, [hand_weapon, throw_stones], rules={})\n",
    "peasants = Unit(models_for(peasant, 20), 5, name=\"Peasants\")\n",
    "\n",
    "man_at_arms = Model(5, 5, [hand_weapon], rules={})\n",
    "men_at_arms = Unit(models_for(man_at_arms, 20), 5, name=\"Men-At-Arms\")\n",
    "\n",
    "foot_knight = Model(4, 4, [heavy_hand_weapon], rules={})\n",
    "foot_knights = Unit(models_for(foot_knight, 10), 5, name=\"Foot Knights\")\n",
    "\n",
    "lance = Weapon(1, {\"Lance\": True})\n",
    "realm_knight = Model(4, 4, [lance], rules={\"Fast\": True, \"Fearless\": True, \"Furious\": True, \"Impact\": 1, \"Joust\": True})\n",
    "realm_knights = Unit(models_for(realm_knight, 5), 5, name=\"Realm Knights\")\n",
    "realm_knights_c = Unit(models_for(realm_knight, 10), 5, name=\"Realm Knights\")"
   ]
  },
  {
   "cell_type": "code",
   "execution_count": 39,
   "id": "7f178001",
   "metadata": {},
   "outputs": [],
   "source": [
    "giant_club = Weapon(6, {\"AP\": 2})\n",
    "stomp = Weapon(4, {\"AP\": 1})\n",
    "giant = Model(4, 3, [giant_club, stomp], rules={\"Fear\":2, \"Slow\":True, \"Tough\":12})\n",
    "giant_u = Unit([giant], 1, name=\"Giant\")"
   ]
  },
  {
   "cell_type": "code",
   "execution_count": 54,
   "id": "098d0981",
   "metadata": {
    "scrolled": true
   },
   "outputs": [
    {
     "name": "stderr",
     "output_type": "stream",
     "text": [
      "DEBUG:root:First melee\n",
      "DEBUG:opr_logic:Unit(Giant (1/1)(0.0,0.0) strikes Unit(Warriors (20/20)(0.0,0.0)\n",
      "DEBUG:opr_logic:10 attacks\n",
      "DEBUG:opr_logic:6 hits\n",
      "DEBUG:opr_logic:3 wounds\n",
      "DEBUG:opr_logic:Unit(Warriors (17/20)(0.0,0.0) strikes Unit(Giant f(1/1)(0.0,0.0)\n",
      "DEBUG:opr_logic:10 attacks\n",
      "DEBUG:opr_logic:5 hits\n",
      "DEBUG:opr_logic:4 wounds\n",
      "DEBUG:opr_logic:scores: a: 4, d: 7\n",
      "DEBUG:opr_structs:Giant doing morale test\n",
      "DEBUG:root:Second melee\n",
      "DEBUG:opr_logic:Unit(Warriors f(17/20)(0.0,0.0) strikes Unit(Giant f(1/1 w4)(0.0,0.0)\n",
      "DEBUG:opr_logic:10 attacks\n",
      "DEBUG:opr_logic:1 hits\n",
      "DEBUG:opr_logic:1 wounds\n",
      "DEBUG:opr_logic:Unit(Giant f(1/1 w5)(0.0,0.0) strikes Unit(Warriors f(17/20)(0.0,0.0)\n",
      "DEBUG:opr_logic:10 attacks\n",
      "DEBUG:opr_logic:1 hits\n",
      "DEBUG:opr_logic:1 wounds\n",
      "DEBUG:opr_logic:scores: a: 4, d: 2\n",
      "DEBUG:opr_structs:Giant doing morale test\n",
      "DEBUG:opr_structs:Giant failed morale test\n",
      "DEBUG:root:First melee\n",
      "DEBUG:root:Second melee\n",
      "DEBUG:opr_logic:Unit(Warriors (16/20)(0.0,0.0) strikes Unit(Giant (1/1 w5)(0.0,0.0)\n",
      "DEBUG:opr_logic:10 attacks\n",
      "DEBUG:opr_logic:7 hits\n",
      "DEBUG:opr_logic:2 wounds\n",
      "DEBUG:opr_logic:Unit(Giant (1/1 w7)(0.0,0.0) strikes Unit(Warriors f(16/20)(0.0,0.0)\n",
      "DEBUG:opr_logic:10 attacks\n",
      "DEBUG:opr_logic:6 hits\n",
      "DEBUG:opr_logic:3 wounds\n",
      "DEBUG:opr_logic:scores: a: 4, d: 4\n",
      "DEBUG:root:First melee\n",
      "DEBUG:opr_logic:Unit(Giant (1/1 w7)(0.0,0.0) strikes Unit(Warriors (13/20)(0.0,0.0)\n",
      "DEBUG:opr_logic:10 attacks\n",
      "DEBUG:opr_logic:5 hits\n",
      "DEBUG:opr_logic:4 wounds\n",
      "DEBUG:opr_logic:Unit(Warriors (9/20)(0.0,0.0) strikes Unit(Giant f(1/1 w7)(0.0,0.0)\n",
      "DEBUG:opr_logic:9 attacks\n",
      "DEBUG:opr_logic:2 hits\n",
      "DEBUG:opr_logic:2 wounds\n",
      "DEBUG:opr_logic:scores: a: 5, d: 3\n",
      "DEBUG:opr_structs:Warriors doing morale test\n",
      "DEBUG:opr_structs:Warriors failed morale test\n",
      "DEBUG:opr_structs:Warriors routed!\n"
     ]
    }
   ],
   "source": [
    "giant_beast_u, giant_construct_u, giant_u\n",
    "a = halb_warrs\n",
    "b = giant_u\n",
    "with loggingcm(): to_the_death(copy.deepcopy(b), copy.deepcopy(a))"
   ]
  },
  {
   "cell_type": "code",
   "execution_count": 55,
   "id": "35e0f0a9",
   "metadata": {},
   "outputs": [
    {
     "name": "stderr",
     "output_type": "stream",
     "text": [
      "100%|█████████████████████████████████████████████████████████| 10000/10000 [00:06<00:00, 1446.80it/s]\n",
      "100%|█████████████████████████████████████████████████████████| 10000/10000 [00:06<00:00, 1457.89it/s]\n"
     ]
    },
    {
     "data": {
      "text/plain": [
       "(0.49119999999999997, 0.5519, 0.4305)"
      ]
     },
     "execution_count": 55,
     "metadata": {},
     "output_type": "execute_result"
    }
   ],
   "source": [
    "a_first = mc(lambda: to_the_death(copy.deepcopy(a), copy.deepcopy(b)), times=10000)\n",
    "b_first = 1 - mc(lambda: to_the_death(copy.deepcopy(b), copy.deepcopy(a)), times=10000)\n",
    "(a_first + b_first) / 2, a_first, b_first"
   ]
  },
  {
   "cell_type": "code",
   "execution_count": null,
   "id": "e39fcf81",
   "metadata": {},
   "outputs": [],
   "source": [
    "# def mc_many"
   ]
  },
  {
   "cell_type": "markdown",
   "id": "d8b3aac6",
   "metadata": {},
   "source": [
    "Without slayer: 0.018\n",
    "With slayer: 0.17\n",
    "berserkers: (0.3737, 0.15859999999999996, 0.26615)\n",
    "with fearless: (0.3871, 0.16779999999999995, 0.27745)\n",
    "Iron Warriors: 0.367\n",
    "Iron Warriors with sw: 0.754 - both first = 0.50 (0.7476, 0.688, 0.7178)\n",
    "Hammerers: 0.503 - both: (0.505, 0.2532, 0.3791)\n",
    "\n",
    "vs giant construct: \n",
    "warriors vs giant construct: (0.003699999999999984, 0.0061, 0.0012999999999999678)\n",
    "rending warriors: (0.14500000000000002, 0.1772, 0.11280000000000001)\n",
    "counter warriors: (0.0030500000000000227, 0.0045, 0.0016000000000000458)\n",
    "veterans vs giant construct: (0.0013999999999999724, 0.0023, 0.0004999999999999449)\n",
    "Berserkers vs giant construct: (0.22865, 0.3642, 0.09309999999999996)\n",
    "Hammerers vs giant construct: (0.2149, 0.3515, 0.07830000000000004)\n",
    "Iron warriors vs giant construct: (0.0736, 0.0979, 0.04930000000000001)\n",
    "spear_vets: (0.0020499999999999954, 0.002, 0.0020999999999999908)\n",
    "veterans_3: (0.03749999999999998, 0.0584, 0.016599999999999948)\n",
    "\n",
    "vs warriors:\n",
    "warriors: (0.5018499999999999, 0.5678, 0.43589999999999995)\n",
    "halb_warrs: (0.7605, 0.8168, 0.7041999999999999)\n",
    "spear_warrs: (0.5393, 0.5854, 0.49319999999999997)\n",
    "Veterans: (0.12745, 0.1848, 0.07010000000000005)\n",
    "berserkers: (0.35650000000000004, 0.4711, 0.2419)\n",
    "iron_warriors: (0.84885, 0.8907, 0.8069999999999999)\n",
    "hammerers: (0.8624499999999999, 0.9642, 0.7606999999999999)\n",
    "golems: (0.007200000000000018, 0.0107, 0.0037000000000000366)\n",
    "golems_c: (0.6537999999999999, 0.7632, 0.5444)\n",
    "peasants: (0.0003, 0.0006, 0.0)\n",
    "men_at_arms: (0.05234999999999998, 0.0711, 0.03359999999999996)\n",
    "foot_knights: (0.04919999999999997, 0.0717, 0.026699999999999946)\n",
    "realm_knights: (0.02479999999999999, 0.0383, 0.011299999999999977)\n",
    "realm_knights_c: (0.6936, 0.8551, 0.5321)\n",
    "spear_vets: (0.19534999999999997, 0.2129, 0.17779999999999996)\n",
    "veterans_3: (0.78435, 0.8921, 0.6766)\n",
    "\n",
    "vs veterans:\n",
    "men_at_arms: (0.40115, 0.5128, 0.2895)\n",
    "vs v3: \n",
    "\n",
    "vs Giant:\n",
    "warriors: (0.15254999999999996, 0.1897, 0.11539999999999995)\n",
    "veterans: (0.03445, 0.0548, 0.014100000000000001)\n",
    "spear_vets: (0.06, 0.0605, 0.0595)\n",
    "berserkers: (0.6508, 0.8216, 0.48)\n",
    "iron_warriors: (0.33155, 0.395, 0.2681)\n",
    "hammerers: (0.6374500000000001, 0.8328, 0.44210000000000005)\n",
    "halb_warrs: (0.49119999999999997, 0.5519, 0.4305)"
   ]
  },
  {
   "cell_type": "code",
   "execution_count": null,
   "id": "06c9a46a",
   "metadata": {},
   "outputs": [],
   "source": []
  }
 ],
 "metadata": {
  "kernelspec": {
   "display_name": "Python 3 (ipykernel)",
   "language": "python",
   "name": "python3"
  },
  "language_info": {
   "codemirror_mode": {
    "name": "ipython",
    "version": 3
   },
   "file_extension": ".py",
   "mimetype": "text/x-python",
   "name": "python",
   "nbconvert_exporter": "python",
   "pygments_lexer": "ipython3",
   "version": "3.9.6"
  }
 },
 "nbformat": 4,
 "nbformat_minor": 5
}
