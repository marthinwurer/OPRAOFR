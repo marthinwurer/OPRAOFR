{
 "cells": [
  {
   "cell_type": "code",
   "execution_count": 1,
   "id": "ff0f87db",
   "metadata": {},
   "outputs": [],
   "source": [
    "from opr_structs import *\n",
    "from opr_logic import *\n",
    "from pprint import pprint\n",
    "import copy"
   ]
  },
  {
   "cell_type": "code",
   "execution_count": 2,
   "id": "9cbc56c8",
   "metadata": {},
   "outputs": [
    {
     "name": "stderr",
     "output_type": "stream",
     "text": [
      "DEBUG:root:test\n"
     ]
    }
   ],
   "source": [
    "import logging\n",
    "logger = logging.getLogger()\n",
    "logger.setLevel(logging.DEBUG)\n",
    "logging.debug(\"test\")\n",
    "logger.setLevel(logging.WARNING)"
   ]
  },
  {
   "cell_type": "code",
   "execution_count": 3,
   "id": "afcc0b2a",
   "metadata": {},
   "outputs": [
    {
     "name": "stderr",
     "output_type": "stream",
     "text": [
      "DEBUG:root:debug1\n"
     ]
    }
   ],
   "source": [
    "from contextlib import contextmanager\n",
    "\n",
    "@contextmanager\n",
    "def loggingcm(level=logging.DEBUG):\n",
    "    # Code to acquire resource, e.g.:\n",
    "    logger.setLevel(level)\n",
    "    try:\n",
    "        yield\n",
    "    finally:\n",
    "        # Code to release resource, e.g.:\n",
    "        logger.setLevel(logging.WARNING)\n",
    "\n",
    "with loggingcm():\n",
    "    logger.debug(\"debug1\")\n",
    "logger.debug(\"debug2\")"
   ]
  },
  {
   "cell_type": "code",
   "execution_count": 5,
   "id": "b3e26ff9",
   "metadata": {},
   "outputs": [],
   "source": [
    "hand_weapon = Weapon(1)\n",
    "\n",
    "champion_hand_weapon = Weapon(3, {\"AP\": 1})\n",
    "dual_hand_weapon = Weapon(2)\n",
    "fire_rifle = Weapon(2, {\"Range\": 18, \"Rending\": 0})\n",
    "rifle = Weapon(1, {\"Range\": 18, \"AP\": 1})\n",
    "crossbow = Weapon(1, {\"Range\": 24, \"Rending\": 0})"
   ]
  },
  {
   "cell_type": "code",
   "execution_count": 6,
   "id": "9dbf9613",
   "metadata": {},
   "outputs": [],
   "source": [
    "claw = Weapon(10)\n",
    "stomp = Weapon(4, {\"AP\": 1})\n",
    "giant_beast = Model(4, 3, [claw, stomp], rules={\"Fear\":2, \"Regeneration\":True, \"Tough\":12})\n",
    "giant_beast_u = Unit([giant_beast], 1, name=\"Giant Beast\")"
   ]
  },
  {
   "cell_type": "code",
   "execution_count": 7,
   "id": "28372708",
   "metadata": {},
   "outputs": [],
   "source": [
    "import tqdm\n",
    "def mc(func, times=10000):\n",
    "    results = []\n",
    "    for i in tqdm.tqdm(range(times)):\n",
    "        results.append(func())\n",
    "    return sum(results) / len(results)"
   ]
  },
  {
   "cell_type": "code",
   "execution_count": 8,
   "id": "94b23355",
   "metadata": {},
   "outputs": [],
   "source": [
    "def to_the_death(a, b):\n",
    "    #pick a starter\n",
    "    # A attacks b, b attacks a\n",
    "    # until all dead\n",
    "    \n",
    "    first = a\n",
    "    second = b\n",
    "    \n",
    "    # TODO add a shooting phase, start them 24\" away from each other\n",
    "    \n",
    "    while True:\n",
    "        # reset fatigued\n",
    "        if \"Fatigued\" in a.rules:\n",
    "            del a.rules[\"Fatigued\"]\n",
    "        if \"Fatigued\" in b.rules:\n",
    "            del b.rules[\"Fatigued\"]\n",
    "        \n",
    "        logger.debug(\"First melee\")\n",
    "        if \"Wavering\" not in first.rules:\n",
    "            do_melee(first, second)\n",
    "        else:\n",
    "            del first.rules[\"Wavering\"]\n",
    "        if not a.alive:\n",
    "            return 0\n",
    "        if not b.alive:\n",
    "            return 1\n",
    "        \n",
    "        logger.debug(\"Second melee\")\n",
    "        if \"Wavering\" not in second.rules:\n",
    "            do_melee(second, first)\n",
    "        else:\n",
    "            del second.rules[\"Wavering\"]\n",
    "        if not a.alive:\n",
    "            return 0\n",
    "        if not b.alive:\n",
    "            return 1"
   ]
  },
  {
   "cell_type": "code",
   "execution_count": 9,
   "id": "5e6ed278",
   "metadata": {},
   "outputs": [],
   "source": [
    "hand_weapon = Weapon(1)\n",
    "halberd = Weapon(1, {\"Rending\": 0})\n",
    "spear = Weapon(1, {\"Counter\": True})\n",
    "dwarf_warrior = Model(4, 5, [hand_weapon], rules={\"Shield Wall\":0, \"Slow\":0})\n",
    "warriors = Unit(models_for(dwarf_warrior, 20), 5, name=\"Warriors\")\n",
    "warriors_10 = Unit(models_for(dwarf_warrior, 10), 5, name=\"Warriors\")\n",
    "dwarf_halb = Model(4, 5, [halberd], rules={\"Shield Wall\":0, \"Slow\":0})\n",
    "halb_warrs = Unit(models_for(dwarf_halb, 20), 5, name=\"Warriors\")\n",
    "dwarf_spear = Model(4, 5, [spear], rules={\"Shield Wall\":0, \"Slow\":0})\n",
    "spear_warrs = Unit(models_for(dwarf_spear, 20), 5, name=\"Warriors\")"
   ]
  },
  {
   "cell_type": "code",
   "execution_count": 10,
   "id": "cb0d0d8b",
   "metadata": {},
   "outputs": [],
   "source": [
    "heavy_hand_weapon = Weapon(1, {\"AP\": 1})\n",
    "veteran = Model(3, 4, [heavy_hand_weapon], rules={\"Fearless\":0, \"Slow\":0})\n",
    "veterans = Unit(models_for(veteran, 10), 10, name=\"Veterans\")\n",
    "heavy_spear = Weapon(1, {\"AP\": 1, \"Counter\": True})\n",
    "spear_vet = Model(3, 4, [heavy_spear], rules={\"Fearless\":0, \"Slow\":0})\n",
    "spear_vets = Unit(models_for(spear_vet, 10), 10, name=\"Spear Veterans\")\n",
    "veterans_3 = Unit(models_for(veteran, 15), 10, name=\"Veterans\")\n"
   ]
  },
  {
   "cell_type": "code",
   "execution_count": 11,
   "id": "b372b762",
   "metadata": {},
   "outputs": [],
   "source": [
    "berserker = Model(4, 5, [dual_hand_weapon], rules={\"Fearless\":True, \"Furious\":True, \"Slayer\":True, \"Slow\":True})\n",
    "berserkers = Unit(models_for(berserker, 10), 5, name=\"Berserkers\")"
   ]
  },
  {
   "cell_type": "code",
   "execution_count": 12,
   "id": "99ae2e05",
   "metadata": {},
   "outputs": [],
   "source": [
    "rune_weapon = Weapon(1, {\"Rending\": 0})\n",
    "iron_warrior = Model(3, 3, [rune_weapon], rules={\"Shield Wall\":True, \"Slow\":True})\n",
    "iron_warriors = Unit(models_for(iron_warrior, 10), 5, name=\"Iron Warriors\")\n",
    "iron_warriors_5 = Unit(models_for(iron_warrior, 5), 5, name=\"Iron Warriors\")"
   ]
  },
  {
   "cell_type": "code",
   "execution_count": 13,
   "id": "36f48c1d",
   "metadata": {},
   "outputs": [],
   "source": [
    "great_weapon = Weapon(2, {\"AP\": 2})\n",
    "hammerer = Model(3, 4, [great_weapon], rules={\"Slow\":0})\n",
    "hammerers = Unit(models_for(hammerer, 10), 5, name=\"Hammerers\")"
   ]
  },
  {
   "cell_type": "code",
   "execution_count": 14,
   "id": "4a03d9fb",
   "metadata": {},
   "outputs": [],
   "source": [
    "great_weapons = Weapon(6, {\"AP\": 2})\n",
    "stomp = Weapon(4, {\"AP\": 1})\n",
    "giant_construct = Model(3, 2, [great_weapons, stomp], rules={\"Fear\":2, \"Slow\":True, \"Tough\":12})\n",
    "giant_construct_u = Unit([giant_construct], 1, name=\"Giant Construct\")"
   ]
  },
  {
   "cell_type": "code",
   "execution_count": 15,
   "id": "87ff9978",
   "metadata": {},
   "outputs": [],
   "source": [
    "stone_fists = Weapon(3, {\"AP\": 1})\n",
    "golem = Model(4, 5, [stone_fists], rules={\"Tough\":3, \"Slow\":0})\n",
    "golems = Unit(models_for(golem, 3), 3, name=\"Golems\")\n",
    "golems_c = Unit(models_for(golem, 6), 3, name=\"Golems\")"
   ]
  },
  {
   "cell_type": "code",
   "execution_count": 16,
   "id": "1f00830b",
   "metadata": {},
   "outputs": [],
   "source": [
    "# chivalrous kingdoms\n",
    "throw_stones = Weapon(1, {\"Range\": 12})\n",
    "peasant = Model(6, 6, [hand_weapon, throw_stones], rules={})\n",
    "peasants = Unit(models_for(peasant, 20), 5, name=\"Peasants\")\n",
    "\n",
    "man_at_arms = Model(5, 5, [hand_weapon], rules={})\n",
    "men_at_arms = Unit(models_for(man_at_arms, 20), 5, name=\"Men-At-Arms\")\n",
    "men_at_arms_10 = Unit(models_for(man_at_arms, 10), 5, name=\"Men-At-Arms\")\n",
    "\n",
    "longbow = Weapon(1, {\"Range\": 30})\n",
    "longbowman = Model(5, 5, [hand_weapon, longbow], rules={})\n",
    "longbowmen = Unit(models_for(longbowman, 5), 5, name=\"Longbowmen\")\n",
    "longbowmen_10 = Unit(models_for(longbowman, 10), 5, name=\"Longbowmen\")\n",
    "\n",
    "foot_knight = Model(4, 4, [heavy_hand_weapon], rules={\"Fearless\":True})\n",
    "foot_knights = Unit(models_for(foot_knight, 10), 5, name=\"Foot Knights\")\n",
    "foot_knights_5 = Unit(models_for(foot_knight, 5), 5, name=\"Foot Knights\")\n",
    "heavy_great_weapon = Weapon(1, {\"AP\": 3})\n",
    "heavy_foot_knight = Model(4, 4, [heavy_great_weapon], rules={\"Fearless\":True})\n",
    "heavy_foot_knights = Unit(models_for(heavy_foot_knight, 10), 5, name=\"Heavy Foot Knights\")\n",
    "heavy_foot_knights_5 = Unit(models_for(heavy_foot_knight, 5), 5, name=\"Heavy Foot Knights\")\n",
    "\n",
    "lance = Weapon(1, {\"Lance\": True})\n",
    "realm_knight = Model(4, 4, [lance], rules={\"Fast\": True, \"Fearless\": True, \"Furious\": True, \"Impact\": 1, \"Joust\": True})\n",
    "realm_knights = Unit(models_for(realm_knight, 5), 5, name=\"Realm Knights\")\n",
    "realm_knights_c = Unit(models_for(realm_knight, 10), 5, name=\"Realm Knights\")\n",
    "\n",
    "heavy_lance = Weapon(1, {\"Lance\": True, \"AP\": 1})\n",
    "grail_knight = Model(4, 4, [lance], rules={\"Fast\": True, \"Fearless\": True, \"Impact\": 1, \"Joust\": True})\n",
    "grail_knights = Unit(models_for(grail_knight, 5), 5, name=\"Grail Knights\")\n",
    "grail_knights_c = Unit(models_for(grail_knight, 10), 5, name=\"Grail Knights\")"
   ]
  },
  {
   "cell_type": "code",
   "execution_count": 17,
   "id": "e3653c72",
   "metadata": {},
   "outputs": [],
   "source": [
    "goblin_warrior = Model(5, 6, [hand_weapon], rules={})\n",
    "goblin_warriors = Unit(models_for(goblin_warrior, 20), 5, name=\"Gobbos\")"
   ]
  },
  {
   "cell_type": "code",
   "execution_count": 18,
   "id": "7f178001",
   "metadata": {},
   "outputs": [],
   "source": [
    "giant_club = Weapon(6, {\"AP\": 2})\n",
    "stomp = Weapon(4, {\"AP\": 1})\n",
    "giant = Model(4, 3, [giant_club, stomp], rules={\"Fear\":2, \"Slow\":True, \"Tough\":12})\n",
    "giant_u = Unit([giant], 1, name=\"Giant\")\n",
    "\n",
    "heavy_hand_weapons = Weapon(2, {\"AP\": 1})\n",
    "ogre = Model(4, 4, [heavy_hand_weapons], rules={\"Tough\":3})\n",
    "ogres = Unit(models_for(ogre, 6), 3, name=\"Ogres\")\n",
    "ogres_3 = Unit(models_for(ogre, 3), 3, name=\"Ogres\")"
   ]
  },
  {
   "cell_type": "code",
   "execution_count": 19,
   "id": "098d0981",
   "metadata": {
    "scrolled": true
   },
   "outputs": [
    {
     "name": "stderr",
     "output_type": "stream",
     "text": [
      "DEBUG:root:First melee\n",
      "DEBUG:opr_logic:Unit(Warriors (20/20)(0.0,0.0) strikes Unit(Peasants (20/20)(0.0,0.0)\n",
      "DEBUG:opr_logic:10 attacks\n",
      "DEBUG:opr_logic:3 hits\n",
      "DEBUG:opr_logic:3 wounds\n",
      "DEBUG:opr_logic:Unit(Peasants (17/20)(0.0,0.0) strikes Unit(Warriors f(20/20)(0.0,0.0)\n",
      "DEBUG:opr_logic:10 attacks\n",
      "DEBUG:opr_logic:3 hits\n",
      "DEBUG:opr_logic:2 wounds\n",
      "DEBUG:opr_logic:scores: a: 6, d: 5\n",
      "DEBUG:opr_structs:Peasants doing morale test\n",
      "DEBUG:opr_structs:Peasants failed morale test\n",
      "DEBUG:root:Second melee\n",
      "DEBUG:root:First melee\n",
      "DEBUG:opr_logic:Unit(Warriors (18/20)(0.0,0.0) strikes Unit(Peasants (17/20)(0.0,0.0)\n",
      "DEBUG:opr_logic:10 attacks\n",
      "DEBUG:opr_logic:5 hits\n",
      "DEBUG:opr_logic:5 wounds\n",
      "DEBUG:opr_logic:Unit(Peasants (12/20)(0.0,0.0) strikes Unit(Warriors f(18/20)(0.0,0.0)\n",
      "DEBUG:opr_logic:10 attacks\n",
      "DEBUG:opr_logic:3 hits\n",
      "DEBUG:opr_logic:1 wounds\n",
      "DEBUG:opr_logic:scores: a: 8, d: 3\n",
      "DEBUG:opr_structs:Peasants doing morale test\n",
      "DEBUG:opr_structs:Peasants failed morale test\n",
      "DEBUG:root:Second melee\n",
      "DEBUG:root:First melee\n",
      "DEBUG:opr_logic:Unit(Warriors (17/20)(0.0,0.0) strikes Unit(Peasants (12/20)(0.0,0.0)\n",
      "DEBUG:opr_logic:10 attacks\n",
      "DEBUG:opr_logic:5 hits\n",
      "DEBUG:opr_logic:3 wounds\n",
      "DEBUG:opr_logic:Unit(Peasants (9/20)(0.0,0.0) strikes Unit(Warriors f(17/20)(0.0,0.0)\n",
      "DEBUG:opr_logic:9 attacks\n",
      "DEBUG:opr_logic:2 hits\n",
      "DEBUG:opr_logic:0 wounds\n",
      "DEBUG:opr_logic:scores: a: 6, d: 1\n",
      "DEBUG:opr_structs:Peasants doing morale test\n",
      "DEBUG:opr_structs:Peasants failed morale test\n",
      "DEBUG:opr_structs:Peasants routed!\n"
     ]
    }
   ],
   "source": [
    "giant_beast_u, giant_construct_u, giant_u\n",
    "a = peasants\n",
    "b = warriors\n",
    "with loggingcm(): to_the_death(copy.deepcopy(b), copy.deepcopy(a))"
   ]
  },
  {
   "cell_type": "code",
   "execution_count": 20,
   "id": "35e0f0a9",
   "metadata": {},
   "outputs": [],
   "source": [
    "# a_first = mc(lambda: to_the_death(copy.deepcopy(a), copy.deepcopy(b)), times=10000)\n",
    "# b_first = 1 - mc(lambda: to_the_death(copy.deepcopy(b), copy.deepcopy(a)), times=10000)\n",
    "# (a_first + b_first) / 2, a_first, b_first"
   ]
  },
  {
   "cell_type": "code",
   "execution_count": 21,
   "id": "e39fcf81",
   "metadata": {},
   "outputs": [],
   "source": [
    "# def mc_many"
   ]
  },
  {
   "cell_type": "markdown",
   "id": "d8b3aac6",
   "metadata": {},
   "source": [
    "Without slayer: 0.018\n",
    "With slayer: 0.17\n",
    "berserkers: (0.3737, 0.15859999999999996, 0.26615)\n",
    "with fearless: (0.3871, 0.16779999999999995, 0.27745)\n",
    "Iron Warriors: 0.367\n",
    "Iron Warriors with sw: 0.754 - both first = 0.50 (0.7476, 0.688, 0.7178)\n",
    "Hammerers: 0.503 - both: (0.505, 0.2532, 0.3791)\n",
    "\n",
    "vs giant construct: \n",
    "warriors vs giant construct: (0.003699999999999984, 0.0061, 0.0012999999999999678)\n",
    "rending warriors: (0.14500000000000002, 0.1772, 0.11280000000000001)\n",
    "counter warriors: (0.0030500000000000227, 0.0045, 0.0016000000000000458)\n",
    "veterans vs giant construct: (0.0013999999999999724, 0.0023, 0.0004999999999999449)\n",
    "Berserkers vs giant construct: (0.22865, 0.3642, 0.09309999999999996)\n",
    "Hammerers vs giant construct: (0.2149, 0.3515, 0.07830000000000004)\n",
    "Iron warriors vs giant construct: (0.0736, 0.0979, 0.04930000000000001)\n",
    "spear_vets: (0.0020499999999999954, 0.002, 0.0020999999999999908)\n",
    "veterans_3: (0.03749999999999998, 0.0584, 0.016599999999999948)\n",
    "\n",
    "vs warriors:\n",
    "warriors: (0.5018499999999999, 0.5678, 0.43589999999999995)\n",
    "halb_warrs: (0.7605, 0.8168, 0.7041999999999999)\n",
    "spear_warrs: (0.5393, 0.5854, 0.49319999999999997)\n",
    "Veterans: (0.12745, 0.1848, 0.07010000000000005)\n",
    "berserkers: (0.35650000000000004, 0.4711, 0.2419)\n",
    "iron_warriors: (0.84885, 0.8907, 0.8069999999999999)\n",
    "hammerers: (0.8624499999999999, 0.9642, 0.7606999999999999)\n",
    "golems: (0.007200000000000018, 0.0107, 0.0037000000000000366)\n",
    "golems_c: (0.6537999999999999, 0.7632, 0.5444)\n",
    "peasants: (0.0003, 0.0006, 0.0)\n",
    "men_at_arms: (0.05234999999999998, 0.0711, 0.03359999999999996)\n",
    "foot_knights: (0.04919999999999997, 0.0717, 0.026699999999999946)\n",
    "realm_knights: (0.02479999999999999, 0.0383, 0.011299999999999977)\n",
    "realm_knights_c: (0.6936, 0.8551, 0.5321)\n",
    "spear_vets: (0.19534999999999997, 0.2129, 0.17779999999999996)\n",
    "veterans_3: (0.78435, 0.8921, 0.6766)\n",
    "\n",
    "vs veterans:\n",
    "men_at_arms: (0.40115, 0.5128, 0.2895)\n",
    "vs v3: \n",
    "\n",
    "vs Giant:\n",
    "warriors: (0.15254999999999996, 0.1897, 0.11539999999999995)\n",
    "veterans: (0.03445, 0.0548, 0.014100000000000001)\n",
    "spear_vets: (0.06, 0.0605, 0.0595)\n",
    "berserkers: (0.6508, 0.8216, 0.48)\n",
    "iron_warriors: (0.33155, 0.395, 0.2681)\n",
    "hammerers: (0.6374500000000001, 0.8328, 0.44210000000000005)\n",
    "halb_warrs: (0.49119999999999997, 0.5519, 0.4305)"
   ]
  },
  {
   "cell_type": "code",
   "execution_count": 22,
   "id": "06c9a46a",
   "metadata": {},
   "outputs": [],
   "source": [
    "import matplotlib.pyplot as plt\n",
    "\n",
    "def plot_items(ax, items, name_func):\n",
    "    y = []\n",
    "    x = []\n",
    "    names = []\n",
    "    for i in items:\n",
    "        x.append(i.x)\n",
    "        y.append(i.y)\n",
    "        name = name_func(i) #f\"{u.name} ({len(u.models)}/{u.starting_models})\"\n",
    "        names.append(name)\n",
    "    \n",
    "    ax.scatter(x, y)\n",
    "    for i, n in enumerate(names):\n",
    "        ax.annotate(n, (x[i], y[i]))\n",
    "\n",
    "def plot_battle(battle, cursor_x=0, cursor_y=0):\n",
    "    fig = plt.figure(figsize=(10,8))\n",
    "    ax = fig.subplots()\n",
    "    for p in battle.players:\n",
    "        plot_items(ax, [u for u in p.units if u.alive], lambda u: f\"{u.name} ({len(u.models)}/{u.starting_models})\")\n",
    "    \n",
    "    plot_items(ax, battle.objectives, lambda o: f\"{o.controller}\")\n",
    "    \n",
    "    ax.scatter(cursor_x, cursor_y, c=\"red\")\n",
    "    ax.set_xlim([0, 72])\n",
    "    ax.set_ylim([0, 48])\n",
    "    \n",
    "    \n",
    "    plt.gca().set_aspect('equal')\n",
    "    \n",
    "\n",
    "    plt.show()"
   ]
  },
  {
   "cell_type": "code",
   "execution_count": 23,
   "id": "f7ff6783",
   "metadata": {},
   "outputs": [],
   "source": [
    "def full_1v1(a, b, draw_value=0.5):\n",
    "    # deploy the units at 0,0 and 24, 0\n",
    "    # put objective markers there too\n",
    "    # run the main loop\n",
    "    a.x = 12\n",
    "    a.y = 12\n",
    "    b.x = 12\n",
    "    b.y = 36\n",
    "    p1 = Player(\"p1\", [a], (0, 12, 0, 72))\n",
    "    p2 = Player(\"p2\", [b], (36, 48, 0, 72))\n",
    "    battle = Battle([p1, p2])\n",
    "    battle.objectives = [Objective(12, 12),Objective(12, 36),]\n",
    "    check_objectives(battle)\n",
    "    \n",
    "#     run_battle(battle)\n",
    "    next_player = 0\n",
    "    for i in range(4):\n",
    "        next_player = do_round(battle, next_player)\n",
    "        if logger.getEffectiveLevel() <= 10:\n",
    "            plot_battle(battle)\n",
    "            print(\"Units:\")\n",
    "            pprint(battle.all_units)\n",
    "            pprint(battle.objectives)\n",
    "        \n",
    "    if p1.units[0].alive and p2.units[0].alive:\n",
    "        return 0.5\n",
    "    elif p1.units[0].alive:\n",
    "        return 1\n",
    "    else:\n",
    "        return 0"
   ]
  },
  {
   "cell_type": "code",
   "execution_count": 24,
   "id": "3abbf326",
   "metadata": {},
   "outputs": [],
   "source": [
    "rifle_dwarf = Model(4, 5, [rifle, hand_weapon], rules={\"Slow\":0})\n",
    "rifle_dwarves = Unit(models_for(rifle_dwarf, 5), 5, name=\"Marksmen\")\n",
    "rifle_dwarves_c = Unit(models_for(rifle_dwarf, 10), 5, name=\"Marksmen\")\n",
    "\n",
    "xbow_dwarf = Model(4, 5, [crossbow, hand_weapon], rules={\"Slow\":0})\n",
    "xbow_dwarves = Unit(models_for(xbow_dwarf, 5), 5, name=\"Marksmen\")\n",
    "xbow_dwarves_c = Unit(models_for(xbow_dwarf, 10), 5, name=\"Marksmen\")\n",
    "\n",
    "fire_rifle = Weapon(2, {\"Range\": 18, \"Rending\": 0})\n",
    "drake_marksman = Model(3, 3, [fire_rifle, hand_weapon], rules={\"Slow\":0})\n",
    "drake_marksmen = Unit(models_for(drake_marksman, 5), 5, name=\"Drakes\")\n",
    "drake_marksmen_c = Unit(models_for(drake_marksman, 10), 5, name=\"Drakes\")\n",
    "\n",
    "crew = Weapon(3)\n",
    "bolt_thrower = Weapon(1, {\"Range\": 36, \"AP\": 3, \"Deadly\":6})\n",
    "bolt_thrower_m = Model(4, 5, [crew, bolt_thrower], rules={\"Immobile\":0, \"Entrenched\":0, \"Tough\":3})\n",
    "bolt_thrower_u = Unit([bolt_thrower_m], 1, name=\"Arty\")\n",
    "\n",
    "cannon = Weapon(2, {\"Range\": 30, \"AP\": 1, \"Blast\":3})\n",
    "dwarven_cannon = Model(4, 5, [crew, cannon], rules={\"Immobile\":0, \"Entrenched\":0, \"Tough\":3})\n",
    "dwarven_cannon_u = Unit([dwarven_cannon], 1, name=\"Arty\")"
   ]
  },
  {
   "cell_type": "code",
   "execution_count": null,
   "id": "db404079",
   "metadata": {},
   "outputs": [],
   "source": []
  },
  {
   "cell_type": "code",
   "execution_count": 25,
   "id": "f8c6cb02",
   "metadata": {},
   "outputs": [
    {
     "name": "stderr",
     "output_type": "stream",
     "text": [
      "DEBUG:opr_logic:Starting Round 1\n",
      "DEBUG:opr_logic:executing Unit(Men-At-Arms (10/10)(12.0,12.0), ('Rush', 12, 3.141592653589793)\n",
      "DEBUG:opr_logic:executing Unit(Foot Knights (5/5)(12.0,36.0), ('Charge', Unit(Men-At-Arms a(10/10)(12.0,24.0))\n",
      "DEBUG:opr_logic:Unit(Foot Knights a(5/5)(12.0,26.0) strikes Unit(Men-At-Arms a(10/10)(12.0,24.0)\n",
      "DEBUG:opr_logic:5 attacks\n",
      "DEBUG:opr_logic:3 hits\n",
      "DEBUG:opr_logic:3 wounds\n",
      "DEBUG:opr_logic:Unit(Men-At-Arms a(7/10)(12.0,24.0) strikes Unit(Foot Knights fa(5/5)(12.0,26.0)\n",
      "DEBUG:opr_logic:7 attacks\n",
      "DEBUG:opr_logic:0 hits\n",
      "DEBUG:opr_logic:0 wounds\n",
      "DEBUG:opr_logic:scores: a: 4, d: 1\n",
      "DEBUG:opr_structs:Men-At-Arms doing morale test\n",
      "DEBUG:opr_structs:Men-At-Arms failed morale test\n",
      "DEBUG:matplotlib.font_manager:findfont: Matching sans\\-serif:style=normal:variant=normal:weight=normal:stretch=normal:size=10.0.\n",
      "DEBUG:matplotlib.font_manager:findfont: score(<Font 'cmr10' (cmr10.ttf) normal normal 400 normal>) = 10.05\n",
      "DEBUG:matplotlib.font_manager:findfont: score(<Font 'DejaVu Sans Mono' (DejaVuSansMono.ttf) normal normal 400 normal>) = 10.05\n",
      "DEBUG:matplotlib.font_manager:findfont: score(<Font 'cmmi10' (cmmi10.ttf) normal normal 400 normal>) = 10.05\n",
      "DEBUG:matplotlib.font_manager:findfont: score(<Font 'cmb10' (cmb10.ttf) normal normal 400 normal>) = 10.05\n",
      "DEBUG:matplotlib.font_manager:findfont: score(<Font 'DejaVu Sans' (DejaVuSans.ttf) normal normal 400 normal>) = 0.05\n",
      "DEBUG:matplotlib.font_manager:findfont: score(<Font 'STIXSizeFourSym' (STIXSizFourSymReg.ttf) normal normal 400 normal>) = 10.05\n",
      "DEBUG:matplotlib.font_manager:findfont: score(<Font 'STIXSizeFourSym' (STIXSizFourSymBol.ttf) normal normal 700 normal>) = 10.335\n",
      "DEBUG:matplotlib.font_manager:findfont: score(<Font 'cmss10' (cmss10.ttf) normal normal 400 normal>) = 10.05\n",
      "DEBUG:matplotlib.font_manager:findfont: score(<Font 'DejaVu Sans' (DejaVuSans-Oblique.ttf) oblique normal 400 normal>) = 1.05\n",
      "DEBUG:matplotlib.font_manager:findfont: score(<Font 'STIXNonUnicode' (STIXNonUniIta.ttf) italic normal 400 normal>) = 11.05\n",
      "DEBUG:matplotlib.font_manager:findfont: score(<Font 'DejaVu Sans Mono' (DejaVuSansMono-Bold.ttf) normal normal 700 normal>) = 10.335\n",
      "DEBUG:matplotlib.font_manager:findfont: score(<Font 'DejaVu Sans' (DejaVuSans-BoldOblique.ttf) oblique normal 700 normal>) = 1.335\n",
      "DEBUG:matplotlib.font_manager:findfont: score(<Font 'STIXSizeOneSym' (STIXSizOneSymReg.ttf) normal normal 400 normal>) = 10.05\n",
      "DEBUG:matplotlib.font_manager:findfont: score(<Font 'STIXGeneral' (STIXGeneralBolIta.ttf) italic normal 700 normal>) = 11.335\n",
      "DEBUG:matplotlib.font_manager:findfont: score(<Font 'STIXGeneral' (STIXGeneralBol.ttf) normal normal 700 normal>) = 10.335\n",
      "DEBUG:matplotlib.font_manager:findfont: score(<Font 'STIXNonUnicode' (STIXNonUni.ttf) normal normal 400 normal>) = 10.05\n",
      "DEBUG:matplotlib.font_manager:findfont: score(<Font 'DejaVu Sans Mono' (DejaVuSansMono-BoldOblique.ttf) oblique normal 700 normal>) = 11.335\n",
      "DEBUG:matplotlib.font_manager:findfont: score(<Font 'cmsy10' (cmsy10.ttf) normal normal 400 normal>) = 10.05\n",
      "DEBUG:matplotlib.font_manager:findfont: score(<Font 'DejaVu Serif' (DejaVuSerif-BoldItalic.ttf) italic normal 700 normal>) = 11.335\n",
      "DEBUG:matplotlib.font_manager:findfont: score(<Font 'STIXSizeThreeSym' (STIXSizThreeSymReg.ttf) normal normal 400 normal>) = 10.05\n",
      "DEBUG:matplotlib.font_manager:findfont: score(<Font 'DejaVu Sans Display' (DejaVuSansDisplay.ttf) normal normal 400 normal>) = 10.05\n",
      "DEBUG:matplotlib.font_manager:findfont: score(<Font 'STIXSizeFiveSym' (STIXSizFiveSymReg.ttf) normal normal 400 normal>) = 10.05\n",
      "DEBUG:matplotlib.font_manager:findfont: score(<Font 'cmex10' (cmex10.ttf) normal normal 400 normal>) = 10.05\n",
      "DEBUG:matplotlib.font_manager:findfont: score(<Font 'STIXGeneral' (STIXGeneral.ttf) normal normal 400 normal>) = 10.05\n",
      "DEBUG:matplotlib.font_manager:findfont: score(<Font 'STIXSizeTwoSym' (STIXSizTwoSymReg.ttf) normal normal 400 normal>) = 10.05\n",
      "DEBUG:matplotlib.font_manager:findfont: score(<Font 'STIXSizeOneSym' (STIXSizOneSymBol.ttf) normal normal 700 normal>) = 10.335\n",
      "DEBUG:matplotlib.font_manager:findfont: score(<Font 'DejaVu Serif' (DejaVuSerif.ttf) normal normal 400 normal>) = 10.05\n",
      "DEBUG:matplotlib.font_manager:findfont: score(<Font 'STIXGeneral' (STIXGeneralItalic.ttf) italic normal 400 normal>) = 11.05\n",
      "DEBUG:matplotlib.font_manager:findfont: score(<Font 'DejaVu Serif Display' (DejaVuSerifDisplay.ttf) normal normal 400 normal>) = 10.05\n",
      "DEBUG:matplotlib.font_manager:findfont: score(<Font 'DejaVu Serif' (DejaVuSerif-Bold.ttf) normal normal 700 normal>) = 10.335\n",
      "DEBUG:matplotlib.font_manager:findfont: score(<Font 'DejaVu Sans' (DejaVuSans-Bold.ttf) normal normal 700 normal>) = 0.33499999999999996\n",
      "DEBUG:matplotlib.font_manager:findfont: score(<Font 'STIXSizeTwoSym' (STIXSizTwoSymBol.ttf) normal normal 700 normal>) = 10.335\n",
      "DEBUG:matplotlib.font_manager:findfont: score(<Font 'STIXNonUnicode' (STIXNonUniBolIta.ttf) italic normal 700 normal>) = 11.335\n",
      "DEBUG:matplotlib.font_manager:findfont: score(<Font 'DejaVu Serif' (DejaVuSerif-Italic.ttf) italic normal 400 normal>) = 11.05\n",
      "DEBUG:matplotlib.font_manager:findfont: score(<Font 'STIXSizeThreeSym' (STIXSizThreeSymBol.ttf) normal normal 700 normal>) = 10.335\n",
      "DEBUG:matplotlib.font_manager:findfont: score(<Font 'STIXNonUnicode' (STIXNonUniBol.ttf) normal normal 700 normal>) = 10.335\n",
      "DEBUG:matplotlib.font_manager:findfont: score(<Font 'cmtt10' (cmtt10.ttf) normal normal 400 normal>) = 10.05\n",
      "DEBUG:matplotlib.font_manager:findfont: score(<Font 'DejaVu Sans Mono' (DejaVuSansMono-Oblique.ttf) oblique normal 400 normal>) = 11.05\n",
      "DEBUG:matplotlib.font_manager:findfont: score(<Font 'Noto Sans Thai UI' (NotoSansThaiUI-Regular.ttf) normal normal 400 normal>) = 10.05\n",
      "DEBUG:matplotlib.font_manager:findfont: score(<Font 'Liberation Sans' (LiberationSans-Regular.ttf) normal normal 400 normal>) = 10.05\n",
      "DEBUG:matplotlib.font_manager:findfont: score(<Font 'Fira Sans' (FiraSans-MediumItalic.otf) italic normal 500 normal>) = 11.145\n",
      "DEBUG:matplotlib.font_manager:findfont: score(<Font 'Noto Sans Coptic' (NotoSansCoptic-Regular.ttf) normal normal 400 normal>) = 10.05\n",
      "DEBUG:matplotlib.font_manager:findfont: score(<Font 'Noto Sans Meroitic' (NotoSansMeroitic-Regular.ttf) normal normal 400 normal>) = 10.05\n",
      "DEBUG:matplotlib.font_manager:findfont: score(<Font 'Noto Serif Ethiopic' (NotoSerifEthiopic-Regular.ttf) normal normal 400 normal>) = 10.05\n",
      "DEBUG:matplotlib.font_manager:findfont: score(<Font 'Noto Serif Georgian' (NotoSerifGeorgian-Regular.ttf) normal normal 400 normal>) = 10.05\n",
      "DEBUG:matplotlib.font_manager:findfont: score(<Font 'DejaVu Serif' (DejaVuSerif-Italic.ttf) italic normal 400 normal>) = 11.05\n",
      "DEBUG:matplotlib.font_manager:findfont: score(<Font 'Fira Sans Compressed' (firasanscompressed-regular.otf) normal normal 400 normal>) = 10.05\n",
      "DEBUG:matplotlib.font_manager:findfont: score(<Font 'Noto Sans Devanagari' (NotoSansDevanagari-Regular.ttf) normal normal 400 normal>) = 10.05\n",
      "DEBUG:matplotlib.font_manager:findfont: score(<Font 'Noto Sans Javanese' (NotoSansJavanese-Bold.ttf) normal normal 700 normal>) = 10.335\n",
      "DEBUG:matplotlib.font_manager:findfont: score(<Font 'Fira Sans Condensed' (FiraSansCondensed-ExtraLight.otf) normal normal 250 condensed>) = 10.3925\n",
      "DEBUG:matplotlib.font_manager:findfont: score(<Font 'Ubuntu' (Ubuntu-RI.ttf) italic normal 400 normal>) = 11.05\n",
      "DEBUG:matplotlib.font_manager:findfont: score(<Font 'Fira Sans Condensed' (FiraSansCondensed-Thin.otf) normal normal 100 condensed>) = 10.535\n",
      "DEBUG:matplotlib.font_manager:findfont: score(<Font 'Fira Sans Condensed' (FiraSansCondensed-BookItalic.otf) italic normal 350 condensed>) = 11.2975\n",
      "DEBUG:matplotlib.font_manager:findfont: score(<Font 'Noto Sans Kannada UI' (NotoSansKannadaUI-Regular.ttf) normal normal 400 normal>) = 10.05\n",
      "DEBUG:matplotlib.font_manager:findfont: score(<Font 'FreeMono' (FreeMonoBold.ttf) normal normal 700 normal>) = 10.335\n",
      "DEBUG:matplotlib.font_manager:findfont: score(<Font 'Noto Sans Thaana' (NotoSansThaana-Bold.ttf) normal normal 700 normal>) = 10.335\n",
      "DEBUG:matplotlib.font_manager:findfont: score(<Font 'Liberation Mono' (LiberationMono-Italic.ttf) italic normal 400 normal>) = 11.05\n",
      "DEBUG:matplotlib.font_manager:findfont: score(<Font 'Noto Serif Kannada' (NotoSerifKannada-Regular.ttf) normal normal 400 normal>) = 10.05\n"
     ]
    },
    {
     "name": "stderr",
     "output_type": "stream",
     "text": [
      "DEBUG:matplotlib.font_manager:findfont: score(<Font 'D050000L' (D050000L.otf) normal normal 400 normal>) = 10.05\n",
      "DEBUG:matplotlib.font_manager:findfont: score(<Font 'Noto Nastaliq Urdu' (NotoNastaliqUrdu-Bold.ttf) normal normal 400 normal>) = 10.05\n",
      "DEBUG:matplotlib.font_manager:findfont: score(<Font 'Noto Sans Display' (NotoSansDisplay-Italic.ttf) italic normal 400 normal>) = 11.05\n",
      "DEBUG:matplotlib.font_manager:findfont: score(<Font 'Noto Serif Display' (NotoSerifDisplay-Bold.ttf) normal normal 700 normal>) = 10.335\n",
      "DEBUG:matplotlib.font_manager:findfont: score(<Font 'Noto Serif Display' (NotoSerifDisplay-Italic.ttf) italic normal 400 normal>) = 11.05\n",
      "DEBUG:matplotlib.font_manager:findfont: score(<Font 'Noto Sans Adlam Unjoined' (NotoSansAdlamUnjoined-Regular.ttf) normal normal 400 normal>) = 10.05\n",
      "DEBUG:matplotlib.font_manager:findfont: score(<Font 'URW Gothic' (URWGothic-Book.otf) normal normal 400 normal>) = 10.05\n",
      "DEBUG:matplotlib.font_manager:findfont: score(<Font 'Noto Sans Lepcha' (NotoSansLepcha-Regular.ttf) normal normal 400 normal>) = 10.05\n",
      "DEBUG:matplotlib.font_manager:findfont: score(<Font 'Fira Sans' (FiraSans-HairItalic.otf) italic normal 100 normal>) = 11.335\n",
      "DEBUG:matplotlib.font_manager:findfont: score(<Font 'Liberation Sans' (LiberationSans-Italic.ttf) italic normal 400 normal>) = 11.05\n",
      "DEBUG:matplotlib.font_manager:findfont: score(<Font 'Noto Sans Linear B' (NotoSansLinearB-Regular.ttf) normal normal 400 normal>) = 10.05\n",
      "DEBUG:matplotlib.font_manager:findfont: score(<Font 'Noto Sans Symbols' (NotoSansSymbols-Bold.ttf) normal normal 700 normal>) = 10.335\n",
      "DEBUG:matplotlib.font_manager:findfont: score(<Font 'Fira Sans' (FiraSans-EightItalic.otf) italic normal 100 normal>) = 11.335\n",
      "DEBUG:matplotlib.font_manager:findfont: score(<Font 'Fira Sans' (FiraSans-SemiBoldItalic.otf) italic normal 600 normal>) = 11.24\n",
      "DEBUG:matplotlib.font_manager:findfont: score(<Font 'Ubuntu Mono' (UbuntuMono-R.ttf) normal normal 400 normal>) = 10.05\n",
      "DEBUG:matplotlib.font_manager:findfont: score(<Font 'Noto Serif Lao' (NotoSerifLao-Regular.ttf) normal normal 400 normal>) = 10.05\n",
      "DEBUG:matplotlib.font_manager:findfont: score(<Font 'Noto Sans Bengali UI' (NotoSansBengaliUI-Bold.ttf) normal normal 700 normal>) = 10.335\n",
      "DEBUG:matplotlib.font_manager:findfont: score(<Font 'Noto Serif Kannada' (NotoSerifKannada-Bold.ttf) normal normal 700 normal>) = 10.335\n",
      "DEBUG:matplotlib.font_manager:findfont: score(<Font 'Noto Sans Gurmukhi' (NotoSansGurmukhi-Regular.ttf) normal normal 400 normal>) = 10.05\n",
      "DEBUG:matplotlib.font_manager:findfont: score(<Font 'Noto Sans Adlam' (NotoSansAdlam-Regular.ttf) normal normal 400 normal>) = 10.05\n",
      "DEBUG:matplotlib.font_manager:findfont: score(<Font 'Fira Sans Condensed' (FiraSansCondensed-SemiBold.otf) normal normal 600 condensed>) = 10.44\n",
      "DEBUG:matplotlib.font_manager:findfont: score(<Font 'Liberation Serif' (LiberationSerif-Italic.ttf) italic normal 400 normal>) = 11.05\n",
      "DEBUG:matplotlib.font_manager:findfont: score(<Font 'Noto Sans CJK JP' (NotoSansCJK-Bold.ttc) normal normal 700 normal>) = 10.335\n",
      "DEBUG:matplotlib.font_manager:findfont: score(<Font 'Noto Sans Batak' (NotoSansBatak-Regular.ttf) normal normal 400 normal>) = 10.05\n",
      "DEBUG:matplotlib.font_manager:findfont: score(<Font 'Noto Naskh Arabic UI' (NotoNaskhArabicUI-Bold.ttf) normal normal 700 normal>) = 10.335\n",
      "DEBUG:matplotlib.font_manager:findfont: score(<Font 'DejaVu Sans Mono' (DejaVuSansMono-Bold.ttf) normal normal 700 normal>) = 10.335\n",
      "DEBUG:matplotlib.font_manager:findfont: score(<Font 'Noto Sans Hebrew' (NotoSansHebrew-Bold.ttf) normal normal 700 normal>) = 10.335\n",
      "DEBUG:matplotlib.font_manager:findfont: score(<Font 'Liberation Serif' (LiberationSerif-Bold.ttf) normal normal 700 normal>) = 10.335\n",
      "DEBUG:matplotlib.font_manager:findfont: score(<Font 'Noto Sans Indic Siyaq Numbers' (NotoSansIndicSiyaqNumbers-Regular.ttf) normal normal 400 normal>) = 10.05\n",
      "DEBUG:matplotlib.font_manager:findfont: score(<Font 'Fira Sans' (FiraSans-BoldItalic.otf) italic normal 700 normal>) = 11.335\n",
      "DEBUG:matplotlib.font_manager:findfont: score(<Font 'Noto Sans Gurmukhi UI' (NotoSansGurmukhiUI-Bold.ttf) normal normal 700 normal>) = 10.335\n",
      "DEBUG:matplotlib.font_manager:findfont: score(<Font 'Nimbus Sans Narrow' (NimbusSansNarrow-Oblique.otf) oblique normal 400 condensed>) = 11.25\n",
      "DEBUG:matplotlib.font_manager:findfont: score(<Font 'Noto Sans Kayah Li' (NotoSansKayahLi-Regular.ttf) normal normal 400 normal>) = 10.05\n",
      "DEBUG:matplotlib.font_manager:findfont: score(<Font 'Noto Sans Old Persian' (NotoSansOldPersian-Regular.ttf) normal normal 400 normal>) = 10.05\n",
      "DEBUG:matplotlib.font_manager:findfont: score(<Font 'Standard Symbols PS' (StandardSymbolsPS.otf) normal normal 400 normal>) = 10.05\n",
      "DEBUG:matplotlib.font_manager:findfont: score(<Font 'Fira Sans Condensed' (FiraSansCondensed-Heavy.otf) normal normal 900 condensed>) = 10.725\n",
      "DEBUG:matplotlib.font_manager:findfont: score(<Font 'Noto Sans Lao UI' (NotoSansLaoUI-Bold.ttf) normal normal 700 normal>) = 10.335\n",
      "DEBUG:matplotlib.font_manager:findfont: score(<Font 'Noto Sans Ethiopic' (NotoSansEthiopic-Regular.ttf) normal normal 400 normal>) = 10.05\n",
      "DEBUG:matplotlib.font_manager:findfont: score(<Font 'Fira Sans Condensed' (FiraSansCondensed-Hair.otf) normal normal 100 condensed>) = 10.535\n",
      "DEBUG:matplotlib.font_manager:findfont: score(<Font 'Nimbus Sans' (NimbusSans-Regular.otf) normal normal 400 normal>) = 10.05\n",
      "DEBUG:matplotlib.font_manager:findfont: score(<Font 'Nimbus Sans' (NimbusSans-Bold.otf) normal normal 700 normal>) = 10.335\n",
      "DEBUG:matplotlib.font_manager:findfont: score(<Font 'Fira Sans Compressed' (firasanscompressed-four.otf) normal normal 100 normal>) = 10.335\n",
      "DEBUG:matplotlib.font_manager:findfont: score(<Font 'FreeMono' (FreeMonoBoldOblique.ttf) oblique normal 700 normal>) = 11.335\n",
      "DEBUG:matplotlib.font_manager:findfont: score(<Font 'DejaVu Sans' (DejaVuSans-Bold.ttf) normal normal 700 normal>) = 0.33499999999999996\n",
      "DEBUG:matplotlib.font_manager:findfont: score(<Font 'DejaVu Sans' (DejaVuSans.ttf) normal normal 400 normal>) = 0.05\n",
      "DEBUG:matplotlib.font_manager:findfont: score(<Font 'Noto Sans Oriya UI' (NotoSansOriyaUI-Bold.ttf) normal normal 700 normal>) = 10.335\n",
      "DEBUG:matplotlib.font_manager:findfont: score(<Font 'Noto Sans Cuneiform' (NotoSansCuneiform-Regular.ttf) normal normal 400 normal>) = 10.05\n",
      "DEBUG:matplotlib.font_manager:findfont: score(<Font 'Noto Sans Armenian' (NotoSansArmenian-Regular.ttf) normal normal 400 normal>) = 10.05\n",
      "DEBUG:matplotlib.font_manager:findfont: score(<Font 'Fira Sans Compressed' (FiraSansCompressed-ExtraBold.otf) normal normal 800 normal>) = 10.43\n",
      "DEBUG:matplotlib.font_manager:findfont: score(<Font 'DejaVu Sans Mono' (DejaVuSansMono-Oblique.ttf) oblique normal 400 normal>) = 11.05\n",
      "DEBUG:matplotlib.font_manager:findfont: score(<Font 'Noto Sans Shavian' (NotoSansShavian-Regular.ttf) normal normal 400 normal>) = 10.05\n",
      "DEBUG:matplotlib.font_manager:findfont: score(<Font 'Noto Sans Samaritan' (NotoSansSamaritan-Regular.ttf) normal normal 400 normal>) = 10.05\n",
      "DEBUG:matplotlib.font_manager:findfont: score(<Font 'Noto Sans Manichaean' (NotoSansManichaean-Regular.ttf) normal normal 400 normal>) = 10.05\n",
      "DEBUG:matplotlib.font_manager:findfont: score(<Font 'C059' (C059-BdIta.otf) italic normal 700 normal>) = 11.335\n",
      "DEBUG:matplotlib.font_manager:findfont: score(<Font 'FreeSans' (FreeSansBold.ttf) normal normal 600 normal>) = 10.24\n",
      "DEBUG:matplotlib.font_manager:findfont: score(<Font 'Noto Sans Devanagari UI' (NotoSansDevanagariUI-Regular.ttf) normal normal 400 normal>) = 10.05\n",
      "DEBUG:matplotlib.font_manager:findfont: score(<Font 'C059' (C059-Italic.otf) italic normal 400 normal>) = 11.05\n",
      "DEBUG:matplotlib.font_manager:findfont: score(<Font 'Fira Sans' (FiraSans-Four.otf) normal normal 100 normal>) = 10.335\n",
      "DEBUG:matplotlib.font_manager:findfont: score(<Font 'Noto Serif Malayalam' (NotoSerifMalayalam-Bold.ttf) normal normal 700 normal>) = 10.335\n",
      "DEBUG:matplotlib.font_manager:findfont: score(<Font 'Noto Serif Display' (NotoSerifDisplay-BoldItalic.ttf) italic normal 700 normal>) = 11.335\n",
      "DEBUG:matplotlib.font_manager:findfont: score(<Font 'Fira Sans Condensed' (FiraSansCondensed-Ultra.otf) normal normal 950 condensed>) = 10.772499999999999\n"
     ]
    },
    {
     "name": "stderr",
     "output_type": "stream",
     "text": [
      "DEBUG:matplotlib.font_manager:findfont: score(<Font 'Ubuntu' (Ubuntu-R.ttf) normal normal 400 normal>) = 10.05\n",
      "DEBUG:matplotlib.font_manager:findfont: score(<Font 'Noto Serif Khmer' (NotoSerifKhmer-Bold.ttf) normal normal 700 normal>) = 10.335\n",
      "DEBUG:matplotlib.font_manager:findfont: score(<Font 'Noto Serif Gurmukhi' (NotoSerifGurmukhi-Bold.ttf) normal normal 700 normal>) = 10.335\n",
      "DEBUG:matplotlib.font_manager:findfont: score(<Font 'Noto Sans Lao' (NotoSansLao-Regular.ttf) normal normal 400 normal>) = 10.05\n",
      "DEBUG:matplotlib.font_manager:findfont: score(<Font 'Noto Sans Javanese' (NotoSansJavanese-Regular.ttf) normal normal 400 normal>) = 10.05\n",
      "DEBUG:matplotlib.font_manager:findfont: score(<Font 'Noto Sans Telugu UI' (NotoSansTeluguUI-Bold.ttf) normal normal 700 normal>) = 10.335\n",
      "DEBUG:matplotlib.font_manager:findfont: score(<Font 'Noto Sans Syloti Nagri' (NotoSansSylotiNagri-Regular.ttf) normal normal 400 normal>) = 10.05\n",
      "DEBUG:matplotlib.font_manager:findfont: score(<Font 'Noto Sans Anatolian Hieroglyphs' (NotoSansAnatolianHieroglyphs-Regular.ttf) normal normal 400 normal>) = 10.05\n",
      "DEBUG:matplotlib.font_manager:findfont: score(<Font 'Noto Serif Sinhala' (NotoSerifSinhala-Bold.ttf) normal normal 700 normal>) = 10.335\n",
      "DEBUG:matplotlib.font_manager:findfont: score(<Font 'FreeSans' (FreeSansBoldOblique.ttf) oblique normal 600 normal>) = 11.24\n",
      "DEBUG:matplotlib.font_manager:findfont: score(<Font 'Noto Sans CJK JP' (NotoSansCJK-Black.ttc) normal normal 900 normal>) = 10.525\n",
      "DEBUG:matplotlib.font_manager:findfont: score(<Font 'Noto Sans Devanagari' (NotoSansDevanagari-Bold.ttf) normal normal 700 normal>) = 10.335\n",
      "DEBUG:matplotlib.font_manager:findfont: score(<Font 'Fira Sans' (FiraSans-FourItalic.otf) italic normal 100 normal>) = 11.335\n",
      "DEBUG:matplotlib.font_manager:findfont: score(<Font 'Fira Sans Condensed' (FiraSansCondensed-Italic.otf) italic normal 400 condensed>) = 11.25\n",
      "DEBUG:matplotlib.font_manager:findfont: score(<Font 'Noto Sans Siddham' (NotoSansSiddham-Regular.ttf) normal normal 400 normal>) = 10.05\n",
      "DEBUG:matplotlib.font_manager:findfont: score(<Font 'Fira Sans Compressed' (FiraSansCompressed-Heavy.otf) normal normal 900 normal>) = 10.525\n",
      "DEBUG:matplotlib.font_manager:findfont: score(<Font 'Liberation Serif' (LiberationSerif-Bold.ttf) normal normal 700 normal>) = 10.335\n",
      "DEBUG:matplotlib.font_manager:findfont: score(<Font 'Droid Sans Fallback' (DroidSansFallbackFull.ttf) normal normal 400 normal>) = 10.05\n",
      "DEBUG:matplotlib.font_manager:findfont: score(<Font 'Liberation Mono' (LiberationMono-Regular.ttf) normal normal 400 normal>) = 10.05\n",
      "DEBUG:matplotlib.font_manager:findfont: score(<Font 'Noto Sans Gujarati UI' (NotoSansGujaratiUI-Bold.ttf) normal normal 700 normal>) = 10.335\n",
      "DEBUG:matplotlib.font_manager:findfont: score(<Font 'AR PL UKai CN' (ukai.ttc) normal normal 400 normal>) = 10.05\n",
      "DEBUG:matplotlib.font_manager:findfont: score(<Font 'Ubuntu Condensed' (Ubuntu-C.ttf) normal normal 400 condensed>) = 10.25\n",
      "DEBUG:matplotlib.font_manager:findfont: score(<Font 'Noto Sans Ogham' (NotoSansOgham-Regular.ttf) normal normal 400 normal>) = 10.05\n",
      "DEBUG:matplotlib.font_manager:findfont: score(<Font 'Noto Sans Georgian' (NotoSansGeorgian-Bold.ttf) normal normal 700 normal>) = 10.335\n",
      "DEBUG:matplotlib.font_manager:findfont: score(<Font 'Noto Sans Kannada' (NotoSansKannada-Bold.ttf) normal normal 700 normal>) = 10.335\n",
      "DEBUG:matplotlib.font_manager:findfont: score(<Font 'Noto Serif Telugu' (NotoSerifTelugu-Bold.ttf) normal normal 700 normal>) = 10.335\n",
      "DEBUG:matplotlib.font_manager:findfont: score(<Font 'Noto Sans Math' (NotoSansMath-Regular.ttf) normal normal 400 normal>) = 10.05\n",
      "DEBUG:matplotlib.font_manager:findfont: score(<Font 'Liberation Sans Narrow' (LiberationSansNarrow-Italic.ttf) italic normal 400 condensed>) = 11.25\n",
      "DEBUG:matplotlib.font_manager:findfont: score(<Font 'Nimbus Mono PS' (NimbusMonoPS-BoldItalic.otf) italic normal 700 normal>) = 11.335\n",
      "DEBUG:matplotlib.font_manager:findfont: score(<Font 'Noto Sans Pau Cin Hau' (NotoSansPauCinHau-Regular.ttf) normal normal 400 normal>) = 10.05\n",
      "DEBUG:matplotlib.font_manager:findfont: score(<Font 'Noto Sans Caucasian Albanian' (NotoSansCaucasianAlbanian-Regular.ttf) normal normal 400 normal>) = 10.05\n",
      "DEBUG:matplotlib.font_manager:findfont: score(<Font 'Fira Mono' (FiraMono-Bold.otf) normal normal 700 normal>) = 10.335\n",
      "DEBUG:matplotlib.font_manager:findfont: score(<Font 'Noto Serif Ahom' (NotoSerifAhom-Regular.ttf) normal normal 400 normal>) = 10.05\n",
      "DEBUG:matplotlib.font_manager:findfont: score(<Font 'Nimbus Sans Narrow' (NimbusSansNarrow-Regular.otf) normal normal 400 condensed>) = 10.25\n",
      "DEBUG:matplotlib.font_manager:findfont: score(<Font 'Fira Sans Condensed' (FiraSansCondensed-BoldItalic.otf) italic normal 700 condensed>) = 11.535\n",
      "DEBUG:matplotlib.font_manager:findfont: score(<Font 'P052' (P052-BoldItalic.otf) italic normal 700 normal>) = 11.335\n",
      "DEBUG:matplotlib.font_manager:findfont: score(<Font 'Fira Sans' (FiraSans-Hair.otf) normal normal 100 normal>) = 10.335\n",
      "DEBUG:matplotlib.font_manager:findfont: score(<Font 'Noto Sans Gujarati' (NotoSansGujarati-Bold.ttf) normal normal 700 normal>) = 10.335\n",
      "DEBUG:matplotlib.font_manager:findfont: score(<Font 'Fira Sans Condensed' (FiraSansCondensed-EightItalic.otf) italic normal 100 condensed>) = 11.535\n",
      "DEBUG:matplotlib.font_manager:findfont: score(<Font 'Fira Sans' (FiraSans-Italic.otf) italic normal 400 normal>) = 11.05\n",
      "DEBUG:matplotlib.font_manager:findfont: score(<Font 'Noto Sans Hebrew' (NotoSansHebrew-Regular.ttf) normal normal 400 normal>) = 10.05\n",
      "DEBUG:matplotlib.font_manager:findfont: score(<Font 'Fira Sans' (FiraSans-SemiBold.otf) normal normal 600 normal>) = 10.24\n",
      "DEBUG:matplotlib.font_manager:findfont: score(<Font 'Fira Sans' (FiraSans-Book.otf) normal normal 350 normal>) = 10.0975\n",
      "DEBUG:matplotlib.font_manager:findfont: score(<Font 'Liberation Sans' (LiberationSans-Regular.ttf) normal normal 400 normal>) = 10.05\n",
      "DEBUG:matplotlib.font_manager:findfont: score(<Font 'Ubuntu Mono' (UbuntuMono-BI.ttf) italic normal 700 normal>) = 11.335\n",
      "DEBUG:matplotlib.font_manager:findfont: score(<Font 'Noto Sans Nabataean' (NotoSansNabataean-Regular.ttf) normal normal 400 normal>) = 10.05\n",
      "DEBUG:matplotlib.font_manager:findfont: score(<Font 'Liberation Serif' (LiberationSerif-BoldItalic.ttf) italic normal 700 normal>) = 11.335\n",
      "DEBUG:matplotlib.font_manager:findfont: score(<Font 'Nimbus Sans Narrow' (NimbusSansNarrow-BoldOblique.otf) oblique normal 700 condensed>) = 11.535\n",
      "DEBUG:matplotlib.font_manager:findfont: score(<Font 'DejaVu Sans' (DejaVuSans-ExtraLight.ttf) normal normal 200 normal>) = 0.24\n",
      "DEBUG:matplotlib.font_manager:findfont: score(<Font 'P052' (P052-Italic.otf) italic normal 400 normal>) = 11.05\n",
      "DEBUG:matplotlib.font_manager:findfont: score(<Font 'URW Bookman' (URWBookman-Light.otf) normal normal 300 normal>) = 10.145\n",
      "DEBUG:matplotlib.font_manager:findfont: score(<Font 'Noto Sans Oriya' (NotoSansOriya-Bold.ttf) normal normal 700 normal>) = 10.335\n",
      "DEBUG:matplotlib.font_manager:findfont: score(<Font 'Noto Sans Mono' (NotoSansMono-Bold.ttf) normal normal 700 normal>) = 10.335\n",
      "DEBUG:matplotlib.font_manager:findfont: score(<Font 'Noto Sans Mahajani' (NotoSansMahajani-Regular.ttf) normal normal 400 normal>) = 10.05\n",
      "DEBUG:matplotlib.font_manager:findfont: score(<Font 'Noto Serif Display' (NotoSerifDisplay-Regular.ttf) normal normal 400 normal>) = 10.05\n",
      "DEBUG:matplotlib.font_manager:findfont: score(<Font 'Noto Sans Ol Chiki' (NotoSansOlChiki-Regular.ttf) normal normal 400 normal>) = 10.05\n",
      "DEBUG:matplotlib.font_manager:findfont: score(<Font 'Liberation Serif' (LiberationSerif-Italic.ttf) italic normal 400 normal>) = 11.05\n",
      "DEBUG:matplotlib.font_manager:findfont: score(<Font 'Fira Mono' (FiraMono-Regular.otf) normal normal 400 normal>) = 10.05\n",
      "DEBUG:matplotlib.font_manager:findfont: score(<Font 'Noto Sans' (NotoSans-BoldItalic.ttf) italic normal 700 normal>) = 11.335\n",
      "DEBUG:matplotlib.font_manager:findfont: score(<Font 'Noto Sans Telugu' (NotoSansTelugu-Regular.ttf) normal normal 400 normal>) = 10.05\n",
      "DEBUG:matplotlib.font_manager:findfont: score(<Font 'Noto Sans Khmer UI' (NotoSansKhmerUI-Regular.ttf) normal normal 400 normal>) = 10.05\n",
      "DEBUG:matplotlib.font_manager:findfont: score(<Font 'Noto Sans Bengali' (NotoSansBengali-Bold.ttf) normal normal 700 normal>) = 10.335\n"
     ]
    },
    {
     "name": "stderr",
     "output_type": "stream",
     "text": [
      "DEBUG:matplotlib.font_manager:findfont: score(<Font 'Noto Sans Phoenician' (NotoSansPhoenician-Regular.ttf) normal normal 400 normal>) = 10.05\n",
      "DEBUG:matplotlib.font_manager:findfont: score(<Font 'FreeSerif' (FreeSerif.ttf) normal normal 400 normal>) = 10.05\n",
      "DEBUG:matplotlib.font_manager:findfont: score(<Font 'Fira Sans' (FiraSans-ExtraBoldItalic.otf) italic normal 800 normal>) = 11.43\n",
      "DEBUG:matplotlib.font_manager:findfont: score(<Font 'Noto Sans CJK JP' (NotoSansCJK-Regular.ttc) normal normal 400 normal>) = 10.05\n",
      "DEBUG:matplotlib.font_manager:findfont: score(<Font 'Nimbus Roman' (NimbusRoman-Bold.otf) normal normal 700 normal>) = 10.335\n",
      "DEBUG:matplotlib.font_manager:findfont: score(<Font 'Noto Serif CJK JP' (NotoSerifCJK-Light.ttc) normal normal 300 normal>) = 10.145\n",
      "DEBUG:matplotlib.font_manager:findfont: score(<Font 'Ubuntu' (Ubuntu-MI.ttf) italic normal 500 normal>) = 11.145\n",
      "DEBUG:matplotlib.font_manager:findfont: score(<Font 'Noto Serif Thai' (NotoSerifThai-Regular.ttf) normal normal 400 normal>) = 10.05\n",
      "DEBUG:matplotlib.font_manager:findfont: score(<Font 'Noto Sans Yi' (NotoSansYi-Regular.ttf) normal normal 400 normal>) = 10.05\n",
      "DEBUG:matplotlib.font_manager:findfont: score(<Font 'Noto Sans Malayalam' (NotoSansMalayalam-Regular.ttf) normal normal 400 normal>) = 10.05\n",
      "DEBUG:matplotlib.font_manager:findfont: score(<Font 'Noto Sans Kannada UI' (NotoSansKannadaUI-Bold.ttf) normal normal 700 normal>) = 10.335\n",
      "DEBUG:matplotlib.font_manager:findfont: score(<Font 'AR PL UMing CN' (uming.ttc) normal normal 300 normal>) = 10.145\n",
      "DEBUG:matplotlib.font_manager:findfont: score(<Font 'Liberation Sans' (LiberationSans-Bold.ttf) normal normal 700 normal>) = 10.335\n",
      "DEBUG:matplotlib.font_manager:findfont: score(<Font 'Fira Sans' (FiraSans-UltraItalic.otf) italic normal 950 normal>) = 11.5725\n",
      "DEBUG:matplotlib.font_manager:findfont: score(<Font 'Nimbus Mono PS' (NimbusMonoPS-Regular.otf) normal normal 400 normal>) = 10.05\n",
      "DEBUG:matplotlib.font_manager:findfont: score(<Font 'Noto Sans Myanmar' (NotoSansMyanmar-Bold.ttf) normal normal 700 normal>) = 10.335\n",
      "DEBUG:matplotlib.font_manager:findfont: score(<Font 'Fira Sans Condensed' (FiraSansCondensed-UltraItalic.otf) italic normal 950 condensed>) = 11.772499999999999\n",
      "DEBUG:matplotlib.font_manager:findfont: score(<Font 'Noto Sans Inscriptional Parthian' (NotoSansInscriptionalParthian-Regular.ttf) normal normal 400 normal>) = 10.05\n",
      "DEBUG:matplotlib.font_manager:findfont: score(<Font 'Fira Mono' (FiraMono-Medium.otf) normal normal 500 normal>) = 10.145\n",
      "DEBUG:matplotlib.font_manager:findfont: score(<Font 'Noto Serif Telugu' (NotoSerifTelugu-Regular.ttf) normal normal 400 normal>) = 10.05\n",
      "DEBUG:matplotlib.font_manager:findfont: score(<Font 'Noto Sans Buhid' (NotoSansBuhid-Regular.ttf) normal normal 400 normal>) = 10.05\n",
      "DEBUG:matplotlib.font_manager:findfont: score(<Font 'Fira Sans Condensed' (FiraSansCondensed-Two.otf) normal normal 100 condensed>) = 10.535\n",
      "DEBUG:matplotlib.font_manager:findfont: score(<Font 'DejaVu Serif' (DejaVuSerifCondensed-BoldItalic.ttf) italic normal 700 condensed>) = 11.535\n",
      "DEBUG:matplotlib.font_manager:findfont: score(<Font 'Liberation Serif' (LiberationSerif-Regular.ttf) normal normal 400 normal>) = 10.05\n",
      "DEBUG:matplotlib.font_manager:findfont: score(<Font 'DejaVu Sans' (DejaVuSansCondensed-BoldOblique.ttf) oblique normal 700 condensed>) = 1.535\n",
      "DEBUG:matplotlib.font_manager:findfont: score(<Font 'Noto Serif CJK JP' (NotoSerifCJK-ExtraLight.ttc) normal normal 200 normal>) = 10.24\n",
      "DEBUG:matplotlib.font_manager:findfont: score(<Font 'Fira Sans' (FiraSans-Regular.otf) normal normal 400 normal>) = 10.05\n",
      "DEBUG:matplotlib.font_manager:findfont: score(<Font 'DejaVu Sans' (DejaVuSansCondensed.ttf) normal normal 400 condensed>) = 0.25\n",
      "DEBUG:matplotlib.font_manager:findfont: score(<Font 'Noto Sans Syriac' (NotoSansSyriac-Regular.ttf) normal normal 400 normal>) = 10.05\n",
      "DEBUG:matplotlib.font_manager:findfont: score(<Font 'Fira Sans Condensed' (FiraSansCondensed-Eight.otf) normal normal 100 condensed>) = 10.535\n",
      "DEBUG:matplotlib.font_manager:findfont: score(<Font 'Fira Sans' (FiraSans-Eight.otf) normal normal 100 normal>) = 10.335\n",
      "DEBUG:matplotlib.font_manager:findfont: score(<Font 'Fira Sans Compressed' (FiraSansCompressed-ExtraBoldItalic.otf) italic normal 800 normal>) = 11.43\n",
      "DEBUG:matplotlib.font_manager:findfont: score(<Font 'Fira Sans Condensed' (FiraSansCondensed-LightItalic.otf) italic normal 300 condensed>) = 11.344999999999999\n",
      "DEBUG:matplotlib.font_manager:findfont: score(<Font 'Noto Sans Tamil' (NotoSansTamil-Bold.ttf) normal normal 700 normal>) = 10.335\n",
      "DEBUG:matplotlib.font_manager:findfont: score(<Font 'Noto Sans Mende Kikakui' (NotoSansMendeKikakui-Regular.ttf) normal normal 400 normal>) = 10.05\n",
      "DEBUG:matplotlib.font_manager:findfont: score(<Font 'Noto Sans Thai' (NotoSansThai-Bold.ttf) normal normal 700 normal>) = 10.335\n",
      "DEBUG:matplotlib.font_manager:findfont: score(<Font 'Ubuntu' (Ubuntu-BI.ttf) italic normal 700 normal>) = 11.335\n",
      "DEBUG:matplotlib.font_manager:findfont: score(<Font 'Fira Sans Condensed' (FiraSansCondensed-Medium.otf) normal normal 500 condensed>) = 10.344999999999999\n",
      "DEBUG:matplotlib.font_manager:findfont: score(<Font 'Noto Sans Linear A' (NotoSansLinearA-Regular.ttf) normal normal 400 normal>) = 10.05\n",
      "DEBUG:matplotlib.font_manager:findfont: score(<Font 'Noto Sans Buginese' (NotoSansBuginese-Regular.ttf) normal normal 400 normal>) = 10.05\n",
      "DEBUG:matplotlib.font_manager:findfont: score(<Font 'Liberation Mono' (LiberationMono-Bold.ttf) normal normal 700 normal>) = 10.335\n",
      "DEBUG:matplotlib.font_manager:findfont: score(<Font 'Noto Sans Multani' (NotoSansMultani-Regular.ttf) normal normal 400 normal>) = 10.05\n",
      "DEBUG:matplotlib.font_manager:findfont: score(<Font 'Noto Sans Avestan' (NotoSansAvestan-Regular.ttf) normal normal 400 normal>) = 10.05\n",
      "DEBUG:matplotlib.font_manager:findfont: score(<Font 'Noto Sans Gurmukhi UI' (NotoSansGurmukhiUI-Regular.ttf) normal normal 400 normal>) = 10.05\n",
      "DEBUG:matplotlib.font_manager:findfont: score(<Font 'DejaVu Math TeX Gyre' (DejaVuMathTeXGyre.ttf) normal normal 400 normal>) = 10.05\n",
      "DEBUG:matplotlib.font_manager:findfont: score(<Font 'Noto Serif Balinese' (NotoSerifBalinese-Regular.ttf) normal normal 400 normal>) = 10.05\n",
      "DEBUG:matplotlib.font_manager:findfont: score(<Font 'Noto Sans Saurashtra' (NotoSansSaurashtra-Regular.ttf) normal normal 400 normal>) = 10.05\n",
      "DEBUG:matplotlib.font_manager:findfont: score(<Font 'Fira Sans' (FiraSans-BookItalic.otf) italic normal 350 normal>) = 11.0975\n",
      "DEBUG:matplotlib.font_manager:findfont: score(<Font 'Noto Serif Devanagari' (NotoSerifDevanagari-Bold.ttf) normal normal 700 normal>) = 10.335\n",
      "DEBUG:matplotlib.font_manager:findfont: score(<Font 'Noto Sans Modi' (NotoSansModi-Regular.ttf) normal normal 400 normal>) = 10.05\n",
      "DEBUG:matplotlib.font_manager:findfont: score(<Font 'Noto Sans Bassa Vah' (NotoSansBassaVah-Regular.ttf) normal normal 400 normal>) = 10.05\n",
      "DEBUG:matplotlib.font_manager:findfont: score(<Font 'Fira Sans Compressed' (firasanscompressed-light.otf) normal normal 300 normal>) = 10.145\n",
      "DEBUG:matplotlib.font_manager:findfont: score(<Font 'Noto Sans Gujarati UI' (NotoSansGujaratiUI-Regular.ttf) normal normal 400 normal>) = 10.05\n",
      "DEBUG:matplotlib.font_manager:findfont: score(<Font 'Noto Sans Cypriot' (NotoSansCypriot-Regular.ttf) normal normal 400 normal>) = 10.05\n",
      "DEBUG:matplotlib.font_manager:findfont: score(<Font 'Noto Sans Hanunoo' (NotoSansHanunoo-Regular.ttf) normal normal 400 normal>) = 10.05\n",
      "DEBUG:matplotlib.font_manager:findfont: score(<Font 'C059' (C059-Roman.otf) normal normal 400 normal>) = 10.05\n",
      "DEBUG:matplotlib.font_manager:findfont: score(<Font 'Noto Sans Bengali UI' (NotoSansBengaliUI-Regular.ttf) normal normal 400 normal>) = 10.05\n",
      "DEBUG:matplotlib.font_manager:findfont: score(<Font 'Noto Sans Old North Arabian' (NotoSansOldNorthArabian-Regular.ttf) normal normal 400 normal>) = 10.05\n",
      "DEBUG:matplotlib.font_manager:findfont: score(<Font 'Noto Sans Kannada' (NotoSansKannada-Regular.ttf) normal normal 400 normal>) = 10.05\n",
      "DEBUG:matplotlib.font_manager:findfont: score(<Font 'Noto Sans Telugu' (NotoSansTelugu-Bold.ttf) normal normal 700 normal>) = 10.335\n",
      "DEBUG:matplotlib.font_manager:findfont: score(<Font 'Fira Sans Compressed' (FiraSansCompressed-BoldItalic.otf) italic normal 700 normal>) = 11.335\n"
     ]
    },
    {
     "name": "stderr",
     "output_type": "stream",
     "text": [
      "DEBUG:matplotlib.font_manager:findfont: score(<Font 'Noto Sans Georgian' (NotoSansGeorgian-Regular.ttf) normal normal 400 normal>) = 10.05\n",
      "DEBUG:matplotlib.font_manager:findfont: score(<Font 'Noto Sans CJK JP' (NotoSansCJK-DemiLight.ttc) normal normal 350 normal>) = 10.0975\n",
      "DEBUG:matplotlib.font_manager:findfont: score(<Font 'P052' (P052-Bold.otf) normal normal 700 normal>) = 10.335\n",
      "DEBUG:matplotlib.font_manager:findfont: score(<Font 'Noto Sans Devanagari UI' (NotoSansDevanagariUI-Bold.ttf) normal normal 700 normal>) = 10.335\n",
      "DEBUG:matplotlib.font_manager:findfont: score(<Font 'Noto Sans Limbu' (NotoSansLimbu-Regular.ttf) normal normal 400 normal>) = 10.05\n",
      "DEBUG:matplotlib.font_manager:findfont: score(<Font 'Fira Sans' (FiraSans-Ultra.otf) normal normal 950 normal>) = 10.5725\n",
      "DEBUG:matplotlib.font_manager:findfont: score(<Font 'Noto Sans Myanmar UI' (NotoSansMyanmarUI-Regular.ttf) normal normal 400 normal>) = 10.05\n",
      "DEBUG:matplotlib.font_manager:findfont: score(<Font 'Noto Sans Cherokee' (NotoSansCherokee-Bold.ttf) normal normal 700 normal>) = 10.335\n",
      "DEBUG:matplotlib.font_manager:findfont: score(<Font 'Noto Sans Thai' (NotoSansThai-Regular.ttf) normal normal 400 normal>) = 10.05\n",
      "DEBUG:matplotlib.font_manager:findfont: score(<Font 'Noto Sans Tibetan' (NotoSansTibetan-Regular.ttf) normal normal 400 normal>) = 10.05\n",
      "DEBUG:matplotlib.font_manager:findfont: score(<Font 'Fira Sans Condensed' (FiraSansCondensed-ThinItalic.otf) italic normal 100 condensed>) = 11.535\n",
      "DEBUG:matplotlib.font_manager:findfont: score(<Font 'Noto Sans Lycian' (NotoSansLycian-Regular.ttf) normal normal 400 normal>) = 10.05\n",
      "DEBUG:matplotlib.font_manager:findfont: score(<Font 'Noto Sans Oriya' (NotoSansOriya-Regular.ttf) normal normal 400 normal>) = 10.05\n",
      "DEBUG:matplotlib.font_manager:findfont: score(<Font 'Noto Sans Elbasan' (NotoSansElbasan-Regular.ttf) normal normal 400 normal>) = 10.05\n",
      "DEBUG:matplotlib.font_manager:findfont: score(<Font 'DejaVu Sans Mono' (DejaVuSansMono-BoldOblique.ttf) oblique normal 700 normal>) = 11.335\n",
      "DEBUG:matplotlib.font_manager:findfont: score(<Font 'Fira Sans' (FiraSans-Thin.otf) normal normal 100 normal>) = 10.335\n",
      "DEBUG:matplotlib.font_manager:findfont: score(<Font 'Noto Sans Ethiopic' (NotoSansEthiopic-Bold.ttf) normal normal 700 normal>) = 10.335\n",
      "DEBUG:matplotlib.font_manager:findfont: score(<Font 'Fira Sans Compressed' (firasanscompressed-extralightitalic.otf) italic normal 250 normal>) = 11.1925\n",
      "DEBUG:matplotlib.font_manager:findfont: score(<Font 'Noto Serif Tamil Slanted' (NotoSerifTamilSlanted-Regular.ttf) normal normal 400 normal>) = 10.05\n",
      "DEBUG:matplotlib.font_manager:findfont: score(<Font 'FreeSans' (FreeSansOblique.ttf) oblique normal 400 normal>) = 11.05\n",
      "DEBUG:matplotlib.font_manager:findfont: score(<Font 'Noto Serif CJK JP' (NotoSerifCJK-Regular.ttc) normal normal 400 normal>) = 10.05\n",
      "DEBUG:matplotlib.font_manager:findfont: score(<Font 'DejaVu Sans' (DejaVuSans-BoldOblique.ttf) oblique normal 700 normal>) = 1.335\n",
      "DEBUG:matplotlib.font_manager:findfont: score(<Font 'Fira Sans Compressed' (firasanscompressed-ultralight.otf) normal normal 200 normal>) = 10.24\n",
      "DEBUG:matplotlib.font_manager:findfont: score(<Font 'Roboto Slab' (RobotoSlab-Bold.ttf) normal normal 700 normal>) = 10.335\n",
      "DEBUG:matplotlib.font_manager:findfont: score(<Font 'Noto Kufi Arabic' (NotoKufiArabic-Regular.ttf) normal normal 400 normal>) = 10.05\n",
      "DEBUG:matplotlib.font_manager:findfont: score(<Font 'Nimbus Mono PS' (NimbusMonoPS-Italic.otf) italic normal 400 normal>) = 11.05\n",
      "DEBUG:matplotlib.font_manager:findfont: score(<Font 'FreeSerif' (FreeSerifItalic.ttf) italic normal 400 normal>) = 11.05\n",
      "DEBUG:matplotlib.font_manager:findfont: score(<Font 'Noto Serif Bengali' (NotoSerifBengali-Bold.ttf) normal normal 700 normal>) = 10.335\n",
      "DEBUG:matplotlib.font_manager:findfont: score(<Font 'Noto Sans Tamil' (NotoSansTamil-Regular.ttf) normal normal 400 normal>) = 10.05\n",
      "DEBUG:matplotlib.font_manager:findfont: score(<Font 'Noto Sans Arabic' (NotoSansArabic-Regular.ttf) normal normal 400 normal>) = 10.05\n",
      "DEBUG:matplotlib.font_manager:findfont: score(<Font 'Noto Serif Tamil' (NotoSerifTamil-Bold.ttf) normal normal 700 normal>) = 10.335\n",
      "DEBUG:matplotlib.font_manager:findfont: score(<Font 'Noto Sans Oriya UI' (NotoSansOriyaUI-Regular.ttf) normal normal 400 normal>) = 10.05\n",
      "DEBUG:matplotlib.font_manager:findfont: score(<Font 'FreeSerif' (FreeSerifBoldItalic.ttf) italic normal 700 normal>) = 11.335\n",
      "DEBUG:matplotlib.font_manager:findfont: score(<Font 'Fira Sans Condensed' (FiraSansCondensed-TwoItalic.otf) italic normal 100 condensed>) = 11.535\n",
      "DEBUG:matplotlib.font_manager:findfont: score(<Font 'Noto Sans Marchen' (NotoSansMarchen-Regular.ttf) normal normal 400 normal>) = 10.05\n",
      "DEBUG:matplotlib.font_manager:findfont: score(<Font 'Liberation Sans' (LiberationSans-BoldItalic.ttf) italic normal 700 normal>) = 11.335\n",
      "DEBUG:matplotlib.font_manager:findfont: score(<Font 'Noto Serif Thai' (NotoSerifThai-Bold.ttf) normal normal 700 normal>) = 10.335\n",
      "DEBUG:matplotlib.font_manager:findfont: score(<Font 'Noto Serif' (NotoSerif-Bold.ttf) normal normal 700 normal>) = 10.335\n",
      "DEBUG:matplotlib.font_manager:findfont: score(<Font 'Fira Sans' (FiraSans-HeavyItalic.otf) italic normal 900 normal>) = 11.525\n",
      "DEBUG:matplotlib.font_manager:findfont: score(<Font 'DejaVu Serif' (DejaVuSerif-BoldItalic.ttf) italic normal 700 normal>) = 11.335\n",
      "DEBUG:matplotlib.font_manager:findfont: score(<Font 'Noto Sans Glagolitic' (NotoSansGlagolitic-Regular.ttf) normal normal 400 normal>) = 10.05\n",
      "DEBUG:matplotlib.font_manager:findfont: score(<Font 'Noto Serif' (NotoSerif-Regular.ttf) normal normal 400 normal>) = 10.05\n",
      "DEBUG:matplotlib.font_manager:findfont: score(<Font 'Fira Sans Condensed' (FiraSansCondensed-ExtraBoldItalic.otf) italic normal 800 condensed>) = 11.629999999999999\n",
      "DEBUG:matplotlib.font_manager:findfont: score(<Font 'Noto Sans Khojki' (NotoSansKhojki-Regular.ttf) normal normal 400 normal>) = 10.05\n",
      "DEBUG:matplotlib.font_manager:findfont: score(<Font 'Noto Sans Duployan' (NotoSansDuployan-Regular.ttf) normal normal 400 normal>) = 10.05\n",
      "DEBUG:matplotlib.font_manager:findfont: score(<Font 'Noto Sans Myanmar UI' (NotoSansMyanmarUI-Bold.ttf) normal normal 700 normal>) = 10.335\n",
      "DEBUG:matplotlib.font_manager:findfont: score(<Font 'Noto Sans Sinhala' (NotoSansSinhala-Regular.ttf) normal normal 400 normal>) = 10.05\n",
      "DEBUG:matplotlib.font_manager:findfont: score(<Font 'Noto Sans Old Italic' (NotoSansOldItalic-Regular.ttf) italic normal 400 normal>) = 11.05\n",
      "DEBUG:matplotlib.font_manager:findfont: score(<Font 'Noto Sans Runic' (NotoSansRunic-Regular.ttf) normal normal 400 normal>) = 10.05\n",
      "DEBUG:matplotlib.font_manager:findfont: score(<Font 'Noto Sans Palmyrene' (NotoSansPalmyrene-Regular.ttf) normal normal 400 normal>) = 10.05\n",
      "DEBUG:matplotlib.font_manager:findfont: score(<Font 'Noto Serif Lao' (NotoSerifLao-Bold.ttf) normal normal 700 normal>) = 10.335\n",
      "DEBUG:matplotlib.font_manager:findfont: score(<Font 'P052' (P052-Roman.otf) normal normal 400 normal>) = 10.05\n",
      "DEBUG:matplotlib.font_manager:findfont: score(<Font 'Noto Sans Tamil UI' (NotoSansTamilUI-Bold.ttf) normal normal 700 normal>) = 10.335\n",
      "DEBUG:matplotlib.font_manager:findfont: score(<Font 'Noto Serif Hebrew' (NotoSerifHebrew-Bold.ttf) normal normal 700 normal>) = 10.335\n",
      "DEBUG:matplotlib.font_manager:findfont: score(<Font 'Fira Sans Compressed' (firasanscompressed-fouritalic.otf) italic normal 100 normal>) = 11.335\n",
      "DEBUG:matplotlib.font_manager:findfont: score(<Font 'Noto Sans Deseret' (NotoSansDeseret-Regular.ttf) normal normal 400 normal>) = 10.05\n",
      "DEBUG:matplotlib.font_manager:findfont: score(<Font 'Fira Sans Condensed' (FiraSansCondensed-Light.otf) normal normal 300 condensed>) = 10.344999999999999\n",
      "DEBUG:matplotlib.font_manager:findfont: score(<Font 'Noto Sans Old Permic' (NotoSansOldPermic-Regular.ttf) normal normal 400 normal>) = 10.05\n",
      "DEBUG:matplotlib.font_manager:findfont: score(<Font 'Fira Sans Condensed' (FiraSansCondensed-Bold.otf) normal normal 700 condensed>) = 10.535\n",
      "DEBUG:matplotlib.font_manager:findfont: score(<Font 'Fira Sans Compressed' (firasanscompressed-hair.otf) normal normal 100 normal>) = 10.335\n",
      "DEBUG:matplotlib.font_manager:findfont: score(<Font 'Noto Sans Mongolian' (NotoSansMongolian-Regular.ttf) normal normal 400 normal>) = 10.05\n"
     ]
    },
    {
     "name": "stderr",
     "output_type": "stream",
     "text": [
      "DEBUG:matplotlib.font_manager:findfont: score(<Font 'Noto Serif Devanagari' (NotoSerifDevanagari-Regular.ttf) normal normal 400 normal>) = 10.05\n",
      "DEBUG:matplotlib.font_manager:findfont: score(<Font 'Nimbus Roman' (NimbusRoman-Italic.otf) italic normal 400 normal>) = 11.05\n",
      "DEBUG:matplotlib.font_manager:findfont: score(<Font 'Liberation Mono' (LiberationMono-Italic.ttf) italic normal 400 normal>) = 11.05\n",
      "DEBUG:matplotlib.font_manager:findfont: score(<Font 'Noto Sans PhagsPa' (NotoSansPhagsPa-Regular.ttf) normal normal 400 normal>) = 10.05\n",
      "DEBUG:matplotlib.font_manager:findfont: score(<Font 'Fira Sans Compressed' (FiraSansCompressed-HeavyItalic.otf) italic normal 900 normal>) = 11.525\n",
      "DEBUG:matplotlib.font_manager:findfont: score(<Font 'Noto Mono' (NotoMono-Regular.ttf) normal normal 400 normal>) = 10.05\n",
      "DEBUG:matplotlib.font_manager:findfont: score(<Font 'Noto Sans Lydian' (NotoSansLydian-Regular.ttf) normal normal 400 normal>) = 10.05\n",
      "DEBUG:matplotlib.font_manager:findfont: score(<Font 'Fira Sans' (FiraSans-ExtraLight.otf) normal normal 250 normal>) = 10.1925\n",
      "DEBUG:matplotlib.font_manager:findfont: score(<Font 'Noto Serif Dogra' (NotoSerifDogra-Regular.ttf) normal normal 400 normal>) = 10.05\n",
      "DEBUG:matplotlib.font_manager:findfont: score(<Font 'Noto Nastaliq Urdu' (NotoNastaliqUrdu-Regular.ttf) normal normal 400 normal>) = 10.05\n",
      "DEBUG:matplotlib.font_manager:findfont: score(<Font 'DejaVu Sans' (DejaVuSansCondensed-Oblique.ttf) oblique normal 400 condensed>) = 1.25\n",
      "DEBUG:matplotlib.font_manager:findfont: score(<Font 'Fira Sans Condensed' (FiraSansCondensed-ExtraBold.otf) normal normal 800 condensed>) = 10.629999999999999\n",
      "DEBUG:matplotlib.font_manager:findfont: score(<Font 'DejaVu Serif' (DejaVuSerifCondensed-Bold.ttf) normal normal 700 condensed>) = 10.535\n",
      "DEBUG:matplotlib.font_manager:findfont: score(<Font 'Fira Sans Compressed' (FiraSansCompressed-SemiBoldItalic.otf) italic normal 600 normal>) = 11.24\n",
      "DEBUG:matplotlib.font_manager:findfont: score(<Font 'Noto Sans Vai' (NotoSansVai-Regular.ttf) normal normal 400 normal>) = 10.05\n",
      "DEBUG:matplotlib.font_manager:findfont: score(<Font 'Fira Sans Condensed' (FiraSansCondensed-Four.otf) normal normal 100 condensed>) = 10.535\n",
      "DEBUG:matplotlib.font_manager:findfont: score(<Font 'Noto Sans Mayan Numerals' (NotoSansMayanNumerals-Regular.ttf) normal normal 400 normal>) = 10.05\n",
      "DEBUG:matplotlib.font_manager:findfont: score(<Font 'Noto Serif Sinhala' (NotoSerifSinhala-Regular.ttf) normal normal 400 normal>) = 10.05\n",
      "DEBUG:matplotlib.font_manager:findfont: score(<Font 'Noto Sans Khudawadi' (NotoSansKhudawadi-Regular.ttf) normal normal 400 normal>) = 10.05\n",
      "DEBUG:matplotlib.font_manager:findfont: score(<Font 'URW Gothic' (URWGothic-Demi.otf) normal normal 600 normal>) = 10.24\n",
      "DEBUG:matplotlib.font_manager:findfont: score(<Font 'Noto Sans Mono' (NotoSansMono-Regular.ttf) normal normal 400 normal>) = 10.05\n",
      "DEBUG:matplotlib.font_manager:findfont: score(<Font 'Noto Sans Tirhuta' (NotoSansTirhuta-Regular.ttf) normal normal 400 normal>) = 10.05\n",
      "DEBUG:matplotlib.font_manager:findfont: score(<Font 'Liberation Serif' (LiberationSerif-BoldItalic.ttf) italic normal 700 normal>) = 11.335\n",
      "DEBUG:matplotlib.font_manager:findfont: score(<Font 'Noto Sans Mandaic' (NotoSansMandaic-Regular.ttf) normal normal 400 normal>) = 10.05\n",
      "DEBUG:matplotlib.font_manager:findfont: score(<Font 'Fira Sans' (FiraSans-UltraLightItalic.otf) italic normal 200 normal>) = 11.24\n",
      "DEBUG:matplotlib.font_manager:findfont: score(<Font 'Fira Sans' (FiraSans-ExtraBold.otf) normal normal 800 normal>) = 10.43\n",
      "DEBUG:matplotlib.font_manager:findfont: score(<Font 'Roboto Slab' (RobotoSlab-Light.ttf) normal normal 300 normal>) = 10.145\n",
      "DEBUG:matplotlib.font_manager:findfont: score(<Font 'Noto Kufi Arabic' (NotoKufiArabic-Bold.ttf) normal normal 700 normal>) = 10.335\n",
      "DEBUG:matplotlib.font_manager:findfont: score(<Font 'Nimbus Mono PS' (NimbusMonoPS-Bold.otf) normal normal 700 normal>) = 10.335\n",
      "DEBUG:matplotlib.font_manager:findfont: score(<Font 'Noto Sans Thai UI' (NotoSansThaiUI-Bold.ttf) normal normal 700 normal>) = 10.335\n",
      "DEBUG:matplotlib.font_manager:findfont: score(<Font 'Fira Sans Condensed' (FiraSansCondensed-UltraLightItalic.otf) italic normal 200 condensed>) = 11.44\n",
      "DEBUG:matplotlib.font_manager:findfont: score(<Font 'Liberation Mono' (LiberationMono-Regular.ttf) normal normal 400 normal>) = 10.05\n",
      "DEBUG:matplotlib.font_manager:findfont: score(<Font 'Noto Sans Tagbanwa' (NotoSansTagbanwa-Regular.ttf) normal normal 400 normal>) = 10.05\n",
      "DEBUG:matplotlib.font_manager:findfont: score(<Font 'Ubuntu Mono' (UbuntuMono-B.ttf) normal normal 700 normal>) = 10.335\n",
      "DEBUG:matplotlib.font_manager:findfont: score(<Font 'DejaVu Sans' (DejaVuSans-Oblique.ttf) oblique normal 400 normal>) = 1.05\n",
      "DEBUG:matplotlib.font_manager:findfont: score(<Font 'Fira Sans Compressed' (FiraSansCompressed-MediumItalic.otf) italic normal 500 normal>) = 11.145\n",
      "DEBUG:matplotlib.font_manager:findfont: score(<Font 'Noto Sans Gujarati' (NotoSansGujarati-Regular.ttf) normal normal 400 normal>) = 10.05\n",
      "DEBUG:matplotlib.font_manager:findfont: score(<Font 'Noto Sans Old Sogdian' (NotoSansOldSogdian-Regular.ttf) normal normal 400 normal>) = 10.05\n",
      "DEBUG:matplotlib.font_manager:findfont: score(<Font 'DejaVu Serif' (DejaVuSerif.ttf) normal normal 400 normal>) = 10.05\n",
      "DEBUG:matplotlib.font_manager:findfont: score(<Font 'Liberation Sans Narrow' (LiberationSansNarrow-Regular.ttf) normal normal 400 condensed>) = 10.25\n",
      "DEBUG:matplotlib.font_manager:findfont: score(<Font 'FreeMono' (FreeMono.ttf) normal normal 400 normal>) = 10.05\n",
      "DEBUG:matplotlib.font_manager:findfont: score(<Font 'Noto Sans Bengali' (NotoSansBengali-Regular.ttf) normal normal 400 normal>) = 10.05\n",
      "DEBUG:matplotlib.font_manager:findfont: score(<Font 'Noto Sans Tagalog' (NotoSansTagalog-Regular.ttf) normal normal 400 normal>) = 10.05\n",
      "DEBUG:matplotlib.font_manager:findfont: score(<Font 'Z003' (Z003-MediumItalic.otf) italic normal 500 normal>) = 11.145\n",
      "DEBUG:matplotlib.font_manager:findfont: score(<Font 'Noto Sans Osmanya' (NotoSansOsmanya-Regular.ttf) normal normal 400 normal>) = 10.05\n",
      "DEBUG:matplotlib.font_manager:findfont: score(<Font 'Noto Sans Lao' (NotoSansLao-Bold.ttf) normal normal 700 normal>) = 10.335\n",
      "DEBUG:matplotlib.font_manager:findfont: score(<Font 'Fira Sans Condensed' (FiraSansCondensed-UltraLight.otf) normal normal 200 condensed>) = 10.44\n",
      "DEBUG:matplotlib.font_manager:findfont: score(<Font 'Nimbus Roman' (NimbusRoman-BoldItalic.otf) italic normal 700 normal>) = 11.335\n",
      "DEBUG:matplotlib.font_manager:findfont: score(<Font 'Fira Sans' (FiraSans-TwoItalic.otf) italic normal 100 normal>) = 11.335\n",
      "DEBUG:matplotlib.font_manager:findfont: score(<Font 'Noto Sans Old Turkic' (NotoSansOldTurkic-Regular.ttf) normal normal 400 normal>) = 10.05\n",
      "DEBUG:matplotlib.font_manager:findfont: score(<Font 'Fira Sans' (FiraSans-Two.otf) normal normal 100 normal>) = 10.335\n",
      "DEBUG:matplotlib.font_manager:findfont: score(<Font 'Noto Serif Tibetan' (NotoSerifTibetan-Bold.ttf) normal normal 700 normal>) = 10.335\n",
      "DEBUG:matplotlib.font_manager:findfont: score(<Font 'Fira Sans Compressed' (firasanscompressed-two.otf) normal normal 100 normal>) = 10.335\n",
      "DEBUG:matplotlib.font_manager:findfont: score(<Font 'Noto Sans Arabic' (NotoSansArabic-Bold.ttf) normal normal 700 normal>) = 10.335\n",
      "DEBUG:matplotlib.font_manager:findfont: score(<Font 'Noto Sans Bamum' (NotoSansBamum-Regular.ttf) normal normal 400 normal>) = 10.05\n",
      "DEBUG:matplotlib.font_manager:findfont: score(<Font 'Noto Sans Lao UI' (NotoSansLaoUI-Regular.ttf) normal normal 400 normal>) = 10.05\n",
      "DEBUG:matplotlib.font_manager:findfont: score(<Font 'Noto Sans Symbols2' (NotoSansSymbols2-Regular.ttf) normal normal 400 normal>) = 10.05\n",
      "DEBUG:matplotlib.font_manager:findfont: score(<Font 'Noto Sans Cham' (NotoSansCham-Regular.ttf) normal normal 400 normal>) = 10.05\n",
      "DEBUG:matplotlib.font_manager:findfont: score(<Font 'Noto Serif CJK JP' (NotoSerifCJK-Bold.ttc) normal normal 700 normal>) = 10.335\n",
      "DEBUG:matplotlib.font_manager:findfont: score(<Font 'Fira Sans Condensed' (FiraSansCondensed-Regular.otf) normal normal 400 condensed>) = 10.25\n",
      "DEBUG:matplotlib.font_manager:findfont: score(<Font 'Noto Serif Gujarati' (NotoSerifGujarati-Bold.ttf) normal normal 700 normal>) = 10.335\n"
     ]
    },
    {
     "name": "stderr",
     "output_type": "stream",
     "text": [
      "DEBUG:matplotlib.font_manager:findfont: score(<Font 'Fira Sans Compressed' (FiraSansCompressed-Medium.otf) normal normal 500 normal>) = 10.145\n",
      "DEBUG:matplotlib.font_manager:findfont: score(<Font 'Noto Sans' (NotoSans-Regular.ttf) normal normal 400 normal>) = 10.05\n",
      "DEBUG:matplotlib.font_manager:findfont: score(<Font 'Noto Sans Malayalam' (NotoSansMalayalam-Bold.ttf) normal normal 700 normal>) = 10.335\n",
      "DEBUG:matplotlib.font_manager:findfont: score(<Font 'Noto Sans Brahmi' (NotoSansBrahmi-Regular.ttf) normal normal 400 normal>) = 10.05\n",
      "DEBUG:matplotlib.font_manager:findfont: score(<Font 'Noto Music' (NotoMusic-Regular.ttf) normal normal 400 normal>) = 10.05\n",
      "DEBUG:matplotlib.font_manager:findfont: score(<Font 'Noto Serif Khmer' (NotoSerifKhmer-Regular.ttf) normal normal 400 normal>) = 10.05\n",
      "DEBUG:matplotlib.font_manager:findfont: score(<Font 'Noto Sans Telugu UI' (NotoSansTeluguUI-Regular.ttf) normal normal 400 normal>) = 10.05\n",
      "DEBUG:matplotlib.font_manager:findfont: score(<Font 'Noto Sans Mro' (NotoSansMro-Regular.ttf) normal normal 400 normal>) = 10.05\n",
      "DEBUG:matplotlib.font_manager:findfont: score(<Font 'Liberation Sans' (LiberationSans-Italic.ttf) italic normal 400 normal>) = 11.05\n",
      "DEBUG:matplotlib.font_manager:findfont: score(<Font 'Noto Sans Carian' (NotoSansCarian-Regular.ttf) normal normal 400 normal>) = 10.05\n",
      "DEBUG:matplotlib.font_manager:findfont: score(<Font 'Noto Sans Sinhala UI' (NotoSansSinhalaUI-Regular.ttf) normal normal 400 normal>) = 10.05\n",
      "DEBUG:matplotlib.font_manager:findfont: score(<Font 'Noto Sans NKo' (NotoSansNKo-Regular.ttf) normal normal 400 normal>) = 10.05\n",
      "DEBUG:matplotlib.font_manager:findfont: score(<Font 'Fira Sans' (FiraSans-ExtraLightItalic.otf) italic normal 250 normal>) = 11.1925\n",
      "DEBUG:matplotlib.font_manager:findfont: score(<Font 'Noto Sans Thaana' (NotoSansThaana-Regular.ttf) normal normal 400 normal>) = 10.05\n",
      "DEBUG:matplotlib.font_manager:findfont: score(<Font 'OpenSymbol' (opens___.ttf) normal normal 400 normal>) = 10.05\n",
      "DEBUG:matplotlib.font_manager:findfont: score(<Font 'Noto Sans Tibetan' (NotoSansTibetan-Bold.ttf) normal normal 700 normal>) = 10.335\n",
      "DEBUG:matplotlib.font_manager:findfont: score(<Font 'Ubuntu' (Ubuntu-Th.ttf) normal normal 250 normal>) = 10.1925\n",
      "DEBUG:matplotlib.font_manager:findfont: score(<Font 'Noto Sans Arabic UI' (NotoSansArabicUI-Bold.ttf) normal normal 700 normal>) = 10.335\n",
      "DEBUG:matplotlib.font_manager:findfont: score(<Font 'Noto Sans' (NotoSans-Bold.ttf) normal normal 700 normal>) = 10.335\n",
      "DEBUG:matplotlib.font_manager:findfont: score(<Font 'Fira Sans Compressed' (firasanscompressed-extralight.otf) normal normal 250 normal>) = 10.1925\n",
      "DEBUG:matplotlib.font_manager:findfont: score(<Font 'Noto Serif Malayalam' (NotoSerifMalayalam-Regular.ttf) normal normal 400 normal>) = 10.05\n",
      "DEBUG:matplotlib.font_manager:findfont: score(<Font 'Noto Sans Malayalam UI' (NotoSansMalayalamUI-Bold.ttf) normal normal 700 normal>) = 10.335\n",
      "DEBUG:matplotlib.font_manager:findfont: score(<Font 'Noto Serif Gurmukhi' (NotoSerifGurmukhi-Regular.ttf) normal normal 400 normal>) = 10.05\n",
      "DEBUG:matplotlib.font_manager:findfont: score(<Font 'Noto Sans Osage' (NotoSansOsage-Regular.ttf) normal normal 400 normal>) = 10.05\n",
      "DEBUG:matplotlib.font_manager:findfont: score(<Font 'Noto Sans Tai Le' (NotoSansTaiLe-Regular.ttf) normal normal 400 normal>) = 10.05\n",
      "DEBUG:matplotlib.font_manager:findfont: score(<Font 'Noto Serif Myanmar' (NotoSerifMyanmar-Regular.ttf) normal normal 400 normal>) = 10.05\n",
      "DEBUG:matplotlib.font_manager:findfont: score(<Font 'Fira Sans Compressed' (FiraSansCompressed-SemiBold.otf) normal normal 600 normal>) = 10.24\n",
      "DEBUG:matplotlib.font_manager:findfont: score(<Font 'Noto Sans Grantha' (NotoSansGrantha-Regular.ttf) normal normal 400 normal>) = 10.05\n",
      "DEBUG:matplotlib.font_manager:findfont: score(<Font 'Noto Serif Georgian' (NotoSerifGeorgian-Bold.ttf) normal normal 700 normal>) = 10.335\n",
      "DEBUG:matplotlib.font_manager:findfont: score(<Font 'Noto Sans Newa' (NotoSansNewa-Regular.ttf) normal normal 400 normal>) = 10.05\n",
      "DEBUG:matplotlib.font_manager:findfont: score(<Font 'Ubuntu' (Ubuntu-LI.ttf) italic normal 300 normal>) = 11.145\n",
      "DEBUG:matplotlib.font_manager:findfont: score(<Font 'Noto Sans Psalter Pahlavi' (NotoSansPsalterPahlavi-Regular.ttf) normal normal 400 normal>) = 10.05\n",
      "DEBUG:matplotlib.font_manager:findfont: score(<Font 'Noto Sans Gurmukhi' (NotoSansGurmukhi-Bold.ttf) normal normal 700 normal>) = 10.335\n",
      "DEBUG:matplotlib.font_manager:findfont: score(<Font 'Noto Sans Bhaiksuki' (NotoSansBhaiksuki-Regular.ttf) normal normal 400 normal>) = 10.05\n",
      "DEBUG:matplotlib.font_manager:findfont: score(<Font 'Noto Serif Gujarati' (NotoSerifGujarati-Regular.ttf) normal normal 400 normal>) = 10.05\n",
      "DEBUG:matplotlib.font_manager:findfont: score(<Font 'Noto Sans Khmer' (NotoSansKhmer-Regular.ttf) normal normal 400 normal>) = 10.05\n",
      "DEBUG:matplotlib.font_manager:findfont: score(<Font 'Noto Sans Display' (NotoSansDisplay-BoldItalic.ttf) italic normal 700 normal>) = 11.335\n",
      "DEBUG:matplotlib.font_manager:findfont: score(<Font 'Noto Sans Myanmar' (NotoSansMyanmar-Regular.ttf) normal normal 400 normal>) = 10.05\n",
      "DEBUG:matplotlib.font_manager:findfont: score(<Font 'Roboto Slab' (RobotoSlab-Thin.ttf) normal normal 250 normal>) = 10.1925\n",
      "DEBUG:matplotlib.font_manager:findfont: score(<Font 'Fira Sans Compressed' (firasanscompressed-thinitalic.otf) italic normal 100 normal>) = 11.335\n",
      "DEBUG:matplotlib.font_manager:findfont: score(<Font 'Noto Sans Malayalam UI' (NotoSansMalayalamUI-Regular.ttf) normal normal 400 normal>) = 10.05\n",
      "DEBUG:matplotlib.font_manager:findfont: score(<Font 'Noto Sans New Tai Lue' (NotoSansNewTaiLue-Regular.ttf) normal normal 400 normal>) = 10.05\n",
      "DEBUG:matplotlib.font_manager:findfont: score(<Font 'Noto Sans Hanifi Rohingya' (NotoSansHanifiRohingya-Regular.ttf) normal normal 400 normal>) = 10.05\n",
      "DEBUG:matplotlib.font_manager:findfont: score(<Font 'Nimbus Sans' (NimbusSans-BoldItalic.otf) italic normal 700 normal>) = 11.335\n",
      "DEBUG:matplotlib.font_manager:findfont: score(<Font 'Fira Sans' (FiraSans-Bold.otf) normal normal 700 normal>) = 10.335\n",
      "DEBUG:matplotlib.font_manager:findfont: score(<Font 'Noto Serif Armenian' (NotoSerifArmenian-Bold.ttf) normal normal 700 normal>) = 10.335\n",
      "DEBUG:matplotlib.font_manager:findfont: score(<Font 'Fira Sans' (FiraSans-Light.otf) normal normal 300 normal>) = 10.145\n",
      "DEBUG:matplotlib.font_manager:findfont: score(<Font 'Fira Sans Compressed' (firasanscompressed-twoitalic.otf) italic normal 100 normal>) = 11.335\n",
      "DEBUG:matplotlib.font_manager:findfont: score(<Font 'URW Bookman' (URWBookman-DemiItalic.otf) italic normal 600 normal>) = 11.24\n",
      "DEBUG:matplotlib.font_manager:findfont: score(<Font 'Noto Serif' (NotoSerif-Italic.ttf) italic normal 400 normal>) = 11.05\n",
      "DEBUG:matplotlib.font_manager:findfont: score(<Font 'Noto Sans Takri' (NotoSansTakri-Regular.ttf) normal normal 400 normal>) = 10.05\n",
      "DEBUG:matplotlib.font_manager:findfont: score(<Font 'Liberation Mono' (LiberationMono-BoldItalic.ttf) italic normal 700 normal>) = 11.335\n",
      "DEBUG:matplotlib.font_manager:findfont: score(<Font 'Noto Serif CJK JP' (NotoSerifCJK-Medium.ttc) normal normal 500 normal>) = 10.145\n",
      "DEBUG:matplotlib.font_manager:findfont: score(<Font 'Noto Sans CJK JP' (NotoSansCJK-Light.ttc) normal normal 300 normal>) = 10.145\n",
      "DEBUG:matplotlib.font_manager:findfont: score(<Font 'Noto Serif' (NotoSerif-BoldItalic.ttf) italic normal 700 normal>) = 11.335\n",
      "DEBUG:matplotlib.font_manager:findfont: score(<Font 'Noto Sans Warang Citi' (NotoSansWarangCiti-Regular.ttf) normal normal 400 normal>) = 10.05\n",
      "DEBUG:matplotlib.font_manager:findfont: score(<Font 'Fira Sans' (FiraSans-Medium.otf) normal normal 500 normal>) = 10.145\n",
      "DEBUG:matplotlib.font_manager:findfont: score(<Font 'URW Gothic' (URWGothic-DemiOblique.otf) oblique normal 600 normal>) = 11.24\n",
      "DEBUG:matplotlib.font_manager:findfont: score(<Font 'Noto Sans Tamil UI' (NotoSansTamilUI-Regular.ttf) normal normal 400 normal>) = 10.05\n",
      "DEBUG:matplotlib.font_manager:findfont: score(<Font 'Noto Sans Display' (NotoSansDisplay-Bold.ttf) normal normal 700 normal>) = 10.335\n",
      "DEBUG:matplotlib.font_manager:findfont: score(<Font 'Fira Sans Compressed' (firasanscompressed-eightitalic.otf) italic normal 100 normal>) = 11.335\n"
     ]
    },
    {
     "name": "stderr",
     "output_type": "stream",
     "text": [
      "DEBUG:matplotlib.font_manager:findfont: score(<Font 'URW Bookman' (URWBookman-Demi.otf) normal normal 600 normal>) = 10.24\n",
      "DEBUG:matplotlib.font_manager:findfont: score(<Font 'Noto Sans Cherokee' (NotoSansCherokee-Regular.ttf) normal normal 400 normal>) = 10.05\n",
      "DEBUG:matplotlib.font_manager:findfont: score(<Font 'Fira Sans Condensed' (FiraSansCondensed-HairItalic.otf) italic normal 100 condensed>) = 11.535\n",
      "DEBUG:matplotlib.font_manager:findfont: score(<Font 'Noto Serif Hebrew' (NotoSerifHebrew-Regular.ttf) normal normal 400 normal>) = 10.05\n",
      "DEBUG:matplotlib.font_manager:findfont: score(<Font 'Ubuntu' (Ubuntu-M.ttf) normal normal 500 normal>) = 10.145\n",
      "DEBUG:matplotlib.font_manager:findfont: score(<Font 'Noto Sans Old South Arabian' (NotoSansOldSouthArabian-Regular.ttf) normal normal 400 normal>) = 10.05\n",
      "DEBUG:matplotlib.font_manager:findfont: score(<Font 'Fira Sans Compressed' (firasanscompressed-thin.otf) normal normal 100 normal>) = 10.335\n",
      "DEBUG:matplotlib.font_manager:findfont: score(<Font 'Fira Sans Condensed' (FiraSansCondensed-SemiBoldItalic.otf) italic normal 600 condensed>) = 11.44\n",
      "DEBUG:matplotlib.font_manager:findfont: score(<Font 'Noto Sans Chakma' (NotoSansChakma-Regular.ttf) normal normal 400 normal>) = 10.05\n",
      "DEBUG:matplotlib.font_manager:findfont: score(<Font 'Noto Sans Khmer UI' (NotoSansKhmerUI-Bold.ttf) normal normal 700 normal>) = 10.335\n",
      "DEBUG:matplotlib.font_manager:findfont: score(<Font 'Noto Sans Symbols' (NotoSansSymbols-Regular.ttf) normal normal 400 normal>) = 10.05\n",
      "DEBUG:matplotlib.font_manager:findfont: score(<Font 'Liberation Sans' (LiberationSans-Bold.ttf) normal normal 700 normal>) = 10.335\n",
      "DEBUG:matplotlib.font_manager:findfont: score(<Font 'DejaVu Serif' (DejaVuSerifCondensed.ttf) normal normal 400 condensed>) = 10.25\n",
      "DEBUG:matplotlib.font_manager:findfont: score(<Font 'Fira Sans' (FiraSans-LightItalic.otf) italic normal 300 normal>) = 11.145\n",
      "DEBUG:matplotlib.font_manager:findfont: score(<Font 'Noto Sans Tifinagh' (NotoSansTifinagh-Regular.ttf) normal normal 400 normal>) = 10.05\n",
      "DEBUG:matplotlib.font_manager:findfont: score(<Font 'Fira Sans' (FiraSans-Heavy.otf) normal normal 900 normal>) = 10.525\n",
      "DEBUG:matplotlib.font_manager:findfont: score(<Font 'Noto Serif Myanmar' (NotoSerifMyanmar-Bold.ttf) normal normal 700 normal>) = 10.335\n",
      "DEBUG:matplotlib.font_manager:findfont: score(<Font 'C059' (C059-Bold.otf) normal normal 700 normal>) = 10.335\n",
      "DEBUG:matplotlib.font_manager:findfont: score(<Font 'Fira Sans' (FiraSans-UltraLight.otf) normal normal 200 normal>) = 10.24\n",
      "DEBUG:matplotlib.font_manager:findfont: score(<Font 'Liberation Serif' (LiberationSerif-Regular.ttf) normal normal 400 normal>) = 10.05\n",
      "DEBUG:matplotlib.font_manager:findfont: score(<Font 'URW Gothic' (URWGothic-BookOblique.otf) oblique normal 400 normal>) = 11.05\n",
      "DEBUG:matplotlib.font_manager:findfont: score(<Font 'Noto Sans Canadian Aboriginal' (NotoSansCanadianAboriginal-Regular.ttf) normal normal 400 normal>) = 10.05\n",
      "DEBUG:matplotlib.font_manager:findfont: score(<Font 'FreeSerif' (FreeSerifBold.ttf) normal normal 700 normal>) = 10.335\n",
      "DEBUG:matplotlib.font_manager:findfont: score(<Font 'Fira Sans Condensed' (FiraSansCondensed-HeavyItalic.otf) italic normal 900 condensed>) = 11.725\n",
      "DEBUG:matplotlib.font_manager:findfont: score(<Font 'Noto Serif Tibetan' (NotoSerifTibetan-Regular.ttf) normal normal 400 normal>) = 10.05\n",
      "DEBUG:matplotlib.font_manager:findfont: score(<Font 'Ubuntu Mono' (UbuntuMono-RI.ttf) italic normal 400 normal>) = 11.05\n",
      "DEBUG:matplotlib.font_manager:findfont: score(<Font 'Noto Naskh Arabic' (NotoNaskhArabic-Bold.ttf) normal normal 700 normal>) = 10.335\n",
      "DEBUG:matplotlib.font_manager:findfont: score(<Font 'DejaVu Serif' (DejaVuSerif-Bold.ttf) normal normal 700 normal>) = 10.335\n",
      "DEBUG:matplotlib.font_manager:findfont: score(<Font 'Noto Sans Sinhala' (NotoSansSinhala-Bold.ttf) normal normal 700 normal>) = 10.335\n",
      "DEBUG:matplotlib.font_manager:findfont: score(<Font 'Fira Sans Compressed' (firasanscompressed-eight.otf) normal normal 100 normal>) = 10.335\n",
      "DEBUG:matplotlib.font_manager:findfont: score(<Font 'Noto Sans Egyptian Hieroglyphs' (NotoSansEgyptianHieroglyphs-Regular.ttf) normal normal 400 normal>) = 10.05\n",
      "DEBUG:matplotlib.font_manager:findfont: score(<Font 'Noto Sans Tamil Supplement' (NotoSansTamilSupplement-Regular.ttf) normal normal 400 normal>) = 10.05\n",
      "DEBUG:matplotlib.font_manager:findfont: score(<Font 'Fira Sans Compressed' (FiraSansCompressed-Bold.otf) normal normal 700 normal>) = 10.335\n",
      "DEBUG:matplotlib.font_manager:findfont: score(<Font 'Noto Sans Miao' (NotoSansMiao-Regular.ttf) normal normal 400 normal>) = 10.05\n",
      "DEBUG:matplotlib.font_manager:findfont: score(<Font 'Noto Sans Sharada' (NotoSansSharada-Regular.ttf) normal normal 400 normal>) = 10.05\n",
      "DEBUG:matplotlib.font_manager:findfont: score(<Font 'Noto Sans CJK JP' (NotoSansCJK-Thin.ttc) normal normal 100 normal>) = 10.335\n",
      "DEBUG:matplotlib.font_manager:findfont: score(<Font 'Noto Serif Bengali' (NotoSerifBengali-Regular.ttf) normal normal 400 normal>) = 10.05\n",
      "DEBUG:matplotlib.font_manager:findfont: score(<Font 'Noto Sans Arabic UI' (NotoSansArabicUI-Regular.ttf) normal normal 400 normal>) = 10.05\n",
      "DEBUG:matplotlib.font_manager:findfont: score(<Font 'Noto Sans Tai Tham' (NotoSansTaiTham-Regular.ttf) normal normal 400 normal>) = 10.05\n",
      "DEBUG:matplotlib.font_manager:findfont: score(<Font 'Noto Sans Tai Viet' (NotoSansTaiViet-Regular.ttf) normal normal 400 normal>) = 10.05\n",
      "DEBUG:matplotlib.font_manager:findfont: score(<Font 'Nimbus Roman' (NimbusRoman-Regular.otf) normal normal 400 normal>) = 10.05\n",
      "DEBUG:matplotlib.font_manager:findfont: score(<Font 'Noto Sans Display' (NotoSansDisplay-Regular.ttf) normal normal 400 normal>) = 10.05\n",
      "DEBUG:matplotlib.font_manager:findfont: score(<Font 'Noto Sans Cham' (NotoSansCham-Bold.ttf) normal normal 700 normal>) = 10.335\n",
      "DEBUG:matplotlib.font_manager:findfont: score(<Font 'Noto Sans Rejang' (NotoSansRejang-Regular.ttf) normal normal 400 normal>) = 10.05\n",
      "DEBUG:matplotlib.font_manager:findfont: score(<Font 'Noto Sans Meetei Mayek' (NotoSansMeeteiMayek-Regular.ttf) normal normal 400 normal>) = 10.05\n",
      "DEBUG:matplotlib.font_manager:findfont: score(<Font 'Noto Serif Tangut' (NotoSerifTangut-Regular.ttf) normal normal 400 normal>) = 10.05\n",
      "DEBUG:matplotlib.font_manager:findfont: score(<Font 'Noto Sans Canadian Aboriginal' (NotoSansCanadianAboriginal-Bold.ttf) normal normal 700 normal>) = 10.335\n",
      "DEBUG:matplotlib.font_manager:findfont: score(<Font 'Noto Serif Tamil Slanted' (NotoSerifTamilSlanted-Bold.ttf) normal normal 700 normal>) = 10.335\n",
      "DEBUG:matplotlib.font_manager:findfont: score(<Font 'Noto Serif Armenian' (NotoSerifArmenian-Regular.ttf) normal normal 400 normal>) = 10.05\n",
      "DEBUG:matplotlib.font_manager:findfont: score(<Font 'Noto Serif CJK JP' (NotoSerifCJK-Black.ttc) normal normal 900 normal>) = 10.525\n",
      "DEBUG:matplotlib.font_manager:findfont: score(<Font 'Noto Serif Tamil' (NotoSerifTamil-Regular.ttf) normal normal 400 normal>) = 10.05\n",
      "DEBUG:matplotlib.font_manager:findfont: score(<Font 'Noto Sans Lisu' (NotoSansLisu-Regular.ttf) normal normal 400 normal>) = 10.05\n",
      "DEBUG:matplotlib.font_manager:findfont: score(<Font 'FreeSans' (FreeSans.ttf) normal normal 400 normal>) = 10.05\n",
      "DEBUG:matplotlib.font_manager:findfont: score(<Font 'Noto Serif CJK JP' (NotoSerifCJK-SemiBold.ttc) normal normal 600 normal>) = 10.24\n",
      "DEBUG:matplotlib.font_manager:findfont: score(<Font 'Noto Sans CJK JP' (NotoSansCJK-Medium.ttc) normal normal 500 normal>) = 10.145\n",
      "DEBUG:matplotlib.font_manager:findfont: score(<Font 'DejaVu Sans Mono' (DejaVuSansMono.ttf) normal normal 400 normal>) = 10.05\n",
      "DEBUG:matplotlib.font_manager:findfont: score(<Font 'Fira Sans Condensed' (FiraSansCondensed-Book.otf) normal normal 350 condensed>) = 10.2975\n",
      "DEBUG:matplotlib.font_manager:findfont: score(<Font 'Fira Sans Compressed' (firasanscompressed-ultralightitalic.otf) italic normal 200 normal>) = 11.24\n",
      "DEBUG:matplotlib.font_manager:findfont: score(<Font 'URW Bookman' (URWBookman-LightItalic.otf) italic normal 300 normal>) = 11.145\n",
      "DEBUG:matplotlib.font_manager:findfont: score(<Font 'Noto Sans Armenian' (NotoSansArmenian-Bold.ttf) normal normal 700 normal>) = 10.335\n",
      "DEBUG:matplotlib.font_manager:findfont: score(<Font 'Noto Sans Sora Sompeng' (NotoSansSoraSompeng-Regular.ttf) normal normal 400 normal>) = 10.05\n"
     ]
    },
    {
     "name": "stderr",
     "output_type": "stream",
     "text": [
      "DEBUG:matplotlib.font_manager:findfont: score(<Font 'Noto Sans' (NotoSans-Italic.ttf) italic normal 400 normal>) = 11.05\n",
      "DEBUG:matplotlib.font_manager:findfont: score(<Font 'Nimbus Sans' (NimbusSans-Italic.otf) italic normal 400 normal>) = 11.05\n",
      "DEBUG:matplotlib.font_manager:findfont: score(<Font 'Noto Sans Kharoshthi' (NotoSansKharoshthi-Regular.ttf) normal normal 400 normal>) = 10.05\n",
      "DEBUG:matplotlib.font_manager:findfont: score(<Font 'Noto Sans Imperial Aramaic' (NotoSansImperialAramaic-Regular.ttf) normal normal 400 normal>) = 10.05\n",
      "DEBUG:matplotlib.font_manager:findfont: score(<Font 'Noto Naskh Arabic' (NotoNaskhArabic-Regular.ttf) normal normal 400 normal>) = 10.05\n",
      "DEBUG:matplotlib.font_manager:findfont: score(<Font 'Fira Sans Condensed' (FiraSansCondensed-ExtraLightItalic.otf) italic normal 250 condensed>) = 11.3925\n",
      "DEBUG:matplotlib.font_manager:findfont: score(<Font 'Liberation Sans Narrow' (LiberationSansNarrow-BoldItalic.ttf) italic normal 700 condensed>) = 11.535\n",
      "DEBUG:matplotlib.font_manager:findfont: score(<Font 'Fira Sans Compressed' (firasanscompressed-book.otf) normal normal 350 normal>) = 10.0975\n",
      "DEBUG:matplotlib.font_manager:findfont: score(<Font 'Ubuntu' (Ubuntu-B.ttf) normal normal 700 normal>) = 10.335\n",
      "DEBUG:matplotlib.font_manager:findfont: score(<Font 'Fira Sans' (FiraSans-ThinItalic.otf) italic normal 100 normal>) = 11.335\n",
      "DEBUG:matplotlib.font_manager:findfont: score(<Font 'DejaVu Serif' (DejaVuSerifCondensed-Italic.ttf) italic normal 400 condensed>) = 11.25\n",
      "DEBUG:matplotlib.font_manager:findfont: score(<Font 'Noto Sans Old Hungarian' (NotoSansOldHungarian-Regular.ttf) normal normal 400 normal>) = 10.05\n",
      "DEBUG:matplotlib.font_manager:findfont: score(<Font 'Noto Sans Inscriptional Pahlavi' (NotoSansInscriptionalPahlavi-Regular.ttf) normal normal 400 normal>) = 10.05\n",
      "DEBUG:matplotlib.font_manager:findfont: score(<Font 'Noto Sans Hatran' (NotoSansHatran-Regular.ttf) normal normal 400 normal>) = 10.05\n",
      "DEBUG:matplotlib.font_manager:findfont: score(<Font 'FreeMono' (FreeMonoOblique.ttf) oblique normal 400 normal>) = 11.05\n",
      "DEBUG:matplotlib.font_manager:findfont: score(<Font 'Ubuntu' (Ubuntu-L.ttf) normal normal 300 normal>) = 10.145\n",
      "DEBUG:matplotlib.font_manager:findfont: score(<Font 'Noto Sans Pahawh Hmong' (NotoSansPahawhHmong-Regular.ttf) normal normal 400 normal>) = 10.05\n",
      "DEBUG:matplotlib.font_manager:findfont: score(<Font 'Noto Sans Ugaritic' (NotoSansUgaritic-Regular.ttf) normal normal 400 normal>) = 10.05\n",
      "DEBUG:matplotlib.font_manager:findfont: score(<Font 'Roboto Slab' (RobotoSlab-Regular.ttf) normal normal 400 normal>) = 10.05\n",
      "DEBUG:matplotlib.font_manager:findfont: score(<Font 'Noto Sans Sundanese' (NotoSansSundanese-Regular.ttf) normal normal 400 normal>) = 10.05\n",
      "DEBUG:matplotlib.font_manager:findfont: score(<Font 'Fira Sans Compressed' (firasanscompressed-lightitalic.otf) italic normal 300 normal>) = 11.145\n",
      "DEBUG:matplotlib.font_manager:findfont: score(<Font 'Noto Sans Gothic' (NotoSansGothic-Regular.ttf) normal normal 400 normal>) = 10.05\n",
      "DEBUG:matplotlib.font_manager:findfont: score(<Font 'Liberation Mono' (LiberationMono-BoldItalic.ttf) italic normal 700 normal>) = 11.335\n",
      "DEBUG:matplotlib.font_manager:findfont: score(<Font 'DejaVu Sans' (DejaVuSansCondensed-Bold.ttf) normal normal 700 condensed>) = 0.5349999999999999\n",
      "DEBUG:matplotlib.font_manager:findfont: score(<Font 'Liberation Sans' (LiberationSans-BoldItalic.ttf) italic normal 700 normal>) = 11.335\n",
      "DEBUG:matplotlib.font_manager:findfont: score(<Font 'Noto Naskh Arabic UI' (NotoNaskhArabicUI-Regular.ttf) normal normal 400 normal>) = 10.05\n",
      "DEBUG:matplotlib.font_manager:findfont: score(<Font 'Fira Sans Compressed' (firasanscompressed-bookitalic.otf) italic normal 350 normal>) = 11.0975\n",
      "DEBUG:matplotlib.font_manager:findfont: score(<Font 'Liberation Sans Narrow' (LiberationSansNarrow-Bold.ttf) normal normal 700 condensed>) = 10.535\n",
      "DEBUG:matplotlib.font_manager:findfont: score(<Font 'Noto Sans Kaithi' (NotoSansKaithi-Regular.ttf) normal normal 400 normal>) = 10.05\n",
      "DEBUG:matplotlib.font_manager:findfont: score(<Font 'Noto Sans Sinhala UI' (NotoSansSinhalaUI-Bold.ttf) normal normal 700 normal>) = 10.335\n",
      "DEBUG:matplotlib.font_manager:findfont: score(<Font 'Noto Sans Khmer' (NotoSansKhmer-Bold.ttf) normal normal 700 normal>) = 10.335\n",
      "DEBUG:matplotlib.font_manager:findfont: score(<Font 'Fira Sans Condensed' (FiraSansCondensed-MediumItalic.otf) italic normal 500 condensed>) = 11.344999999999999\n",
      "DEBUG:matplotlib.font_manager:findfont: score(<Font 'Fira Sans Compressed' (firasanscompressed-hairitalic.otf) italic normal 100 normal>) = 11.335\n",
      "DEBUG:matplotlib.font_manager:findfont: score(<Font 'Fira Sans Condensed' (FiraSansCondensed-FourItalic.otf) italic normal 100 condensed>) = 11.535\n",
      "DEBUG:matplotlib.font_manager:findfont: score(<Font 'Nimbus Sans Narrow' (NimbusSansNarrow-Bold.otf) normal normal 700 condensed>) = 10.535\n",
      "DEBUG:matplotlib.font_manager:findfont: score(<Font 'Liberation Mono' (LiberationMono-Bold.ttf) normal normal 700 normal>) = 10.335\n",
      "DEBUG:matplotlib.font_manager:findfont: score(<Font 'Noto Serif Ethiopic' (NotoSerifEthiopic-Bold.ttf) normal normal 700 normal>) = 10.335\n",
      "DEBUG:matplotlib.font_manager:findfont: score(<Font 'Fira Sans Compressed' (firasanscompressed-italic.otf) italic normal 400 normal>) = 11.05\n",
      "DEBUG:matplotlib.font_manager:findfont: Matching sans\\-serif:style=normal:variant=normal:weight=normal:stretch=normal:size=10.0 to DejaVu Sans ('/home/marthinwurer/.pyenv/versions/3.9.6/envs/minerl/lib/python3.9/site-packages/matplotlib/mpl-data/fonts/ttf/DejaVuSans.ttf') with score of 0.050000.\n"
     ]
    },
    {
     "data": {
      "image/png": "[encoded data removed]",
      "text/plain": [
       "<Figure size 720x576 with 1 Axes>"
      ]
     },
     "metadata": {
      "needs_background": "light"
     },
     "output_type": "display_data"
    },
    {
     "name": "stderr",
     "output_type": "stream",
     "text": [
      "DEBUG:opr_logic:Starting Round 2\n",
      "DEBUG:opr_logic:executing Unit(Men-At-Arms s(7/10)(12.0,24.0), ('Hold',)\n",
      "DEBUG:opr_logic:executing Unit(Foot Knights (5/5)(12.0,27.0), ('Charge', Unit(Men-At-Arms a(7/10)(12.0,24.0))\n",
      "DEBUG:opr_logic:Unit(Foot Knights a(5/5)(12.0,26.0) strikes Unit(Men-At-Arms a(7/10)(12.0,24.0)\n",
      "DEBUG:opr_logic:5 attacks\n",
      "DEBUG:opr_logic:2 hits\n",
      "DEBUG:opr_logic:2 wounds\n",
      "DEBUG:opr_logic:Unit(Men-At-Arms a(5/10)(12.0,24.0) strikes Unit(Foot Knights fa(5/5)(12.0,26.0)\n",
      "DEBUG:opr_logic:5 attacks\n",
      "DEBUG:opr_logic:2 hits\n",
      "DEBUG:opr_logic:2 wounds\n",
      "DEBUG:opr_logic:scores: a: 2, d: 3\n",
      "DEBUG:opr_structs:Foot Knights doing morale test\n"
     ]
    },
    {
     "name": "stdout",
     "output_type": "stream",
     "text": [
      "Units:\n",
      "[Unit(Men-At-Arms fsa(7/10)(12.0,24.0), Unit(Foot Knights fa(5/5)(12.0,27.0)]\n",
      "[Objective(12, 12, p1), Objective(12, 36, p2)]\n"
     ]
    },
    {
     "data": {
      "image/png": "[encoded data removed]",
      "text/plain": [
       "<Figure size 720x576 with 1 Axes>"
      ]
     },
     "metadata": {
      "needs_background": "light"
     },
     "output_type": "display_data"
    },
    {
     "name": "stderr",
     "output_type": "stream",
     "text": [
      "DEBUG:opr_logic:Starting Round 3\n",
      "DEBUG:opr_logic:executing Unit(Men-At-Arms (5/10)(12.0,24.0), ('Charge', Unit(Foot Knights (3/5)(12.0,27.0))\n",
      "DEBUG:opr_logic:Unit(Men-At-Arms a(5/10)(12.0,25.0) strikes Unit(Foot Knights (3/5)(12.0,27.0)\n",
      "DEBUG:opr_logic:5 attacks\n",
      "DEBUG:opr_logic:2 hits\n",
      "DEBUG:opr_logic:1 wounds\n",
      "DEBUG:opr_logic:Unit(Foot Knights (2/5)(12.0,27.0) strikes Unit(Men-At-Arms fa(5/10)(12.0,25.0)\n",
      "DEBUG:opr_logic:2 attacks\n",
      "DEBUG:opr_logic:2 hits\n",
      "DEBUG:opr_logic:2 wounds\n",
      "DEBUG:opr_logic:scores: a: 1, d: 2\n",
      "DEBUG:opr_structs:Men-At-Arms doing morale test\n",
      "DEBUG:opr_logic:executing Unit(Foot Knights f(2/5)(12.0,27.0), ('Charge', Unit(Men-At-Arms fa(3/10)(12.0,24.0))\n",
      "DEBUG:opr_logic:Unit(Foot Knights fa(2/5)(12.0,26.0) strikes Unit(Men-At-Arms fa(3/10)(12.0,24.0)\n",
      "DEBUG:opr_logic:2 attacks\n",
      "DEBUG:opr_logic:2 hits\n",
      "DEBUG:opr_logic:2 wounds\n",
      "DEBUG:opr_logic:Unit(Men-At-Arms fa(1/10)(12.0,24.0) strikes Unit(Foot Knights fa(2/5)(12.0,26.0)\n",
      "DEBUG:opr_logic:1 attacks\n",
      "DEBUG:opr_logic:0 hits\n",
      "DEBUG:opr_logic:0 wounds\n",
      "DEBUG:opr_logic:scores: a: 2, d: 0\n",
      "DEBUG:opr_structs:Men-At-Arms doing morale test\n",
      "DEBUG:opr_structs:Men-At-Arms failed morale test\n",
      "DEBUG:opr_structs:Men-At-Arms routed!\n"
     ]
    },
    {
     "name": "stdout",
     "output_type": "stream",
     "text": [
      "Units:\n",
      "[Unit(Men-At-Arms fa(5/10)(12.0,24.0), Unit(Foot Knights fa(3/5)(12.0,27.0)]\n",
      "[Objective(12, 12, p1), Objective(12, 36, p2)]\n"
     ]
    },
    {
     "data": {
      "image/png": "[encoded data removed]",
      "text/plain": [
       "<Figure size 720x576 with 1 Axes>"
      ]
     },
     "metadata": {
      "needs_background": "light"
     },
     "output_type": "display_data"
    },
    {
     "name": "stderr",
     "output_type": "stream",
     "text": [
      "DEBUG:opr_logic:Starting Round 4\n",
      "DEBUG:opr_logic:skipping <opr_structs.Player object at 0x7f2cd4eb86d0>\n",
      "DEBUG:opr_logic:executing Unit(Foot Knights (2/5)(12.0,27.0), ('Rush', 12, -1.1842378929335003e-16)\n"
     ]
    },
    {
     "name": "stdout",
     "output_type": "stream",
     "text": [
      "Units:\n",
      "[Unit(Men-At-Arms fa(0/10)(12.0,24.0), Unit(Foot Knights fa(2/5)(12.0,27.0)]\n",
      "[Objective(12, 12, p1), Objective(12, 36, p2)]\n"
     ]
    },
    {
     "data": {
      "image/png": "[encoded data removed]",
      "text/plain": [
       "<Figure size 720x576 with 1 Axes>"
      ]
     },
     "metadata": {
      "needs_background": "light"
     },
     "output_type": "display_data"
    },
    {
     "name": "stdout",
     "output_type": "stream",
     "text": [
      "Units:\n",
      "[Unit(Men-At-Arms (0/10)(12.0,24.0), Unit(Foot Knights a(2/5)(12.0,15.0)]\n",
      "[Objective(12, 12, p2), Objective(12, 36, p2)]\n",
      "0\n"
     ]
    }
   ],
   "source": [
    "realm_knights_c, warriors, peasants, giant_u\n",
    "a = men_at_arms_10\n",
    "b = foot_knights_5\n",
    "with loggingcm(): print(full_1v1(copy.deepcopy(a), copy.deepcopy(b)))"
   ]
  },
  {
   "cell_type": "code",
   "execution_count": 26,
   "id": "8498cd5c",
   "metadata": {},
   "outputs": [],
   "source": [
    "# a_first = mc(lambda: full_1v1(copy.deepcopy(a), copy.deepcopy(b), 1), times=10000)\n",
    "# b_first = 1 - mc(lambda: full_1v1(copy.deepcopy(b), copy.deepcopy(a), 0), times=10000)\n",
    "# (a_first + b_first) / 2, a_first, b_first"
   ]
  },
  {
   "cell_type": "markdown",
   "id": "cf0badb2",
   "metadata": {},
   "source": [
    "With shooting/movement:\n",
    "\n",
    "vs warriors:\n",
    "realm_knights_c: (0.6409, 0.5333, 0.7484999999999999)\n",
    "peasants: (0.255475, 0.12655, 0.38439999999999996)\n",
    "giant_u: (0.71715, 0.7625, 0.6718)\n",
    "rifle_dwarves: (0.020824999999999996, 0.00225, 0.03939999999999999)\n",
    "rifle_dwarves_c: (0.20827500000000002, 0.09435, 0.32220000000000004)\n",
    "xbow_dwarves: (0.020424999999999974, 0.00205, 0.038799999999999946)\n",
    "xbow_dwarves_c: (0.233125, 0.15785, 0.3084)\n",
    "drake_marksmen: (0.28435, 0.1708, 0.39790000000000003)\n",
    "drake_marksmen_c: (0.8914249999999999, 0.7957, 0.98715)\n",
    "bolt_thrower_u: (0.00559999999999998, 0.0058, 0.00539999999999996)\n",
    "dwarven_cannon_u: (0.023475000000000024, 0.0363, 0.010650000000000048)\n",
    "\n",
    "men_at_arms_10 vs foot_knights: (0.042475, 0.0326, 0.05235000000000001)\n",
    "men_at_arms vs foot_knights: (0.565825, 0.6089, 0.52275)\n",
    "men_at_arms_10 vs foot_knights_5: (0.74285, 0.73565, 0.75005)"
   ]
  },
  {
   "cell_type": "code",
   "execution_count": null,
   "id": "21fb63e1",
   "metadata": {},
   "outputs": [],
   "source": []
  },
  {
   "cell_type": "code",
   "execution_count": null,
   "id": "557d04ec",
   "metadata": {},
   "outputs": [],
   "source": []
  },
  {
   "cell_type": "code",
   "execution_count": null,
   "id": "d57fe9ca",
   "metadata": {},
   "outputs": [],
   "source": []
  },
  {
   "cell_type": "code",
   "execution_count": 27,
   "id": "ba06ca55",
   "metadata": {},
   "outputs": [],
   "source": [
    "import random\n",
    "def nvn_full(a, b, draw_value=0.5):\n",
    "    random.shuffle(a)\n",
    "    random.shuffle(b)\n",
    "    # start units at 12x12 and increment by 6 for each\n",
    "    for i, u in enumerate(a):\n",
    "        u.y = 11.5\n",
    "        u.x = 6 + i * 6\n",
    "    \n",
    "    for i, u in enumerate(b):\n",
    "        u.y = 36.5\n",
    "        u.x = 6 + i * 6\n",
    "        \n",
    "    p1 = Player(\"p1\", a, (0, 12, 0, 72))\n",
    "    p2 = Player(\"p2\", b, (36, 48, 0, 72))\n",
    "    battle = Battle([p1, p2])\n",
    "    obj_x = 6 + (len(a) - 1) * 3\n",
    "    battle.objectives = [Objective(obj_x, 24),]\n",
    "#     check_objectives(battle)\n",
    "    \n",
    "#     run_battle(battle)\n",
    "    if logger.getEffectiveLevel() <= 10:\n",
    "        plot_battle(battle)\n",
    "    next_player = 0\n",
    "    for i in range(4):\n",
    "        next_player = do_round(battle, next_player)\n",
    "        if logger.getEffectiveLevel() <= 10:\n",
    "            plot_battle(battle)\n",
    "            print(\"Units:\")\n",
    "            pprint(battle.all_units)\n",
    "            pprint(battle.objectives)\n",
    "        \n",
    "    if battle.objectives[0].controller is None:\n",
    "        return 0.5\n",
    "    elif battle.objectives[0].controller == p1.name:\n",
    "        return 1\n",
    "    else:\n",
    "        return 0"
   ]
  },
  {
   "cell_type": "code",
   "execution_count": 28,
   "id": "eadc18d4",
   "metadata": {},
   "outputs": [],
   "source": [
    "def copify(a):\n",
    "    return [copy.deepcopy(u) for u in a]"
   ]
  },
  {
   "cell_type": "code",
   "execution_count": null,
   "id": "c36c7a80",
   "metadata": {},
   "outputs": [],
   "source": []
  },
  {
   "cell_type": "code",
   "execution_count": 33,
   "id": "0e9d538c",
   "metadata": {},
   "outputs": [
    {
     "data": {
      "image/png": "[encoded data removed]",
      "text/plain": [
       "<Figure size 720x576 with 1 Axes>"
      ]
     },
     "metadata": {
      "needs_background": "light"
     },
     "output_type": "display_data"
    },
    {
     "name": "stderr",
     "output_type": "stream",
     "text": [
      "DEBUG:opr_logic:Starting Round 1\n",
      "DEBUG:opr_logic:executing Unit(Grail Knights (10/10)(12.0,11.5), ('Rush', 16, -2.694072678432623)\n",
      "DEBUG:opr_logic:executing Unit(Marksmen (10/10)(6.0,36.5), ('Advance', 4, -0.884988160595188, Unit(Grail Knights a(10/10)(18.9,25.9))\n",
      "DEBUG:opr_logic:Unit(Marksmen a(10/10)(9.1,34.0) shooting at Unit(Grail Knights a(10/10)(18.9,25.9)\n",
      "DEBUG:opr_logic:10 attacks\n",
      "DEBUG:opr_logic:2 hits\n",
      "DEBUG:opr_logic:1 wounds\n",
      "DEBUG:opr_logic:executing Unit(Foot Knights (10/10)(30.0,11.5), ('Rush', 12, 2.376599820878883)\n",
      "DEBUG:opr_logic:executing Unit(Drakes (5/5)(30.0,36.5), ('Advance', 4, 0.8085176976523253, Unit(Grail Knights a(9/10)(18.9,25.9))\n",
      "DEBUG:opr_logic:Unit(Drakes a(5/5)(27.1,33.7) shooting at Unit(Grail Knights a(9/10)(18.9,25.9)\n",
      "DEBUG:opr_logic:10 attacks\n",
      "DEBUG:opr_logic:6 hits\n",
      "DEBUG:opr_logic:2 wounds\n",
      "DEBUG:opr_logic:executing Unit(Men-At-Arms (20/20)(6.0,11.5), ('Rush', 12, -2.376599820878883)\n",
      "DEBUG:opr_logic:executing Unit(Veterans (10/10)(24.0,36.5), ('Rush', 8, 0.4475199751571699)\n",
      "DEBUG:opr_logic:executing Unit(Men-At-Arms (20/20)(24.0,11.5), ('Rush', 12, 2.694072678432623)\n",
      "DEBUG:opr_logic:executing Unit(Warriors (20/20)(12.0,36.5), ('Rush', 8, -0.4475199751571699)\n",
      "DEBUG:opr_logic:executing Unit(Peasants (20/20)(18.0,11.5), ('Advance', 6, 2.999858958746102, Unit(Warriors a(20/20)(15.5,29.3))\n",
      "DEBUG:opr_logic:Unit(Peasants a(20/20)(17.2,17.4) shooting at Unit(Warriors a(20/20)(15.5,29.3)\n",
      "DEBUG:opr_logic:20 attacks\n",
      "DEBUG:opr_logic:3 hits\n",
      "DEBUG:opr_logic:1 wounds\n",
      "DEBUG:opr_logic:executing Unit(Iron Warriors (10/10)(18.0,36.5), ('Rush', 8, 0.0)\n"
     ]
    },
    {
     "data": {
      "image/png": "[encoded data removed]",
      "text/plain": [
       "<Figure size 720x576 with 1 Axes>"
      ]
     },
     "metadata": {
      "needs_background": "light"
     },
     "output_type": "display_data"
    },
    {
     "name": "stderr",
     "output_type": "stream",
     "text": [
      "DEBUG:opr_logic:Starting Round 2\n",
      "DEBUG:opr_logic:executing Unit(Grail Knights (7/10)(18.9,25.9), ('Charge', Unit(Iron Warriors (10/10)(18.0,28.5))\n",
      "DEBUG:opr_logic:Unit(Grail Knights a(7/10)(18.7,26.6) strikes Unit(Iron Warriors (10/10)(18.0,28.5)\n",
      "DEBUG:opr_logic:num impact: 7\n",
      "DEBUG:opr_logic:14 attacks\n",
      "DEBUG:opr_logic:10 hits\n",
      "DEBUG:opr_logic:1 wounds\n",
      "DEBUG:opr_logic:Unit(Iron Warriors (9/10)(18.0,28.5) strikes Unit(Grail Knights fa(7/10)(18.7,26.6)\n",
      "DEBUG:opr_logic:9 attacks\n",
      "DEBUG:opr_logic:5 hits\n",
      "DEBUG:opr_logic:1 wounds\n",
      "DEBUG:opr_logic:scores: a: 2, d: 2\n",
      "DEBUG:opr_logic:executing Unit(Iron Warriors f(9/10)(18.0,28.5), ('Charge', Unit(Grail Knights fa(6/10)(19.0,25.7))\n",
      "DEBUG:opr_logic:Unit(Iron Warriors fa(9/10)(18.3,27.6) strikes Unit(Grail Knights fa(6/10)(19.0,25.7)\n",
      "DEBUG:opr_logic:9 attacks\n",
      "DEBUG:opr_logic:1 hits\n",
      "DEBUG:opr_logic:1 wounds\n",
      "DEBUG:opr_logic:Unit(Grail Knights fa(5/10)(19.0,25.7) strikes Unit(Iron Warriors fa(9/10)(18.3,27.6)\n",
      "DEBUG:opr_logic:5 attacks\n",
      "DEBUG:opr_logic:1 hits\n",
      "DEBUG:opr_logic:0 wounds\n",
      "DEBUG:opr_logic:scores: a: 2, d: 1\n",
      "DEBUG:opr_structs:Grail Knights doing morale test\n",
      "DEBUG:opr_logic:executing Unit(Foot Knights (10/10)(21.7,20.2), ('Charge', Unit(Iron Warriors fa(9/10)(18.0,28.5))\n",
      "DEBUG:opr_logic:Unit(Foot Knights a(10/10)(18.8,26.7) strikes Unit(Iron Warriors fa(9/10)(18.0,28.5)\n",
      "DEBUG:opr_logic:10 attacks\n",
      "DEBUG:opr_logic:6 hits\n",
      "DEBUG:opr_logic:3 wounds\n",
      "DEBUG:opr_logic:Unit(Iron Warriors fa(6/10)(18.0,28.5) strikes Unit(Foot Knights fa(10/10)(18.8,26.7)\n",
      "DEBUG:opr_logic:6 attacks\n",
      "DEBUG:opr_logic:2 hits\n",
      "DEBUG:opr_logic:1 wounds\n",
      "DEBUG:opr_logic:scores: a: 4, d: 2\n",
      "DEBUG:opr_structs:Iron Warriors doing morale test\n",
      "DEBUG:opr_structs:Iron Warriors failed morale test\n",
      "DEBUG:opr_logic:executing Unit(Veterans (10/10)(20.5,29.3), ('Charge', Unit(Foot Knights fa(9/10)(19.2,25.8))\n",
      "DEBUG:opr_logic:Unit(Veterans a(10/10)(19.9,27.6) strikes Unit(Foot Knights fa(9/10)(19.2,25.8)\n",
      "DEBUG:opr_logic:10 attacks\n",
      "DEBUG:opr_logic:7 hits\n",
      "DEBUG:opr_logic:4 wounds\n",
      "DEBUG:opr_logic:Unit(Foot Knights fa(5/10)(19.2,25.8) strikes Unit(Veterans fa(10/10)(19.9,27.6)\n",
      "DEBUG:opr_logic:5 attacks\n",
      "DEBUG:opr_logic:1 hits\n",
      "DEBUG:opr_logic:1 wounds\n",
      "DEBUG:opr_logic:scores: a: 4, d: 2\n",
      "DEBUG:opr_structs:Foot Knights doing morale test\n",
      "DEBUG:opr_structs:rolling fearless test\n",
      "DEBUG:opr_structs:Foot Knights failed morale test\n",
      "DEBUG:opr_structs:Foot Knights routed!\n",
      "DEBUG:opr_logic:executing Unit(Men-At-Arms (20/20)(18.8,22.3), ('Charge', Unit(Iron Warriors fsa(6/10)(18.0,28.5))\n",
      "DEBUG:opr_logic:Unit(Men-At-Arms a(20/20)(18.3,26.5) strikes Unit(Iron Warriors fsa(6/10)(18.0,28.5)\n",
      "DEBUG:opr_logic:10 attacks\n",
      "DEBUG:opr_logic:4 hits\n",
      "DEBUG:opr_logic:0 wounds\n",
      "DEBUG:opr_logic:Unit(Iron Warriors fsa(6/10)(18.0,28.5) strikes Unit(Men-At-Arms fa(20/20)(18.3,26.5)\n",
      "DEBUG:opr_logic:6 attacks\n",
      "DEBUG:opr_logic:2 hits\n",
      "DEBUG:opr_logic:1 wounds\n",
      "DEBUG:opr_logic:scores: a: 3, d: 2\n",
      "DEBUG:opr_structs:Iron Warriors doing morale test\n",
      "DEBUG:opr_structs:Iron Warriors failed morale test\n",
      "DEBUG:opr_logic:executing Unit(Marksmen (10/10)(9.1,34.0), ('Advance', 4, -0.36105048554065905, Unit(Men-At-Arms fa(19/20)(18.4,25.5))\n",
      "DEBUG:opr_logic:Unit(Marksmen a(10/10)(10.5,30.2) shooting at Unit(Men-At-Arms fa(19/20)(18.4,25.5)\n",
      "DEBUG:opr_logic:10 attacks\n",
      "DEBUG:opr_logic:4 hits\n",
      "DEBUG:opr_logic:3 wounds\n",
      "DEBUG:opr_logic:executing Unit(Men-At-Arms (20/20)(14.3,20.2), ('Charge', Unit(Iron Warriors fsa(6/10)(18.0,28.5))\n",
      "DEBUG:opr_logic:Unit(Men-At-Arms a(20/20)(17.2,26.7) strikes Unit(Iron Warriors fsa(6/10)(18.0,28.5)\n",
      "DEBUG:opr_logic:10 attacks\n",
      "DEBUG:opr_logic:2 hits\n",
      "DEBUG:opr_logic:1 wounds\n",
      "DEBUG:opr_logic:Unit(Iron Warriors fsa(5/10)(18.0,28.5) strikes Unit(Men-At-Arms fa(20/20)(17.2,26.7)\n",
      "DEBUG:opr_logic:5 attacks\n",
      "DEBUG:opr_logic:2 hits\n",
      "DEBUG:opr_logic:2 wounds\n",
      "DEBUG:opr_logic:scores: a: 4, d: 3\n",
      "DEBUG:opr_structs:Iron Warriors doing morale test\n",
      "DEBUG:opr_structs:Iron Warriors failed morale test\n",
      "DEBUG:opr_structs:Iron Warriors routed!\n",
      "DEBUG:opr_logic:executing Unit(Drakes (5/5)(27.1,33.7), ('Advance', 4, 0.5483119406748654, Unit(Grail Knights fa(5/10)(19.0,25.7))\n",
      "DEBUG:opr_logic:Unit(Drakes a(5/5)(25.0,30.3) shooting at Unit(Grail Knights fa(5/10)(19.0,25.7)\n",
      "DEBUG:opr_logic:10 attacks\n",
      "DEBUG:opr_logic:10 hits\n",
      "DEBUG:opr_logic:5 wounds\n",
      "DEBUG:opr_logic:executing Unit(Peasants (20/20)(17.2,17.4), ('Advance', 6, -2.8686241586368024, Unit(Veterans fa(9/10)(20.3,28.6))\n",
      "DEBUG:opr_logic:Unit(Peasants a(20/20)(18.8,23.2) shooting at Unit(Veterans fa(9/10)(20.3,28.6)\n",
      "DEBUG:opr_logic:20 attacks\n",
      "DEBUG:opr_logic:2 hits\n",
      "DEBUG:opr_logic:0 wounds\n",
      "DEBUG:opr_logic:executing Unit(Warriors (19/20)(15.5,29.3), ('Charge', Unit(Men-At-Arms fa(18/20)(16.8,25.8))\n",
      "DEBUG:opr_logic:Unit(Warriors a(19/20)(16.1,27.6) strikes Unit(Men-At-Arms fa(18/20)(16.8,25.8)\n",
      "DEBUG:opr_logic:10 attacks\n",
      "DEBUG:opr_logic:3 hits\n",
      "DEBUG:opr_logic:0 wounds\n",
      "DEBUG:opr_logic:Unit(Men-At-Arms fa(18/20)(16.8,25.8) strikes Unit(Warriors fa(19/20)(16.1,27.6)\n",
      "DEBUG:opr_logic:10 attacks\n",
      "DEBUG:opr_logic:1 hits\n",
      "DEBUG:opr_logic:1 wounds\n",
      "DEBUG:opr_logic:scores: a: 3, d: 4\n",
      "DEBUG:opr_structs:Warriors doing morale test\n",
      "DEBUG:opr_structs:Warriors failed morale test\n"
     ]
    },
    {
     "name": "stdout",
     "output_type": "stream",
     "text": [
      "Units:\n",
      "[Unit(Men-At-Arms a(20/20)(14.3,20.2),\n",
      " Unit(Grail Knights a(7/10)(18.9,25.9),\n",
      " Unit(Peasants a(20/20)(17.2,17.4),\n",
      " Unit(Men-At-Arms a(20/20)(18.8,22.3),\n",
      " Unit(Foot Knights a(10/10)(21.7,20.2),\n",
      " Unit(Marksmen a(10/10)(9.1,34.0),\n",
      " Unit(Warriors a(19/20)(15.5,29.3),\n",
      " Unit(Iron Warriors a(10/10)(18.0,28.5),\n",
      " Unit(Veterans a(10/10)(20.5,29.3),\n",
      " Unit(Drakes a(5/5)(27.1,33.7)]\n",
      "[Objective(18, 24, p1)]\n"
     ]
    },
    {
     "data": {
      "image/png": "[encoded data removed]",
      "text/plain": [
       "<Figure size 720x576 with 1 Axes>"
      ]
     },
     "metadata": {
      "needs_background": "light"
     },
     "output_type": "display_data"
    },
    {
     "name": "stderr",
     "output_type": "stream",
     "text": [
      "DEBUG:opr_logic:Starting Round 3\n",
      "DEBUG:opr_logic:executing Unit(Peasants (20/20)(18.8,23.2), ('Advance', 3.5530796773003352, -2.868624158636802, Unit(Veterans (9/10)(20.3,28.6))\n"
     ]
    },
    {
     "name": "stdout",
     "output_type": "stream",
     "text": [
      "Units:\n",
      "[Unit(Men-At-Arms fa(18/20)(16.8,25.8),\n",
      " Unit(Grail Knights fa(0/10)(19.0,25.7),\n",
      " Unit(Peasants a(20/20)(18.8,23.2),\n",
      " Unit(Men-At-Arms fa(16/20)(18.4,25.5),\n",
      " Unit(Foot Knights fa(0/10)(19.2,25.8),\n",
      " Unit(Marksmen a(10/10)(10.5,30.2),\n",
      " Unit(Warriors fsa(18/20)(15.7,28.6),\n",
      " Unit(Iron Warriors fsa(0/10)(18.0,28.5),\n",
      " Unit(Veterans fa(9/10)(20.3,28.6),\n",
      " Unit(Drakes a(5/5)(25.0,30.3)]\n",
      "[Objective(18, 24, p1)]\n"
     ]
    },
    {
     "name": "stderr",
     "output_type": "stream",
     "text": [
      "DEBUG:opr_logic:Unit(Peasants a(20/20)(19.7,26.6) shooting at Unit(Veterans (9/10)(20.3,28.6)\n",
      "DEBUG:opr_logic:20 attacks\n",
      "DEBUG:opr_logic:5 hits\n",
      "DEBUG:opr_logic:4 wounds\n",
      "DEBUG:opr_structs:Veterans doing ranged morale test\n",
      "DEBUG:opr_structs:rolling fearless test\n",
      "DEBUG:opr_structs:Veterans failed ranged morale test\n",
      "DEBUG:opr_logic:executing Unit(Marksmen (10/10)(10.5,30.2), ('Advance', 4, -1.0330339784362732, Unit(Men-At-Arms (18/20)(16.8,25.8))\n",
      "DEBUG:opr_logic:Unit(Marksmen a(10/10)(13.9,28.2) shooting at Unit(Men-At-Arms (18/20)(16.8,25.8)\n",
      "DEBUG:opr_logic:10 attacks\n",
      "DEBUG:opr_logic:5 hits\n",
      "DEBUG:opr_logic:4 wounds\n",
      "DEBUG:opr_logic:executing Unit(Men-At-Arms (14/20)(16.8,25.8), ('Charge', Unit(Warriors s(18/20)(15.7,28.6))\n",
      "DEBUG:opr_logic:Unit(Men-At-Arms a(14/20)(16.4,26.7) strikes Unit(Warriors s(18/20)(15.7,28.6)\n",
      "DEBUG:opr_logic:10 attacks\n",
      "DEBUG:opr_logic:2 hits\n",
      "DEBUG:opr_logic:2 wounds\n",
      "DEBUG:opr_logic:Unit(Warriors s(16/20)(15.7,28.6) strikes Unit(Men-At-Arms fa(14/20)(16.4,26.7)\n",
      "DEBUG:opr_logic:10 attacks\n",
      "DEBUG:opr_logic:1 hits\n",
      "DEBUG:opr_logic:1 wounds\n",
      "DEBUG:opr_logic:scores: a: 4, d: 4\n",
      "DEBUG:opr_logic:executing Unit(Warriors fs(16/20)(15.7,28.6), ('Hold',)\n",
      "DEBUG:opr_logic:executing Unit(Men-At-Arms (16/20)(18.4,25.5), ('Charge', Unit(Veterans s(5/10)(20.3,28.6))\n",
      "DEBUG:opr_logic:Unit(Men-At-Arms a(16/20)(19.2,26.9) strikes Unit(Veterans s(5/10)(20.3,28.6)\n",
      "DEBUG:opr_logic:10 attacks\n",
      "DEBUG:opr_logic:3 hits\n",
      "DEBUG:opr_logic:2 wounds\n",
      "DEBUG:opr_logic:Unit(Veterans s(3/10)(20.3,28.6) strikes Unit(Men-At-Arms fa(16/20)(19.2,26.9)\n",
      "DEBUG:opr_logic:3 attacks\n",
      "DEBUG:opr_logic:0 hits\n",
      "DEBUG:opr_logic:0 wounds\n",
      "DEBUG:opr_logic:scores: a: 5, d: 0\n",
      "DEBUG:opr_structs:Veterans doing morale test\n",
      "DEBUG:opr_structs:Veterans failed morale test\n",
      "DEBUG:opr_structs:Veterans routed!\n",
      "DEBUG:opr_logic:executing Unit(Drakes (5/5)(25.0,30.3), ('Advance', 4, 0.9730595281357197, Unit(Peasants a(20/20)(19.7,26.6))\n",
      "DEBUG:opr_logic:Unit(Drakes a(5/5)(21.7,28.1) shooting at Unit(Peasants a(20/20)(19.7,26.6)\n",
      "DEBUG:opr_logic:10 attacks\n",
      "DEBUG:opr_logic:9 hits\n",
      "DEBUG:opr_logic:9 wounds\n"
     ]
    },
    {
     "data": {
      "image/png": "[encoded data removed]",
      "text/plain": [
       "<Figure size 720x576 with 1 Axes>"
      ]
     },
     "metadata": {
      "needs_background": "light"
     },
     "output_type": "display_data"
    },
    {
     "name": "stderr",
     "output_type": "stream",
     "text": [
      "DEBUG:opr_logic:Starting Round 4\n",
      "DEBUG:opr_logic:executing Unit(Men-At-Arms (13/20)(16.8,25.8), ('Charge', Unit(Warriors (16/20)(15.7,28.6))\n",
      "DEBUG:opr_logic:Unit(Men-At-Arms a(13/20)(16.4,26.7) strikes Unit(Warriors (16/20)(15.7,28.6)\n",
      "DEBUG:opr_logic:10 attacks\n",
      "DEBUG:opr_logic:3 hits\n",
      "DEBUG:opr_logic:1 wounds\n",
      "DEBUG:opr_logic:Unit(Warriors (15/20)(15.7,28.6) strikes Unit(Men-At-Arms fa(13/20)(16.4,26.7)\n",
      "DEBUG:opr_logic:10 attacks\n",
      "DEBUG:opr_logic:1 hits\n",
      "DEBUG:opr_logic:1 wounds\n",
      "DEBUG:opr_logic:scores: a: 3, d: 4\n",
      "DEBUG:opr_structs:Men-At-Arms doing morale test\n",
      "DEBUG:opr_structs:Men-At-Arms failed morale test\n",
      "DEBUG:opr_logic:executing Unit(Drakes (5/5)(21.7,28.1), ('Advance', 0, 0.945883009422547, Unit(Peasants (11/20)(19.7,26.6))\n",
      "DEBUG:opr_logic:Unit(Drakes a(5/5)(21.7,28.1) shooting at Unit(Peasants (11/20)(19.7,26.6)\n",
      "DEBUG:opr_logic:10 attacks\n",
      "DEBUG:opr_logic:7 hits\n",
      "DEBUG:opr_logic:6 wounds\n",
      "DEBUG:opr_structs:Peasants doing ranged morale test\n",
      "DEBUG:opr_structs:Peasants failed ranged morale test\n",
      "DEBUG:opr_logic:executing Unit(Peasants s(5/20)(19.7,26.6), ('Hold',)\n",
      "DEBUG:opr_logic:executing Unit(Warriors f(15/20)(15.7,28.6), ('Charge', Unit(Men-At-Arms fsa(12/20)(16.8,25.8))\n",
      "DEBUG:opr_logic:Unit(Warriors fa(15/20)(16.1,27.6) strikes Unit(Men-At-Arms fsa(12/20)(16.8,25.8)\n",
      "DEBUG:opr_logic:10 attacks\n",
      "DEBUG:opr_logic:3 hits\n",
      "DEBUG:opr_logic:2 wounds\n",
      "DEBUG:opr_logic:Unit(Men-At-Arms fsa(10/20)(16.8,25.8) strikes Unit(Warriors fa(15/20)(16.1,27.6)\n",
      "DEBUG:opr_logic:10 attacks\n",
      "DEBUG:opr_logic:3 hits\n",
      "DEBUG:opr_logic:3 wounds\n",
      "DEBUG:opr_logic:scores: a: 4, d: 5\n",
      "DEBUG:opr_structs:Warriors doing morale test\n",
      "DEBUG:opr_structs:Warriors failed morale test\n",
      "DEBUG:opr_logic:executing Unit(Men-At-Arms (16/20)(18.7,26.0), ('Charge', Unit(Drakes a(5/5)(21.7,28.1))\n",
      "DEBUG:opr_logic:Unit(Men-At-Arms a(16/20)(20.1,26.9) strikes Unit(Drakes a(5/5)(21.7,28.1)\n",
      "DEBUG:opr_logic:10 attacks\n",
      "DEBUG:opr_logic:4 hits\n",
      "DEBUG:opr_logic:2 wounds\n",
      "DEBUG:opr_logic:Unit(Drakes a(3/5)(21.7,28.1) strikes Unit(Men-At-Arms fa(16/20)(20.1,26.9)\n",
      "DEBUG:opr_logic:3 attacks\n",
      "DEBUG:opr_logic:2 hits\n",
      "DEBUG:opr_logic:2 wounds\n",
      "DEBUG:opr_logic:scores: a: 4, d: 2\n",
      "DEBUG:opr_structs:Drakes doing morale test\n",
      "DEBUG:opr_structs:Drakes failed morale test\n",
      "DEBUG:opr_logic:executing Unit(Marksmen (10/10)(13.9,28.2), ('Advance', 0.7328879876420737, -0.8656227957557262, Unit(Men-At-Arms fsa(10/20)(16.8,25.8))\n",
      "DEBUG:opr_logic:Unit(Marksmen a(10/10)(14.5,27.7) shooting at Unit(Men-At-Arms fsa(10/20)(16.8,25.8)\n",
      "DEBUG:opr_logic:10 attacks\n",
      "DEBUG:opr_logic:3 hits\n",
      "DEBUG:opr_logic:2 wounds\n",
      "DEBUG:opr_structs:Men-At-Arms doing ranged morale test\n",
      "DEBUG:opr_structs:Men-At-Arms failed ranged morale test\n"
     ]
    },
    {
     "name": "stdout",
     "output_type": "stream",
     "text": [
      "Units:\n",
      "[Unit(Men-At-Arms fa(13/20)(16.8,25.8),\n",
      " Unit(Grail Knights (0/10)(19.0,25.7),\n",
      " Unit(Peasants a(11/20)(19.7,26.6),\n",
      " Unit(Men-At-Arms fa(16/20)(18.7,26.0),\n",
      " Unit(Foot Knights (0/10)(19.2,25.8),\n",
      " Unit(Marksmen a(10/10)(13.9,28.2),\n",
      " Unit(Warriors fa(16/20)(15.7,28.6),\n",
      " Unit(Iron Warriors s(0/10)(18.0,28.5),\n",
      " Unit(Veterans fs(0/10)(20.3,28.6),\n",
      " Unit(Drakes a(5/5)(21.7,28.1)]\n",
      "[Objective(18, 24, p1)]\n"
     ]
    },
    {
     "data": {
      "image/png": "[encoded data removed]",
      "text/plain": [
       "<Figure size 720x576 with 1 Axes>"
      ]
     },
     "metadata": {
      "needs_background": "light"
     },
     "output_type": "display_data"
    },
    {
     "name": "stdout",
     "output_type": "stream",
     "text": [
      "Units:\n",
      "[Unit(Men-At-Arms fsa(8/20)(16.8,25.8),\n",
      " Unit(Grail Knights (0/10)(19.0,25.7),\n",
      " Unit(Peasants a(5/20)(19.7,26.6),\n",
      " Unit(Men-At-Arms fa(14/20)(19.2,26.4),\n",
      " Unit(Foot Knights (0/10)(19.2,25.8),\n",
      " Unit(Marksmen a(10/10)(14.5,27.7),\n",
      " Unit(Warriors fsa(12/20)(15.7,28.6),\n",
      " Unit(Iron Warriors s(0/10)(18.0,28.5),\n",
      " Unit(Veterans s(0/10)(20.3,28.6),\n",
      " Unit(Drakes fsa(3/5)(21.7,28.1)]\n",
      "[Objective(18, 24, p1)]\n",
      "1\n"
     ]
    }
   ],
   "source": [
    "realm_knights_c, warriors, peasants, men_at_arms, foot_knights, longbowmen_10, grail_knights_c, ogres, giant_u,\n",
    "a = [men_at_arms,men_at_arms,peasants,grail_knights_c,foot_knights,]\n",
    "b = [warriors,veterans,rifle_dwarves_c,iron_warriors,drake_marksmen,]\n",
    "with loggingcm(): print(nvn_full(copify(a), copify(b)))"
   ]
  },
  {
   "cell_type": "code",
   "execution_count": 34,
   "id": "c1771c4c",
   "metadata": {},
   "outputs": [
    {
     "name": "stderr",
     "output_type": "stream",
     "text": [
      "100%|██████████████████████████████████████████████████████████| 10000/10000 [00:47<00:00, 208.54it/s]\n",
      "100%|██████████████████████████████████████████████████████████| 10000/10000 [00:47<00:00, 211.11it/s]\n"
     ]
    },
    {
     "data": {
      "text/plain": [
       "(0.24382500000000001, 0.24675, 0.2409)"
      ]
     },
     "execution_count": 34,
     "metadata": {},
     "output_type": "execute_result"
    }
   ],
   "source": [
    "a_first = mc(lambda: nvn_full(copify(a), copify(b)), times=10000)\n",
    "b_first = 1 - mc(lambda: nvn_full(copify(b), copify(a)), times=10000)\n",
    "(a_first + b_first) / 2, a_first, b_first"
   ]
  },
  {
   "cell_type": "markdown",
   "id": "e1ffa643",
   "metadata": {},
   "source": [
    "[warriors,dwarven_cannon_u] vs [warriors,rifle_dwarves]: (0.438275, 0.5994, 0.27715)\n",
    "[peasants,peasants,peasants,] vs [warriors,rifle_dwarves]: (0.625975, 0.6496, 0.6023499999999999)\n",
    "vs hammerers: (0.5473250000000001, 0.98605, 0.10860000000000003)\n",
    "warr warr vs warr rifle: (0.7553, 0.9376, 0.573)\n",
    "warr iron vs warr rifle: (0.68145, 0.8696, 0.49329999999999996)\n",
    "w w i vs w w r: (0.664575, 0.82365, 0.5055000000000001)\n",
    "with extra 1/2: (0.63025, 0.77175, 0.48875)\n",
    "full: (0.6228750000000001, 0.8871, 0.35865)\n",
    "10v10 warrs vs 9war 1rifle: (0.5216000000000001, 0.5638, 0.47940000000000005)\n",
    "10war vs 10rif: (0.925975, 0.92955, 0.9224)\n",
    "\n",
    "10maa vs 10long: (0.8789, 0.8841, 0.8737)\n",
    "10maa vs 8maa 1gn: (0.421075, 0.3941, 0.44804999999999995)\n",
    "maa vs gn: (0.014049999999999986, 0.0117, 0.01639999999999997)\n",
    "2maa vs gn: (0.41252500000000003, 0.3663, 0.45875)\n",
    "3maa vs maa gn: (0.41252500000000003, 0.3663, 0.45875)\n",
    "4maa vs 2maa gn: (0.420175, 0.42415, 0.4162)\n",
    "6maa vs 3gn: (0.374525, 0.3669, 0.38215)\n",
    "6long vs 3gn: (0.43085, 0.4337, 0.42800000000000005)\n",
    "3/3 vs 3gn: (0.6158, 0.6534, 0.5782)\n",
    "2long 4maa vs 3gn: (0.5430250000000001, 0.56105, 0.525)\n",
    "4long 2maa vs 3gn: (0.6521, 0.71125, 0.59295)\n",
    "5long 1maa vs 3gn: (0.6157, 0.67895, 0.55245)\n",
    "\n",
    "03/01:\n",
    "5long 1maa vs 3gn: (0.6456250000000001, 0.71725, 0.5740000000000001)\n",
    "6maa vs 3gn: (0.78105, 0.7428, 0.8193)\n",
    "\n",
    "1maa vs 1fn: (0.51435, 0.56155, 0.46714999999999995)\n",
    "2v2: (0.48005, 0.4966, 0.4635)\n",
    "4v4: (0.46497499999999997, 0.4678, 0.46214999999999995)\n",
    "2maa vs 1maa 1fn: (0.491425, 0.49975, 0.4831)\n",
    "2maa vs pes hfn: (0.54125, 0.5625, 0.52)\n",
    "berserkers vs hfn: (0.68565, 0.9486, 0.42269999999999996)\n",
    "berserkers vs maa: (0.758475, 0.89395, 0.623)\n",
    "ogres vs 2maa: (0.4323, 0.43245, 0.43215000000000003)\n",
    "ogres vs 1maa 1pes: (0.38575000000000004, 0.37755, 0.39395)\n",
    "2long 1maa vs 2ogres: (0.237925, 0.2396, 0.23624999999999996)\n",
    "\n",
    "men_at_arms,men_at_arms,peasants,grail_knights_c,foot_knights, vs \n",
    "halb_warrs,warriors,xbow_dwarves,iron_warriors,drake_marksmen,: (0.32582500000000003, 0.3404, 0.31125)\n",
    "vs warriors,veterans,rifle_dwarves_c,iron_warriors,drake_marksmen, : (0.24382500000000001, 0.24675, 0.2409)"
   ]
  },
  {
   "cell_type": "code",
   "execution_count": 48,
   "id": "43c0d87a",
   "metadata": {},
   "outputs": [
    {
     "data": {
      "text/plain": [
       "360"
      ]
     },
     "execution_count": 48,
     "metadata": {},
     "output_type": "execute_result"
    }
   ],
   "source": [
    "90*4"
   ]
  },
  {
   "cell_type": "code",
   "execution_count": 49,
   "id": "2564b66e",
   "metadata": {},
   "outputs": [],
   "source": [
    "def run_nvn(a, b):\n",
    "    a_first = mc(lambda: nvn_full(copify(a), copify(b)), times=10000)\n",
    "    b_first = 1 - mc(lambda: nvn_full(copify(b), copify(a)), times=10000)\n",
    "    return ((a_first + b_first) / 2, a_first, b_first)"
   ]
  },
  {
   "cell_type": "code",
   "execution_count": 50,
   "id": "80e4cc8e",
   "metadata": {},
   "outputs": [],
   "source": [
    "# armies for tournament stuff. the specific unit first, then the filler\n",
    "armies = [\n",
    "    [men_at_arms,men_at_arms,men_at_arms,],  # 390\n",
    "    [grail_knights_c,men_at_arms,], # 380\n",
    "    [longbowmen_10,longbowmen_10,men_at_arms,], # 390\n",
    "    [foot_knights,foot_knights,peasants,], # 370\n",
    "#     [ogres,men_at_arms,], # 340\n",
    "    [ogres,peasants,peasants,], # 390\n",
    "    [giant_u,men_at_arms,], # 390\n",
    "    [peasants,peasants,peasants,peasants,], # 360\n",
    "]"
   ]
  },
  {
   "cell_type": "code",
   "execution_count": 51,
   "id": "20a535dc",
   "metadata": {
    "scrolled": true
   },
   "outputs": [
    {
     "name": "stderr",
     "output_type": "stream",
     "text": [
      "100%|██████████████████████████████████████████████████████████| 10000/10000 [00:23<00:00, 417.71it/s]\n",
      "100%|██████████████████████████████████████████████████████████| 10000/10000 [00:24<00:00, 406.97it/s]\n"
     ]
    },
    {
     "name": "stdout",
     "output_type": "stream",
     "text": [
      "Men-At-Arms vs Grail Knights: (0.50785, 0.4008, 0.6149)\n"
     ]
    },
    {
     "name": "stderr",
     "output_type": "stream",
     "text": [
      "100%|██████████████████████████████████████████████████████████| 10000/10000 [00:30<00:00, 331.81it/s]\n",
      "100%|██████████████████████████████████████████████████████████| 10000/10000 [00:30<00:00, 331.67it/s]\n"
     ]
    },
    {
     "name": "stdout",
     "output_type": "stream",
     "text": [
      "Men-At-Arms vs Longbowmen: (0.5867, 0.57765, 0.59575)\n"
     ]
    },
    {
     "name": "stderr",
     "output_type": "stream",
     "text": [
      "100%|██████████████████████████████████████████████████████████| 10000/10000 [00:32<00:00, 310.06it/s]\n",
      "100%|██████████████████████████████████████████████████████████| 10000/10000 [00:31<00:00, 316.49it/s]\n"
     ]
    },
    {
     "name": "stdout",
     "output_type": "stream",
     "text": [
      "Men-At-Arms vs Foot Knights: (0.48187499999999994, 0.48645, 0.47729999999999995)\n"
     ]
    },
    {
     "name": "stderr",
     "output_type": "stream",
     "text": [
      "100%|██████████████████████████████████████████████████████████| 10000/10000 [00:33<00:00, 300.12it/s]\n",
      "100%|██████████████████████████████████████████████████████████| 10000/10000 [00:32<00:00, 307.77it/s]\n"
     ]
    },
    {
     "name": "stdout",
     "output_type": "stream",
     "text": [
      "Men-At-Arms vs Ogres: (0.43825000000000003, 0.42685, 0.44965)\n"
     ]
    },
    {
     "name": "stderr",
     "output_type": "stream",
     "text": [
      "100%|██████████████████████████████████████████████████████████| 10000/10000 [00:26<00:00, 379.46it/s]\n",
      "100%|██████████████████████████████████████████████████████████| 10000/10000 [00:26<00:00, 377.66it/s]\n"
     ]
    },
    {
     "name": "stdout",
     "output_type": "stream",
     "text": [
      "Men-At-Arms vs Giant: (0.631075, 0.62675, 0.6354)\n"
     ]
    },
    {
     "name": "stderr",
     "output_type": "stream",
     "text": [
      "100%|██████████████████████████████████████████████████████████| 10000/10000 [00:39<00:00, 255.78it/s]\n",
      "100%|██████████████████████████████████████████████████████████| 10000/10000 [00:38<00:00, 261.27it/s]\n"
     ]
    },
    {
     "name": "stdout",
     "output_type": "stream",
     "text": [
      "Men-At-Arms vs Peasants: (0.6925250000000001, 0.6832, 0.70185)\n"
     ]
    },
    {
     "name": "stderr",
     "output_type": "stream",
     "text": [
      "100%|██████████████████████████████████████████████████████████| 10000/10000 [00:22<00:00, 442.11it/s]\n",
      "100%|██████████████████████████████████████████████████████████| 10000/10000 [00:21<00:00, 460.62it/s]\n"
     ]
    },
    {
     "name": "stdout",
     "output_type": "stream",
     "text": [
      "Grail Knights vs Longbowmen: (0.634575, 0.5842, 0.68495)\n"
     ]
    },
    {
     "name": "stderr",
     "output_type": "stream",
     "text": [
      "100%|██████████████████████████████████████████████████████████| 10000/10000 [00:22<00:00, 444.36it/s]\n",
      "100%|██████████████████████████████████████████████████████████| 10000/10000 [00:22<00:00, 438.76it/s]\n"
     ]
    },
    {
     "name": "stdout",
     "output_type": "stream",
     "text": [
      "Grail Knights vs Foot Knights: (0.45175, 0.27695, 0.6265499999999999)\n"
     ]
    },
    {
     "name": "stderr",
     "output_type": "stream",
     "text": [
      "100%|██████████████████████████████████████████████████████████| 10000/10000 [00:24<00:00, 410.76it/s]\n",
      "100%|██████████████████████████████████████████████████████████| 10000/10000 [00:24<00:00, 404.55it/s]\n"
     ]
    },
    {
     "name": "stdout",
     "output_type": "stream",
     "text": [
      "Grail Knights vs Ogres: (0.23829999999999998, 0.15775, 0.31884999999999997)\n"
     ]
    },
    {
     "name": "stderr",
     "output_type": "stream",
     "text": [
      "100%|██████████████████████████████████████████████████████████| 10000/10000 [00:19<00:00, 521.34it/s]\n",
      "100%|██████████████████████████████████████████████████████████| 10000/10000 [00:18<00:00, 555.13it/s]\n"
     ]
    },
    {
     "name": "stdout",
     "output_type": "stream",
     "text": [
      "Grail Knights vs Giant: (0.6718, 0.66855, 0.6750499999999999)\n"
     ]
    },
    {
     "name": "stderr",
     "output_type": "stream",
     "text": [
      "100%|██████████████████████████████████████████████████████████| 10000/10000 [00:31<00:00, 313.65it/s]\n",
      "100%|██████████████████████████████████████████████████████████| 10000/10000 [00:31<00:00, 315.36it/s]\n"
     ]
    },
    {
     "name": "stdout",
     "output_type": "stream",
     "text": [
      "Grail Knights vs Peasants: (0.305825, 0.31505, 0.2966)\n"
     ]
    },
    {
     "name": "stderr",
     "output_type": "stream",
     "text": [
      "100%|██████████████████████████████████████████████████████████| 10000/10000 [00:29<00:00, 343.39it/s]\n",
      "100%|██████████████████████████████████████████████████████████| 10000/10000 [00:28<00:00, 345.89it/s]\n"
     ]
    },
    {
     "name": "stdout",
     "output_type": "stream",
     "text": [
      "Longbowmen vs Foot Knights: (0.45155, 0.45185, 0.45125000000000004)\n"
     ]
    },
    {
     "name": "stderr",
     "output_type": "stream",
     "text": [
      "100%|██████████████████████████████████████████████████████████| 10000/10000 [00:30<00:00, 326.90it/s]\n",
      "100%|██████████████████████████████████████████████████████████| 10000/10000 [00:30<00:00, 333.16it/s]\n"
     ]
    },
    {
     "name": "stdout",
     "output_type": "stream",
     "text": [
      "Longbowmen vs Ogres: (0.38355000000000006, 0.3683, 0.39880000000000004)\n"
     ]
    },
    {
     "name": "stderr",
     "output_type": "stream",
     "text": [
      "100%|██████████████████████████████████████████████████████████| 10000/10000 [00:24<00:00, 416.50it/s]\n",
      "100%|██████████████████████████████████████████████████████████| 10000/10000 [00:24<00:00, 414.44it/s]\n"
     ]
    },
    {
     "name": "stdout",
     "output_type": "stream",
     "text": [
      "Longbowmen vs Giant: (0.542925, 0.55585, 0.53)\n"
     ]
    },
    {
     "name": "stderr",
     "output_type": "stream",
     "text": [
      "100%|██████████████████████████████████████████████████████████| 10000/10000 [00:36<00:00, 270.50it/s]\n",
      "100%|██████████████████████████████████████████████████████████| 10000/10000 [00:36<00:00, 274.14it/s]\n"
     ]
    },
    {
     "name": "stdout",
     "output_type": "stream",
     "text": [
      "Longbowmen vs Peasants: (0.549725, 0.5522, 0.54725)\n"
     ]
    },
    {
     "name": "stderr",
     "output_type": "stream",
     "text": [
      "100%|██████████████████████████████████████████████████████████| 10000/10000 [00:32<00:00, 307.18it/s]\n",
      "100%|██████████████████████████████████████████████████████████| 10000/10000 [00:32<00:00, 312.01it/s]\n"
     ]
    },
    {
     "name": "stdout",
     "output_type": "stream",
     "text": [
      "Foot Knights vs Ogres: (0.388575, 0.3793, 0.39785000000000004)\n"
     ]
    },
    {
     "name": "stderr",
     "output_type": "stream",
     "text": [
      "100%|██████████████████████████████████████████████████████████| 10000/10000 [00:25<00:00, 397.71it/s]\n",
      "100%|██████████████████████████████████████████████████████████| 10000/10000 [00:25<00:00, 390.13it/s]\n"
     ]
    },
    {
     "name": "stdout",
     "output_type": "stream",
     "text": [
      "Foot Knights vs Giant: (0.6156250000000001, 0.61, 0.6212500000000001)\n"
     ]
    },
    {
     "name": "stderr",
     "output_type": "stream",
     "text": [
      "100%|██████████████████████████████████████████████████████████| 10000/10000 [00:38<00:00, 260.36it/s]\n",
      "100%|██████████████████████████████████████████████████████████| 10000/10000 [00:37<00:00, 263.22it/s]\n"
     ]
    },
    {
     "name": "stdout",
     "output_type": "stream",
     "text": [
      "Foot Knights vs Peasants: (0.399675, 0.3874, 0.41195000000000004)\n"
     ]
    },
    {
     "name": "stderr",
     "output_type": "stream",
     "text": [
      "100%|██████████████████████████████████████████████████████████| 10000/10000 [00:26<00:00, 377.20it/s]\n",
      "100%|██████████████████████████████████████████████████████████| 10000/10000 [00:26<00:00, 371.53it/s]\n"
     ]
    },
    {
     "name": "stdout",
     "output_type": "stream",
     "text": [
      "Ogres vs Giant: (0.700825, 0.6848, 0.71685)\n"
     ]
    },
    {
     "name": "stderr",
     "output_type": "stream",
     "text": [
      "100%|██████████████████████████████████████████████████████████| 10000/10000 [00:39<00:00, 254.58it/s]\n",
      "100%|██████████████████████████████████████████████████████████| 10000/10000 [00:38<00:00, 260.07it/s]\n"
     ]
    },
    {
     "name": "stdout",
     "output_type": "stream",
     "text": [
      "Ogres vs Peasants: (0.5965499999999999, 0.6052, 0.5879)\n"
     ]
    },
    {
     "name": "stderr",
     "output_type": "stream",
     "text": [
      "100%|██████████████████████████████████████████████████████████| 10000/10000 [00:32<00:00, 304.27it/s]\n",
      "100%|██████████████████████████████████████████████████████████| 10000/10000 [00:32<00:00, 308.71it/s]"
     ]
    },
    {
     "name": "stdout",
     "output_type": "stream",
     "text": [
      "Giant vs Peasants: (0.41805, 0.43655, 0.39954999999999996)\n"
     ]
    },
    {
     "name": "stderr",
     "output_type": "stream",
     "text": [
      "\n"
     ]
    }
   ],
   "source": [
    "import itertools\n",
    "results = {}\n",
    "for a, b in itertools.combinations(armies, 2):\n",
    "    result = run_nvn(a, b)\n",
    "    print(f\"{a[0].name} vs {b[0].name}: {result}\")\n",
    "    results[(a[0].name, b[0].name)] = result"
   ]
  },
  {
   "cell_type": "markdown",
   "id": "2b4bbbfd",
   "metadata": {},
   "source": [
    "Men-At-Arms vs Grail Knights: (0.50785, 0.4008, 0.6149)\n",
    "Men-At-Arms vs Longbowmen: (0.5867, 0.57765, 0.59575)\n",
    "Men-At-Arms vs Foot Knights: (0.48187499999999994, 0.48645, 0.47729999999999995)\n",
    "Men-At-Arms vs Ogres: (0.43825000000000003, 0.42685, 0.44965)\n",
    "Men-At-Arms vs Giant: (0.631075, 0.62675, 0.6354)\n",
    "Men-At-Arms vs Peasants: (0.6925250000000001, 0.6832, 0.70185)\n",
    "Grail Knights vs Longbowmen: (0.634575, 0.5842, 0.68495)\n",
    "Grail Knights vs Foot Knights: (0.45175, 0.27695, 0.6265499999999999)\n",
    "Grail Knights vs Ogres: (0.23829999999999998, 0.15775, 0.31884999999999997)\n",
    "Grail Knights vs Giant: (0.6718, 0.66855, 0.6750499999999999)\n",
    "Grail Knights vs Peasants: (0.305825, 0.31505, 0.2966)\n",
    "Longbowmen vs Foot Knights: (0.45155, 0.45185, 0.45125000000000004)\n",
    "Longbowmen vs Ogres: (0.38355000000000006, 0.3683, 0.39880000000000004)\n",
    "Longbowmen vs Giant: (0.542925, 0.55585, 0.53)\n",
    "Longbowmen vs Peasants: (0.549725, 0.5522, 0.54725)\n",
    "Foot Knights vs Ogres: (0.388575, 0.3793, 0.39785000000000004)\n",
    "Foot Knights vs Giant: (0.6156250000000001, 0.61, 0.6212500000000001)\n",
    "Foot Knights vs Peasants: (0.399675, 0.3874, 0.41195000000000004)\n",
    "Ogres vs Giant: (0.700825, 0.6848, 0.71685)\n",
    "Ogres vs Peasants: (0.5965499999999999, 0.6052, 0.5879)\n",
    "Giant vs Peasants: (0.41805, 0.43655, 0.39954999999999996)"
   ]
  },
  {
   "cell_type": "markdown",
   "id": "9f5f19b1",
   "metadata": {},
   "source": [
    "Men at arms: bad against knights, ogres, average against longbowmen, heavy inf, good against giants, peasants\n",
    "Grail knights: bad against peasants, ogres, average vs foot knights, good vs giant, longbowmen, infantry\n",
    "Longbowmen: bad vs infantry, ogres, knights average vs heavy inf, giant, peasants"
   ]
  },
  {
   "cell_type": "code",
   "execution_count": 52,
   "id": "e57de31a",
   "metadata": {},
   "outputs": [
    {
     "data": {
      "text/plain": [
       "520"
      ]
     },
     "execution_count": 52,
     "metadata": {},
     "output_type": "execute_result"
    }
   ],
   "source": [
    "260*2"
   ]
  },
  {
   "cell_type": "code",
   "execution_count": 53,
   "id": "e0e86605",
   "metadata": {},
   "outputs": [],
   "source": [
    "armies = [\n",
    "    [men_at_arms,men_at_arms,men_at_arms,men_at_arms,],  # 520\n",
    "    [grail_knights_c,grail_knights_c,], # 500\n",
    "#     [longbowmen_10,longbowmen_10,men_at_arms,], # 390\n",
    "    [foot_knights,foot_knights,foot_knights,peasants,], # 510\n",
    "#     [ogres,men_at_arms,], # 340\n",
    "    [ogres,ogres,peasants,], # 390\n",
    "    [giant_u,giant_u,], # 520\n",
    "#     [peasants,peasants,peasants,peasants,], # 360\n",
    "]"
   ]
  },
  {
   "cell_type": "code",
   "execution_count": 54,
   "id": "1c8f51eb",
   "metadata": {},
   "outputs": [
    {
     "name": "stderr",
     "output_type": "stream",
     "text": [
      "100%|██████████████████████████████████████████████████████████| 10000/10000 [00:40<00:00, 245.06it/s]\n",
      "100%|██████████████████████████████████████████████████████████| 10000/10000 [00:40<00:00, 246.58it/s]\n"
     ]
    },
    {
     "name": "stdout",
     "output_type": "stream",
     "text": [
      "Longbowmen vs Men-At-Arms: (0.40454999999999997, 0.3957, 0.4134)\n"
     ]
    },
    {
     "name": "stderr",
     "output_type": "stream",
     "text": [
      "100%|██████████████████████████████████████████████████████████| 10000/10000 [00:24<00:00, 413.02it/s]\n",
      "100%|██████████████████████████████████████████████████████████| 10000/10000 [00:24<00:00, 411.61it/s]\n"
     ]
    },
    {
     "name": "stdout",
     "output_type": "stream",
     "text": [
      "Longbowmen vs Grail Knights: (0.56545, 0.6249, 0.506)\n"
     ]
    },
    {
     "name": "stderr",
     "output_type": "stream",
     "text": [
      "100%|██████████████████████████████████████████████████████████| 10000/10000 [00:38<00:00, 259.09it/s]\n",
      "100%|██████████████████████████████████████████████████████████| 10000/10000 [00:38<00:00, 261.30it/s]\n"
     ]
    },
    {
     "name": "stdout",
     "output_type": "stream",
     "text": [
      "Longbowmen vs Foot Knights: (0.42722499999999997, 0.42965, 0.42479999999999996)\n"
     ]
    },
    {
     "name": "stderr",
     "output_type": "stream",
     "text": [
      "100%|██████████████████████████████████████████████████████████| 10000/10000 [00:33<00:00, 296.80it/s]\n",
      "100%|██████████████████████████████████████████████████████████| 10000/10000 [00:33<00:00, 298.06it/s]\n"
     ]
    },
    {
     "name": "stdout",
     "output_type": "stream",
     "text": [
      "Longbowmen vs Ogres: (0.42710000000000004, 0.43015, 0.42405000000000004)\n"
     ]
    },
    {
     "name": "stderr",
     "output_type": "stream",
     "text": [
      "100%|██████████████████████████████████████████████████████████| 10000/10000 [00:28<00:00, 353.72it/s]\n",
      "100%|██████████████████████████████████████████████████████████| 10000/10000 [00:28<00:00, 354.10it/s]"
     ]
    },
    {
     "name": "stdout",
     "output_type": "stream",
     "text": [
      "Longbowmen vs Giant: (0.53955, 0.59465, 0.48445000000000005)\n"
     ]
    },
    {
     "name": "stderr",
     "output_type": "stream",
     "text": [
      "\n"
     ]
    }
   ],
   "source": [
    "a = [longbowmen_10,longbowmen_10,longbowmen_10,men_at_arms,]\n",
    "for b in armies:\n",
    "    result = run_nvn(a, b)\n",
    "    print(f\"{a[0].name} vs {b[0].name}: {result}\")\n",
    "    results[(a[0].name, b[0].name)] = result"
   ]
  },
  {
   "cell_type": "code",
   "execution_count": null,
   "id": "e357aea0",
   "metadata": {},
   "outputs": [],
   "source": []
  }
 ],
 "metadata": {
  "kernelspec": {
   "display_name": "Python 3 (ipykernel)",
   "language": "python",
   "name": "python3"
  },
  "language_info": {
   "codemirror_mode": {
    "name": "ipython",
    "version": 3
   },
   "file_extension": ".py",
   "mimetype": "text/x-python",
   "name": "python",
   "nbconvert_exporter": "python",
   "pygments_lexer": "ipython3",
   "version": "3.9.6"
  }
 },
 "nbformat": 4,
 "nbformat_minor": 5
}
