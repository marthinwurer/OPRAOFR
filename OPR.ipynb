{
 "cells": [
  {
   "cell_type": "markdown",
   "id": "87f42744",
   "metadata": {},
   "source": [
    "One page rules fantasy regiments"
   ]
  },
  {
   "cell_type": "code",
   "execution_count": null,
   "id": "0a421656",
   "metadata": {},
   "outputs": [],
   "source": []
  },
  {
   "cell_type": "code",
   "execution_count": 1827,
   "id": "07a2b448",
   "metadata": {},
   "outputs": [],
   "source": [
    "import random"
   ]
  },
  {
   "cell_type": "code",
   "execution_count": 1828,
   "id": "090feb1f",
   "metadata": {},
   "outputs": [],
   "source": [
    "def quality_test(quality, modifier=0):\n",
    "    roll = random.randint(1, 6)\n",
    "    return (roll + modifier >= quality or roll == 6) and roll != 1"
   ]
  },
  {
   "cell_type": "code",
   "execution_count": 1829,
   "id": "1c4eafba",
   "metadata": {},
   "outputs": [],
   "source": [
    "def shoot(quality, models, ap, defense):\n",
    "    # roll to hit\n",
    "    hits = 0\n",
    "    for i in range(models):\n",
    "        if quality_test(quality, modifier=0):\n",
    "            hits += 1\n",
    "    \n",
    "    wounds = 0\n",
    "    for i in range(hits):\n",
    "        roll = random.randint(1, 6)\n",
    "        if (roll - ap < defense or roll == 1) and roll != 6:\n",
    "            wounds += 1\n",
    "    return wounds"
   ]
  },
  {
   "cell_type": "code",
   "execution_count": 1830,
   "id": "1d1dab99",
   "metadata": {},
   "outputs": [
    {
     "data": {
      "text/plain": [
       "0"
      ]
     },
     "execution_count": 1830,
     "metadata": {},
     "output_type": "execute_result"
    }
   ],
   "source": [
    "shoot(4, 5, 0, 5)"
   ]
  },
  {
   "cell_type": "code",
   "execution_count": 1831,
   "id": "41f8eaf4",
   "metadata": {},
   "outputs": [],
   "source": [
    "def mc(func, times=10000):\n",
    "    total = 0\n",
    "    for i in range(times):\n",
    "        total += func()\n",
    "    return total / times"
   ]
  },
  {
   "cell_type": "code",
   "execution_count": 1832,
   "id": "a3630111",
   "metadata": {},
   "outputs": [
    {
     "data": {
      "text/plain": [
       "1.5"
      ]
     },
     "execution_count": 1832,
     "metadata": {},
     "output_type": "execute_result"
    }
   ],
   "source": [
    "mc(lambda: shoot(4, 5, 0, 5), 100)"
   ]
  },
  {
   "cell_type": "code",
   "execution_count": 1833,
   "id": "a21de7a5",
   "metadata": {},
   "outputs": [
    {
     "data": {
      "text/plain": [
       "2.19"
      ]
     },
     "execution_count": 1833,
     "metadata": {},
     "output_type": "execute_result"
    }
   ],
   "source": [
    "# 10 warriors vs 5 veterans\n",
    "mc(lambda: shoot(3, 5, 0, 5), 100)"
   ]
  },
  {
   "cell_type": "code",
   "execution_count": 1834,
   "id": "400315f8",
   "metadata": {},
   "outputs": [
    {
     "data": {
      "text/plain": [
       "2.52"
      ]
     },
     "execution_count": 1834,
     "metadata": {},
     "output_type": "execute_result"
    }
   ],
   "source": [
    "mc(lambda: shoot(4, 10, 0, 4), 100)"
   ]
  },
  {
   "cell_type": "code",
   "execution_count": 1835,
   "id": "9aaf8f2e",
   "metadata": {},
   "outputs": [
    {
     "data": {
      "text/plain": [
       "2.74"
      ]
     },
     "execution_count": 1835,
     "metadata": {},
     "output_type": "execute_result"
    }
   ],
   "source": [
    "# 5 veterans vs 10 human infantrymen\n",
    "mc(lambda: shoot(3, 5, 1, 5), 100)"
   ]
  },
  {
   "cell_type": "code",
   "execution_count": 1836,
   "id": "004dfbdf",
   "metadata": {},
   "outputs": [
    {
     "data": {
      "text/plain": [
       "1.76"
      ]
     },
     "execution_count": 1836,
     "metadata": {},
     "output_type": "execute_result"
    }
   ],
   "source": [
    "mc(lambda: shoot(5, 10, 0, 4), 100)"
   ]
  },
  {
   "cell_type": "code",
   "execution_count": 1837,
   "id": "4f1fed75",
   "metadata": {},
   "outputs": [
    {
     "data": {
      "text/plain": [
       "0.5992779783393501"
      ]
     },
     "execution_count": 1837,
     "metadata": {},
     "output_type": "execute_result"
    }
   ],
   "source": [
    "1.66/2.77"
   ]
  },
  {
   "cell_type": "code",
   "execution_count": 1838,
   "id": "d31d51be",
   "metadata": {},
   "outputs": [],
   "source": [
    "class Unit:\n",
    "    def __init__(self, quality, defense, models, width, ap=0, bonus=0):\n",
    "        self.quality = quality\n",
    "        self.defense = defense\n",
    "        self.models = models\n",
    "        self.starting_models = models\n",
    "        self.width = width\n",
    "        self.wavering = False\n",
    "        self.ap = ap\n",
    "        self.melee_bonus = bonus\n",
    "    \n",
    "    def full_rows(self):\n",
    "        return self.models // self.width\n",
    "    \n",
    "    def under_half(self):\n",
    "        return self.models / self.starting_models <= 0.5"
   ]
  },
  {
   "cell_type": "code",
   "execution_count": 1839,
   "id": "d4e6256e",
   "metadata": {},
   "outputs": [],
   "source": [
    "import copy"
   ]
  },
  {
   "cell_type": "code",
   "execution_count": 1840,
   "id": "635c5d15",
   "metadata": {},
   "outputs": [],
   "source": [
    "def to_the_death(a, b):\n",
    "    while True:\n",
    "        # A attacks B\n",
    "        a_wounds = shoot(a.quality, min(a.models, 10), 0, b.defense)\n",
    "        b.models -= a_wounds\n",
    "#         print(a_wounds)\n",
    "        \n",
    "        if b.models <= 0:\n",
    "            return 1\n",
    "        \n",
    "        # B strikes back\n",
    "        b_wounds = shoot(b.quality, min(b.models, 10), 0, a.defense)\n",
    "        a.models -= b_wounds\n",
    "        \n",
    "#         print(b_wounds)\n",
    "\n",
    "        if a.models <= 0:\n",
    "            return 0\n",
    "        \n",
    "        \n",
    "        a_score = a_wounds + a.full_rows() + a.melee_bonus\n",
    "        b_score = b_wounds + b.full_rows() + b.melee_bonus\n",
    "        \n",
    "        if a_score > b_score:\n",
    "            loser = b\n",
    "        elif b_score > a_score:\n",
    "            loser = a\n",
    "        else:\n",
    "            loser = None\n",
    "        \n",
    "        if loser:\n",
    "            if not quality_test(loser.quality):\n",
    "                if loser.under_half():\n",
    "                    loser.models = 0\n",
    "                else:\n",
    "                    loser.wavering = True\n",
    "        \n",
    "        if b.models <= 0:\n",
    "            return 1\n",
    "        if a.models <= 0:\n",
    "            return 0"
   ]
  },
  {
   "cell_type": "code",
   "execution_count": 1841,
   "id": "1ad595bf",
   "metadata": {},
   "outputs": [],
   "source": [
    "dwarves = Unit(4, 5, 20, 5)\n",
    "beards = Unit(3, 4, 5, 5, ap=1)\n",
    "humans = Unit(5, 5, 20, 5)"
   ]
  },
  {
   "cell_type": "code",
   "execution_count": null,
   "id": "6aad6e08",
   "metadata": {},
   "outputs": [],
   "source": []
  },
  {
   "cell_type": "code",
   "execution_count": 1842,
   "id": "8a301ee8",
   "metadata": {},
   "outputs": [
    {
     "data": {
      "text/plain": [
       "1"
      ]
     },
     "execution_count": 1842,
     "metadata": {},
     "output_type": "execute_result"
    }
   ],
   "source": [
    "to_the_death(copy.deepcopy(dwarves), copy.deepcopy(humans))"
   ]
  },
  {
   "cell_type": "code",
   "execution_count": 1843,
   "id": "fe9a8095",
   "metadata": {},
   "outputs": [
    {
     "data": {
      "text/plain": [
       "0.6"
      ]
     },
     "execution_count": 1843,
     "metadata": {},
     "output_type": "execute_result"
    }
   ],
   "source": [
    "mc(lambda: to_the_death(copy.deepcopy(Unit(5, 5, 20, 5, bonus=2)), copy.deepcopy(Unit(5, 5, 20, 5, bonus=2))), 100)"
   ]
  },
  {
   "cell_type": "markdown",
   "id": "586443eb",
   "metadata": {},
   "source": [
    "Unit(5, 5, 20, 5, bonus=0) mirror, with different bonuses\n",
    "0 both: 0.55\n",
    "a1: 0.65\n",
    "a2: 0.73\n",
    "d1: 0.44\n",
    "d2: 0.36\n",
    "a2d2: 0.55\n"
   ]
  },
  {
   "cell_type": "code",
   "execution_count": null,
   "id": "bdd6eda1",
   "metadata": {},
   "outputs": [],
   "source": []
  },
  {
   "cell_type": "code",
   "execution_count": 1924,
   "id": "88062c7b",
   "metadata": {},
   "outputs": [],
   "source": [
    "from opr_structs import *\n",
    "from opr_logic import *"
   ]
  },
  {
   "cell_type": "markdown",
   "id": "19ac68b1",
   "metadata": {},
   "source": [
    "Reimplementation with units as point masses.\n",
    "\n",
    "Assume that units are simply spheres of 1\" radius"
   ]
  },
  {
   "cell_type": "code",
   "execution_count": 1844,
   "id": "46b41b20",
   "metadata": {},
   "outputs": [],
   "source": [
    "def merge_rules(a, b):\n",
    "    merged = {}\n",
    "    for r in a.keys():\n",
    "        total = a.get(r, 0) + b.get(r, 0)\n",
    "        merged[r] = total\n",
    "\n",
    "    for r in b.keys():\n",
    "        if r in merged:\n",
    "            continue\n",
    "        merged[r] = b[r]\n",
    "    return merged"
   ]
  },
  {
   "cell_type": "code",
   "execution_count": 1845,
   "id": "d1d5a9ca",
   "metadata": {},
   "outputs": [
    {
     "data": {
      "text/plain": [
       "{'Tough': 3, 'Deadly': 7, 'Fear': 0, 'Flying': 0}"
      ]
     },
     "execution_count": 1845,
     "metadata": {},
     "output_type": "execute_result"
    }
   ],
   "source": [
    "a = {\"Tough\":3, \"Deadly\":2, \"Fear\":0}\n",
    "b = {\"Deadly\": 5, \"Flying\":0}\n",
    "merge_rules(a, b)"
   ]
  },
  {
   "cell_type": "code",
   "execution_count": 1846,
   "id": "986ef6a9",
   "metadata": {},
   "outputs": [],
   "source": [
    "class Attack:\n",
    "    def __init__(self, quality, rules=None):\n",
    "        if rules is None:\n",
    "            rules = {}\n",
    "        self.quality = quality\n",
    "        self.rules = rules\n",
    "    \n",
    "    def __repr__(self):\n",
    "        return f\"Attack({self.quality}, {self.rules})\""
   ]
  },
  {
   "cell_type": "code",
   "execution_count": 1847,
   "id": "ead2e167",
   "metadata": {},
   "outputs": [],
   "source": [
    "class Weapon:\n",
    "    def __init__(self, attacks, rules=None):\n",
    "        if rules is None:\n",
    "            rules = {}\n",
    "        \n",
    "        self.attacks = attacks\n",
    "        self.rules = rules\n",
    "    \n",
    "    @property\n",
    "    def range(self):\n",
    "        return self.rules.get(\"Range\", 0)\n",
    "    \n",
    "    @property\n",
    "    def melee(self):\n",
    "        return self.range == 0\n",
    "    "
   ]
  },
  {
   "cell_type": "code",
   "execution_count": 1848,
   "id": "90b63aec",
   "metadata": {},
   "outputs": [],
   "source": [
    "class Model:\n",
    "    def __init__(self, quality, defense, equipment, rules=None):\n",
    "        if rules is None:\n",
    "            rules = {}\n",
    "        self.quality = quality\n",
    "        self.defense = defense\n",
    "        self.equipment = equipment\n",
    "        self.rules = rules\n",
    "    \n",
    "    def __repr__(self):\n",
    "        return f\"Model({self.quality}, {self.defense}, {self.equipment}, {self.rules})\""
   ]
  },
  {
   "cell_type": "code",
   "execution_count": 1849,
   "id": "9ddff876",
   "metadata": {},
   "outputs": [],
   "source": [
    "class Unit:\n",
    "    def __init__(self, models, width, rules=None, name=None):\n",
    "        if rules is None:\n",
    "            rules = {}\n",
    "        self.models = models\n",
    "        self.width = width\n",
    "        self.rules: dict = rules\n",
    "        self.starting_models = len(self.models)\n",
    "        self.accumulated_wounds = 0\n",
    "        self.x = 0\n",
    "        self.y = 0\n",
    "        self.controller = None\n",
    "        if name is None:\n",
    "            self.name = f\"Unit {random.randint(0, 1000)}\"\n",
    "        else:\n",
    "            self.name = name\n",
    "    \n",
    "    def __repr__(self):\n",
    "        return f\"Unit({self.name} ({len(self.models)}/{self.starting_models})({self.x:.1f},{self.y:.1f})\"\n",
    "\n",
    "    @property\n",
    "    def full_rows(self):\n",
    "        return len(self.models) // self.width\n",
    "    \n",
    "    @property\n",
    "    def under_half(self):\n",
    "        first_tough = self.models[0].rules.get(\"Tough\", 1)\n",
    "        if len(self.models) == 1 and first_tough != 1:\n",
    "            return self.accumulated_wounds / first_tough <= 0.5\n",
    "        return len(self.models) / self.starting_models <= 0.5\n",
    "    \n",
    "    @property\n",
    "    def alive(self):\n",
    "        return len(self.models) > 0\n",
    "\n",
    "    @property\n",
    "    def defense(self):\n",
    "        return self.models[-1].defense\n",
    "    \n",
    "    @property\n",
    "    def command(self):\n",
    "        total = 0\n",
    "        for model in self.models:\n",
    "            if \"Command\" in model.rules:\n",
    "                total += 1\n",
    "        return total\n",
    "    \n",
    "    @property\n",
    "    def is_melee(self):\n",
    "        for model in self.models:\n",
    "            for equipment in model.equipment:\n",
    "                if not equipment.melee:\n",
    "                    return False\n",
    "        return True\n",
    "    \n",
    "    @property\n",
    "    def is_hybrid(self):\n",
    "        # TODO fire breath\n",
    "        # Melee takes precidence\n",
    "        if self.is_melee:\n",
    "            return False\n",
    "        \n",
    "        all_ranged = []\n",
    "        all_melee = []\n",
    "        for model in self.models:\n",
    "            for equipment in model.equipment:\n",
    "                if equipment.melee:\n",
    "                    all_melee.append(equipment)\n",
    "                else:\n",
    "                    all_ranged.append(equipment)\n",
    "        \n",
    "        if len(all_melee) > len(all_ranged) * 2:\n",
    "            return True # if we just have a single model with a ranged weapon, we're hybrid\n",
    "        \n",
    "        # short ranged (12\" or less) are hybrid (skip single model)\n",
    "        if len([e for e in all_ranged if e.range <= 12]) > 1:\n",
    "            return True\n",
    "        \n",
    "        return False\n",
    "    \n",
    "    @property\n",
    "    def is_ranged(self):\n",
    "        return not self.is_melee and not self.is_hybrid\n",
    "    \n",
    "    @property\n",
    "    def speed(self):\n",
    "        _speed = 6\n",
    "        if \"Slow\" in self.rules or any([\"Slow\" in model.rules for model in self.models]):\n",
    "            _speed -= 2\n",
    "        elif \"Fast\" in self.rules or all([\"Fast\" in model.rules for model in self.models]):\n",
    "            _speed += 2\n",
    "        if \"Immobile\" in self.rules or any([\"Immobile\" in model.rules for model in self.models]):\n",
    "            _speed = 0\n",
    "        return _speed\n",
    "        \n",
    "    \n",
    "    def apply_wounds(self, wounds):\n",
    "        pass\n",
    "    \n",
    "    def apply_hits(self, hits):\n",
    "        pass\n",
    "    \n",
    "    def morale_test(self):\n",
    "        # If the unit is wavering, automatically fail the test\n",
    "        if \"Wavering\" in self.rules:\n",
    "            return False\n",
    "        \n",
    "        # pick a model to do the \n",
    "        # If there are heroes and their quality is higher, use it for quality tests\n",
    "        # TODO pick optimal model, by default just do the first\n",
    "        morale_model = self.models[0]\n",
    "        \n",
    "        bonus = 0\n",
    "        if \"Fearless\" in morale_model.rules:\n",
    "            bonus += 1\n",
    "        \n",
    "        return quality_test(morale_model.quality, bonus)\n",
    "    \n",
    "    def do_morale(self):\n",
    "        print(f\"{self.name} doing morale test\")\n",
    "        if not self.morale_test():\n",
    "            print(f\"{self.name} failed morale test\")\n",
    "            if self.under_half:\n",
    "                self.models.clear()\n",
    "                self.rules[\"Routed\"] = True\n",
    "                print(f\"{self.name} routed!\")\n",
    "            else:\n",
    "                self.rules[\"Wavering\"] = True\n",
    "        \n",
    "    def do_ranged_morale(self):\n",
    "        print(f\"{self.name} doing ranged morale test\")\n",
    "        if not self.morale_test():\n",
    "            print(f\"{self.name} failed ranged morale test\")\n",
    "            self.rules[\"Wavering\"] = True"
   ]
  },
  {
   "cell_type": "code",
   "execution_count": 1850,
   "id": "95ccc9b3",
   "metadata": {},
   "outputs": [
    {
     "data": {
      "text/plain": [
       "[0, 1, 2, 3]"
      ]
     },
     "execution_count": 1850,
     "metadata": {},
     "output_type": "execute_result"
    }
   ],
   "source": [
    "a = [0, 1, 2, 3]\n",
    "a[:6]"
   ]
  },
  {
   "cell_type": "code",
   "execution_count": 1851,
   "id": "474657bd",
   "metadata": {},
   "outputs": [],
   "source": [
    "def get_melee_attacks(unit, charging, against):\n",
    "    # first two rows attack\n",
    "    attacking_models = unit.models[:unit.width * 2]\n",
    "    \n",
    "#     charging = aga\n",
    "    # TODO phalanx\n",
    "\n",
    "    # gather the attacks\n",
    "    attacks = []\n",
    "    for model in attacking_models:\n",
    "        # TODO impact\n",
    "        if \"Impact\" in model.rules:\n",
    "            for i in range(model.rules[\"Impact\"]):\n",
    "                attacks.append(Attack(2, rules={\"Impact\":0}))\n",
    "        # get the attacks from melee weapons, ie range == 0\n",
    "        for weapon in model.equipment:\n",
    "            if not weapon.melee:\n",
    "                continue\n",
    "            \n",
    "#             print(weapon)\n",
    "            # TODO furious\n",
    "            num_attacks = weapon.attacks\n",
    "#             if \n",
    "            for _ in range(num_attacks):\n",
    "                attacks.append(Attack(model.quality, \n",
    "                                      rules=merge_rules(merge_rules(weapon.rules, model.rules), unit.rules)))\n",
    "    \n",
    "    return attacks"
   ]
  },
  {
   "cell_type": "code",
   "execution_count": 1852,
   "id": "84827db4",
   "metadata": {},
   "outputs": [],
   "source": [
    "def models_for(model, count, heros=None):\n",
    "    if heros is None:\n",
    "        heros = []\n",
    "    models = []\n",
    "    models.extend(heros)\n",
    "    for i in range(count):\n",
    "        models.append(model)\n",
    "    return models"
   ]
  },
  {
   "cell_type": "code",
   "execution_count": 1853,
   "id": "36799289",
   "metadata": {},
   "outputs": [
    {
     "data": {
      "text/plain": [
       "(False, True, False)"
      ]
     },
     "execution_count": 1853,
     "metadata": {},
     "output_type": "execute_result"
    }
   ],
   "source": [
    "hand_weapon = Weapon(1)\n",
    "rifle = Weapon(1, {\"Range\": 18, \"AP\": 1})\n",
    "dwarf = Model(4, 5, [hand_weapon])\n",
    "rifle_dwarf = Model(4, 5, [rifle, hand_weapon])\n",
    "dwarf_marksmen = Unit(models_for(rifle_dwarf, 5), 5)\n",
    "dwarves = Unit(models_for(dwarf, 10), 5) # TODO rules\n",
    "dwarf_marksmen.is_melee, dwarves.is_melee, dwarf_marksmen.is_hybrid"
   ]
  },
  {
   "cell_type": "code",
   "execution_count": 1854,
   "id": "f749f279",
   "metadata": {},
   "outputs": [
    {
     "data": {
      "text/plain": [
       "(False, True, False)"
      ]
     },
     "execution_count": 1854,
     "metadata": {},
     "output_type": "execute_result"
    }
   ],
   "source": [
    "throwing_axes = Weapon(2, {\"Range\": 12})\n",
    "ranger_dwarf = Model(4, 5, [throwing_axes, hand_weapon])\n",
    "ranger_dwarves = Unit(models_for(ranger_dwarf, 10), 5)\n",
    "ranger_dwarves.is_melee, ranger_dwarves.is_hybrid, ranger_dwarves.is_melee"
   ]
  },
  {
   "cell_type": "code",
   "execution_count": 1855,
   "id": "39643204",
   "metadata": {},
   "outputs": [
    {
     "data": {
      "text/plain": [
       "([Attack(4, {}),\n",
       "  Attack(4, {}),\n",
       "  Attack(4, {}),\n",
       "  Attack(4, {}),\n",
       "  Attack(4, {}),\n",
       "  Attack(4, {}),\n",
       "  Attack(4, {}),\n",
       "  Attack(4, {}),\n",
       "  Attack(4, {}),\n",
       "  Attack(4, {})],\n",
       " 10)"
      ]
     },
     "execution_count": 1855,
     "metadata": {},
     "output_type": "execute_result"
    }
   ],
   "source": [
    "attacks = get_melee_attacks(dwarves, False, dwarves)\n",
    "attacks, len(attacks)"
   ]
  },
  {
   "cell_type": "code",
   "execution_count": 1856,
   "id": "8f9c171d",
   "metadata": {},
   "outputs": [],
   "source": [
    "hero_weapon = Weapon(3, {\"AP\":1})\n",
    "dwarf_champion = Model(3, 4, [hero_weapon], {\"Hero\":0, \"Tough\":3, \"Slow\":0, \"Fearless\":0,})\n",
    "dwarves_with_hero = Unit(models_for(dwarf, 10, [dwarf_champion]), 5) # TODO rules"
   ]
  },
  {
   "cell_type": "code",
   "execution_count": 1857,
   "id": "3e22130f",
   "metadata": {},
   "outputs": [
    {
     "data": {
      "text/plain": [
       "([Attack(3, {'AP': 1, 'Hero': 0, 'Tough': 3, 'Slow': 0, 'Fearless': 0}),\n",
       "  Attack(3, {'AP': 1, 'Hero': 0, 'Tough': 3, 'Slow': 0, 'Fearless': 0}),\n",
       "  Attack(3, {'AP': 1, 'Hero': 0, 'Tough': 3, 'Slow': 0, 'Fearless': 0}),\n",
       "  Attack(4, {}),\n",
       "  Attack(4, {}),\n",
       "  Attack(4, {}),\n",
       "  Attack(4, {}),\n",
       "  Attack(4, {}),\n",
       "  Attack(4, {}),\n",
       "  Attack(4, {}),\n",
       "  Attack(4, {}),\n",
       "  Attack(4, {})],\n",
       " 12)"
      ]
     },
     "execution_count": 1857,
     "metadata": {},
     "output_type": "execute_result"
    }
   ],
   "source": [
    "attacks = get_melee_attacks(dwarves_with_hero, False, dwarves)\n",
    "attacks, len(attacks)"
   ]
  },
  {
   "cell_type": "code",
   "execution_count": 1858,
   "id": "09838efb",
   "metadata": {},
   "outputs": [],
   "source": [
    "golem = Model(4, 3, [hero_weapon], {\"Tough\":3})\n",
    "golems = Unit(models_for(golem, 3), 3)"
   ]
  },
  {
   "cell_type": "code",
   "execution_count": 1859,
   "id": "00e5ff5b",
   "metadata": {},
   "outputs": [
    {
     "data": {
      "text/plain": [
       "([Attack(4, {'AP': 1, 'Tough': 3}),\n",
       "  Attack(4, {'AP': 1, 'Tough': 3}),\n",
       "  Attack(4, {'AP': 1, 'Tough': 3}),\n",
       "  Attack(4, {'AP': 1, 'Tough': 3}),\n",
       "  Attack(4, {'AP': 1, 'Tough': 3}),\n",
       "  Attack(4, {'AP': 1, 'Tough': 3}),\n",
       "  Attack(4, {'AP': 1, 'Tough': 3}),\n",
       "  Attack(4, {'AP': 1, 'Tough': 3}),\n",
       "  Attack(4, {'AP': 1, 'Tough': 3})],\n",
       " 9)"
      ]
     },
     "execution_count": 1859,
     "metadata": {},
     "output_type": "execute_result"
    }
   ],
   "source": [
    "attacks = get_melee_attacks(golems, False, dwarves)\n",
    "attacks, len(attacks)"
   ]
  },
  {
   "cell_type": "code",
   "execution_count": 1860,
   "id": "3db21576",
   "metadata": {},
   "outputs": [],
   "source": [
    "class Hit:\n",
    "    def __init__(self, rules=None):\n",
    "        if rules is None:\n",
    "            rules = {}\n",
    "        self.rules = rules\n",
    "    \n",
    "    def __repr__(self):\n",
    "        return f\"Hit({self.rules})\""
   ]
  },
  {
   "cell_type": "code",
   "execution_count": 1861,
   "id": "5f7abc32",
   "metadata": {},
   "outputs": [],
   "source": [
    "def roll_attacks(attacks, target):\n",
    "    hits = []\n",
    "    for attack in attacks:\n",
    "        # TODO Fatigued, wavering\n",
    "        bonus = attack.rules.get(\"Bonus\", 0)\n",
    "        if \"Fatigued\" in attack.rules:\n",
    "            bonus -= 999\n",
    "        if \"Wavering\" in attack.rules:\n",
    "            bonus -= 999\n",
    "        # do the thing\n",
    "        roll = random.randint(1, 6)\n",
    "        success = (roll + bonus >= attack.quality or roll == 6) and roll != 1\n",
    "        if not success:\n",
    "            continue\n",
    "        \n",
    "        \n",
    "        if roll == 6:\n",
    "            # do special stuff here\n",
    "            # rending\n",
    "            if \"Rending\" in attack.rules:\n",
    "                attack.rules[\"Rended\"] = 0\n",
    "                attack.rules[\"AP\"] = 4\n",
    "            \n",
    "            # TODO fix this: it should just add three wounds, not deadly\n",
    "            if \"Poison\" in attack.rules:\n",
    "                attack.rules[\"Poisoned\"] = 0\n",
    "#                 attack.rules[\"Deadly\"] = attack.rules.get(\"Deadly\", 1) * 3\n",
    "            \n",
    "        # add the hits\n",
    "        # TODO \n",
    "        for _ in range(attack.rules.get(\"Blast\", 1)):\n",
    "            hits.append(Hit(attack.rules))\n",
    "\n",
    "    return hits"
   ]
  },
  {
   "cell_type": "code",
   "execution_count": 1862,
   "id": "776f9164",
   "metadata": {},
   "outputs": [
    {
     "data": {
      "text/plain": [
       "[Hit({'AP': 1, 'Tough': 3}),\n",
       " Hit({'AP': 1, 'Tough': 3}),\n",
       " Hit({'AP': 1, 'Tough': 3}),\n",
       " Hit({'AP': 1, 'Tough': 3})]"
      ]
     },
     "execution_count": 1862,
     "metadata": {},
     "output_type": "execute_result"
    }
   ],
   "source": [
    "roll_attacks(attacks, dwarves)"
   ]
  },
  {
   "cell_type": "code",
   "execution_count": 1863,
   "id": "a34f9cf9",
   "metadata": {},
   "outputs": [],
   "source": [
    "def apply_hits(unit, hits):\n",
    "    # turn hits into wounds via defending\n",
    "    # make defense rolls\n",
    "    wounds = []\n",
    "    for hit in hits:\n",
    "        roll = random.randint(1, 6)\n",
    "        success = (roll - hit.rules.get(\"AP\", 0) >= unit.defense or roll == 6) and roll != 1\n",
    "        if success:\n",
    "            # defended, skip its abilities\n",
    "            continue\n",
    "        \n",
    "        # add the wounds from the hit\n",
    "        wounds.append(hit.rules)\n",
    "    return wounds"
   ]
  },
  {
   "cell_type": "code",
   "execution_count": 1864,
   "id": "8ff37784",
   "metadata": {},
   "outputs": [
    {
     "data": {
      "text/plain": [
       "[{}, {}]"
      ]
     },
     "execution_count": 1864,
     "metadata": {},
     "output_type": "execute_result"
    }
   ],
   "source": [
    "apply_hits(dwarves, [Hit(), Hit(), Hit(), Hit()])"
   ]
  },
  {
   "cell_type": "code",
   "execution_count": 1865,
   "id": "259d323e",
   "metadata": {},
   "outputs": [],
   "source": [
    "def apply_wounds(unit: Unit, wounds):\n",
    "    total = 0\n",
    "    for wound in wounds:\n",
    "        current_model = unit.models[-1]\n",
    "        # apply the wound to the unit.\n",
    "        count = wound.get(\"Deadly\", 1) # TODO Deadly\n",
    "        \n",
    "        if \"Regeneration\" in unit.models[-1].rules:\n",
    "            for i in range(count):\n",
    "                roll = random.randint(1, 6)\n",
    "                if \"Poison\" in wound:\n",
    "                    roll -= 1\n",
    "                if \"Rending\" in wound:\n",
    "                    roll -= 1\n",
    "                \n",
    "                if roll >= 5:\n",
    "                    count -= 1\n",
    "                    print(\"Regenerated\")\n",
    "\n",
    "        unit.accumulated_wounds += count\n",
    "        total += count\n",
    "\n",
    "        toughness = current_model.rules.get(\"Tough\", 1)\n",
    "        if unit.accumulated_wounds >= toughness:\n",
    "            unit.models.pop()\n",
    "            unit.accumulated_wounds = 0\n",
    "            # if all the models are dead, we're done here\n",
    "            if not unit.models:\n",
    "                return total\n",
    "\n",
    "    return total"
   ]
  },
  {
   "cell_type": "code",
   "execution_count": 1866,
   "id": "c75c273a",
   "metadata": {},
   "outputs": [
    {
     "data": {
      "text/plain": [
       "3"
      ]
     },
     "execution_count": 1866,
     "metadata": {},
     "output_type": "execute_result"
    }
   ],
   "source": [
    "dwarves = Unit(models_for(dwarf, 10), 5) # TODO rules\n",
    "apply_wounds(dwarves, [{}, {}, {}])"
   ]
  },
  {
   "cell_type": "code",
   "execution_count": 1867,
   "id": "ed317ced",
   "metadata": {},
   "outputs": [
    {
     "data": {
      "text/plain": [
       "7"
      ]
     },
     "execution_count": 1867,
     "metadata": {},
     "output_type": "execute_result"
    }
   ],
   "source": [
    "len(dwarves.models)"
   ]
  },
  {
   "cell_type": "code",
   "execution_count": 1868,
   "id": "2199dd49",
   "metadata": {},
   "outputs": [
    {
     "data": {
      "text/plain": [
       "3"
      ]
     },
     "execution_count": 1868,
     "metadata": {},
     "output_type": "execute_result"
    }
   ],
   "source": [
    "dwarves_with_hero = Unit(models_for(dwarf, 10, [dwarf_champion]), 5) # TODO rules\n",
    "apply_wounds(dwarves_with_hero, [{}, {}, {}])"
   ]
  },
  {
   "cell_type": "code",
   "execution_count": 1869,
   "id": "597f006b",
   "metadata": {},
   "outputs": [
    {
     "data": {
      "text/plain": [
       "8"
      ]
     },
     "execution_count": 1869,
     "metadata": {},
     "output_type": "execute_result"
    }
   ],
   "source": [
    "len(dwarves_with_hero.models)"
   ]
  },
  {
   "cell_type": "code",
   "execution_count": 1870,
   "id": "23da6488",
   "metadata": {},
   "outputs": [
    {
     "data": {
      "text/plain": [
       "4"
      ]
     },
     "execution_count": 1870,
     "metadata": {},
     "output_type": "execute_result"
    }
   ],
   "source": [
    "golems = Unit(models_for(golem, 3), 3)\n",
    "apply_wounds(golems, [{}, {}, {}, {}])"
   ]
  },
  {
   "cell_type": "code",
   "execution_count": 1871,
   "id": "e90a3da3",
   "metadata": {},
   "outputs": [
    {
     "data": {
      "text/plain": [
       "(2, 1)"
      ]
     },
     "execution_count": 1871,
     "metadata": {},
     "output_type": "execute_result"
    }
   ],
   "source": [
    "len(golems.models), golems.accumulated_wounds"
   ]
  },
  {
   "cell_type": "code",
   "execution_count": 1872,
   "id": "fbf08fbc",
   "metadata": {},
   "outputs": [
    {
     "data": {
      "text/plain": [
       "0"
      ]
     },
     "execution_count": 1872,
     "metadata": {},
     "output_type": "execute_result"
    }
   ],
   "source": [
    "golems = Unit(models_for(golem, 1), 3)\n",
    "apply_wounds(golems, [{}, {}, {}, {}])\n",
    "len(golems.models)"
   ]
  },
  {
   "cell_type": "code",
   "execution_count": 1873,
   "id": "76379a99",
   "metadata": {},
   "outputs": [],
   "source": [
    "def strike(attacker, defender, charging):\n",
    "    print(f\"{attacker} strikes {defender}\")\n",
    "    # determine attacks\n",
    "    attacks = get_melee_attacks(attacker, charging, defender)\n",
    "    print(f\"{len(attacks)} attacks\")\n",
    "    # roll to hit\n",
    "    hits = roll_attacks(attacks, defender)\n",
    "    print(f\"{len(hits)} hits\")\n",
    "    # roll to block\n",
    "    # TODO do hits and wounds at the same time, to accurately deal with heros\n",
    "    wounds = apply_hits(defender, hits)\n",
    "    # remove casualties\n",
    "    total_wounds = apply_wounds(defender, wounds)\n",
    "    print(f\"{total_wounds} wounds\")\n",
    "    \n",
    "    # apply fatigued\n",
    "    attacker.rules[\"Fatigued\"] = True\n",
    "    \n",
    "    return total_wounds"
   ]
  },
  {
   "cell_type": "code",
   "execution_count": 1874,
   "id": "e3d9f00f",
   "metadata": {},
   "outputs": [],
   "source": [
    "def do_melee(attacker, defender):\n",
    "    a_wounds = strike(attacker, defender, True)\n",
    "    if not defender.models:\n",
    "        # enemy is dead, we're done\n",
    "        print(f\"{defender} has been slain!\")\n",
    "        return\n",
    "    \n",
    "    d_wounds = strike(defender, attacker, False)\n",
    "    if not attacker.models:\n",
    "        # enemy is dead, we're done\n",
    "        print(f\"{attacker} has been slain!\")\n",
    "        return\n",
    "    \n",
    "    # TODO musician and standard bearer\n",
    "    a_score = a_wounds + attacker.full_rows + attacker.command\n",
    "    d_score = d_wounds + defender.full_rows + defender.command\n",
    "    \n",
    "    print(f\"scores: a: {a_score}, d: {d_score}\")\n",
    "\n",
    "    if a_score > d_score:\n",
    "        loser = defender\n",
    "    elif d_score > a_score:\n",
    "        loser = attacker\n",
    "    else:\n",
    "        loser = None\n",
    "\n",
    "    if loser:\n",
    "        loser.do_morale()\n"
   ]
  },
  {
   "cell_type": "code",
   "execution_count": 1875,
   "id": "cc689a85",
   "metadata": {},
   "outputs": [
    {
     "name": "stdout",
     "output_type": "stream",
     "text": [
      "Unit(Unit 441 (20/20)(0.0,0.0) strikes Unit(Unit 682 (20/20)(0.0,0.0)\n",
      "10 attacks\n",
      "5 hits\n",
      "3 wounds\n",
      "Unit(Unit 682 (17/20)(0.0,0.0) strikes Unit(Unit 441 (20/20)(0.0,0.0)\n",
      "10 attacks\n",
      "5 hits\n",
      "2 wounds\n",
      "scores: a: 6, d: 5\n",
      "Unit 682 doing morale test\n",
      "Unit 682 failed morale test\n"
     ]
    },
    {
     "data": {
      "text/plain": [
       "(18, 17)"
      ]
     },
     "execution_count": 1875,
     "metadata": {},
     "output_type": "execute_result"
    }
   ],
   "source": [
    "a = Unit(models_for(dwarf, 20), 5)\n",
    "d = Unit(models_for(dwarf, 20), 5)\n",
    "do_melee(a, d)\n",
    "len(a.models), len(d.models)"
   ]
  },
  {
   "cell_type": "code",
   "execution_count": 1876,
   "id": "4e509002",
   "metadata": {},
   "outputs": [
    {
     "name": "stdout",
     "output_type": "stream",
     "text": [
      "Unit(Unit 441 (18/20)(0.0,0.0) strikes Unit(Unit 682 (17/20)(0.0,0.0)\n",
      "10 attacks\n",
      "1 hits\n",
      "1 wounds\n",
      "Unit(Unit 682 (16/20)(0.0,0.0) strikes Unit(Unit 441 (18/20)(0.0,0.0)\n",
      "10 attacks\n",
      "0 hits\n",
      "0 wounds\n",
      "scores: a: 4, d: 3\n",
      "Unit 682 doing morale test\n",
      "Unit 682 failed morale test\n"
     ]
    },
    {
     "data": {
      "text/plain": [
       "(18, 16)"
      ]
     },
     "execution_count": 1876,
     "metadata": {},
     "output_type": "execute_result"
    }
   ],
   "source": [
    "do_melee(a, d)\n",
    "len(a.models), len(d.models)"
   ]
  },
  {
   "cell_type": "code",
   "execution_count": 1877,
   "id": "a8e2cb4b",
   "metadata": {},
   "outputs": [],
   "source": [
    "def generate_shooting_attacks(unit, distance):\n",
    "    # all models attack\n",
    "    attacking_models = unit.models[:]\n",
    "\n",
    "    # gather the attacks\n",
    "    attacks = []\n",
    "    for model in attacking_models:\n",
    "        # TODO weapon groups\n",
    "        for weapon in model.equipment:\n",
    "            if weapon.rules.get(\"Range\", 0) < distance:\n",
    "                continue\n",
    "            \n",
    "\n",
    "            num_attacks = weapon.attacks\n",
    "            for _ in range(num_attacks):\n",
    "                attacks.append(Attack(model.quality, \n",
    "                                      rules=merge_rules(merge_rules(weapon.rules, model.rules), unit.rules)))\n",
    "    \n",
    "    return attacks"
   ]
  },
  {
   "cell_type": "code",
   "execution_count": null,
   "id": "f582f3b0",
   "metadata": {},
   "outputs": [],
   "source": []
  },
  {
   "cell_type": "code",
   "execution_count": 1878,
   "id": "46529ea4",
   "metadata": {},
   "outputs": [
    {
     "data": {
      "text/plain": [
       "[]"
      ]
     },
     "execution_count": 1878,
     "metadata": {},
     "output_type": "execute_result"
    }
   ],
   "source": [
    "generate_shooting_attacks(dwarf_marksmen, 22)"
   ]
  },
  {
   "cell_type": "code",
   "execution_count": 1879,
   "id": "9f4335ad",
   "metadata": {},
   "outputs": [],
   "source": [
    "def shoot(attacker, defender, distance):\n",
    "    print(f\"{attacker} shooting at {defender}\")\n",
    "    # determine attacks\n",
    "    attacks = generate_shooting_attacks(attacker, distance)\n",
    "    if len(attacks) == 0:\n",
    "        print(\"Out of range\")\n",
    "        return 0\n",
    "    print(f\"{len(attacks)} attacks\")\n",
    "    # roll to hit\n",
    "    hits = roll_attacks(attacks, defender)\n",
    "    print(f\"{len(hits)} hits\")\n",
    "    # roll to block\n",
    "    # TODO do hits and wounds at the same time, to accurately deal with heros\n",
    "    wounds = apply_hits(defender, hits)\n",
    "    # remove casualties\n",
    "    total_wounds = apply_wounds(defender, wounds)\n",
    "    print(f\"{total_wounds} wounds\")\n",
    "    \n",
    "    # apply fatigued\n",
    "    attacker.rules[\"Fatigued\"] = 0\n",
    "    \n",
    "    return total_wounds"
   ]
  },
  {
   "cell_type": "code",
   "execution_count": 1880,
   "id": "cb5a4798",
   "metadata": {},
   "outputs": [
    {
     "name": "stdout",
     "output_type": "stream",
     "text": [
      "Unit(Unit 601 (5/5)(0.0,0.0) shooting at Unit(Unit 140 (20/20)(0.0,0.0)\n",
      "5 attacks\n",
      "2 hits\n",
      "1 wounds\n"
     ]
    },
    {
     "data": {
      "text/plain": [
       "(5, 19)"
      ]
     },
     "execution_count": 1880,
     "metadata": {},
     "output_type": "execute_result"
    }
   ],
   "source": [
    "a = Unit(models_for(rifle_dwarf, 5), 5)\n",
    "d = Unit(models_for(dwarf, 20), 5)\n",
    "shoot(a, d, 10)\n",
    "len(a.models), len(d.models)"
   ]
  },
  {
   "cell_type": "code",
   "execution_count": 1881,
   "id": "cc8e948d",
   "metadata": {},
   "outputs": [],
   "source": [
    "def do_shooting(attacker, defender, distance):\n",
    "    a_wounds = shoot(attacker, defender, distance)    \n",
    "    if not defender.models:\n",
    "        # enemy is dead, we're done\n",
    "        return\n",
    "    \n",
    "    if a_wounds > 0 and defender.under_half:\n",
    "        defender.do_ranged_morale()"
   ]
  },
  {
   "cell_type": "code",
   "execution_count": 1882,
   "id": "715a97bd",
   "metadata": {},
   "outputs": [
    {
     "name": "stdout",
     "output_type": "stream",
     "text": [
      "Unit(Unit 663 (5/5)(0.0,0.0) shooting at Unit(Unit 643 (3/3)(0.0,0.0)\n",
      "5 attacks\n",
      "2 hits\n",
      "2 wounds\n",
      "Unit 643 doing ranged morale test\n"
     ]
    },
    {
     "data": {
      "text/plain": [
       "(5, 1, {})"
      ]
     },
     "execution_count": 1882,
     "metadata": {},
     "output_type": "execute_result"
    }
   ],
   "source": [
    "a = Unit(models_for(rifle_dwarf, 5), 5)\n",
    "d = Unit(models_for(dwarf, 3), 5)\n",
    "do_shooting(a, d, 10)\n",
    "len(a.models), len(d.models), d.rules"
   ]
  },
  {
   "cell_type": "code",
   "execution_count": 1883,
   "id": "ef6f9e50",
   "metadata": {},
   "outputs": [],
   "source": [
    "hand_weapon = Weapon(1)\n",
    "rifle = Weapon(1, {\"Range\": 24, \"AP\":1})\n",
    "human = Model(5, 5, [hand_weapon])\n",
    "human_marksman = Model(5, 5, [rifle, hand_weapon])"
   ]
  },
  {
   "cell_type": "code",
   "execution_count": 1884,
   "id": "1c68c123",
   "metadata": {},
   "outputs": [
    {
     "data": {
      "text/plain": [
       "[Unit(P1 R 0 (5/5)(0.0,0.0),\n",
       " Unit(P1 R 1 (5/5)(0.0,0.0),\n",
       " Unit(P1 R 2 (5/5)(0.0,0.0),\n",
       " Unit(P1 M 0 (10/10)(0.0,0.0),\n",
       " Unit(P1 M 1 (10/10)(0.0,0.0),\n",
       " Unit(P1 M 2 (10/10)(0.0,0.0)]"
      ]
     },
     "execution_count": 1884,
     "metadata": {},
     "output_type": "execute_result"
    }
   ],
   "source": [
    "def build_basic_army(playername):\n",
    "    units = []\n",
    "    for i in range(3):\n",
    "        units.append(Unit(models_for(human_marksman, 5), 5, name=f\"{playername} R {i}\"))\n",
    "    for i in range(3):\n",
    "        units.append(Unit(models_for(human, 10), 5, name=f\"{playername} M {i}\"))\n",
    "    return units\n",
    "build_basic_army(\"P1\")"
   ]
  },
  {
   "cell_type": "markdown",
   "id": "7854e800",
   "metadata": {},
   "source": [
    "setup:\n",
    "assign armies\n",
    "place terrain\n",
    "place objectives\n",
    "deploy armies\n",
    "\n",
    "main loop\n",
    "\n",
    "pick a unit to activate\n",
    "pick an action\n",
    " - hold\n",
    " - Advance\n",
    " - rush\n",
    " - charge\n"
   ]
  },
  {
   "cell_type": "code",
   "execution_count": 1885,
   "id": "e2313085",
   "metadata": {},
   "outputs": [],
   "source": [
    "class Player:\n",
    "    def __init__(self, name, units, zone):\n",
    "        self.name = name\n",
    "        self.units = units\n",
    "        self.zone = zone"
   ]
  },
  {
   "cell_type": "code",
   "execution_count": 1886,
   "id": "26a0b907",
   "metadata": {},
   "outputs": [],
   "source": [
    "class Objective:\n",
    "    def __init__(self, x, y, controller=None):\n",
    "        self.x = x\n",
    "        self.y = y\n",
    "        self.controller = controller\n",
    "    \n",
    "    def __repr__(self):\n",
    "        return f\"Objective({self.x}, {self.y}, {self.controller})\""
   ]
  },
  {
   "cell_type": "code",
   "execution_count": 1887,
   "id": "7e9dc2e4",
   "metadata": {},
   "outputs": [],
   "source": [
    "class Battle:\n",
    "    def __init__(self, players):\n",
    "        self.objectives = [Objective(12, 24),Objective(36, 24),Objective(60, 24),]\n",
    "        self.players = players\n",
    "        self.round = 0\n",
    "    \n",
    "    @property\n",
    "    def all_units(self):\n",
    "        units = []\n",
    "        for p in self.players:\n",
    "            units.extend(p.units)\n",
    "        return units\n",
    "        return [u for u in p.units for p in self.players]"
   ]
  },
  {
   "cell_type": "code",
   "execution_count": 1888,
   "id": "4a24f324",
   "metadata": {},
   "outputs": [
    {
     "data": {
      "text/plain": [
       "(12, 2)"
      ]
     },
     "execution_count": 1888,
     "metadata": {},
     "output_type": "execute_result"
    }
   ],
   "source": [
    "p1 = Player(\"p1\", build_basic_army(\"p1\"), (0, 12, 0, 72))\n",
    "p2 = Player(\"p2\", build_basic_army(\"p2\"), (36, 48, 0, 72))\n",
    "battle = Battle([p1, p2])\n",
    "len(battle.all_units), len(battle.players)"
   ]
  },
  {
   "cell_type": "code",
   "execution_count": 1889,
   "id": "f89110fd",
   "metadata": {},
   "outputs": [],
   "source": [
    "def calc_distance(x1, y1, x2, y2):\n",
    "    return ((x1 - x2)**2 + (y1 - y2)**2)**(1/2)"
   ]
  },
  {
   "cell_type": "code",
   "execution_count": 1890,
   "id": "52894344",
   "metadata": {},
   "outputs": [
    {
     "data": {
      "text/plain": [
       "(1.0, 1.4142135623730951, 2.0)"
      ]
     },
     "execution_count": 1890,
     "metadata": {},
     "output_type": "execute_result"
    }
   ],
   "source": [
    "calc_distance(0, 0, 1, 0), calc_distance(0, 0, 1, 1), calc_distance(0, 0, 0, 2)"
   ]
  },
  {
   "cell_type": "code",
   "execution_count": 1891,
   "id": "821c1a75",
   "metadata": {},
   "outputs": [],
   "source": [
    "def deploy(battle):\n",
    "    # alternate between players, placing units\n",
    "    # p1 on top, p2 on bottom\n",
    "    # how do I keep track of the non-deployed units?\n",
    "    \n",
    "    # TODO real deployment, for now just do randomly in their zones\n",
    "    # TODO Scout\n",
    "    # TODO Ambush\n",
    "    for p in battle.players:\n",
    "        z = p.zone\n",
    "        for u in p.units:\n",
    "            u.x = random.randint(z[2], z[3])\n",
    "            u.y = random.randint(z[0], z[1])\n",
    "            u.controller = p.name"
   ]
  },
  {
   "cell_type": "code",
   "execution_count": 1892,
   "id": "8310a82b",
   "metadata": {},
   "outputs": [],
   "source": [
    "deploy(battle)"
   ]
  },
  {
   "cell_type": "code",
   "execution_count": 1893,
   "id": "ac8aeaf1",
   "metadata": {},
   "outputs": [
    {
     "name": "stdout",
     "output_type": "stream",
     "text": [
      "p1 34 11 5\n",
      "p1 14 7 5\n",
      "p1 28 1 5\n",
      "p1 8 10 10\n",
      "p1 48 2 10\n",
      "p1 55 9 10\n",
      "p2 62 42 5\n",
      "p2 8 42 5\n",
      "p2 14 46 5\n",
      "p2 28 40 10\n",
      "p2 30 37 10\n",
      "p2 38 46 10\n"
     ]
    }
   ],
   "source": [
    "for u in battle.all_units:\n",
    "    print(u.controller, u.x, u.y, len(u.models))"
   ]
  },
  {
   "cell_type": "code",
   "execution_count": 1894,
   "id": "86957d5d",
   "metadata": {},
   "outputs": [
    {
     "name": "stdout",
     "output_type": "stream",
     "text": [
      "p1\n",
      "p1 34 11 5\n",
      "p1 14 7 5\n",
      "p1 28 1 5\n",
      "p1 8 10 10\n",
      "p1 48 2 10\n",
      "p1 55 9 10\n",
      "p2\n",
      "p2 62 42 5\n",
      "p2 8 42 5\n",
      "p2 14 46 5\n",
      "p2 28 40 10\n",
      "p2 30 37 10\n",
      "p2 38 46 10\n"
     ]
    }
   ],
   "source": [
    "for p in battle.players:\n",
    "    z = p.zone\n",
    "    print(p.name)\n",
    "    for u in p.units:\n",
    "        print(u.controller, u.x, u.y, len(u.models))"
   ]
  },
  {
   "cell_type": "code",
   "execution_count": 1895,
   "id": "0b07a638",
   "metadata": {},
   "outputs": [],
   "source": [
    "def choose_unit_to_activate(battle, player):\n",
    "    available_units = [u for u in player.units if \"Activated\" not in u.rules and u.alive]\n",
    "    if not available_units:\n",
    "        return None\n",
    "    # TODO sample from a zone, with priority baseed on rules\n",
    "    # for now, just sample a random unit\n",
    "    return random.sample(available_units, 1)[0]"
   ]
  },
  {
   "cell_type": "code",
   "execution_count": 1896,
   "id": "db23e677",
   "metadata": {},
   "outputs": [
    {
     "data": {
      "text/plain": [
       "Unit(p1 M 1 (10/10)(48.0,2.0)"
      ]
     },
     "execution_count": 1896,
     "metadata": {},
     "output_type": "execute_result"
    }
   ],
   "source": [
    "choose_unit_to_activate(battle, p1)"
   ]
  },
  {
   "cell_type": "code",
   "execution_count": 1897,
   "id": "3ee32340",
   "metadata": {},
   "outputs": [],
   "source": [
    "def get_closest(x, y, choices):\n",
    "    \"\"\"\n",
    "    Choices must have the x and y coordinates as x and y members\n",
    "    \"\"\"\n",
    "    closest = choices[0]\n",
    "    closest_distance = calc_distance(x, y, closest.x, closest.y)\n",
    "    \n",
    "    for choice in choices:\n",
    "        choice_distance = calc_distance(x, y, choice.x, choice.y)\n",
    "        if choice_distance < closest_distance:\n",
    "            closest = choice\n",
    "            closest_distance = choice_distance\n",
    "    return closest"
   ]
  },
  {
   "cell_type": "code",
   "execution_count": 1898,
   "id": "03a932b0",
   "metadata": {},
   "outputs": [
    {
     "data": {
      "text/plain": [
       "Objective(12, 24, None)"
      ]
     },
     "execution_count": 1898,
     "metadata": {},
     "output_type": "execute_result"
    }
   ],
   "source": [
    "get_closest(0, 0, battle.objectives)"
   ]
  },
  {
   "cell_type": "code",
   "execution_count": 1899,
   "id": "b8df4f4e",
   "metadata": {},
   "outputs": [],
   "source": [
    "import math\n",
    "def get_angle_to(x, y, target):\n",
    "    return math.atan2(x - target.x, y - target.y)"
   ]
  },
  {
   "cell_type": "code",
   "execution_count": 1900,
   "id": "5ba5d2d6",
   "metadata": {},
   "outputs": [
    {
     "name": "stdout",
     "output_type": "stream",
     "text": [
      "0.0\n",
      "3.141592653589793\n",
      "-1.5707963267948966\n"
     ]
    }
   ],
   "source": [
    "print(get_angle_to(12, 36, Objective(12, 24, None)))\n",
    "print(get_angle_to(12, 36, Objective(12, 48, None)))\n",
    "print(get_angle_to(12, 36, Objective(24, 36, None)))"
   ]
  },
  {
   "cell_type": "code",
   "execution_count": 1901,
   "id": "054e0d3d",
   "metadata": {},
   "outputs": [],
   "source": [
    "def offset_at_angle(angle, distance):\n",
    "    x = distance * math.sin(angle)\n",
    "    y = distance * math.cos(angle)\n",
    "    return (-x, -y)"
   ]
  },
  {
   "cell_type": "code",
   "execution_count": 1902,
   "id": "8ad00b77",
   "metadata": {},
   "outputs": [
    {
     "data": {
      "text/plain": [
       "(-6.123233995736766e-16, 5.0)"
      ]
     },
     "execution_count": 1902,
     "metadata": {},
     "output_type": "execute_result"
    }
   ],
   "source": [
    "offset_at_angle(math.pi, 5)"
   ]
  },
  {
   "cell_type": "code",
   "execution_count": 1903,
   "id": "bdc5a4d9",
   "metadata": {},
   "outputs": [
    {
     "data": {
      "text/plain": [
       "(12.0, -7.347880794884119e-16)"
      ]
     },
     "execution_count": 1903,
     "metadata": {},
     "output_type": "execute_result"
    }
   ],
   "source": [
    "offset_at_angle(get_angle_to(12, 36, Objective(24, 36, None)), 12)"
   ]
  },
  {
   "cell_type": "code",
   "execution_count": 1904,
   "id": "e67140e1",
   "metadata": {},
   "outputs": [],
   "source": [
    "def choose_action_for_unit(battle, player, unit):\n",
    "    # if unit is wavering/shaken, they can only hold\n",
    "    if \"Wavering\" in unit.rules:\n",
    "        return (\"Hold\",)\n",
    "    \n",
    "    # TODO decision tree for unit types, for now move towards nearest enemy unit\n",
    "    enemy_units = [u for u in battle.all_units if u.controller != player.name and u.alive]\n",
    "    \n",
    "    closest = get_closest(unit.x, unit.y, enemy_units)\n",
    "    distance_to_closest = calc_distance(unit.x, unit.y, closest.x, closest.y)\n",
    "    \n",
    "    # now that we have the closest, figure out the angle to them. \n",
    "    angle = get_angle_to(unit.x, unit.y, closest)\n",
    "    \n",
    "    speed = unit.speed\n",
    "#     # TODO something do check if any/all have a rule for slow/fast\n",
    "#     if \"Slow\" in unit.rules:\n",
    "#         speed -= 2\n",
    "#     if \"Fast\" in unit.rules:\n",
    "#         speed += 2\n",
    "#     if \"Immobile\" in unit.rules:\n",
    "#         speed = 0\n",
    "        \n",
    "    if not unit.is_melee:\n",
    "        return \"Advance\", speed, angle, closest\n",
    "    \n",
    "    if distance_to_closest <= speed * 2:\n",
    "        return \"Charge\", closest\n",
    "    \n",
    "    return \"Rush\", speed * 2, angle"
   ]
  },
  {
   "cell_type": "code",
   "execution_count": 1905,
   "id": "1930239c",
   "metadata": {},
   "outputs": [
    {
     "data": {
      "text/plain": [
       "('Rush', 12, -2.9325697107835285)"
      ]
     },
     "execution_count": 1905,
     "metadata": {},
     "output_type": "execute_result"
    }
   ],
   "source": [
    "choose_action_for_unit(battle, battle.players[0], battle.players[0].units[-1])"
   ]
  },
  {
   "cell_type": "code",
   "execution_count": 1906,
   "id": "853821df",
   "metadata": {},
   "outputs": [],
   "source": [
    "def execute_advance(battle, player, unit, action):\n",
    "    # (Advance, desired_distance, angle, shooting target)\n",
    "    # TODO validate desired distance\n",
    "    # TODO movement effects\n",
    "    # get the offset and apply it to the unit's position\n",
    "    x_off, y_off = offset_at_angle(action[2], action[1])\n",
    "    unit.x += x_off\n",
    "    unit.y += y_off\n",
    "    \n",
    "    # TODO collisions with terrain and other units\n",
    "    \n",
    "    if action[3]:\n",
    "        distance = calc_distance(unit.x, unit.y, action[3].x, action[3].y)\n",
    "        do_shooting(unit, action[3], distance)"
   ]
  },
  {
   "cell_type": "code",
   "execution_count": 1907,
   "id": "b5fd9439",
   "metadata": {},
   "outputs": [],
   "source": [
    "def execute_rush(battle, player, unit, action):\n",
    "    # (rush, desired_distance, angle)\n",
    "    # TODO validate desired distance\n",
    "    # TODO movement effects\n",
    "    # get the offset and apply it to the unit's position\n",
    "    x_off, y_off = offset_at_angle(action[2], action[1])\n",
    "    unit.x += x_off\n",
    "    unit.y += y_off\n",
    "    \n",
    "    # TODO collisions with terrain and other units\n",
    "    \n",
    "    # no combat\n",
    "    "
   ]
  },
  {
   "cell_type": "code",
   "execution_count": 1908,
   "id": "eea05030",
   "metadata": {},
   "outputs": [],
   "source": [
    "def execute_charge(battle, player, unit, action):\n",
    "    # (Charge, target)\n",
    "    # TODO validate target range and all that\n",
    "    closest = action[1]\n",
    "    distance_to_closest = calc_distance(unit.x, unit.y, closest.x, closest.y)\n",
    "    \n",
    "    assert distance_to_closest <= unit.speed * 2\n",
    "    \n",
    "    # move to touch the enemy\n",
    "    movement_needed = distance_to_closest - 2  # For now units are 1\" spheres\n",
    "    angle_needed = get_angle_to(unit.x, unit.y, closest)\n",
    "    x_off, y_off = offset_at_angle(angle_needed, movement_needed)\n",
    "    unit.x += x_off\n",
    "    unit.y += y_off\n",
    "    \n",
    "    # do the combat\n",
    "    do_melee(unit, closest)\n",
    "    \n",
    "    # back up\n",
    "    x_off, y_off = offset_at_angle(angle_needed, -1)\n",
    "    unit.x += x_off\n",
    "    unit.y += y_off"
   ]
  },
  {
   "cell_type": "code",
   "execution_count": 1909,
   "id": "f82ad17d",
   "metadata": {},
   "outputs": [],
   "source": [
    "def execute_action(battle, player, unit, action):\n",
    "    a_type = action[0]\n",
    "    print(unit, action)\n",
    "\n",
    "    if a_type == \"Hold\":\n",
    "        if \"Wavering\" in u.rules:\n",
    "            del u.rules[\"Wavering\"]\n",
    "    elif a_type == \"Advance\":\n",
    "        execute_advance(battle, player, unit, action)\n",
    "    elif a_type == \"Rush\":\n",
    "        execute_rush(battle, player, unit, action)\n",
    "    elif a_type == \"Charge\":\n",
    "        execute_charge(battle, player, unit, action)\n",
    "    else:\n",
    "        print(\"Invalid action\")\n",
    "    \n",
    "    unit.rules[\"Activated\"] = True\n"
   ]
  },
  {
   "cell_type": "code",
   "execution_count": 1910,
   "id": "5a20e80b",
   "metadata": {},
   "outputs": [],
   "source": [
    "import matplotlib.pyplot as plt\n",
    "def plot_battle(battle):\n",
    "    y = []\n",
    "    x = []\n",
    "    names = []\n",
    "    for u in battle.all_units:\n",
    "        x.append(u.x)\n",
    "        y.append(u.y)\n",
    "        names.append(repr(u))\n",
    "    \n",
    "    fig, ax = plt.subplots()\n",
    "    ax.scatter(x, y)\n",
    "    ax.set_xlim([0, 72])\n",
    "    ax.set_ylim([0, 48])\n",
    "    \n",
    "    for i, n in enumerate(names):\n",
    "        ax.annotate(n, (x[i], y[i]))\n",
    "    plt.show()"
   ]
  },
  {
   "cell_type": "code",
   "execution_count": 1911,
   "id": "2904eb35",
   "metadata": {},
   "outputs": [],
   "source": [
    "def do_round(battle, first_player_index):\n",
    "    battle.round += 1\n",
    "    print(\"Starting Round\", battle.round)\n",
    "    # start by resetting activations\n",
    "    for u in battle.all_units:\n",
    "        if \"Activated\" in u.rules:\n",
    "            del u.rules[\"Activated\"]\n",
    "    next_player_index = first_player_index\n",
    "    current_player = None\n",
    "#     limit = 50\n",
    "    while any([\"Activated\" not in u.rules for u in battle.all_units if u.alive]):\n",
    "#         limit -= 1\n",
    "#         if limit < 0:\n",
    "#             return\n",
    "#         available = [u for u in battle.all_units if \"Activated\" not in u.rules and u.alive]\n",
    "#         print(available)\n",
    "        current_player = battle.players[next_player_index]\n",
    "        next_player_index = (next_player_index + 1) % len(battle.players)\n",
    "        \n",
    "        unit = choose_unit_to_activate(battle, current_player)\n",
    "        if unit is None:\n",
    "            print(\"skipping\")\n",
    "            continue\n",
    "        \n",
    "        action = choose_action_for_unit(battle, current_player, unit)\n",
    "        execute_action(battle, current_player, unit, action)\n",
    "    return next_player_index # player who finished activating first"
   ]
  },
  {
   "cell_type": "code",
   "execution_count": 1912,
   "id": "0e5352a9",
   "metadata": {},
   "outputs": [],
   "source": [
    "from pprint import pprint"
   ]
  },
  {
   "cell_type": "code",
   "execution_count": 1913,
   "id": "65214f3c",
   "metadata": {},
   "outputs": [],
   "source": [
    "p1 = Player(\"p1\", build_basic_army(\"p1\"), (0, 12, 0, 72))\n",
    "p2 = Player(\"p2\", build_basic_army(\"p2\"), (36, 48, 0, 72))\n",
    "battle = Battle([p1, p2])\n",
    "deploy(battle)"
   ]
  },
  {
   "cell_type": "code",
   "execution_count": 1914,
   "id": "069173bd",
   "metadata": {},
   "outputs": [
    {
     "data": {
      "image/png": "[encoded data removed]",
      "text/plain": [
       "<Figure size 432x288 with 1 Axes>"
      ]
     },
     "metadata": {
      "needs_background": "light"
     },
     "output_type": "display_data"
    }
   ],
   "source": [
    "plot_battle(battle)"
   ]
  },
  {
   "cell_type": "code",
   "execution_count": 1915,
   "id": "a7bbd836",
   "metadata": {},
   "outputs": [
    {
     "name": "stdout",
     "output_type": "stream",
     "text": [
      "Starting Round 1\n",
      "Unit(p1 M 2 (10/10)(25.0,0.0) ('Rush', 12, 3.058451421701352)\n",
      "Unit(p2 M 2 (10/10)(51.0,48.0) ('Rush', 12, 0.1869792699189111)\n",
      "Unit(p1 R 2 (5/5)(70.0,3.0) ('Advance', 6, 2.5727743786242456, Unit(p2 M 2 (10/10)(48.8,36.2))\n",
      "Unit(p1 R 2 (5/5)(66.8,8.1) shooting at Unit(p2 M 2 (10/10)(48.8,36.2)\n",
      "Out of range\n",
      "Unit(p2 R 0 (5/5)(30.0,41.0) ('Advance', 6, 0.20362070584192432, Unit(p1 M 2 (10/10)(24.0,12.0))\n",
      "Unit(p2 R 0 (5/5)(28.8,35.1) shooting at Unit(p1 M 2 (10/10)(24.0,12.0)\n",
      "5 attacks\n",
      "2 hits\n",
      "2 wounds\n",
      "Unit(p1 R 1 (5/5)(9.0,1.0) ('Advance', 6, -2.7859567692890335, Unit(p2 M 0 (10/10)(22.0,36.0))\n",
      "Unit(p1 R 1 (5/5)(11.1,6.6) shooting at Unit(p2 M 0 (10/10)(22.0,36.0)\n",
      "Out of range\n",
      "Unit(p2 M 0 (10/10)(22.0,36.0) ('Rush', 12, -0.08314123188844115)\n",
      "Unit(p1 M 0 (10/10)(69.0,8.0) ('Rush', 12, 2.5194373382967092)\n",
      "Unit(p2 R 1 (5/5)(40.0,37.0) ('Advance', 6, -0.15264932839526515, Unit(p1 R 0 (5/5)(44.0,11.0))\n",
      "Unit(p2 R 1 (5/5)(40.9,31.1) shooting at Unit(p1 R 0 (5/5)(44.0,11.0)\n",
      "5 attacks\n",
      "2 hits\n",
      "2 wounds\n",
      "Unit(p1 R 0 (3/5)(44.0,11.0) ('Advance', 6, 2.988943325194528, Unit(p2 R 1 (5/5)(40.9,31.1))\n",
      "Unit(p1 R 0 (3/5)(43.1,16.9) shooting at Unit(p2 R 1 (5/5)(40.9,31.1)\n",
      "3 attacks\n",
      "0 hits\n",
      "0 wounds\n",
      "Unit(p2 M 1 (10/10)(55.0,42.0) ('Rush', 12, -0.28128623145398346)\n",
      "Unit(p1 M 1 (10/10)(29.0,5.0) ('Rush', 12, 2.8361739907917394)\n",
      "Unit(p2 R 2 (5/5)(46.0,42.0) ('Advance', 6, 0.11565112723969603, Unit(p1 R 0 (3/5)(43.1,16.9))\n",
      "Unit(p2 R 2 (5/5)(45.3,36.0) shooting at Unit(p1 R 0 (3/5)(43.1,16.9)\n",
      "5 attacks\n",
      "0 hits\n",
      "0 wounds\n"
     ]
    },
    {
     "data": {
      "text/plain": [
       "0"
      ]
     },
     "execution_count": 1915,
     "metadata": {},
     "output_type": "execute_result"
    }
   ],
   "source": [
    "do_round(battle, 0)"
   ]
  },
  {
   "cell_type": "code",
   "execution_count": 1916,
   "id": "c47d0cda",
   "metadata": {},
   "outputs": [
    {
     "data": {
      "image/png": "[encoded data removed]",
      "text/plain": [
       "<Figure size 432x288 with 1 Axes>"
      ]
     },
     "metadata": {
      "needs_background": "light"
     },
     "output_type": "display_data"
    }
   ],
   "source": [
    "plot_battle(battle)"
   ]
  },
  {
   "cell_type": "code",
   "execution_count": 1917,
   "id": "f495bdb8",
   "metadata": {},
   "outputs": [
    {
     "data": {
      "image/png": "[encoded data removed]",
      "text/plain": [
       "<Figure size 432x288 with 1 Axes>"
      ]
     },
     "metadata": {
      "needs_background": "light"
     },
     "output_type": "display_data"
    }
   ],
   "source": [
    "p1 = Player(\"p1\", build_basic_army(\"p1\"), (0, 12, 0, 72))\n",
    "p2 = Player(\"p2\", build_basic_army(\"p2\"), (36, 48, 0, 72))\n",
    "battle = Battle([p1, p2])\n",
    "deploy(battle)\n",
    "plot_battle(battle)"
   ]
  },
  {
   "cell_type": "code",
   "execution_count": 1918,
   "id": "986a0092",
   "metadata": {
    "scrolled": false
   },
   "outputs": [
    {
     "name": "stdout",
     "output_type": "stream",
     "text": [
      "\n",
      "Starting Round 1\n",
      "Unit(p1 M 1 (10/10)(70.0,2.0) ('Rush', 12, 3.141592653589793)\n",
      "Unit(p2 R 2 (5/5)(45.0,42.0) ('Advance', 6, -0.19739555984988075, Unit(p1 R 1 (5/5)(51.0,12.0))\n",
      "Unit(p2 R 2 (5/5)(46.2,36.1) shooting at Unit(p1 R 1 (5/5)(51.0,12.0)\n",
      "Out of range\n",
      "Unit(p1 R 0 (5/5)(43.0,0.0) ('Advance', 6, -3.0538615294133002, Unit(p2 R 2 (5/5)(46.2,36.1))\n",
      "Unit(p1 R 0 (5/5)(43.5,6.0) shooting at Unit(p2 R 2 (5/5)(46.2,36.1)\n",
      "Out of range\n",
      "Unit(p2 M 2 (10/10)(26.0,43.0) ('Rush', 12, -0.6786624907483126)\n",
      "Unit(p1 M 2 (10/10)(6.0,8.0) ('Rush', 12, 3.017237659043032)\n",
      "Unit(p2 M 1 (10/10)(27.0,44.0) ('Rush', 12, 0.7509718519921907)\n",
      "Unit(p1 M 0 (10/10)(27.0,2.0) ('Rush', 12, -2.9380932185353035)\n",
      "Unit(p2 R 0 (5/5)(47.0,44.0) ('Advance', 6, -0.12435499454676144, Unit(p1 R 1 (5/5)(51.0,12.0))\n",
      "Unit(p2 R 0 (5/5)(47.7,38.0) shooting at Unit(p1 R 1 (5/5)(51.0,12.0)\n",
      "Out of range\n",
      "Unit(p1 R 1 (5/5)(51.0,12.0) ('Advance', 6, 2.9441970937399127, Unit(p2 R 2 (5/5)(46.2,36.1))\n",
      "Unit(p1 R 1 (5/5)(49.8,17.9) shooting at Unit(p2 R 2 (5/5)(46.2,36.1)\n",
      "5 attacks\n",
      "3 hits\n",
      "2 wounds\n",
      "Unit(p2 M 0 (10/10)(2.0,40.0) ('Rush', 12, -0.12435499454676148)\n",
      "Unit(p1 R 2 (5/5)(57.0,11.0) ('Advance', 6, 2.7347152566835473, Unit(p2 R 2 (3/5)(46.2,36.1))\n",
      "Unit(p1 R 2 (5/5)(54.6,16.5) shooting at Unit(p2 R 2 (3/5)(46.2,36.1)\n",
      "5 attacks\n",
      "2 hits\n",
      "0 wounds\n",
      "Unit(p2 R 1 (5/5)(70.0,46.0) ('Advance', 6, 0.0, Unit(p1 M 1 (10/10)(70.0,14.0))\n",
      "Unit(p2 R 1 (5/5)(70.0,40.0) shooting at Unit(p1 M 1 (10/10)(70.0,14.0)\n",
      "Out of range\n"
     ]
    },
    {
     "data": {
      "image/png": "[encoded data removed]",
      "text/plain": [
       "<Figure size 432x288 with 1 Axes>"
      ]
     },
     "metadata": {
      "needs_background": "light"
     },
     "output_type": "display_data"
    },
    {
     "name": "stdout",
     "output_type": "stream",
     "text": [
      "Units:\n",
      "[Unit(p1 R 0 (5/5)(43.5,6.0),\n",
      " Unit(p1 R 1 (5/5)(49.8,17.9),\n",
      " Unit(p1 R 2 (5/5)(54.6,16.5),\n",
      " Unit(p1 M 0 (10/10)(29.4,13.8),\n",
      " Unit(p1 M 1 (10/10)(70.0,14.0),\n",
      " Unit(p1 M 2 (10/10)(4.5,19.9),\n",
      " Unit(p2 R 0 (5/5)(47.7,38.0),\n",
      " Unit(p2 R 1 (5/5)(70.0,40.0),\n",
      " Unit(p2 R 2 (3/5)(46.2,36.1),\n",
      " Unit(p2 M 0 (10/10)(3.5,28.1),\n",
      " Unit(p2 M 1 (10/10)(18.8,35.2),\n",
      " Unit(p2 M 2 (10/10)(33.5,33.7)]\n",
      "\n",
      "Starting Round 2\n",
      "Unit(p1 M 1 (10/10)(70.0,14.0) ('Rush', 12, 3.141592653589793)\n",
      "Unit(p2 R 0 (5/5)(47.7,38.0) ('Advance', 6, -0.10275197975521146, Unit(p1 R 1 (5/5)(49.8,17.9))\n",
      "Unit(p2 R 0 (5/5)(48.4,32.1) shooting at Unit(p1 R 1 (5/5)(49.8,17.9)\n",
      "5 attacks\n",
      "3 hits\n",
      "2 wounds\n",
      "Unit(p1 R 0 (5/5)(43.5,6.0) ('Advance', 6, -2.9584671793094284, Unit(p2 R 0 (5/5)(48.4,32.1))\n",
      "Unit(p1 R 0 (5/5)(44.6,11.9) shooting at Unit(p2 R 0 (5/5)(48.4,32.1)\n",
      "5 attacks\n",
      "1 hits\n",
      "1 wounds\n",
      "Unit(p2 M 1 (10/10)(18.8,35.2) ('Rush', 12, 0.7509718519921905)\n",
      "Unit(p1 R 1 (3/5)(49.8,17.9) ('Advance', 6, 3.038840673834582, Unit(p2 R 0 (4/5)(48.4,32.1))\n",
      "Unit(p1 R 1 (3/5)(49.2,23.9) shooting at Unit(p2 R 0 (4/5)(48.4,32.1)\n",
      "3 attacks\n",
      "0 hits\n",
      "0 wounds\n",
      "Unit(p2 R 1 (5/5)(70.0,40.0) ('Advance', 6, 0.0, Unit(p1 M 1 (10/10)(70.0,26.0))\n",
      "Unit(p2 R 1 (5/5)(70.0,34.0) shooting at Unit(p1 M 1 (10/10)(70.0,26.0)\n",
      "5 attacks\n",
      "3 hits\n",
      "2 wounds\n",
      "Unit(p1 M 2 (10/10)(4.5,19.9) ('Charge', Unit(p2 M 0 (10/10)(3.5,28.1))\n",
      "Unit(p1 M 2 (10/10)(3.7,26.1) strikes Unit(p2 M 0 (10/10)(3.5,28.1)\n",
      "10 attacks\n",
      "4 hits\n",
      "3 wounds\n",
      "Unit(p2 M 0 (7/10)(3.5,28.1) strikes Unit(p1 M 2 (10/10)(3.7,26.1)\n",
      "7 attacks\n",
      "3 hits\n",
      "3 wounds\n",
      "scores: a: 4, d: 4\n",
      "Unit(p2 M 2 (10/10)(33.5,33.7) ('Rush', 12, -1.0117188196387077)\n",
      "Unit(p1 M 0 (10/10)(29.4,13.8) ('Rush', 12, -2.329640079920075)\n",
      "Unit(p2 M 0 (7/10)(3.5,28.1) ('Charge', Unit(p1 M 2 (7/10)(3.9,25.1))\n",
      "Unit(p2 M 0 (7/10)(3.6,27.1) strikes Unit(p1 M 2 (7/10)(3.9,25.1)\n",
      "7 attacks\n",
      "1 hits\n",
      "1 wounds\n",
      "Unit(p1 M 2 (6/10)(3.9,25.1) strikes Unit(p2 M 0 (7/10)(3.6,27.1)\n",
      "6 attacks\n",
      "1 hits\n",
      "0 wounds\n",
      "scores: a: 2, d: 1\n",
      "p1 M 2 doing morale test\n",
      "p1 M 2 failed morale test\n",
      "Unit(p1 R 2 (5/5)(54.6,16.5) ('Advance', 6, 2.349949188459846, Unit(p2 M 2 (10/10)(43.7,27.3))\n",
      "Unit(p1 R 2 (5/5)(50.4,20.7) shooting at Unit(p2 M 2 (10/10)(43.7,27.3)\n",
      "5 attacks\n",
      "0 hits\n",
      "0 wounds\n",
      "Unit(p2 R 2 (3/5)(46.2,36.1) ('Advance', 6, -0.2422917216587751, Unit(p1 R 1 (3/5)(49.2,23.9))\n",
      "Unit(p2 R 2 (3/5)(47.6,30.3) shooting at Unit(p1 R 1 (3/5)(49.2,23.9)\n",
      "3 attacks\n",
      "0 hits\n",
      "0 wounds\n"
     ]
    },
    {
     "data": {
      "image/png": "[encoded data removed]",
      "text/plain": [
       "<Figure size 432x288 with 1 Axes>"
      ]
     },
     "metadata": {
      "needs_background": "light"
     },
     "output_type": "display_data"
    },
    {
     "name": "stdout",
     "output_type": "stream",
     "text": [
      "Units:\n",
      "[Unit(p1 R 0 (5/5)(44.6,11.9),\n",
      " Unit(p1 R 1 (3/5)(49.2,23.9),\n",
      " Unit(p1 R 2 (5/5)(50.4,20.7),\n",
      " Unit(p1 M 0 (10/10)(38.1,22.0),\n",
      " Unit(p1 M 1 (8/10)(70.0,26.0),\n",
      " Unit(p1 M 2 (6/10)(3.9,25.1),\n",
      " Unit(p2 R 0 (4/5)(48.4,32.1),\n",
      " Unit(p2 R 1 (5/5)(70.0,34.0),\n",
      " Unit(p2 R 2 (3/5)(47.6,30.3),\n",
      " Unit(p2 M 0 (7/10)(3.5,28.1),\n",
      " Unit(p2 M 1 (10/10)(10.6,26.5),\n",
      " Unit(p2 M 2 (10/10)(43.7,27.3)]\n",
      "\n",
      "Starting Round 3\n",
      "Unit(p1 M 0 (10/10)(38.1,22.0) ('Charge', Unit(p2 M 2 (10/10)(43.7,27.3))\n",
      "Unit(p1 M 0 (10/10)(42.3,25.9) strikes Unit(p2 M 2 (10/10)(43.7,27.3)\n",
      "10 attacks\n",
      "1 hits\n",
      "1 wounds\n",
      "Unit(p2 M 2 (9/10)(43.7,27.3) strikes Unit(p1 M 0 (10/10)(42.3,25.9)\n",
      "9 attacks\n",
      "3 hits\n",
      "2 wounds\n",
      "scores: a: 2, d: 3\n",
      "p1 M 0 doing morale test\n",
      "Unit(p2 M 1 (10/10)(10.6,26.5) ('Charge', Unit(p1 M 2 (6/10)(3.9,25.1))\n",
      "Unit(p2 M 1 (10/10)(5.8,25.5) strikes Unit(p1 M 2 (6/10)(3.9,25.1)\n",
      "10 attacks\n",
      "3 hits\n",
      "2 wounds\n",
      "Unit(p1 M 2 (4/10)(3.9,25.1) strikes Unit(p2 M 1 (10/10)(5.8,25.5)\n",
      "4 attacks\n",
      "0 hits\n",
      "0 wounds\n",
      "scores: a: 4, d: 0\n",
      "p1 M 2 doing morale test\n",
      "p1 M 2 failed morale test\n",
      "p1 M 2 routed!\n",
      "Unit(p1 R 1 (3/5)(49.2,23.9) ('Advance', 6, 2.1298738339510854, Unit(p2 M 2 (9/10)(43.7,27.3))\n",
      "Unit(p1 R 1 (3/5)(44.1,27.0) shooting at Unit(p2 M 2 (9/10)(43.7,27.3)\n",
      "3 attacks\n",
      "1 hits\n",
      "1 wounds\n",
      "Unit(p2 M 0 (7/10)(3.5,28.1) ('Rush', 12, -1.495683592993855)\n",
      "Unit(p1 M 1 (8/10)(70.0,26.0) ('Charge', Unit(p2 R 1 (5/5)(70.0,34.0))\n",
      "Unit(p1 M 1 (8/10)(70.0,32.0) strikes Unit(p2 R 1 (5/5)(70.0,34.0)\n",
      "8 attacks\n",
      "5 hits\n",
      "5 wounds\n",
      "Unit(p2 R 1 (0/5)(70.0,34.0) has been slain!\n",
      "Unit(p2 M 2 (8/10)(43.7,27.3) ('Charge', Unit(p1 R 1 (3/5)(44.1,27.0))\n",
      "Unit(p2 M 2 (8/10)(42.4,28.1) strikes Unit(p1 R 1 (3/5)(44.1,27.0)\n",
      "8 attacks\n",
      "2 hits\n",
      "0 wounds\n",
      "Unit(p1 R 1 (3/5)(44.1,27.0) strikes Unit(p2 M 2 (8/10)(42.4,28.1)\n",
      "3 attacks\n",
      "1 hits\n",
      "1 wounds\n",
      "scores: a: 1, d: 1\n",
      "Unit(p1 R 2 (5/5)(50.4,20.7) ('Advance', 6, 2.8625966084683947, Unit(p2 R 2 (3/5)(47.6,30.3))\n",
      "Unit(p1 R 2 (5/5)(48.7,26.5) shooting at Unit(p2 R 2 (3/5)(47.6,30.3)\n",
      "5 attacks\n",
      "2 hits\n",
      "2 wounds\n",
      "p2 R 2 doing ranged morale test\n",
      "p2 R 2 failed ranged morale test\n",
      "Unit(p2 R 2 (1/5)(47.6,30.3) ('Hold',)\n",
      "Unit(p1 R 0 (5/5)(44.6,11.9) ('Advance', 6, 2.962033302277918, Unit(p2 M 2 (7/10)(41.6,28.6))\n",
      "Unit(p1 R 0 (5/5)(43.5,17.8) shooting at Unit(p2 M 2 (7/10)(41.6,28.6)\n",
      "5 attacks\n",
      "0 hits\n",
      "0 wounds\n",
      "Unit(p2 R 0 (4/5)(48.4,32.1) ('Advance', 6, -0.061619464004205926, Unit(p1 R 2 (5/5)(48.7,26.5))\n",
      "Unit(p2 R 0 (4/5)(48.7,26.1) shooting at Unit(p1 R 2 (5/5)(48.7,26.5)\n",
      "4 attacks\n",
      "0 hits\n",
      "0 wounds\n"
     ]
    },
    {
     "data": {
      "image/png": "[encoded data removed]",
      "text/plain": [
       "<Figure size 432x288 with 1 Axes>"
      ]
     },
     "metadata": {
      "needs_background": "light"
     },
     "output_type": "display_data"
    },
    {
     "name": "stdout",
     "output_type": "stream",
     "text": [
      "Units:\n",
      "[Unit(p1 R 0 (5/5)(43.5,17.8),\n",
      " Unit(p1 R 1 (3/5)(44.1,27.0),\n",
      " Unit(p1 R 2 (5/5)(48.7,26.5),\n",
      " Unit(p1 M 0 (8/10)(41.5,25.2),\n",
      " Unit(p1 M 1 (8/10)(70.0,31.0),\n",
      " Unit(p1 M 2 (0/10)(3.9,25.1),\n",
      " Unit(p2 R 0 (4/5)(48.7,26.1),\n",
      " Unit(p2 R 1 (0/5)(70.0,34.0),\n",
      " Unit(p2 R 2 (1/5)(47.6,30.3),\n",
      " Unit(p2 M 0 (7/10)(15.5,27.2),\n",
      " Unit(p2 M 1 (10/10)(6.8,25.7),\n",
      " Unit(p2 M 2 (7/10)(41.6,28.6)]\n",
      "\n",
      "Starting Round 4\n",
      "Unit(p1 R 0 (5/5)(43.5,17.8) ('Advance', 6, -2.583937889153055, Unit(p2 R 0 (4/5)(48.7,26.1))\n",
      "Unit(p1 R 0 (5/5)(46.7,22.9) shooting at Unit(p2 R 0 (4/5)(48.7,26.1)\n",
      "5 attacks\n",
      "0 hits\n",
      "0 wounds\n",
      "Unit(p2 R 0 (4/5)(48.7,26.1) ('Advance', 6, 3.0799731895855826, Unit(p1 R 2 (5/5)(48.7,26.5))\n",
      "Unit(p2 R 0 (4/5)(48.4,32.1) shooting at Unit(p1 R 2 (5/5)(48.7,26.5)\n",
      "4 attacks\n",
      "0 hits\n",
      "0 wounds\n",
      "Unit(p1 R 2 (5/5)(48.7,26.5) ('Advance', 6, 2.8625966084683943, Unit(p2 R 2 (1/5)(47.6,30.3))\n",
      "Unit(p1 R 2 (5/5)(47.1,32.3) shooting at Unit(p2 R 2 (1/5)(47.6,30.3)\n",
      "5 attacks\n",
      "1 hits\n",
      "1 wounds\n",
      "Unit(p2 M 2 (7/10)(41.6,28.6) ('Charge', Unit(p1 R 1 (3/5)(44.1,27.0))\n",
      "Unit(p2 M 2 (7/10)(42.4,28.1) strikes Unit(p1 R 1 (3/5)(44.1,27.0)\n",
      "7 attacks\n",
      "1 hits\n",
      "1 wounds\n",
      "Unit(p1 R 1 (2/5)(44.1,27.0) strikes Unit(p2 M 2 (7/10)(42.4,28.1)\n",
      "2 attacks\n",
      "0 hits\n",
      "0 wounds\n",
      "scores: a: 2, d: 0\n",
      "p1 R 1 doing morale test\n",
      "p1 R 1 failed morale test\n",
      "p1 R 1 routed!\n",
      "Unit(p1 M 0 (8/10)(41.5,25.2) ('Charge', Unit(p2 M 2 (7/10)(41.6,28.6))\n",
      "Unit(p1 M 0 (8/10)(41.5,26.6) strikes Unit(p2 M 2 (7/10)(41.6,28.6)\n",
      "8 attacks\n",
      "1 hits\n",
      "1 wounds\n",
      "Unit(p2 M 2 (6/10)(41.6,28.6) strikes Unit(p1 M 0 (8/10)(41.5,26.6)\n",
      "6 attacks\n",
      "1 hits\n",
      "1 wounds\n",
      "scores: a: 2, d: 2\n",
      "Unit(p2 M 0 (7/10)(15.5,27.2) ('Rush', 12, -1.5108087203367622)\n",
      "Unit(p1 M 1 (8/10)(70.0,31.0) ('Rush', 12, 1.6205685253746596)\n",
      "Unit(p2 M 1 (10/10)(6.8,25.7) ('Rush', 12, -1.5686968672237318)\n"
     ]
    },
    {
     "data": {
      "image/png": "[encoded data removed]",
      "text/plain": [
       "<Figure size 432x288 with 1 Axes>"
      ]
     },
     "metadata": {
      "needs_background": "light"
     },
     "output_type": "display_data"
    },
    {
     "name": "stdout",
     "output_type": "stream",
     "text": [
      "Units:\n",
      "[Unit(p1 R 0 (5/5)(46.7,22.9),\n",
      " Unit(p1 R 1 (0/5)(44.1,27.0),\n",
      " Unit(p1 R 2 (5/5)(47.1,32.3),\n",
      " Unit(p1 M 0 (7/10)(41.5,25.6),\n",
      " Unit(p1 M 1 (8/10)(58.0,31.6),\n",
      " Unit(p1 M 2 (0/10)(3.9,25.1),\n",
      " Unit(p2 R 0 (4/5)(48.4,32.1),\n",
      " Unit(p2 R 1 (0/5)(70.0,34.0),\n",
      " Unit(p2 R 2 (0/5)(47.6,30.3),\n",
      " Unit(p2 M 0 (7/10)(27.4,26.5),\n",
      " Unit(p2 M 1 (10/10)(18.8,25.7),\n",
      " Unit(p2 M 2 (6/10)(41.6,28.6)]\n"
     ]
    }
   ],
   "source": [
    "next_player = 0\n",
    "for i in range(4):\n",
    "    print()\n",
    "    next_player = do_round(battle, next_player)\n",
    "    plot_battle(battle)\n",
    "    print(\"Units:\")\n",
    "    pprint(battle.all_units)"
   ]
  },
  {
   "cell_type": "code",
   "execution_count": null,
   "id": "bff81ac1",
   "metadata": {},
   "outputs": [],
   "source": []
  },
  {
   "cell_type": "code",
   "execution_count": 1919,
   "id": "6236ac17",
   "metadata": {},
   "outputs": [
    {
     "data": {
      "text/plain": [
       "[Unit(Hero (1/1)(0.0,0.0),\n",
       " Unit(Warriors (10/10)(0.0,0.0),\n",
       " Unit(Veterans (10/10)(0.0,0.0),\n",
       " Unit(Hammerers (5/5)(0.0,0.0),\n",
       " Unit(Marksmen (5/5)(0.0,0.0),\n",
       " Unit(Drakes (5/5)(0.0,0.0),\n",
       " Unit(Arty (1/1)(0.0,0.0)]"
      ]
     },
     "execution_count": 1919,
     "metadata": {},
     "output_type": "execute_result"
    }
   ],
   "source": [
    "def build_dwarven_army(playername):\n",
    "    units = []\n",
    "    \n",
    "    # equipment\n",
    "    hand_weapon = Weapon(1)\n",
    "    rifle = Weapon(1, {\"Range\": 18, \"AP\": 1})\n",
    "    champion_hand_weapon = Weapon(3, {\"AP\": 1})\n",
    "    \n",
    "    # Dwarf Champion\n",
    "    units.append(Unit(\n",
    "        [Model(3, 4, [champion_hand_weapon], rules={\"Fearless\":0, \"Hero\":0, \"Slow\":0, \"Tough\":3, \"Fear\":3})], 1, name=\"Hero\"))\n",
    "    \n",
    "    dwarf_warrior = Model(4, 5, [hand_weapon], rules={\"Shield Wall\":0, \"Slow\":0})\n",
    "    units.append(Unit(models_for(dwarf_warrior, 10), 5, name=\"Warriors\"))\n",
    "    \n",
    "    heavy_hand_weapon = Weapon(1, {\"AP\": 1})\n",
    "    veteran = Model(3, 4, [heavy_hand_weapon], rules={\"Fearless\":0, \"Slow\":0})\n",
    "    units.append(Unit(models_for(veteran, 10), 5, name=\"Veterans\"))\n",
    "    \n",
    "    great_weapon = Weapon(2, {\"AP\": 2})\n",
    "    hammerer = Model(3, 4, [great_weapon], rules={\"Slow\":0})\n",
    "    units.append(Unit(models_for(hammerer, 5), 5, name=\"Hammerers\"))\n",
    "    \n",
    "    rifle_dwarf = Model(4, 5, [rifle, hand_weapon], rules={\"Slow\":0})\n",
    "    units.append(Unit(models_for(rifle_dwarf, 5), 5, name=\"Marksmen\"))\n",
    "    \n",
    "    fire_rifle = Weapon(2, {\"Range\": 18, \"Rending\": 0})\n",
    "    drake_marksman = Model(3, 3, [fire_rifle, hand_weapon], rules={\"Slow\":0})\n",
    "    units.append(Unit(models_for(drake_marksman, 5), 5, name=\"Drakes\"))\n",
    "    \n",
    "    crew = Weapon(3)\n",
    "    bolt_thrower = Weapon(1, {\"Range\": 36, \"AP\": 3, \"Deadly\":6})\n",
    "    units.append(Unit([Model(4, 5, [crew, bolt_thrower], rules={\"Immobile\":0, \"Entrenched\":0, \"Tough\":3})], 1, name=\"Arty\"))\n",
    "    \n",
    "    return units\n",
    "build_dwarven_army(\"dwarves\")"
   ]
  },
  {
   "cell_type": "code",
   "execution_count": 1920,
   "id": "a37b2ee4",
   "metadata": {},
   "outputs": [
    {
     "data": {
      "text/plain": [
       "[Unit(Noble (1/1)(0.0,0.0),\n",
       " Unit(Elf Warriors (10/10)(0.0,0.0),\n",
       " Unit(Pheonix (5/5)(0.0,0.0),\n",
       " Unit(Archers (5/5)(0.0,0.0),\n",
       " Unit(Cavalry (5/5)(0.0,0.0),\n",
       " Unit(Eagles (3/3)(0.0,0.0),\n",
       " Unit(Chariot (1/1)(0.0,0.0)]"
      ]
     },
     "execution_count": 1920,
     "metadata": {},
     "output_type": "execute_result"
    }
   ],
   "source": [
    "def build_elven_army(playername):\n",
    "    units = []\n",
    "    \n",
    "    # equipment\n",
    "    hand_weapon = Weapon(1)\n",
    "    champion_hand_weapon = Weapon(3, {\"AP\": 1})\n",
    "    \n",
    "    # Dwarf Champion\n",
    "    units.append(Unit(\n",
    "        [Model(3, 4, [champion_hand_weapon], rules={\"Hero\":0, \"Tough\":3})], 1, name=\"Noble\"))\n",
    "    \n",
    "    warrior = Model(4, 5, [hand_weapon])\n",
    "    units.append(Unit(models_for(warrior, 10), 5, name=\"Elf Warriors\"))\n",
    "    \n",
    "    heavy_halberds = Weapon(1, {\"AP\": 1, \"Rending\": 0})\n",
    "    phoenix = Model(3, 4, [heavy_halberds], rules={\"Regeneration\":0})\n",
    "    units.append(Unit(models_for(phoenix, 5), 5, name=\"Pheonix\"))\n",
    "    \n",
    "    longbow = Weapon(1, {\"Range\": 30})\n",
    "    archer = Model(4, 5, [hand_weapon, longbow])\n",
    "    units.append(Unit(models_for(archer, 5), 5, name=\"Archers\"))\n",
    "    \n",
    "    # Silver Cavalry\n",
    "    lance = Weapon(1, {\"Lance\": 0})\n",
    "    cavalry = Model(4, 4, [lance], rules={\"Fast\":0, \"Impact\":1})\n",
    "    units.append(Unit(models_for(cavalry, 5), 5, name=\"Cavalry\"))\n",
    "    \n",
    "    # Giant Eagles\n",
    "    claws = Weapon(2)\n",
    "    eagle = Model(4, 4, [claws], rules={\"Fast\":0, \"Flying\":0, \"Impact\":2, \"Tough\":3})\n",
    "    units.append(Unit(models_for(eagle, 3), 3, name=\"Eagles\"))\n",
    "    \n",
    "    axe_crew = Weapon(4)\n",
    "    heavy_claw = Weapon(2, {\"AP\": 1})\n",
    "    chariot = Model(4, 4, [heavy_claw, axe_crew], rules={\"Fast\":0, \"Fear\":1, \"Fearless\":0, \"Impact\":2, \"Stealth\":0, \"Tough\":6})\n",
    "    units.append(Unit([chariot], 1, name=\"Chariot\"))\n",
    "    \n",
    "    return units\n",
    "build_elven_army(\"elves\")"
   ]
  },
  {
   "cell_type": "code",
   "execution_count": 1921,
   "id": "daa7809d",
   "metadata": {},
   "outputs": [
    {
     "data": {
      "image/png": "[encoded data removed]",
      "text/plain": [
       "<Figure size 432x288 with 1 Axes>"
      ]
     },
     "metadata": {
      "needs_background": "light"
     },
     "output_type": "display_data"
    }
   ],
   "source": [
    "p1 = Player(\"p1\", build_dwarven_army(\"p1\"), (0, 12, 0, 72))\n",
    "p2 = Player(\"p2\", build_elven_army(\"p2\"), (36, 48, 0, 72))\n",
    "battle = Battle([p1, p2])\n",
    "deploy(battle)\n",
    "plot_battle(battle)"
   ]
  },
  {
   "cell_type": "code",
   "execution_count": 1922,
   "id": "3506b144",
   "metadata": {
    "scrolled": false
   },
   "outputs": [
    {
     "name": "stdout",
     "output_type": "stream",
     "text": [
      "\n",
      "Starting Round 1\n",
      "Unit(Hero (1/1)(57.0,5.0) ('Rush', 8, 2.7128146261437767)\n",
      "Unit(Pheonix (5/5)(44.0,48.0) ('Rush', 12, -0.26445230449446716)\n",
      "Unit(Hammerers (5/5)(1.0,9.0) ('Rush', 8, -2.7557099841917196)\n",
      "Unit(Eagles (3/3)(29.0,39.0) ('Rush', 16, -0.1470783553884025)\n",
      "Unit(Drakes (5/5)(30.0,6.0) ('Advance', 4, -3.0634432473945035, Unit(Eagles (3/3)(31.3,23.2))\n",
      "Unit(Drakes (5/5)(30.3,10.0) shooting at Unit(Eagles (3/3)(31.3,23.2)\n",
      "10 attacks\n",
      "5 hits\n",
      "2 wounds\n",
      "Unit(Elf Warriors (10/10)(58.0,45.0) ('Rush', 12, 0.13143597684203012)\n",
      "Unit(Warriors (10/10)(58.0,4.0) ('Rush', 8, 3.08760718428624)\n",
      "Unit(Archers (5/5)(11.0,47.0) ('Advance', 6, 0.22462975508867244, Unit(Hammerers (5/5)(4.0,16.4))\n",
      "Unit(Archers (5/5)(9.7,41.2) shooting at Unit(Hammerers (5/5)(4.0,16.4)\n",
      "5 attacks\n",
      "3 hits\n",
      "1 wounds\n",
      "Unit(Marksmen (5/5)(62.0,5.0) ('Advance', 4, 2.945840126769912, Unit(Elf Warriors (10/10)(56.4,33.1))\n",
      "Unit(Marksmen (5/5)(61.2,8.9) shooting at Unit(Elf Warriors (10/10)(56.4,33.1)\n",
      "Out of range\n",
      "Unit(Chariot (1/1)(41.0,40.0) ('Rush', 16, 0.27829965900511133)\n",
      "Unit(Veterans (10/10)(33.0,12.0) ('Rush', 8, 2.994514298201391)\n",
      "Unit(Cavalry (5/5)(14.0,41.0) ('Rush', 16, 0.3858826693980738)\n",
      "Unit(Arty (1/1)(60.0,1.0) ('Advance', 0, 3.030761942874057, Unit(Elf Warriors (10/10)(56.4,33.1))\n",
      "Unit(Arty (1/1)(60.0,1.0) shooting at Unit(Elf Warriors (10/10)(56.4,33.1)\n",
      "1 attacks\n",
      "1 hits\n",
      "0 wounds\n",
      "Unit(Noble (1/1)(30.0,44.0) ('Rush', 12, -0.07573225809619617)\n"
     ]
    },
    {
     "data": {
      "image/png": "[encoded data removed]",
      "text/plain": [
       "<Figure size 432x288 with 1 Axes>"
      ]
     },
     "metadata": {
      "needs_background": "light"
     },
     "output_type": "display_data"
    },
    {
     "name": "stdout",
     "output_type": "stream",
     "text": [
      "Units:\n",
      "[Unit(Hero (1/1)(53.7,12.3),\n",
      " Unit(Warriors (10/10)(57.6,12.0),\n",
      " Unit(Veterans (10/10)(31.8,19.9),\n",
      " Unit(Hammerers (4/5)(4.0,16.4),\n",
      " Unit(Marksmen (5/5)(61.2,8.9),\n",
      " Unit(Drakes (5/5)(30.3,10.0),\n",
      " Unit(Arty (1/1)(60.0,1.0),\n",
      " Unit(Noble (1/1)(30.9,32.0),\n",
      " Unit(Elf Warriors (10/10)(56.4,33.1),\n",
      " Unit(Pheonix (5/5)(47.1,36.4),\n",
      " Unit(Archers (5/5)(9.7,41.2),\n",
      " Unit(Cavalry (5/5)(8.0,26.2),\n",
      " Unit(Eagles (3/3)(31.3,23.2),\n",
      " Unit(Chariot (1/1)(36.6,24.6)]\n",
      "\n",
      "Starting Round 2\n",
      "Unit(Arty (1/1)(60.0,1.0) ('Advance', 0, 3.030761942874057, Unit(Elf Warriors (10/10)(56.4,33.1))\n",
      "Unit(Arty (1/1)(60.0,1.0) shooting at Unit(Elf Warriors (10/10)(56.4,33.1)\n",
      "1 attacks\n",
      "0 hits\n",
      "0 wounds\n",
      "Unit(Noble (1/1)(30.9,32.0) ('Rush', 12, -0.07573225809619602)\n",
      "Unit(Drakes (5/5)(30.3,10.0) ('Advance', 4, -2.993536376934931, Unit(Noble (1/1)(31.8,20.1))\n",
      "Unit(Drakes (5/5)(30.9,13.9) shooting at Unit(Noble (1/1)(31.8,20.1)\n",
      "10 attacks\n",
      "0 hits\n",
      "0 wounds\n",
      "Unit(Chariot (1/1)(36.6,24.6) ('Charge', Unit(Veterans (10/10)(31.8,19.9))\n",
      "Unit(Chariot (1/1)(33.3,21.3) strikes Unit(Veterans (10/10)(31.8,19.9)\n",
      "8 attacks\n",
      "4 hits\n",
      "1 wounds\n",
      "Unit(Veterans (9/10)(31.8,19.9) strikes Unit(Chariot (1/1)(33.3,21.3)\n",
      "9 attacks\n",
      "6 hits\n",
      "6 wounds\n",
      "Unit(Chariot (0/1)(33.3,21.3) has been slain!\n",
      "Unit(Hammerers (4/5)(4.0,16.4) ('Rush', 8, -2.7557099841917196)\n",
      "Unit(Elf Warriors (10/10)(56.4,33.1) ('Rush', 12, 0.13143597684203004)\n",
      "Unit(Marksmen (5/5)(61.2,8.9) ('Advance', 4, 2.6633557642665533, Unit(Elf Warriors (10/10)(54.9,21.2))\n",
      "Unit(Marksmen (5/5)(59.4,12.5) shooting at Unit(Elf Warriors (10/10)(54.9,21.2)\n",
      "5 attacks\n",
      "3 hits\n",
      "2 wounds\n",
      "Unit(Archers (5/5)(9.7,41.2) ('Advance', 6, 0.15128243944998893, Unit(Hammerers (4/5)(7.0,23.8))\n",
      "Unit(Archers (5/5)(8.8,35.2) shooting at Unit(Hammerers (4/5)(7.0,23.8)\n",
      "5 attacks\n",
      "1 hits\n",
      "1 wounds\n",
      "Unit(Veterans (9/10)(31.8,19.9) ('Charge', Unit(Noble (1/1)(31.8,20.1))\n",
      "Unit(Veterans (9/10)(32.0,18.1) strikes Unit(Noble (1/1)(31.8,20.1)\n",
      "9 attacks\n",
      "2 hits\n",
      "1 wounds\n",
      "Unit(Noble (1/1)(31.8,20.1) strikes Unit(Veterans (9/10)(32.0,18.1)\n",
      "3 attacks\n",
      "2 hits\n",
      "1 wounds\n",
      "scores: a: 2, d: 2\n",
      "Unit(Pheonix (5/5)(47.1,36.4) ('Rush', 12, 0.6627066480693006)\n",
      "Unit(Hero (1/1)(53.7,12.3) ('Rush', 8, -3.0101566767477634)\n",
      "Unit(Cavalry (5/5)(8.0,26.2) ('Charge', Unit(Hammerers (3/5)(7.0,23.8))\n",
      "Unit(Cavalry (5/5)(7.8,25.7) strikes Unit(Hammerers (3/5)(7.0,23.8)\n",
      "10 attacks\n",
      "8 hits\n",
      "3 wounds\n",
      "Unit(Hammerers (0/5)(7.0,23.8) has been slain!\n",
      "Unit(Warriors (10/10)(57.6,12.0) ('Rush', 8, 2.8553072277434306)\n",
      "Unit(Eagles (3/3)(31.3,23.2) ('Charge', Unit(Veterans (8/10)(32.0,17.1))\n",
      "Unit(Eagles (3/3)(31.8,19.1) strikes Unit(Veterans (8/10)(32.0,17.1)\n",
      "12 attacks\n",
      "8 hits\n",
      "5 wounds\n",
      "Unit(Veterans (3/10)(32.0,17.1) strikes Unit(Eagles (3/3)(31.8,19.1)\n",
      "3 attacks\n",
      "0 hits\n",
      "0 wounds\n",
      "scores: a: 6, d: 0\n",
      "Veterans doing morale test\n"
     ]
    },
    {
     "data": {
      "image/png": "[encoded data removed]",
      "text/plain": [
       "<Figure size 432x288 with 1 Axes>"
      ]
     },
     "metadata": {
      "needs_background": "light"
     },
     "output_type": "display_data"
    },
    {
     "name": "stdout",
     "output_type": "stream",
     "text": [
      "Units:\n",
      "[Unit(Hero (1/1)(54.7,20.2),\n",
      " Unit(Warriors (10/10)(55.3,19.7),\n",
      " Unit(Veterans (3/10)(32.0,17.1),\n",
      " Unit(Hammerers (0/5)(7.0,23.8),\n",
      " Unit(Marksmen (5/5)(59.4,12.5),\n",
      " Unit(Drakes (5/5)(30.9,13.9),\n",
      " Unit(Arty (1/1)(60.0,1.0),\n",
      " Unit(Noble (1/1)(31.8,20.1),\n",
      " Unit(Elf Warriors (8/10)(54.9,21.2),\n",
      " Unit(Pheonix (5/5)(39.8,27.0),\n",
      " Unit(Archers (5/5)(8.8,35.2),\n",
      " Unit(Cavalry (5/5)(8.2,26.6),\n",
      " Unit(Eagles (3/3)(31.7,20.1),\n",
      " Unit(Chariot (0/1)(34.0,22.0)]\n",
      "\n",
      "Starting Round 3\n",
      "Unit(Arty (1/1)(60.0,1.0) ('Advance', 0, 2.8922574545618214, Unit(Elf Warriors (8/10)(54.9,21.2))\n",
      "Unit(Arty (1/1)(60.0,1.0) shooting at Unit(Elf Warriors (8/10)(54.9,21.2)\n",
      "1 attacks\n",
      "0 hits\n",
      "0 wounds\n",
      "Unit(Elf Warriors (8/10)(54.9,21.2) ('Charge', Unit(Hero (1/1)(54.7,20.2))\n",
      "Unit(Elf Warriors (8/10)(55.0,22.2) strikes Unit(Hero (1/1)(54.7,20.2)\n",
      "8 attacks\n",
      "4 hits\n",
      "1 wounds\n",
      "Unit(Hero (1/1)(54.7,20.2) strikes Unit(Elf Warriors (8/10)(55.0,22.2)\n",
      "3 attacks\n",
      "2 hits\n",
      "1 wounds\n",
      "scores: a: 2, d: 2\n",
      "Unit(Marksmen (5/5)(59.4,12.5) ('Advance', 4, 2.7624452519172253, Unit(Elf Warriors (7/10)(55.1,23.2))\n",
      "Unit(Marksmen (5/5)(57.9,16.2) shooting at Unit(Elf Warriors (7/10)(55.1,23.2)\n",
      "5 attacks\n",
      "1 hits\n",
      "1 wounds\n",
      "Unit(Cavalry (5/5)(8.2,26.6) ('Rush', 16, -1.1914157521556292)\n",
      "Unit(Warriors (10/10)(55.3,19.7) ('Charge', Unit(Elf Warriors (6/10)(55.1,23.2))\n",
      "Unit(Warriors (10/10)(55.2,21.2) strikes Unit(Elf Warriors (6/10)(55.1,23.2)\n",
      "10 attacks\n",
      "3 hits\n",
      "3 wounds\n",
      "Unit(Elf Warriors (3/10)(55.1,23.2) strikes Unit(Warriors (10/10)(55.2,21.2)\n",
      "3 attacks\n",
      "0 hits\n",
      "0 wounds\n",
      "scores: a: 5, d: 0\n",
      "Elf Warriors doing morale test\n",
      "Elf Warriors failed morale test\n",
      "Elf Warriors routed!\n",
      "Unit(Noble (1/1)(31.8,20.1) ('Charge', Unit(Veterans (3/10)(32.0,17.1))\n",
      "Unit(Noble (1/1)(31.9,19.1) strikes Unit(Veterans (3/10)(32.0,17.1)\n",
      "3 attacks\n",
      "0 hits\n",
      "0 wounds\n",
      "Unit(Veterans (3/10)(32.0,17.1) strikes Unit(Noble (1/1)(31.9,19.1)\n",
      "3 attacks\n",
      "0 hits\n",
      "0 wounds\n",
      "scores: a: 1, d: 0\n",
      "Veterans doing morale test\n",
      "Unit(Hero (1/1)(54.7,20.2) ('Rush', 8, 1.9944519421306799)\n",
      "Unit(Eagles (3/3)(31.7,20.1) ('Charge', Unit(Veterans (3/10)(32.0,17.1))\n",
      "Unit(Eagles (3/3)(31.8,19.1) strikes Unit(Veterans (3/10)(32.0,17.1)\n",
      "12 attacks\n",
      "7 hits\n",
      "2 wounds\n",
      "Unit(Veterans (1/10)(32.0,17.1) strikes Unit(Eagles (3/3)(31.8,19.1)\n",
      "1 attacks\n",
      "0 hits\n",
      "0 wounds\n",
      "scores: a: 3, d: 0\n",
      "Veterans doing morale test\n",
      "Unit(Drakes (5/5)(30.9,13.9) ('Advance', 4, -3.011619495675298, Unit(Eagles (3/3)(31.7,20.1))\n",
      "Unit(Drakes (5/5)(31.4,17.9) shooting at Unit(Eagles (3/3)(31.7,20.1)\n",
      "10 attacks\n",
      "2 hits\n",
      "2 wounds\n",
      "Unit(Archers (5/5)(8.8,35.2) ('Advance', 6, -0.9185177587638067, Unit(Drakes (5/5)(31.4,17.9))\n",
      "Unit(Archers (5/5)(13.5,31.6) shooting at Unit(Drakes (5/5)(31.4,17.9)\n",
      "5 attacks\n",
      "1 hits\n",
      "0 wounds\n",
      "Unit(Veterans (1/10)(32.0,17.1) ('Charge', Unit(Noble (1/1)(31.8,20.1))\n",
      "Unit(Veterans (1/10)(32.0,18.1) strikes Unit(Noble (1/1)(31.8,20.1)\n",
      "1 attacks\n",
      "1 hits\n",
      "0 wounds\n",
      "Unit(Noble (1/1)(31.8,20.1) strikes Unit(Veterans (1/10)(32.0,18.1)\n",
      "3 attacks\n",
      "1 hits\n",
      "1 wounds\n",
      "Unit(Veterans (0/10)(32.0,18.1) has been slain!\n",
      "Unit(Pheonix (5/5)(39.8,27.0) ('Charge', Unit(Hero (1/1)(47.4,23.5))\n",
      "Unit(Pheonix (5/5)(45.6,24.3) strikes Unit(Hero (1/1)(47.4,23.5)\n",
      "5 attacks\n",
      "5 hits\n",
      "2 wounds\n",
      "Unit(Hero (0/1)(47.4,23.5) has been slain!\n"
     ]
    },
    {
     "data": {
      "image/png": "[encoded data removed]",
      "text/plain": [
       "<Figure size 432x288 with 1 Axes>"
      ]
     },
     "metadata": {
      "needs_background": "light"
     },
     "output_type": "display_data"
    },
    {
     "name": "stdout",
     "output_type": "stream",
     "text": [
      "Units:\n",
      "[Unit(Hero (0/1)(47.4,23.5),\n",
      " Unit(Warriors (10/10)(55.3,20.2),\n",
      " Unit(Veterans (0/10)(32.0,17.1),\n",
      " Unit(Hammerers (0/5)(7.0,23.8),\n",
      " Unit(Marksmen (5/5)(57.9,16.2),\n",
      " Unit(Drakes (5/5)(31.4,17.9),\n",
      " Unit(Arty (1/1)(60.0,1.0),\n",
      " Unit(Noble (1/1)(31.8,20.1),\n",
      " Unit(Elf Warriors (0/10)(55.1,23.2),\n",
      " Unit(Pheonix (5/5)(44.7,24.7),\n",
      " Unit(Archers (5/5)(13.5,31.6),\n",
      " Unit(Cavalry (5/5)(23.0,20.7),\n",
      " Unit(Eagles (2/3)(31.7,20.1),\n",
      " Unit(Chariot (0/1)(34.0,22.0)]\n",
      "\n",
      "Starting Round 4\n",
      "Unit(Marksmen (5/5)(57.9,16.2) ('Advance', 4, 2.144737936521469, Unit(Pheonix (5/5)(44.7,24.7))\n",
      "Unit(Marksmen (5/5)(54.5,18.4) shooting at Unit(Pheonix (5/5)(44.7,24.7)\n",
      "5 attacks\n",
      "0 hits\n",
      "0 wounds\n",
      "Unit(Cavalry (5/5)(23.0,20.7) ('Charge', Unit(Drakes (5/5)(31.4,17.9))\n",
      "Unit(Cavalry (5/5)(29.5,18.5) strikes Unit(Drakes (5/5)(31.4,17.9)\n",
      "10 attacks\n",
      "6 hits\n",
      "4 wounds\n",
      "Unit(Drakes (1/5)(31.4,17.9) strikes Unit(Cavalry (5/5)(29.5,18.5)\n",
      "1 attacks\n",
      "1 hits\n",
      "1 wounds\n",
      "scores: a: 4, d: 1\n",
      "Drakes doing morale test\n",
      "Unit(Drakes (1/5)(31.4,17.9) ('Advance', 4, -3.011619495675298, Unit(Eagles (2/3)(31.7,20.1))\n",
      "Unit(Drakes (1/5)(31.9,21.9) shooting at Unit(Eagles (2/3)(31.7,20.1)\n",
      "2 attacks\n",
      "0 hits\n",
      "0 wounds\n",
      "Unit(Noble (1/1)(31.8,20.1) ('Charge', Unit(Drakes (1/5)(31.9,21.9))\n",
      "Unit(Noble (1/1)(31.8,19.9) strikes Unit(Drakes (1/5)(31.9,21.9)\n",
      "3 attacks\n",
      "0 hits\n",
      "0 wounds\n",
      "Unit(Drakes (1/5)(31.9,21.9) strikes Unit(Noble (1/1)(31.8,19.9)\n",
      "1 attacks\n",
      "1 hits\n",
      "1 wounds\n",
      "scores: a: 1, d: 1\n",
      "Unit(Warriors (10/10)(55.3,20.2) ('Rush', 8, 1.9762247588258994)\n",
      "Unit(Pheonix (5/5)(44.7,24.7) ('Charge', Unit(Warriors (10/10)(47.9,23.3))\n",
      "Unit(Pheonix (5/5)(46.1,24.1) strikes Unit(Warriors (10/10)(47.9,23.3)\n",
      "5 attacks\n",
      "3 hits\n",
      "2 wounds\n",
      "Unit(Warriors (8/10)(47.9,23.3) strikes Unit(Pheonix (5/5)(46.1,24.1)\n",
      "8 attacks\n",
      "1 hits\n",
      "1 wounds\n",
      "scores: a: 2, d: 2\n",
      "Unit(Arty (1/1)(60.0,1.0) ('Advance', 0, 2.5791708337541057, Unit(Pheonix (4/5)(45.2,24.5))\n",
      "Unit(Arty (1/1)(60.0,1.0) shooting at Unit(Pheonix (4/5)(45.2,24.5)\n",
      "1 attacks\n",
      "0 hits\n",
      "0 wounds\n",
      "Unit(Eagles (2/3)(31.7,20.1) ('Charge', Unit(Drakes (1/5)(31.9,21.9))\n",
      "Unit(Eagles (2/3)(31.7,19.9) strikes Unit(Drakes (1/5)(31.9,21.9)\n",
      "8 attacks\n",
      "4 hits\n",
      "1 wounds\n",
      "Unit(Drakes (0/5)(31.9,21.9) has been slain!\n",
      "skipping\n",
      "Unit(Archers (5/5)(13.5,31.6) ('Advance', 6, -1.3357963042698535, Unit(Warriors (8/10)(47.9,23.3))\n",
      "Unit(Archers (5/5)(19.4,30.2) shooting at Unit(Warriors (8/10)(47.9,23.3)\n",
      "5 attacks\n",
      "3 hits\n",
      "2 wounds\n"
     ]
    },
    {
     "data": {
      "image/png": "[encoded data removed]",
      "text/plain": [
       "<Figure size 432x288 with 1 Axes>"
      ]
     },
     "metadata": {
      "needs_background": "light"
     },
     "output_type": "display_data"
    },
    {
     "name": "stdout",
     "output_type": "stream",
     "text": [
      "Units:\n",
      "[Unit(Hero (0/1)(47.4,23.5),\n",
      " Unit(Warriors (6/10)(47.9,23.3),\n",
      " Unit(Veterans (0/10)(32.0,17.1),\n",
      " Unit(Hammerers (0/5)(7.0,23.8),\n",
      " Unit(Marksmen (5/5)(54.5,18.4),\n",
      " Unit(Drakes (0/5)(31.9,21.9),\n",
      " Unit(Arty (1/1)(60.0,1.0),\n",
      " Unit(Noble (1/1)(31.7,18.9),\n",
      " Unit(Elf Warriors (0/10)(55.1,23.2),\n",
      " Unit(Pheonix (4/5)(45.2,24.5),\n",
      " Unit(Archers (5/5)(19.4,30.2),\n",
      " Unit(Cavalry (4/5)(28.6,18.8),\n",
      " Unit(Eagles (2/3)(31.6,18.9),\n",
      " Unit(Chariot (0/1)(34.0,22.0)]\n"
     ]
    }
   ],
   "source": [
    "next_player = 0\n",
    "for i in range(4):\n",
    "    print()\n",
    "    next_player = do_round(battle, next_player)\n",
    "    plot_battle(battle)\n",
    "    print(\"Units:\")\n",
    "    pprint(battle.all_units)"
   ]
  },
  {
   "cell_type": "code",
   "execution_count": null,
   "id": "99053f8f",
   "metadata": {},
   "outputs": [],
   "source": []
  }
 ],
 "metadata": {
  "kernelspec": {
   "display_name": "Python 3 (ipykernel)",
   "language": "python",
   "name": "python3"
  },
  "language_info": {
   "codemirror_mode": {
    "name": "ipython",
    "version": 3
   },
   "file_extension": ".py",
   "mimetype": "text/x-python",
   "name": "python",
   "nbconvert_exporter": "python",
   "pygments_lexer": "ipython3",
   "version": "3.9.6"
  }
 },
 "nbformat": 4,
 "nbformat_minor": 5
}
